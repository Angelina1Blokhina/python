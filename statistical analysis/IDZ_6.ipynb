{
 "cells": [
  {
   "cell_type": "code",
   "execution_count": 2,
   "id": "fb059b99",
   "metadata": {},
   "outputs": [
    {
     "data": {
      "text/html": [
       "<div>\n",
       "<style scoped>\n",
       "    .dataframe tbody tr th:only-of-type {\n",
       "        vertical-align: middle;\n",
       "    }\n",
       "\n",
       "    .dataframe tbody tr th {\n",
       "        vertical-align: top;\n",
       "    }\n",
       "\n",
       "    .dataframe thead th {\n",
       "        text-align: right;\n",
       "    }\n",
       "</style>\n",
       "<table border=\"1\" class=\"dataframe\">\n",
       "  <thead>\n",
       "    <tr style=\"text-align: right;\">\n",
       "      <th></th>\n",
       "      <th>pizzaPrice_rupiah</th>\n",
       "      <th>The diameter of pizza in inch</th>\n",
       "    </tr>\n",
       "  </thead>\n",
       "  <tbody>\n",
       "    <tr>\n",
       "      <th>0</th>\n",
       "      <td>235.0</td>\n",
       "      <td>22.0</td>\n",
       "    </tr>\n",
       "    <tr>\n",
       "      <th>1</th>\n",
       "      <td>198.0</td>\n",
       "      <td>20.0</td>\n",
       "    </tr>\n",
       "    <tr>\n",
       "      <th>2</th>\n",
       "      <td>120.0</td>\n",
       "      <td>16.0</td>\n",
       "    </tr>\n",
       "    <tr>\n",
       "      <th>3</th>\n",
       "      <td>155.0</td>\n",
       "      <td>14.0</td>\n",
       "    </tr>\n",
       "    <tr>\n",
       "      <th>4</th>\n",
       "      <td>248.0</td>\n",
       "      <td>18.0</td>\n",
       "    </tr>\n",
       "    <tr>\n",
       "      <th>...</th>\n",
       "      <td>...</td>\n",
       "      <td>...</td>\n",
       "    </tr>\n",
       "    <tr>\n",
       "      <th>111</th>\n",
       "      <td>123.0</td>\n",
       "      <td>12.0</td>\n",
       "    </tr>\n",
       "    <tr>\n",
       "      <th>112</th>\n",
       "      <td>33.0</td>\n",
       "      <td>8.5</td>\n",
       "    </tr>\n",
       "    <tr>\n",
       "      <th>113</th>\n",
       "      <td>46.0</td>\n",
       "      <td>12.0</td>\n",
       "    </tr>\n",
       "    <tr>\n",
       "      <th>114</th>\n",
       "      <td>72.0</td>\n",
       "      <td>14.0</td>\n",
       "    </tr>\n",
       "    <tr>\n",
       "      <th>115</th>\n",
       "      <td>76.0</td>\n",
       "      <td>12.0</td>\n",
       "    </tr>\n",
       "  </tbody>\n",
       "</table>\n",
       "<p>116 rows × 2 columns</p>\n",
       "</div>"
      ],
      "text/plain": [
       "     pizzaPrice_rupiah  The diameter of pizza in inch\n",
       "0                235.0                           22.0\n",
       "1                198.0                           20.0\n",
       "2                120.0                           16.0\n",
       "3                155.0                           14.0\n",
       "4                248.0                           18.0\n",
       "..                 ...                            ...\n",
       "111              123.0                           12.0\n",
       "112               33.0                            8.5\n",
       "113               46.0                           12.0\n",
       "114               72.0                           14.0\n",
       "115               76.0                           12.0\n",
       "\n",
       "[116 rows x 2 columns]"
      ]
     },
     "execution_count": 2,
     "metadata": {},
     "output_type": "execute_result"
    }
   ],
   "source": [
    "import pandas as pd\n",
    "import matplotlib.pyplot as plt\n",
    "import seaborn as sns\n",
    "sns.set(style=\"darkgrid\")\n",
    "import numpy as np\n",
    "import math as m\n",
    "import statistics as st\n",
    "import random\n",
    "n=116\n",
    "df = pd.read_csv('Выборка Блохина.csv', delimiter=';')\n",
    "mean_y=89.0252463054187\n",
    "mean_x=10.843043995243757\n",
    "sy=2521.12197188201\n",
    "sx=10.937331334332836\n",
    "df"
   ]
  },
  {
   "cell_type": "code",
   "execution_count": 3,
   "id": "933f6f63",
   "metadata": {
    "scrolled": false
   },
   "outputs": [
    {
     "data": {
      "text/plain": [
       "[[1.0200802795224821, 0.05790071060529118],\n",
       " [0.8372203168072723, 0.043224705075745294],\n",
       " [0.47150039137685235, 0.012286098824270187],\n",
       " [0.28864042866164236, 0.026168806757624404],\n",
       " [0.6543603540920623, 0.06305714498053704],\n",
       " [0.7000753447708647, 0.02021907478618688],\n",
       " [0.47150039137685235, 0.00831961084331184],\n",
       " [-0.25993945948398756, -0.007546341080521549],\n",
       " [0.10578046594643241, 0.00038663488139514514],\n",
       " [0.10578046594643241, 0.00038663488139514514],\n",
       " [0.7000753447708647, 0.02021907478618688],\n",
       " [0.47150039137685235, 0.00831961084331184],\n",
       " [-0.25993945948398756, -0.007546341080521549],\n",
       " [0.10578046594643241, 0.00038663488139514514],\n",
       " [0.10578046594643241, 0.00038663488139514514],\n",
       " [0.7000753447708647, 0.02021907478618688],\n",
       " [0.47150039137685235, 0.00831961084331184],\n",
       " [-0.25993945948398756, -0.007546341080521549],\n",
       " [0.10578046594643241, 0.00038663488139514514],\n",
       " [0.10578046594643241, 0.00038663488139514514],\n",
       " [1.0200802795224821, 0.055917466614812006],\n",
       " [0.7000753447708647, 0.03925821709478695],\n",
       " [0.28864042866164236, 0.009906206035695178],\n",
       " [0.5172153820556549, 0.023788913969049395],\n",
       " [0.5172153820556549, 0.023788913969049395],\n",
       " [-0.21422446880518503, -0.025990510191977862],\n",
       " [0.10578046594643241, -0.01706591223482158],\n",
       " [0.28864042866164236, -0.006753043484329879],\n",
       " [0.10578046594643241, -0.01587596584053408],\n",
       " [0.5629303727344573, -0.002389906705275698],\n",
       " [0.10578046594643241, 0.0027665276699701535],\n",
       " [-0.21422446880518503, -0.023015644206259102],\n",
       " [0.10578046594643241, -0.007942989878617385],\n",
       " [0.28864042866164236, 0.0015765812756826493],\n",
       " [0.10578046594643241, -0.005563097090042376],\n",
       " [0.5629303727344573, 0.010302854833791014],\n",
       " [0.10578046594643241, 0.01347604521855769],\n",
       " [-0.21422446880518503, -0.022222346610067435],\n",
       " [0.10578046594643241, -0.01706591223482158],\n",
       " [0.28864042866164236, -0.006753043484329879],\n",
       " [0.10578046594643241, -0.005166448291946541],\n",
       " [0.5629303727344573, 0.011889450026174352],\n",
       " [0.10578046594643241, 0.014665991612845194],\n",
       " [-0.21422446880518503, -0.005563097090042376],\n",
       " [0.10578046594643241, -0.01706591223482158],\n",
       " [0.28864042866164236, -0.006753043484329879],\n",
       " [0.10578046594643241, -0.01587596584053408],\n",
       " [0.5629303727344573, -0.002389906705275698],\n",
       " [0.10578046594643241, 0.0027665276699701535],\n",
       " [-0.21422446880518503, -0.019842453821492426],\n",
       " [0.10578046594643241, -0.006753043484329879],\n",
       " [0.28864042866164236, 0.003956474064257658],\n",
       " [-0.21422446880518503, -0.017859209831013252],\n",
       " [0.10578046594643241, -0.004373150695754871],\n",
       " [0.28864042866164236, 0.006336366852832666],\n",
       " [-0.21422446880518503, -0.019842453821492426],\n",
       " [0.10578046594643241, -0.006753043484329879],\n",
       " [0.28864042866164236, 0.003956474064257658],\n",
       " [-0.21422446880518503, -0.021429049013875764],\n",
       " [0.10578046594643241, -0.011512829061479896],\n",
       " [0.28864042866164236, 0.003559825266161823],\n",
       " [-0.21422446880518503, -0.021429049013875764],\n",
       " [0.10578046594643241, -0.011512829061479896],\n",
       " [0.28864042866164236, 0.003559825266161823],\n",
       " [-0.21422446880518503, -0.017859209831013252],\n",
       " [0.10578046594643241, -0.004373150695754871],\n",
       " [0.28864042866164236, 0.006336366852832666],\n",
       " [-0.21422446880518503, -0.024205590600546608],\n",
       " [0.10578046594643241, -0.01508266824434241],\n",
       " [0.28864042866164236, -0.0019932579071798634],\n",
       " [-0.21422446880518503, -0.019842453821492426],\n",
       " [0.10578046594643241, -0.006753043484329879],\n",
       " [0.28864042866164236, 0.003956474064257658],\n",
       " [-0.21422446880518503, -0.021429049013875764],\n",
       " [0.10578046594643241, -0.011512829061479896],\n",
       " [0.28864042866164236, 0.003559825266161823],\n",
       " [-0.21422446880518503, -0.02261899540816327],\n",
       " [0.10578046594643241, -0.013892721850054905],\n",
       " [0.28864042866164236, 0.0011799324775868146],\n",
       " [0.7000753447708647, 0.02021907478618688],\n",
       " [0.47150039137685235, 0.00831961084331184],\n",
       " [-0.25993945948398756, -0.007546341080521549],\n",
       " [0.10578046594643241, 0.00038663488139514514],\n",
       " [0.10578046594643241, 0.00038663488139514514],\n",
       " [1.0200802795224821, 0.055917466614812006],\n",
       " [0.7000753447708647, 0.03925821709478695],\n",
       " [0.28864042866164236, 0.009906206035695178],\n",
       " [0.5172153820556549, 0.023788913969049395],\n",
       " [0.5172153820556549, 0.023788913969049395],\n",
       " [-0.21422446880518503, -0.025990510191977862],\n",
       " [0.10578046594643241, -0.01706591223482158],\n",
       " [0.28864042866164236, -0.006753043484329879],\n",
       " [0.10578046594643241, -0.01587596584053408],\n",
       " [0.5629303727344573, -0.002389906705275698],\n",
       " [0.10578046594643241, 0.0027665276699701535],\n",
       " [-0.21422446880518503, -0.023015644206259102],\n",
       " [0.10578046594643241, -0.007942989878617385],\n",
       " [0.28864042866164236, 0.0015765812756826493],\n",
       " [0.10578046594643241, -0.005563097090042376],\n",
       " [0.5629303727344573, 0.010302854833791014],\n",
       " [-0.21422446880518503, -0.025990510191977862],\n",
       " [0.10578046594643241, -0.01706591223482158],\n",
       " [0.28864042866164236, -0.006753043484329879],\n",
       " [0.10578046594643241, -0.01587596584053408],\n",
       " [0.5629303727344573, -0.002389906705275698],\n",
       " [0.10578046594643241, 0.0027665276699701535],\n",
       " [-0.21422446880518503, -0.023015644206259102],\n",
       " [0.10578046594643241, -0.007942989878617385],\n",
       " [0.28864042866164236, 0.0015765812756826493],\n",
       " [0.10578046594643241, -0.005563097090042376],\n",
       " [0.5629303727344573, 0.010302854833791014],\n",
       " [0.10578046594643241, 0.01347604521855769],\n",
       " [-0.21422446880518503, -0.022222346610067435],\n",
       " [0.10578046594643241, -0.01706591223482158],\n",
       " [0.28864042866164236, -0.006753043484329879],\n",
       " [0.10578046594643241, -0.005166448291946541]]"
      ]
     },
     "execution_count": 3,
     "metadata": {},
     "output_type": "execute_result"
    }
   ],
   "source": [
    "def normalize(df):\n",
    "    X=[]\n",
    "    for x,y in zip(df['The diameter of pizza in inch'],df['pizzaPrice_rupiah']):\n",
    "        xi = (x-mean_x)/sx\n",
    "        yi = (y-mean_y)/sy\n",
    "        X.append([xi,yi])\n",
    "    return X\n",
    "X=normalize(df)\n",
    "X"
   ]
  },
  {
   "cell_type": "code",
   "execution_count": 16,
   "id": "af983233",
   "metadata": {},
   "outputs": [
    {
     "name": "stderr",
     "output_type": "stream",
     "text": [
      "C:\\Users\\snt_a\\anaconda3\\lib\\site-packages\\seaborn\\_decorators.py:36: FutureWarning: Pass the following variables as keyword args: x, y. From version 0.12, the only valid positional argument will be `data`, and passing other arguments without an explicit keyword will result in an error or misinterpretation.\n",
      "  warnings.warn(\n"
     ]
    },
    {
     "data": {
      "text/plain": [
       "Text(0, 0.5, 'pizzaPrice_rupiah')"
      ]
     },
     "execution_count": 16,
     "metadata": {},
     "output_type": "execute_result"
    },
    {
     "data": {
      "image/png": "[encoded data removed]",
      "text/plain": [
       "<Figure size 720x504 with 1 Axes>"
      ]
     },
     "metadata": {},
     "output_type": "display_data"
    }
   ],
   "source": [
    "X1=np.array(X)\n",
    "plt.figure(figsize=(10, 7))\n",
    "sns.scatterplot(X1[:,0], X1[:, 1])\n",
    "plt.xlabel('The diameter of pizza in inch')\n",
    "plt.ylabel('pizzaPrice_rupiah')"
   ]
  },
  {
   "cell_type": "code",
   "execution_count": 17,
   "id": "ab48c83a",
   "metadata": {},
   "outputs": [],
   "source": [
    "def make_plot(X,centroids, cluster):\n",
    "    X1=np.array(X)\n",
    "    centroids=np.array(centroids)\n",
    "    plt.figure(figsize=(10, 7))\n",
    "    scat = sns.scatterplot(X1[:,0], X1[:, 1], hue=cluster)\n",
    "    sns.scatterplot(centroids[:,0], centroids[:, 1], s=250,marker='*', color='g')\n",
    "    for index,coordinate in enumerate(centroids):\n",
    "        plt.text(coordinate[0]+0.03, coordinate[1]+0.02,index)\n",
    "    plt.xlabel('The diameter of pizza in inch')\n",
    "    plt.ylabel('pizzaPrice_rupiah')\n",
    "    plt.legend(bbox_to_anchor=(1.05, 1), loc=2, borderaxespad=0.)\n",
    "    plt.show()"
   ]
  },
  {
   "cell_type": "code",
   "execution_count": 11,
   "id": "e3a4a7e1",
   "metadata": {},
   "outputs": [],
   "source": [
    "def calculate_cost(X, centroids, cluster):\n",
    "    sum = 0\n",
    "    for i, val in enumerate(X):\n",
    "        sum += np.sqrt((centroids[int(cluster[i]), 0]-val[0])**2 +(centroids[int(cluster[i]), 1]-val[1])**2)\n",
    "    return sum\n",
    "def elbow_method(X,centroids, cluster,amount_cl,method):\n",
    "    cost_list = []\n",
    "    for k in range(1, amount_cl+1):\n",
    "        centroids, cluster = method(X, k)\n",
    "        cost = calculate_cost(X, np.array(centroids), np.array(cluster))\n",
    "        cost_list.append(cost)\n",
    "    sns.lineplot(x=range(1, amount_cl+1), y=cost_list, marker='o')\n",
    "    plt.xlabel('k')\n",
    "    plt.ylabel('WCSS')\n",
    "    plt.show()"
   ]
  },
  {
   "cell_type": "code",
   "execution_count": 12,
   "id": "1f83f04d",
   "metadata": {
    "scrolled": true
   },
   "outputs": [
    {
     "data": {
      "text/plain": [
       "7"
      ]
     },
     "execution_count": 12,
     "metadata": {},
     "output_type": "execute_result"
    }
   ],
   "source": [
    "k=m.floor(m.sqrt(n/2))\n",
    "k"
   ]
  },
  {
   "cell_type": "code",
   "execution_count": 37,
   "id": "28044a25",
   "metadata": {},
   "outputs": [],
   "source": [
    "def kmeans(X, k):\n",
    "    diff = 1\n",
    "    cluster = np.zeros(len(X))\n",
    "    centroids = []\n",
    "    for i in range(k):\n",
    "        centroids.append([random.uniform(-1,1.1),random.uniform(-0.5,0.5)])\n",
    "    while diff:\n",
    "        for i, row in enumerate(X):\n",
    "            mn_dist = float('inf')\n",
    "            for idx, centroid in enumerate(centroids):\n",
    "                d = np.sqrt((centroid[0]-row[0])**2 + (centroid[1]-row[1])**2)\n",
    "                if mn_dist > d:\n",
    "                    mn_dist = d\n",
    "                    cluster[i] = idx\n",
    "        new_centroids = centroids.copy()\n",
    "        for i in range(k):\n",
    "            temp=[]\n",
    "            for index, cl in enumerate(cluster):\n",
    "                if cl == i:\n",
    "                    temp.append(X[index])\n",
    "            if temp!=[]:\n",
    "                x=0\n",
    "                y=0\n",
    "                for row in temp:\n",
    "                    x+=row[0]\n",
    "                    y+=row[1]\n",
    "                new_centroids[i]=[x/len(temp),y/len(temp)]\n",
    "        if np.count_nonzero(np.array(centroids)-np.array(new_centroids)) == 0:\n",
    "            diff = 0\n",
    "        else:            \n",
    "            centroids = new_centroids\n",
    "    return centroids, cluster"
   ]
  },
  {
   "cell_type": "code",
   "execution_count": 38,
   "id": "9eb8cc49",
   "metadata": {
    "scrolled": false
   },
   "outputs": [
    {
     "name": "stdout",
     "output_type": "stream",
     "text": [
      "Центроиды: [[0.167671530250042, -0.00321371574747474], [-0.22217490196671583, -0.018850831826252835], [-0.8664069350543233, -0.3733112681010049], [0.5086193578174019, -0.33295314570376744], [-0.6560946116058695, 0.4808052876800393], [0.1357532247704678, -0.2690113052221178], [0.6315028587526611, 0.02176317189305995]]\n",
      "Распределение по кластерам [6. 6. 6. 0. 6. 6. 6. 1. 0. 0. 6. 6. 1. 0. 0. 6. 6. 1. 0. 0. 6. 6. 0. 6.\n",
      " 6. 1. 0. 0. 0. 6. 0. 1. 0. 0. 0. 6. 0. 1. 0. 0. 0. 6. 0. 1. 0. 0. 0. 6.\n",
      " 0. 1. 0. 0. 1. 0. 0. 1. 0. 0. 1. 0. 0. 1. 0. 0. 1. 0. 0. 1. 0. 0. 1. 0.\n",
      " 0. 1. 0. 0. 1. 0. 0. 6. 6. 1. 0. 0. 6. 6. 0. 6. 6. 1. 0. 0. 0. 6. 0. 1.\n",
      " 0. 0. 0. 6. 1. 0. 0. 0. 6. 0. 1. 0. 0. 0. 6. 0. 1. 0. 0. 0.]\n"
     ]
    },
    {
     "name": "stderr",
     "output_type": "stream",
     "text": [
      "C:\\Users\\snt_a\\anaconda3\\lib\\site-packages\\seaborn\\_decorators.py:36: FutureWarning: Pass the following variables as keyword args: x, y. From version 0.12, the only valid positional argument will be `data`, and passing other arguments without an explicit keyword will result in an error or misinterpretation.\n",
      "  warnings.warn(\n",
      "C:\\Users\\snt_a\\anaconda3\\lib\\site-packages\\seaborn\\_decorators.py:36: FutureWarning: Pass the following variables as keyword args: x, y. From version 0.12, the only valid positional argument will be `data`, and passing other arguments without an explicit keyword will result in an error or misinterpretation.\n",
      "  warnings.warn(\n"
     ]
    },
    {
     "data": {
      "image/png": "[encoded data removed]",
      "text/plain": [
       "<Figure size 720x504 with 1 Axes>"
      ]
     },
     "metadata": {},
     "output_type": "display_data"
    },
    {
     "data": {
      "image/png": "[encoded data removed]",
      "text/plain": [
       "<Figure size 432x288 with 1 Axes>"
      ]
     },
     "metadata": {},
     "output_type": "display_data"
    }
   ],
   "source": [
    "centroids, cluster = kmeans(X,k)\n",
    "print('Центроиды:',centroids)\n",
    "print('Распределение по кластерам',cluster)\n",
    "make_plot(X,centroids, cluster)\n",
    "elbow_method(X,centroids, cluster,k,kmeans)"
   ]
  },
  {
   "cell_type": "code",
   "execution_count": 39,
   "id": "ae5372cf",
   "metadata": {},
   "outputs": [],
   "source": [
    "def kmedians(X, k):\n",
    "    diff = 1\n",
    "    cluster = np.zeros(len(X))\n",
    "    centroids = []\n",
    "    for i in range(k):\n",
    "        centroids.append([random.uniform(-1,1.1),random.uniform(-0.5,0.5)])\n",
    "    while diff:\n",
    "        for i, row in enumerate(X):\n",
    "            mn_dist = float('inf')\n",
    "            for idx, centroid in enumerate(centroids):\n",
    "                d = abs(centroid[0]-row[0]) + abs(centroid[1]-row[1])\n",
    "                if mn_dist > d:\n",
    "                    mn_dist = d\n",
    "                    cluster[i] = idx\n",
    "        new_centroids = centroids.copy()\n",
    "        for i in range(k):\n",
    "            temp=[]\n",
    "            for index, cl in enumerate(cluster):\n",
    "                if cl == i:\n",
    "                    temp.append(X[index])\n",
    "            if temp!=[]:\n",
    "                temp=np.array(temp)\n",
    "                new_centroids[i]=[st.median(temp[:,0]),st.median(temp[:,1])]\n",
    "        if np.count_nonzero(np.array(centroids)-np.array(new_centroids)) == 0:\n",
    "            diff = 0\n",
    "        else:            \n",
    "            centroids = new_centroids\n",
    "    return centroids, cluster"
   ]
  },
  {
   "cell_type": "code",
   "execution_count": 40,
   "id": "0d2c78cb",
   "metadata": {
    "scrolled": false
   },
   "outputs": [
    {
     "name": "stdout",
     "output_type": "stream",
     "text": [
      "Центроиды: [[-0.8365784720462356, -0.43957297976357235], [-0.25993945948398756, -0.007546341080521549], [0.10578046594643241, -0.004373150695754871], [-0.21422446880518503, -0.022222346610067435], [-0.8908825449246033, -0.3809473120428377], [0.5629303727344573, 0.02021907478618688], [-0.39615117086335006, 0.3732484079153432]]\n",
      "Распределение по кластерам [5. 5. 5. 2. 5. 5. 5. 1. 2. 2. 5. 5. 1. 2. 2. 5. 5. 1. 2. 2. 5. 5. 2. 5.\n",
      " 5. 3. 2. 2. 2. 5. 2. 3. 2. 2. 2. 5. 2. 3. 2. 2. 2. 5. 2. 3. 2. 2. 2. 5.\n",
      " 2. 3. 2. 2. 3. 2. 2. 3. 2. 2. 3. 2. 2. 3. 2. 2. 3. 2. 2. 3. 2. 2. 3. 2.\n",
      " 2. 3. 2. 2. 3. 2. 2. 5. 5. 1. 2. 2. 5. 5. 2. 5. 5. 3. 2. 2. 2. 5. 2. 3.\n",
      " 2. 2. 2. 5. 3. 2. 2. 2. 5. 2. 3. 2. 2. 2. 5. 2. 3. 2. 2. 2.]\n"
     ]
    },
    {
     "name": "stderr",
     "output_type": "stream",
     "text": [
      "C:\\Users\\snt_a\\anaconda3\\lib\\site-packages\\seaborn\\_decorators.py:36: FutureWarning: Pass the following variables as keyword args: x, y. From version 0.12, the only valid positional argument will be `data`, and passing other arguments without an explicit keyword will result in an error or misinterpretation.\n",
      "  warnings.warn(\n",
      "C:\\Users\\snt_a\\anaconda3\\lib\\site-packages\\seaborn\\_decorators.py:36: FutureWarning: Pass the following variables as keyword args: x, y. From version 0.12, the only valid positional argument will be `data`, and passing other arguments without an explicit keyword will result in an error or misinterpretation.\n",
      "  warnings.warn(\n"
     ]
    },
    {
     "data": {
      "image/png": "[encoded data removed]",
      "text/plain": [
       "<Figure size 720x504 with 1 Axes>"
      ]
     },
     "metadata": {},
     "output_type": "display_data"
    },
    {
     "data": {
      "image/png": "[encoded data removed]",
      "text/plain": [
       "<Figure size 432x288 with 1 Axes>"
      ]
     },
     "metadata": {},
     "output_type": "display_data"
    }
   ],
   "source": [
    "centroids1, cluster1=kmedians(X,k)\n",
    "print('Центроиды:',centroids1)\n",
    "print('Распределение по кластерам',cluster1)\n",
    "make_plot(X,centroids1, cluster1)\n",
    "elbow_method(X,centroids1, cluster1,k,kmedians)"
   ]
  },
  {
   "cell_type": "code",
   "execution_count": 23,
   "id": "76d6315a",
   "metadata": {},
   "outputs": [],
   "source": [
    "def euclid_dist(x,y):\n",
    "    return np.sqrt((x[0]-y[0])**2 + (x[1]-y[1])**2)\n",
    "def manhat_dist(x,y):\n",
    "    return abs(x[0]-y[0]) + abs(x[1]-y[1])"
   ]
  },
  {
   "cell_type": "code",
   "execution_count": 24,
   "id": "eab1bbac",
   "metadata": {},
   "outputs": [],
   "source": [
    "def estimate_quality(clusters, centroids, dist):\n",
    "    f=0\n",
    "    for cluster, centroid in zip(clusters,centroids):\n",
    "        count=0\n",
    "        if cluster!=0:\n",
    "            for x in cluster:\n",
    "                count+=dist(x,centroid)\n",
    "            f+=len(cluster)*count\n",
    "    return f/n"
   ]
  },
  {
   "cell_type": "code",
   "execution_count": 25,
   "id": "15380531",
   "metadata": {},
   "outputs": [],
   "source": [
    "def transf_cluster(X,clusters):\n",
    "    new_clusters={}\n",
    "    for x,index_cluster in zip(X,clusters):\n",
    "        new_clusters.setdefault(int(index_cluster),[])\n",
    "        new_clusters[int(index_cluster)].append(x)\n",
    "    new = [0]*k\n",
    "    for key, value in new_clusters.items():\n",
    "        new[key] = value\n",
    "    return newF"
   ]
  },
  {
   "cell_type": "code",
   "execution_count": 41,
   "id": "f26f619b",
   "metadata": {
    "scrolled": false
   },
   "outputs": [
    {
     "name": "stdout",
     "output_type": "stream",
     "text": [
      "Оценка качества разбиения для K-Means: 3.920238436593448\n",
      "Оценка качества разбиения для K-Medians: 3.372806631574742\n"
     ]
    }
   ],
   "source": [
    "new_cluster=transf_cluster(X, cluster)\n",
    "print('Оценка качества разбиения для K-Means:',estimate_quality(new_cluster,centroids,euclid_dist))\n",
    "new_cluster=transf_cluster(X, cluster1)\n",
    "print('Оценка качества разбиения для K-Medians:',estimate_quality(new_cluster,centroids1,manhat_dist))"
   ]
  },
  {
   "cell_type": "code",
   "execution_count": 27,
   "id": "2244128b",
   "metadata": {},
   "outputs": [
    {
     "data": {
      "text/plain": [
       "[0,\n",
       " 0,\n",
       " 0,\n",
       " 0,\n",
       " [[1.0200802795224821, 0.05790071060529118],\n",
       "  [0.8372203168072723, 0.043224705075745294],\n",
       "  [0.47150039137685235, 0.012286098824270187],\n",
       "  [0.28864042866164236, 0.026168806757624404],\n",
       "  [0.6543603540920623, 0.06305714498053704],\n",
       "  [0.7000753447708647, 0.02021907478618688],\n",
       "  [0.47150039137685235, 0.00831961084331184],\n",
       "  [-0.25993945948398756, -0.007546341080521549],\n",
       "  [0.10578046594643241, 0.00038663488139514514],\n",
       "  [0.10578046594643241, 0.00038663488139514514],\n",
       "  [0.7000753447708647, 0.02021907478618688],\n",
       "  [0.47150039137685235, 0.00831961084331184],\n",
       "  [-0.25993945948398756, -0.007546341080521549],\n",
       "  [0.10578046594643241, 0.00038663488139514514],\n",
       "  [0.10578046594643241, 0.00038663488139514514],\n",
       "  [0.7000753447708647, 0.02021907478618688],\n",
       "  [0.47150039137685235, 0.00831961084331184],\n",
       "  [-0.25993945948398756, -0.007546341080521549],\n",
       "  [0.10578046594643241, 0.00038663488139514514],\n",
       "  [0.10578046594643241, 0.00038663488139514514],\n",
       "  [1.0200802795224821, 0.055917466614812006],\n",
       "  [0.7000753447708647, 0.03925821709478695],\n",
       "  [0.28864042866164236, 0.009906206035695178],\n",
       "  [0.5172153820556549, 0.023788913969049395],\n",
       "  [0.5172153820556549, 0.023788913969049395],\n",
       "  [-0.21422446880518503, -0.025990510191977862],\n",
       "  [0.10578046594643241, -0.01706591223482158],\n",
       "  [0.28864042866164236, -0.006753043484329879],\n",
       "  [0.10578046594643241, -0.01587596584053408],\n",
       "  [0.5629303727344573, -0.002389906705275698],\n",
       "  [0.10578046594643241, 0.0027665276699701535],\n",
       "  [-0.21422446880518503, -0.023015644206259102],\n",
       "  [0.10578046594643241, -0.007942989878617385],\n",
       "  [0.28864042866164236, 0.0015765812756826493],\n",
       "  [0.10578046594643241, -0.005563097090042376],\n",
       "  [0.5629303727344573, 0.010302854833791014],\n",
       "  [0.10578046594643241, 0.01347604521855769],\n",
       "  [-0.21422446880518503, -0.022222346610067435],\n",
       "  [0.10578046594643241, -0.01706591223482158],\n",
       "  [0.28864042866164236, -0.006753043484329879],\n",
       "  [0.10578046594643241, -0.005166448291946541],\n",
       "  [0.5629303727344573, 0.011889450026174352],\n",
       "  [0.10578046594643241, 0.014665991612845194],\n",
       "  [-0.21422446880518503, -0.005563097090042376],\n",
       "  [0.10578046594643241, -0.01706591223482158],\n",
       "  [0.28864042866164236, -0.006753043484329879],\n",
       "  [0.10578046594643241, -0.01587596584053408],\n",
       "  [0.5629303727344573, -0.002389906705275698],\n",
       "  [0.10578046594643241, 0.0027665276699701535],\n",
       "  [-0.21422446880518503, -0.019842453821492426],\n",
       "  [0.10578046594643241, -0.006753043484329879],\n",
       "  [0.28864042866164236, 0.003956474064257658],\n",
       "  [-0.21422446880518503, -0.017859209831013252],\n",
       "  [0.10578046594643241, -0.004373150695754871],\n",
       "  [0.28864042866164236, 0.006336366852832666],\n",
       "  [-0.21422446880518503, -0.019842453821492426],\n",
       "  [0.10578046594643241, -0.006753043484329879],\n",
       "  [0.28864042866164236, 0.003956474064257658],\n",
       "  [-0.21422446880518503, -0.021429049013875764],\n",
       "  [0.10578046594643241, -0.011512829061479896],\n",
       "  [0.28864042866164236, 0.003559825266161823],\n",
       "  [-0.21422446880518503, -0.021429049013875764],\n",
       "  [0.10578046594643241, -0.011512829061479896],\n",
       "  [0.28864042866164236, 0.003559825266161823],\n",
       "  [-0.21422446880518503, -0.017859209831013252],\n",
       "  [0.10578046594643241, -0.004373150695754871],\n",
       "  [0.28864042866164236, 0.006336366852832666],\n",
       "  [-0.21422446880518503, -0.024205590600546608],\n",
       "  [0.10578046594643241, -0.01508266824434241],\n",
       "  [0.28864042866164236, -0.0019932579071798634],\n",
       "  [-0.21422446880518503, -0.019842453821492426],\n",
       "  [0.10578046594643241, -0.006753043484329879],\n",
       "  [0.28864042866164236, 0.003956474064257658],\n",
       "  [-0.21422446880518503, -0.021429049013875764],\n",
       "  [0.10578046594643241, -0.011512829061479896],\n",
       "  [0.28864042866164236, 0.003559825266161823],\n",
       "  [-0.21422446880518503, -0.02261899540816327],\n",
       "  [0.10578046594643241, -0.013892721850054905],\n",
       "  [0.28864042866164236, 0.0011799324775868146],\n",
       "  [0.7000753447708647, 0.02021907478618688],\n",
       "  [0.47150039137685235, 0.00831961084331184],\n",
       "  [-0.25993945948398756, -0.007546341080521549],\n",
       "  [0.10578046594643241, 0.00038663488139514514],\n",
       "  [0.10578046594643241, 0.00038663488139514514],\n",
       "  [1.0200802795224821, 0.055917466614812006],\n",
       "  [0.7000753447708647, 0.03925821709478695],\n",
       "  [0.28864042866164236, 0.009906206035695178],\n",
       "  [0.5172153820556549, 0.023788913969049395],\n",
       "  [0.5172153820556549, 0.023788913969049395],\n",
       "  [-0.21422446880518503, -0.025990510191977862],\n",
       "  [0.10578046594643241, -0.01706591223482158],\n",
       "  [0.28864042866164236, -0.006753043484329879],\n",
       "  [0.10578046594643241, -0.01587596584053408],\n",
       "  [0.5629303727344573, -0.002389906705275698],\n",
       "  [0.10578046594643241, 0.0027665276699701535],\n",
       "  [-0.21422446880518503, -0.023015644206259102],\n",
       "  [0.10578046594643241, -0.007942989878617385],\n",
       "  [0.28864042866164236, 0.0015765812756826493],\n",
       "  [0.10578046594643241, -0.005563097090042376],\n",
       "  [0.5629303727344573, 0.010302854833791014],\n",
       "  [-0.21422446880518503, -0.025990510191977862],\n",
       "  [0.10578046594643241, -0.01706591223482158],\n",
       "  [0.28864042866164236, -0.006753043484329879],\n",
       "  [0.10578046594643241, -0.01587596584053408],\n",
       "  [0.5629303727344573, -0.002389906705275698],\n",
       "  [0.10578046594643241, 0.0027665276699701535],\n",
       "  [-0.21422446880518503, -0.023015644206259102],\n",
       "  [0.10578046594643241, -0.007942989878617385],\n",
       "  [0.28864042866164236, 0.0015765812756826493],\n",
       "  [0.10578046594643241, -0.005563097090042376],\n",
       "  [0.5629303727344573, 0.010302854833791014],\n",
       "  [0.10578046594643241, 0.01347604521855769],\n",
       "  [-0.21422446880518503, -0.022222346610067435],\n",
       "  [0.10578046594643241, -0.01706591223482158],\n",
       "  [0.28864042866164236, -0.006753043484329879],\n",
       "  [0.10578046594643241, -0.005166448291946541]],\n",
       " 0,\n",
       " 0]"
      ]
     },
     "execution_count": 27,
     "metadata": {},
     "output_type": "execute_result"
    }
   ],
   "source": [
    "new_cluster"
   ]
  }
 ],
 "metadata": {
  "kernelspec": {
   "display_name": "Python 3",
   "language": "python",
   "name": "python3"
  },
  "language_info": {
   "codemirror_mode": {
    "name": "ipython",
    "version": 3
   },
   "file_extension": ".py",
   "mimetype": "text/x-python",
   "name": "python",
   "nbconvert_exporter": "python",
   "pygments_lexer": "ipython3",
   "version": "3.8.8"
  }
 },
 "nbformat": 4,
 "nbformat_minor": 5
}
