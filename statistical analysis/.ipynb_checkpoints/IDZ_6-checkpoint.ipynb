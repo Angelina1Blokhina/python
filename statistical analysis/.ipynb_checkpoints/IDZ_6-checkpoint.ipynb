{
 "cells": [
  {
   "cell_type": "code",
   "execution_count": 1,
   "id": "fb059b99",
   "metadata": {},
   "outputs": [
    {
     "data": {
      "text/html": [
       "<div>\n",
       "<style scoped>\n",
       "    .dataframe tbody tr th:only-of-type {\n",
       "        vertical-align: middle;\n",
       "    }\n",
       "\n",
       "    .dataframe tbody tr th {\n",
       "        vertical-align: top;\n",
       "    }\n",
       "\n",
       "    .dataframe thead th {\n",
       "        text-align: right;\n",
       "    }\n",
       "</style>\n",
       "<table border=\"1\" class=\"dataframe\">\n",
       "  <thead>\n",
       "    <tr style=\"text-align: right;\">\n",
       "      <th></th>\n",
       "      <th>Streams</th>\n",
       "      <th>Artist Followers</th>\n",
       "    </tr>\n",
       "  </thead>\n",
       "  <tbody>\n",
       "    <tr>\n",
       "      <th>0</th>\n",
       "      <td>48633449</td>\n",
       "      <td>3377762</td>\n",
       "    </tr>\n",
       "    <tr>\n",
       "      <th>1</th>\n",
       "      <td>47248719</td>\n",
       "      <td>2230022</td>\n",
       "    </tr>\n",
       "    <tr>\n",
       "      <th>2</th>\n",
       "      <td>40162559</td>\n",
       "      <td>6266514</td>\n",
       "    </tr>\n",
       "    <tr>\n",
       "      <th>3</th>\n",
       "      <td>37799456</td>\n",
       "      <td>83293380</td>\n",
       "    </tr>\n",
       "    <tr>\n",
       "      <th>4</th>\n",
       "      <td>33948454</td>\n",
       "      <td>5473565</td>\n",
       "    </tr>\n",
       "    <tr>\n",
       "      <th>...</th>\n",
       "      <td>...</td>\n",
       "      <td>...</td>\n",
       "    </tr>\n",
       "    <tr>\n",
       "      <th>112</th>\n",
       "      <td>6539852</td>\n",
       "      <td>73211</td>\n",
       "    </tr>\n",
       "    <tr>\n",
       "      <th>113</th>\n",
       "      <td>6502302</td>\n",
       "      <td>8640063</td>\n",
       "    </tr>\n",
       "    <tr>\n",
       "      <th>114</th>\n",
       "      <td>6488622</td>\n",
       "      <td>21942793</td>\n",
       "    </tr>\n",
       "    <tr>\n",
       "      <th>115</th>\n",
       "      <td>6469500</td>\n",
       "      <td>5420471</td>\n",
       "    </tr>\n",
       "    <tr>\n",
       "      <th>116</th>\n",
       "      <td>6452492</td>\n",
       "      <td>83293380</td>\n",
       "    </tr>\n",
       "  </tbody>\n",
       "</table>\n",
       "<p>117 rows × 2 columns</p>\n",
       "</div>"
      ],
      "text/plain": [
       "      Streams  Artist Followers\n",
       "0    48633449           3377762\n",
       "1    47248719           2230022\n",
       "2    40162559           6266514\n",
       "3    37799456          83293380\n",
       "4    33948454           5473565\n",
       "..        ...               ...\n",
       "112   6539852             73211\n",
       "113   6502302           8640063\n",
       "114   6488622          21942793\n",
       "115   6469500           5420471\n",
       "116   6452492          83293380\n",
       "\n",
       "[117 rows x 2 columns]"
      ]
     },
     "execution_count": 1,
     "metadata": {},
     "output_type": "execute_result"
    }
   ],
   "source": [
    "import pandas as pd\n",
    "import matplotlib.pyplot as plt\n",
    "import seaborn as sns\n",
    "sns.set(style=\"darkgrid\")\n",
    "import numpy as np\n",
    "import math as m\n",
    "import statistics as st\n",
    "import random\n",
    "n=117\n",
    "df = pd.read_csv('Выборка Блохина.csv', delimiter=';')\n",
    "mean_x=89.0252463054187\n",
    "mean_y=\n",
    "sx=17957858.046\n",
    "sy=8724134.107\n",
    "df"
   ]
  },
  {
   "cell_type": "code",
   "execution_count": 2,
   "id": "933f6f63",
   "metadata": {
    "scrolled": false
   },
   "outputs": [
    {
     "data": {
      "text/plain": [
       "[[-0.5262434532444127, 4.203298063767373],\n",
       " [-0.5901564208745166, 4.0445740020993],\n",
       " [-0.3653806157834911, 3.2323260571354258],\n",
       " [3.9239319404630066, 2.961456424571672],\n",
       " [-0.4095367171386093, 2.520037029504136],\n",
       " [-0.4095367171386093, 2.0756009453672646],\n",
       " [-0.23320733576757668, 1.9937133916870908],\n",
       " [-0.3757335765610941, 1.7180272352729893],\n",
       " [1.298278765166713, 1.4977778699568078],\n",
       " [-0.5262434532444127, 1.4429257787199212],\n",
       " [0.7971166011187212, 1.3244520153270953],\n",
       " [0.9034148575761606, 1.1968864613878176],\n",
       " [1.351954598750591, 1.1576505904346936],\n",
       " [1.986660028028601, 0.9549536834051329],\n",
       " [1.351954598750591, 0.9195640394343607],\n",
       " [-0.3653806157834911, 0.861674741332584],\n",
       " [-0.3653806157834911, 0.757489731238493],\n",
       " [1.2516899126511785, 0.6980438316639004],\n",
       " [-0.5960751668478803, 0.6481619758071883],\n",
       " [-0.23320733576757668, 0.5668876635025344],\n",
       " [-0.7059016280521054, 0.5322719645350358],\n",
       " [-0.23320733576757668, 0.4772489680848965],\n",
       " [-0.3653806157834911, 0.42659419884591643],\n",
       " [-0.6090624618472386, 0.35830157602596785],\n",
       " [1.2516899126511785, 0.34943250099215833],\n",
       " [-0.3653806157834911, 0.3307795323417304],\n",
       " [-0.12951540350983354, 0.32623810742619525],\n",
       " [1.1595930714931992, 0.27118439159500185],\n",
       " [-0.709676966949781, 0.2648198631135508],\n",
       " [-0.6939576089240682, 0.25348521387648126],\n",
       " [1.099618157043984, 0.22927834160585076],\n",
       " [0.5488287491611682, 0.14235647741860186],\n",
       " [-0.3653806157834911, 0.09807529200101049],\n",
       " [0.18870968688578302, 0.06980566696141915],\n",
       " [0.18290899508093814, 0.003825709186797121],\n",
       " [-0.5901564208745166, -0.010772071915377308],\n",
       " [-0.44479810512697493, -0.032086852009231726],\n",
       " [-0.23320733576757668, -0.038272566183054434],\n",
       " [-0.22662414529479463, -0.046934973142085834],\n",
       " [1.298278765166713, -0.05032304577341821],\n",
       " [-0.5508320204816035, -0.05574066079633225],\n",
       " [-0.3653806157834911, -0.07748757546695516],\n",
       " [0.9034148575761606, -0.07790882071088731],\n",
       " [1.351954598750591, -0.08785903455851128],\n",
       " [-0.39219055039633544, -0.14024807333237385],\n",
       " [-0.5405884268676662, -0.18888441876172088],\n",
       " [-0.643369281648458, -0.19959081080641164],\n",
       " [-0.6934068750907422, -0.2003748427706282],\n",
       " [-0.3284852912797104, -0.2212903855353355],\n",
       " [-0.6926712082887126, -0.2431547903760347],\n",
       " [-0.5402095398098349, -0.24800306522844237],\n",
       " [-0.7118112415331875, -0.2501291214963209],\n",
       " [1.9036921152528417, -0.2668108916542587],\n",
       " [-0.7125454048151462, -0.270812664159336],\n",
       " [1.0420698683030452, -0.29055250285138695],\n",
       " [-0.6867601469734884, -0.30304990358626543],\n",
       " [-0.6915520881827111, -0.316013826264764],\n",
       " [-0.3757335765610941, -0.32969850815247215],\n",
       " [1.0822399708927959, -0.3340557314062389],\n",
       " [-0.03668918805975067, -0.3376790136268362],\n",
       " [-0.44775419264387256, -0.3422662883648402],\n",
       " [-0.6980893934503708, -0.3470711205104587],\n",
       " [-0.3653806157834911, -0.35326795326623006],\n",
       " [1.2516899126511785, -0.3576518840415849],\n",
       " [-0.6364569873379653, -0.3588170426550734],\n",
       " [-0.6447101988078607, -0.36007493253450507],\n",
       " [-0.7078322035088884, -0.38955590988372224],\n",
       " [-0.34332392065952966, -0.3896427952973006],\n",
       " [0.7763362831629769, -0.39532095193639366],\n",
       " [-0.24746109583987078, -0.3981083918933847],\n",
       " [-0.7128821376250677, -0.423372675694702],\n",
       " [-0.6915786503706278, -0.4390019631778684],\n",
       " [0.2754977100457696, -0.44258902403871536],\n",
       " [-0.5530825672838154, -0.44358556993007486],\n",
       " [-0.7128272869854493, -0.45356673240786527],\n",
       " [-0.5262434532444127, -0.45714164306575805],\n",
       " [-0.6029679710833816, -0.4643342193409957],\n",
       " [-0.6005545429401709, -0.48464293970532835],\n",
       " [-0.7125838281058434, -0.48670755721109865],\n",
       " [-0.557325612295354, -0.4901638314533534],\n",
       " [-0.5901564208745166, -0.4953136835130496],\n",
       " [2.4212355759591797, -0.4958299525140484],\n",
       " [-0.6563081298899806, -0.5097379230371796],\n",
       " [-0.6447101988078607, -0.5155661232203018],\n",
       " [0.27238653721786965, -0.5170346930339776],\n",
       " [-0.7027798192118531, -0.5191416070009754],\n",
       " [-0.7027798192118531, -0.524974048292676],\n",
       " [-0.7133222235183716, -0.5251785385008868],\n",
       " [-0.7029788964064072, -0.5270735116635226],\n",
       " [-0.6983353025108326, -0.5283639549169071],\n",
       " [-0.7059016280521054, -0.5303415723845428],\n",
       " [3.0254221093534976, -0.5408513833153986],\n",
       " [1.1595930714931992, -0.5510175498268506],\n",
       " [-0.640301098357396, -0.5592556166789332],\n",
       " [-0.3611803375650762, -0.5615812342991072],\n",
       " [-0.6447101988078607, -0.5707215110328198],\n",
       " [-0.23320733576757668, -0.5851408217010343],\n",
       " [-0.6295923601823086, -0.5856534227162355],\n",
       " [-0.6348433761864698, -0.5889237759283793],\n",
       " [-0.24746109583987078, -0.5902606421270135],\n",
       " [0.7971166011187212, -0.5918618325521804],\n",
       " [-0.5270104712242139, -0.6020010622929319],\n",
       " [-0.7134421710084611, -0.6022611454108863],\n",
       " [1.250564388663394, -0.6033169521977867],\n",
       " [-0.6914181078386279, -0.6036411104426411],\n",
       " [1.099618157043984, -0.6078533336328503],\n",
       " [-0.6729797729797692, -0.6086131798157146],\n",
       " [-0.22662414529479463, -0.6107468013043005],\n",
       " [-0.13762266216100819, -0.6131543754821374],\n",
       " [-0.7111799301612544, -0.616498661533012],\n",
       " [1.9036921152528417, -0.6182580338456963],\n",
       " [-0.6447101988078607, -0.6208484341906276],\n",
       " [-0.7102604441090925, -0.6216618100412242],\n",
       " [-0.23320733576757668, -0.6259659621254834],\n",
       " [0.5075675364874749, -0.6275340260539165],\n",
       " [-0.4124933058288638, -0.6297258768170377],\n",
       " [3.9239319404630066, -0.6316754112684113]]"
      ]
     },
     "execution_count": 2,
     "metadata": {},
     "output_type": "execute_result"
    }
   ],
   "source": [
    "def normalize(df):\n",
    "    X=[]\n",
    "    for x,y in zip(df['Artist Followers'],df['Streams']):\n",
    "        xi = (x-mean_x)/sx\n",
    "        yi = (y-mean_y)/sy\n",
    "        X.append([xi,yi])\n",
    "    return X\n",
    "X=normalize(df)\n",
    "X"
   ]
  },
  {
   "cell_type": "code",
   "execution_count": 3,
   "id": "af983233",
   "metadata": {},
   "outputs": [
    {
     "name": "stderr",
     "output_type": "stream",
     "text": [
      "C:\\Users\\Kate\\anaconda3\\lib\\site-packages\\seaborn\\_decorators.py:36: FutureWarning: Pass the following variables as keyword args: x, y. From version 0.12, the only valid positional argument will be `data`, and passing other arguments without an explicit keyword will result in an error or misinterpretation.\n",
      "  warnings.warn(\n"
     ]
    },
    {
     "data": {
      "text/plain": [
       "Text(0, 0.5, 'Streams')"
      ]
     },
     "execution_count": 3,
     "metadata": {},
     "output_type": "execute_result"
    },
    {
     "data": {
      "image/png": "[encoded data removed]",
      "text/plain": [
       "<Figure size 720x504 with 1 Axes>"
      ]
     },
     "metadata": {},
     "output_type": "display_data"
    }
   ],
   "source": [
    "X1=np.array(X)\n",
    "plt.figure(figsize=(10, 7))\n",
    "sns.scatterplot(X1[:,0], X1[:, 1])\n",
    "plt.xlabel('Artist Followers')\n",
    "plt.ylabel('Streams')"
   ]
  },
  {
   "cell_type": "code",
   "execution_count": 4,
   "id": "ab48c83a",
   "metadata": {},
   "outputs": [],
   "source": [
    "def make_plot(X,centroids, cluster):\n",
    "    X1=np.array(X)\n",
    "    centroids=np.array(centroids)\n",
    "    plt.figure(figsize=(10, 7))\n",
    "    scat = sns.scatterplot(X1[:,0], X1[:, 1], hue=cluster)\n",
    "    sns.scatterplot(centroids[:,0], centroids[:, 1], s=250,marker='*', color='g')\n",
    "    for index,coordinate in enumerate(centroids):\n",
    "        plt.text(coordinate[0]+0.03, coordinate[1]+0.02,index)\n",
    "    plt.xlabel('Artist Followers')\n",
    "    plt.ylabel('Streams')\n",
    "    plt.legend(bbox_to_anchor=(1.05, 1), loc=2, borderaxespad=0.)\n",
    "    plt.show()"
   ]
  },
  {
   "cell_type": "code",
   "execution_count": 5,
   "id": "e3a4a7e1",
   "metadata": {},
   "outputs": [],
   "source": [
    "def calculate_cost(X, centroids, cluster):\n",
    "    sum = 0\n",
    "    for i, val in enumerate(X):\n",
    "        sum += np.sqrt((centroids[int(cluster[i]), 0]-val[0])**2 +(centroids[int(cluster[i]), 1]-val[1])**2)\n",
    "    return sum\n",
    "def elbow_method(X,centroids, cluster,amount_cl,method):\n",
    "    cost_list = []\n",
    "    for k in range(1, amount_cl+1):\n",
    "        centroids, cluster = method(X, k)\n",
    "        cost = calculate_cost(X, np.array(centroids), np.array(cluster))\n",
    "        cost_list.append(cost)\n",
    "    sns.lineplot(x=range(1, amount_cl+1), y=cost_list, marker='o')\n",
    "    plt.xlabel('k')\n",
    "    plt.ylabel('WCSS')\n",
    "    plt.show()"
   ]
  },
  {
   "cell_type": "code",
   "execution_count": 6,
   "id": "1f83f04d",
   "metadata": {
    "scrolled": true
   },
   "outputs": [
    {
     "data": {
      "text/plain": [
       "7"
      ]
     },
     "execution_count": 6,
     "metadata": {},
     "output_type": "execute_result"
    }
   ],
   "source": [
    "k=m.floor(m.sqrt(n/2))\n",
    "k"
   ]
  },
  {
   "cell_type": "code",
   "execution_count": 18,
   "id": "28044a25",
   "metadata": {},
   "outputs": [],
   "source": [
    "def kmeans(X, k):\n",
    "    diff = 1\n",
    "    cluster = np.zeros(len(X))\n",
    "    centroids = []\n",
    "    for i in range(k):\n",
    "        centroids.append([random.uniform(-1,4),random.uniform(-2,4.5)])\n",
    "    while diff:\n",
    "        for i, row in enumerate(X):\n",
    "            mn_dist = float('inf')\n",
    "            for idx, centroid in enumerate(centroids):\n",
    "                d = np.sqrt((centroid[0]-row[0])**2 + (centroid[1]-row[1])**2)\n",
    "                if mn_dist > d:\n",
    "                    mn_dist = d\n",
    "                    cluster[i] = idx\n",
    "        new_centroids = centroids.copy()\n",
    "        for i in range(k):\n",
    "            temp=[]\n",
    "            for index, cl in enumerate(cluster):\n",
    "                if cl == i:\n",
    "                    temp.append(X[index])\n",
    "            if temp!=[]:\n",
    "                x=0\n",
    "                y=0\n",
    "                for row in temp:\n",
    "                    x+=row[0]\n",
    "                    y+=row[1]\n",
    "                new_centroids[i]=[x/len(temp),y/len(temp)]\n",
    "        if np.count_nonzero(np.array(centroids)-np.array(new_centroids)) == 0:\n",
    "            diff = 0\n",
    "        else:            \n",
    "            centroids = new_centroids\n",
    "    return centroids, cluster"
   ]
  },
  {
   "cell_type": "code",
   "execution_count": 20,
   "id": "9eb8cc49",
   "metadata": {
    "scrolled": false
   },
   "outputs": [
    {
     "name": "stdout",
     "output_type": "stream",
     "text": [
      "Центроиды: [[-0.533325533951044, -0.4469660295804681], [-0.49392682996747345, 3.8267327076673663], [-0.3613027463732075, 0.2885053082781549], [3.9239319404630066, 2.961456424571672], [1.1731450997683204, 0.13125022448717844], [-0.3908515599700604, 1.9500608761102805], [3.1235298752585616, -0.5561189156992862]]\n",
      "Распределение по кластерам [1. 1. 1. 3. 5. 5. 5. 5. 4. 5. 4. 4. 4. 4. 4. 2. 2. 4. 2. 2. 2. 2. 2. 2.\n",
      " 4. 2. 2. 4. 2. 2. 4. 4. 2. 2. 2. 2. 2. 2. 2. 4. 0. 2. 4. 4. 0. 0. 0. 0.\n",
      " 0. 0. 0. 0. 4. 0. 4. 0. 0. 0. 4. 0. 0. 0. 0. 4. 0. 0. 0. 0. 4. 0. 0. 0.\n",
      " 0. 0. 0. 0. 0. 0. 0. 0. 0. 6. 0. 0. 0. 0. 0. 0. 0. 0. 0. 6. 4. 0. 0. 0.\n",
      " 0. 0. 0. 0. 4. 0. 0. 4. 0. 4. 0. 0. 0. 0. 4. 0. 0. 0. 4. 0. 6.]\n"
     ]
    },
    {
     "name": "stderr",
     "output_type": "stream",
     "text": [
      "C:\\Users\\Kate\\anaconda3\\lib\\site-packages\\seaborn\\_decorators.py:36: FutureWarning: Pass the following variables as keyword args: x, y. From version 0.12, the only valid positional argument will be `data`, and passing other arguments without an explicit keyword will result in an error or misinterpretation.\n",
      "  warnings.warn(\n",
      "C:\\Users\\Kate\\anaconda3\\lib\\site-packages\\seaborn\\_decorators.py:36: FutureWarning: Pass the following variables as keyword args: x, y. From version 0.12, the only valid positional argument will be `data`, and passing other arguments without an explicit keyword will result in an error or misinterpretation.\n",
      "  warnings.warn(\n"
     ]
    },
    {
     "data": {
      "image/png": "[encoded data removed]",
      "text/plain": [
       "<Figure size 720x504 with 1 Axes>"
      ]
     },
     "metadata": {},
     "output_type": "display_data"
    },
    {
     "data": {
      "image/png": "[encoded data removed]",
      "text/plain": [
       "<Figure size 432x288 with 1 Axes>"
      ]
     },
     "metadata": {},
     "output_type": "display_data"
    }
   ],
   "source": [
    "centroids, cluster = kmeans(X,k)\n",
    "print('Центроиды:',centroids)\n",
    "print('Распределение по кластерам',cluster)\n",
    "make_plot(X,centroids, cluster)\n",
    "elbow_method(X,centroids, cluster,k,kmeans)"
   ]
  },
  {
   "cell_type": "code",
   "execution_count": 9,
   "id": "ae5372cf",
   "metadata": {},
   "outputs": [],
   "source": [
    "def kmedians(X, k):\n",
    "    diff = 1\n",
    "    cluster = np.zeros(len(X))\n",
    "    centroids = []\n",
    "    for i in range(k):\n",
    "        centroids.append([random.uniform(-1,4),random.uniform(-2,4.5)])\n",
    "    while diff:\n",
    "        for i, row in enumerate(X):\n",
    "            mn_dist = float('inf')\n",
    "            for idx, centroid in enumerate(centroids):\n",
    "                d = abs(centroid[0]-row[0]) + abs(centroid[1]-row[1])\n",
    "                if mn_dist > d:\n",
    "                    mn_dist = d\n",
    "                    cluster[i] = idx\n",
    "        new_centroids = centroids.copy()\n",
    "        for i in range(k):\n",
    "            temp=[]\n",
    "            for index, cl in enumerate(cluster):\n",
    "                if cl == i:\n",
    "                    temp.append(X[index])\n",
    "            if temp!=[]:\n",
    "                temp=np.array(temp)\n",
    "                new_centroids[i]=[st.median(temp[:,0]),st.median(temp[:,1])]\n",
    "        if np.count_nonzero(np.array(centroids)-np.array(new_centroids)) == 0:\n",
    "            diff = 0\n",
    "        else:            \n",
    "            centroids = new_centroids\n",
    "    return centroids, cluster"
   ]
  },
  {
   "cell_type": "code",
   "execution_count": 28,
   "id": "0d2c78cb",
   "metadata": {
    "scrolled": true
   },
   "outputs": [
    {
     "name": "stdout",
     "output_type": "stream",
     "text": [
      "Центроиды: [[2.162463845606011, -0.5183406679147236], [3.9239319404630066, -0.6316754112684113], [1.2749843389089457, 1.0563021369199133], [1.0822399708927959, -0.3576518840415849], [-0.5983148548940256, -0.37481542120911365], [-0.4095367171386093, 2.2978189874357002], [3.9239319404630066, 2.961456424571672]]\n",
      "Распределение по кластерам [5. 5. 5. 6. 5. 5. 5. 5. 2. 5. 2. 2. 2. 2. 2. 4. 4. 2. 4. 4. 4. 4. 4. 4.\n",
      " 2. 4. 4. 3. 4. 4. 3. 3. 4. 4. 4. 4. 4. 4. 4. 3. 4. 4. 3. 3. 4. 4. 4. 4.\n",
      " 4. 4. 4. 4. 0. 4. 3. 4. 4. 4. 3. 4. 4. 4. 4. 3. 4. 4. 4. 4. 3. 4. 4. 4.\n",
      " 3. 4. 4. 4. 4. 4. 4. 4. 4. 0. 4. 4. 3. 4. 4. 4. 4. 4. 4. 0. 3. 4. 4. 4.\n",
      " 4. 4. 4. 4. 3. 4. 4. 3. 4. 3. 4. 4. 4. 4. 0. 4. 4. 4. 3. 4. 1.]\n"
     ]
    },
    {
     "name": "stderr",
     "output_type": "stream",
     "text": [
      "C:\\Users\\Kate\\anaconda3\\lib\\site-packages\\seaborn\\_decorators.py:36: FutureWarning: Pass the following variables as keyword args: x, y. From version 0.12, the only valid positional argument will be `data`, and passing other arguments without an explicit keyword will result in an error or misinterpretation.\n",
      "  warnings.warn(\n",
      "C:\\Users\\Kate\\anaconda3\\lib\\site-packages\\seaborn\\_decorators.py:36: FutureWarning: Pass the following variables as keyword args: x, y. From version 0.12, the only valid positional argument will be `data`, and passing other arguments without an explicit keyword will result in an error or misinterpretation.\n",
      "  warnings.warn(\n"
     ]
    },
    {
     "data": {
      "image/png": "[encoded data removed]",
      "text/plain": [
       "<Figure size 720x504 with 1 Axes>"
      ]
     },
     "metadata": {},
     "output_type": "display_data"
    },
    {
     "data": {
      "image/png": "[encoded data removed]",
      "text/plain": [
       "<Figure size 432x288 with 1 Axes>"
      ]
     },
     "metadata": {},
     "output_type": "display_data"
    }
   ],
   "source": [
    "centroids1, cluster1=kmedians(X,k)\n",
    "print('Центроиды:',centroids1)\n",
    "print('Распределение по кластерам',cluster1)\n",
    "make_plot(X,centroids1, cluster1)\n",
    "elbow_method(X,centroids1, cluster1,k,kmedians)"
   ]
  },
  {
   "cell_type": "code",
   "execution_count": 11,
   "id": "76d6315a",
   "metadata": {},
   "outputs": [],
   "source": [
    "def euclid_dist(x,y):\n",
    "    return np.sqrt((x[0]-y[0])**2 + (x[1]-y[1])**2)\n",
    "def manhat_dist(x,y):\n",
    "    return abs(x[0]-y[0]) + abs(x[1]-y[1])"
   ]
  },
  {
   "cell_type": "code",
   "execution_count": 26,
   "id": "eab1bbac",
   "metadata": {},
   "outputs": [],
   "source": [
    "def estimate_quality(clusters, centroids, dist):\n",
    "    f=0\n",
    "    for cluster, centroid in zip(clusters,centroids):\n",
    "        count=0\n",
    "        if cluster!=0:\n",
    "            for x in cluster:\n",
    "                count+=dist(x,centroid)\n",
    "            f+=len(cluster)*count\n",
    "    return f/n"
   ]
  },
  {
   "cell_type": "code",
   "execution_count": 24,
   "id": "15380531",
   "metadata": {},
   "outputs": [],
   "source": [
    "def transf_cluster(X,clusters):\n",
    "    new_clusters={}\n",
    "    for x,index_cluster in zip(X,clusters):\n",
    "        new_clusters.setdefault(int(index_cluster),[])\n",
    "        new_clusters[int(index_cluster)].append(x)\n",
    "    new = [0]*k\n",
    "    for key, value in new_clusters.items():\n",
    "        new[key] = value\n",
    "    return new"
   ]
  },
  {
   "cell_type": "code",
   "execution_count": 30,
   "id": "f26f619b",
   "metadata": {
    "scrolled": false
   },
   "outputs": [
    {
     "name": "stdout",
     "output_type": "stream",
     "text": [
      "Оценка качества разбиения для K-Means: 12.108386483576872\n",
      "Оценка качества разбиения для K-Medians: 25.253964143379733\n"
     ]
    }
   ],
   "source": [
    "new_cluster=transf_cluster(X, cluster)\n",
    "print('Оценка качества разбиения для K-Means:',estimate_quality(new_cluster,centroids,euclid_dist))\n",
    "new_cluster=transf_cluster(X, cluster1)\n",
    "print('Оценка качества разбиения для K-Medians:',estimate_quality(new_cluster,centroids1,manhat_dist))"
   ]
  },
  {
   "cell_type": "code",
   "execution_count": 22,
   "id": "2244128b",
   "metadata": {},
   "outputs": [
    {
     "data": {
      "text/plain": [
       "[[[-0.5405884268676662, -0.18888441876172088],\n",
       "  [-0.643369281648458, -0.19959081080641164],\n",
       "  [-0.6934068750907422, -0.2003748427706282],\n",
       "  [-0.6926712082887126, -0.2431547903760347],\n",
       "  [-0.5402095398098349, -0.24800306522844237],\n",
       "  [-0.7118112415331875, -0.2501291214963209],\n",
       "  [-0.7125454048151462, -0.270812664159336],\n",
       "  [-0.6867601469734884, -0.30304990358626543],\n",
       "  [-0.6915520881827111, -0.316013826264764],\n",
       "  [-0.3757335765610941, -0.32969850815247215],\n",
       "  [-0.03668918805975067, -0.3376790136268362],\n",
       "  [-0.44775419264387256, -0.3422662883648402],\n",
       "  [-0.6980893934503708, -0.3470711205104587],\n",
       "  [-0.3653806157834911, -0.35326795326623006],\n",
       "  [-0.6364569873379653, -0.3588170426550734],\n",
       "  [-0.6447101988078607, -0.36007493253450507],\n",
       "  [-0.7078322035088884, -0.38955590988372224],\n",
       "  [-0.34332392065952966, -0.3896427952973006],\n",
       "  [-0.24746109583987078, -0.3981083918933847],\n",
       "  [-0.7128821376250677, -0.423372675694702],\n",
       "  [-0.6915786503706278, -0.4390019631778684],\n",
       "  [0.2754977100457696, -0.44258902403871536],\n",
       "  [-0.5530825672838154, -0.44358556993007486],\n",
       "  [-0.7128272869854493, -0.45356673240786527],\n",
       "  [-0.5262434532444127, -0.45714164306575805],\n",
       "  [-0.6029679710833816, -0.4643342193409957],\n",
       "  [-0.6005545429401709, -0.48464293970532835],\n",
       "  [-0.7125838281058434, -0.48670755721109865],\n",
       "  [-0.557325612295354, -0.4901638314533534],\n",
       "  [-0.5901564208745166, -0.4953136835130496],\n",
       "  [-0.6563081298899806, -0.5097379230371796],\n",
       "  [-0.6447101988078607, -0.5155661232203018],\n",
       "  [0.27238653721786965, -0.5170346930339776],\n",
       "  [-0.7027798192118531, -0.5191416070009754],\n",
       "  [-0.7027798192118531, -0.524974048292676],\n",
       "  [-0.7133222235183716, -0.5251785385008868],\n",
       "  [-0.7029788964064072, -0.5270735116635226],\n",
       "  [-0.6983353025108326, -0.5283639549169071],\n",
       "  [-0.7059016280521054, -0.5303415723845428],\n",
       "  [-0.640301098357396, -0.5592556166789332],\n",
       "  [-0.3611803375650762, -0.5615812342991072],\n",
       "  [-0.6447101988078607, -0.5707215110328198],\n",
       "  [-0.23320733576757668, -0.5851408217010343],\n",
       "  [-0.6295923601823086, -0.5856534227162355],\n",
       "  [-0.6348433761864698, -0.5889237759283793],\n",
       "  [-0.24746109583987078, -0.5902606421270135],\n",
       "  [-0.5270104712242139, -0.6020010622929319],\n",
       "  [-0.7134421710084611, -0.6022611454108863],\n",
       "  [-0.6914181078386279, -0.6036411104426411],\n",
       "  [-0.6729797729797692, -0.6086131798157146],\n",
       "  [-0.22662414529479463, -0.6107468013043005],\n",
       "  [-0.13762266216100819, -0.6131543754821374],\n",
       "  [-0.7111799301612544, -0.616498661533012],\n",
       "  [-0.6447101988078607, -0.6208484341906276],\n",
       "  [-0.7102604441090925, -0.6216618100412242],\n",
       "  [-0.23320733576757668, -0.6259659621254834],\n",
       "  [-0.4124933058288638, -0.6297258768170377]],\n",
       " [[-0.5262434532444127, 4.203298063767373],\n",
       "  [-0.5901564208745166, 4.0445740020993],\n",
       "  [-0.3653806157834911, 3.2323260571354258]],\n",
       " [[-0.3653806157834911, 0.861674741332584],\n",
       "  [-0.3653806157834911, 0.757489731238493],\n",
       "  [-0.5960751668478803, 0.6481619758071883],\n",
       "  [-0.23320733576757668, 0.5668876635025344],\n",
       "  [-0.7059016280521054, 0.5322719645350358],\n",
       "  [-0.23320733576757668, 0.4772489680848965],\n",
       "  [-0.3653806157834911, 0.42659419884591643],\n",
       "  [-0.6090624618472386, 0.35830157602596785],\n",
       "  [-0.3653806157834911, 0.3307795323417304],\n",
       "  [-0.12951540350983354, 0.32623810742619525],\n",
       "  [-0.709676966949781, 0.2648198631135508],\n",
       "  [-0.6939576089240682, 0.25348521387648126],\n",
       "  [0.5488287491611682, 0.14235647741860186],\n",
       "  [-0.3653806157834911, 0.09807529200101049],\n",
       "  [0.18870968688578302, 0.06980566696141915],\n",
       "  [0.18290899508093814, 0.003825709186797121],\n",
       "  [-0.5901564208745166, -0.010772071915377308],\n",
       "  [-0.44479810512697493, -0.032086852009231726],\n",
       "  [-0.23320733576757668, -0.038272566183054434],\n",
       "  [-0.22662414529479463, -0.046934973142085834],\n",
       "  [-0.5508320204816035, -0.05574066079633225],\n",
       "  [-0.3653806157834911, -0.07748757546695516],\n",
       "  [-0.39219055039633544, -0.14024807333237385],\n",
       "  [-0.3284852912797104, -0.2212903855353355]],\n",
       " [[1.298278765166713, 1.4977778699568078],\n",
       "  [0.9034148575761606, 1.1968864613878176],\n",
       "  [1.351954598750591, 1.1576505904346936],\n",
       "  [1.986660028028601, 0.9549536834051329],\n",
       "  [1.351954598750591, 0.9195640394343607],\n",
       "  [1.2516899126511785, 0.6980438316639004],\n",
       "  [1.2516899126511785, 0.34943250099215833],\n",
       "  [1.1595930714931992, 0.27118439159500185],\n",
       "  [1.099618157043984, 0.22927834160585076],\n",
       "  [1.298278765166713, -0.05032304577341821],\n",
       "  [0.9034148575761606, -0.07790882071088731],\n",
       "  [1.351954598750591, -0.08785903455851128],\n",
       "  [1.9036921152528417, -0.2668108916542587],\n",
       "  [1.0420698683030452, -0.29055250285138695],\n",
       "  [1.0822399708927959, -0.3340557314062389],\n",
       "  [1.2516899126511785, -0.3576518840415849],\n",
       "  [0.7763362831629769, -0.39532095193639366],\n",
       "  [2.4212355759591797, -0.4958299525140484],\n",
       "  [3.0254221093534976, -0.5408513833153986],\n",
       "  [1.1595930714931992, -0.5510175498268506],\n",
       "  [0.7971166011187212, -0.5918618325521804],\n",
       "  [1.250564388663394, -0.6033169521977867],\n",
       "  [1.099618157043984, -0.6078533336328503],\n",
       "  [1.9036921152528417, -0.6182580338456963],\n",
       "  [0.5075675364874749, -0.6275340260539165],\n",
       "  [3.9239319404630066, -0.6316754112684113]],\n",
       " [[3.9239319404630066, 2.961456424571672]],\n",
       " 0,\n",
       " [[-0.4095367171386093, 2.520037029504136],\n",
       "  [-0.4095367171386093, 2.0756009453672646],\n",
       "  [-0.23320733576757668, 1.9937133916870908],\n",
       "  [-0.3757335765610941, 1.7180272352729893],\n",
       "  [-0.5262434532444127, 1.4429257787199212],\n",
       "  [0.7971166011187212, 1.3244520153270953]]]"
      ]
     },
     "execution_count": 22,
     "metadata": {},
     "output_type": "execute_result"
    }
   ],
   "source": [
    "new_cluster"
   ]
  }
 ],
 "metadata": {
  "kernelspec": {
   "display_name": "Python 3",
   "language": "python",
   "name": "python3"
  },
  "language_info": {
   "codemirror_mode": {
    "name": "ipython",
    "version": 3
   },
   "file_extension": ".py",
   "mimetype": "text/x-python",
   "name": "python",
   "nbconvert_exporter": "python",
   "pygments_lexer": "ipython3",
   "version": "3.8.8"
  }
 },
 "nbformat": 4,
 "nbformat_minor": 5
}
