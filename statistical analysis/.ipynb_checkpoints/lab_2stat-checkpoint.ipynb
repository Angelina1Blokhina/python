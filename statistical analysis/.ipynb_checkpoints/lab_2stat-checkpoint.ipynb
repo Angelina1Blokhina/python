{
 "cells": [
  {
   "cell_type": "code",
   "execution_count": 1,
   "id": "bc6d4420",
   "metadata": {},
   "outputs": [],
   "source": [
    "import numpy as np\n",
    "import pandas as pd\n",
    "import math\n",
    "import matplotlib.pyplot as plt"
   ]
  },
  {
   "cell_type": "code",
   "execution_count": 93,
   "id": "dac90ea5",
   "metadata": {},
   "outputs": [
    {
     "name": "stdout",
     "output_type": "stream",
     "text": [
      "[18.137397286451368, 28.862602713548632, 39.5878081406459, 50.31301356774316, 61.03821899484043, 71.7634244219377, 82.48862984903496, 93.21383527613223, 103.9390407032295, 114.66424613032676, 125.38945155742402, 136.1146569845213, 146.83986241161858, 157.56506783871586, 168.29027326581314, 179.01547869291042, 189.7406841200077, 200.46588954710498, 211.19109497420226, 221.91630040129954, 232.64150582839682, 243.3667112554941, 254.09191668259137]\n",
      "[4, 12, 12, 5, 7, 17, 17, 10, 8, 7, 1, 4, 5, 0, 0, 2, 1, 0, 0, 2, 1, 1]\n",
      "[0.034482758620689655, 0.10344827586206896, 0.10344827586206896, 0.04310344827586207, 0.0603448275862069, 0.14655172413793102, 0.14655172413793102, 0.08620689655172414, 0.06896551724137931, 0.0603448275862069, 0.008620689655172414, 0.034482758620689655, 0.04310344827586207, 0.0, 0.0, 0.017241379310344827, 0.008620689655172414, 0.0, 0.0, 0.017241379310344827, 0.008620689655172414, 0.008620689655172414]\n",
      "10.725205427097267\n"
     ]
    }
   ],
   "source": [
    "df=pd.read_csv('Выборка Блохина.csv', delimiter=';')\n",
    "df_price=sorted(df[\"pizzaPrice_rupiah\"])\n",
    "\n",
    "count=1\n",
    "x=[] #варианты\n",
    "m=[]\n",
    "len_df=len(df_price)\n",
    "\n",
    "for i in range(1,len_df):\n",
    "    if df_price[i]==df_price[i-1]:\n",
    "        count+=1\n",
    "    else:\n",
    "        x.append(df_price[i-1])\n",
    "        m.append(count)\n",
    "        count=1\n",
    "x.append(df_price[i])\n",
    "if df_price[len_df-1]!=df_price[len_df-2]:\n",
    "    m.append(count)\n",
    "\n",
    "x_min=df_price[0]\n",
    "x_max=df_price[len_df-1]\n",
    "R=x_max-x_min #размах выборки\n",
    "k=1+3.322*math.floor(math.log2(len_df)) #число интервалов по ф. Стёрджесса\n",
    "h=R/k #длина интервалов\n",
    "x0=x_min-h/2\n",
    "interval=[]\n",
    "for i in range (-1,round(k+1)):\n",
    "    interval.append(x0)\n",
    "    x0+=h\n",
    "\n",
    "count=0\n",
    "count_interval=[] #абсолютные частоты\n",
    "p_interval=[] #относительные частоты\n",
    "n=0 #счетчик интервалов\n",
    "j=0 #счетчик абсолютных частот вариационного ряда\n",
    "i1=0 \n",
    "i=-1 #счетчик элементов вариационного ряда\n",
    "flag=0\n",
    "while i< 43:\n",
    "    if flag==1:\n",
    "        i = i1\n",
    "        n+=1\n",
    "        flag=0\n",
    "    else:\n",
    "        i+=1\n",
    "  \n",
    "    i1+=1;\n",
    "    if n<21 and x[i]>interval[n] and x[i]<=interval[n+1]:\n",
    "        count+=m[j]\n",
    "        j+=1\n",
    "    else:\n",
    "        if n<20 and x[i]>interval[n+1] and x[i]<=interval[n+2]:\n",
    "            count_interval.append(count)\n",
    "            p_interval.append(count/len_df)\n",
    "            count=m[j]\n",
    "            j+=1\n",
    "            n+=1\n",
    "        else:\n",
    "            if n<20 and x[i]>interval[n+2]:\n",
    "                count_interval.append(count)\n",
    "                p_interval.append(count/len_df)\n",
    "                count=0\n",
    "                while x[i]>interval[n+2]:\n",
    "                    i1=i\n",
    "                    n+=1\n",
    "                    flag=1\n",
    "                    count_interval.append(0)\n",
    "                    p_interval.append(count/len_df)\n",
    "            else:\n",
    "                count_interval.append(count)\n",
    "                p_interval.append(count/len_df)\n",
    "                n+=1\n",
    "print(interval)\n",
    "print(count_interval)  \n",
    "print(p_interval)\n"
   ]
  },
  {
   "cell_type": "code",
   "execution_count": 5,
   "id": "2659aa88",
   "metadata": {},
   "outputs": [
    {
     "name": "stdout",
     "output_type": "stream",
     "text": [
      "[23.5, 34.225205427097265, 44.95041085419453, 55.675616281291795, 66.40082170838906, 77.12602713548634, 87.85123256258359, 98.57643798968087, 109.30164341677812, 120.0268488438754, 130.75205427097268, 141.47725969806993, 152.20246512516724, 162.9276705522645, 173.6528759793618, 184.37808140645905, 195.10328683355635, 205.8284922606536, 216.5536976877509, 227.27890311484816, 238.00410854194547, 248.72931396904272]\n"
     ]
    }
   ],
   "source": [
    "#середины интервалов\n",
    "mid_interval=[]\n",
    "for i in range(0,len(interval)-1):\n",
    "    mid_interval.append((interval[i]+interval[i+1])/2)\n",
    "print(mid_interval)"
   ]
  },
  {
   "cell_type": "code",
   "execution_count": 6,
   "id": "04c26032",
   "metadata": {
    "scrolled": true
   },
   "outputs": [
    {
     "name": "stdout",
     "output_type": "stream",
     "text": [
      "[4, 16, 28, 33, 40, 57, 74, 84, 92, 99, 100, 104, 109, 109, 109, 111, 112, 112, 112, 114, 115, 116]\n",
      "[0.034482758620689655, 0.13793103448275862, 0.24137931034482757, 0.2844827586206896, 0.3448275862068965, 0.4913793103448275, 0.6379310344827586, 0.7241379310344827, 0.793103448275862, 0.8534482758620688, 0.8620689655172412, 0.8965517241379308, 0.9396551724137929, 0.9396551724137929, 0.9396551724137929, 0.9568965517241378, 0.9655172413793102, 0.9655172413793102, 0.9655172413793102, 0.982758620689655, 0.9913793103448274, 0.9999999999999998]\n"
     ]
    }
   ],
   "source": [
    "#накопленные частоты\n",
    "count_p=0\n",
    "count_m=0\n",
    "countM=[]\n",
    "countP=[]\n",
    "for i in range(0,len(count_interval)):\n",
    "    count_m+=count_interval[i]\n",
    "    count_p+=p_interval[i]\n",
    "    countM.append(count_m)\n",
    "    countP.append(count_p)\n",
    "print(countM)\n",
    "print(countP)"
   ]
  },
  {
   "cell_type": "code",
   "execution_count": 82,
   "id": "a0ee91b7",
   "metadata": {},
   "outputs": [
    {
     "name": "stdout",
     "output_type": "stream",
     "text": [
      "[-10, -9, -8, -7, -6, -5, -4, -3, -2, -1, 0, 1, 2, 3, 4, 5, 6, 7, 8, 9, 10, 11]\n",
      "130.75205427097268\n"
     ]
    }
   ],
   "source": [
    "#условные варианты\n",
    "len_mid=len(mid_interval)\n",
    "C=mid_interval[math.floor(len_mid/2)-1]\n",
    "u=[]\n",
    "for i in range(0, len_mid):\n",
    "    u.append(round((mid_interval[i]-C)/h))\n",
    "print(u)\n",
    "print(C)\n"
   ]
  },
  {
   "cell_type": "code",
   "execution_count": 33,
   "id": "b73119a3",
   "metadata": {},
   "outputs": [
    {
     "name": "stdout",
     "output_type": "stream",
     "text": [
      "[0.00039184952978056425, 0.003526645768025083, 0.031739811912225795, 0.28565830721003255]\n"
     ]
    }
   ],
   "source": [
    "#условные эмпирические моменты\n",
    "Mk=[]\n",
    "M=0\n",
    "for i in range(0,4):\n",
    "    k=0\n",
    "    while (k<len_mid-1):\n",
    "        M=p_interval[k]*(u[k]**i)\n",
    "        k+=1\n",
    "    Mk.append(M/len_mid)\n",
    "    i+=1\n",
    "       \n",
    "print(Mk)"
   ]
  },
  {
   "cell_type": "code",
   "execution_count": 35,
   "id": "84795511",
   "metadata": {},
   "outputs": [
    {
     "name": "stdout",
     "output_type": "stream",
     "text": [
      "[0, 0.40565251121363466, 39.15294898845298, 3779.1462491701163]\n"
     ]
    }
   ],
   "source": [
    "#центральные моменты через условные\n",
    "M1=[]\n",
    "M1.append(0)\n",
    "M1.append((Mk[1]-Mk[0]**2)*h**2)\n",
    "M1.append((Mk[2]-3*Mk[1]*Mk[0]+2*(Mk[0]**3))*h**3)\n",
    "M1.append((Mk[3]-4*Mk[2]*Mk[0]+6*Mk[1]*(Mk[0]**2)-3*(Mk[0]**4))*h**4)\n",
    "print(M1)\n",
    "\n",
    "    \n"
   ]
  },
  {
   "cell_type": "code",
   "execution_count": 87,
   "id": "949be834",
   "metadata": {},
   "outputs": [
    {
     "name": "stdout",
     "output_type": "stream",
     "text": [
      "Обычный способ   86.2617663435624\n",
      "Через условный момент   136.1146569845213\n"
     ]
    }
   ],
   "source": [
    "#выборочное среднее\n",
    "x_v=0\n",
    "for i in range(0, len_mid-1):\n",
    "    x_v+=mid_interval[i]*p_interval[i]\n",
    "print('Обычный способ  ',x_v)\n",
    "U_v=0\n",
    "for i in range(0, len_mid):\n",
    "    U_v+=u[i]\n",
    "\n",
    "x_uv=(((U_v/len_mid)*h)+C)\n",
    "print('Через условный момент  ',x_uv)\n"
   ]
  },
  {
   "cell_type": "code",
   "execution_count": 45,
   "id": "c170529c",
   "metadata": {},
   "outputs": [
    {
     "name": "stdout",
     "output_type": "stream",
     "text": [
      "5915.464742558528\n",
      "4135.938562638907\n"
     ]
    }
   ],
   "source": [
    "#дисперсия\n",
    "D1=0\n",
    "for i in range(0, len_mid-1):\n",
    "    D1+=(mid_interval[i]-x_v)**2\n",
    "D1=D1/len_mid\n",
    "print(D1) #с помощью стандартной формулы\n",
    "\n",
    "D2=0\n",
    "for i in range(0, len_mid-1):\n",
    "    D2+=(mid_interval[i]-x_uv)**2\n",
    "D2=D2/len_mid\n",
    "print(D2)# с помощью условных вариант"
   ]
  },
  {
   "cell_type": "code",
   "execution_count": 51,
   "id": "6f59dfd8",
   "metadata": {},
   "outputs": [
    {
     "name": "stdout",
     "output_type": "stream",
     "text": [
      "76.91205849903204\n",
      "6197.15353982322\n",
      "78.72200162485213\n"
     ]
    }
   ],
   "source": [
    "#исправленные дисперсия и ско\n",
    "q=math.sqrt(D1)\n",
    "print(q)\n",
    "\n",
    "Ds=D1*(len_mid/(len_mid-1))\n",
    "print(Ds)\n",
    "qs=math.sqrt(Ds)\n",
    "print(qs)"
   ]
  },
  {
   "cell_type": "code",
   "execution_count": 55,
   "id": "d7273976",
   "metadata": {},
   "outputs": [
    {
     "name": "stdout",
     "output_type": "stream",
     "text": [
      "8.605600349089173e-05\n",
      "-2.9998920019389126\n"
     ]
    }
   ],
   "source": [
    "#ассиметрия и эксцесс\n",
    "#Коэффициент асимметрии характеризует скошенность распределения по отношению к математическому ожиданию. Асимметрия положительна, если «длинная часть» кривой распределения расположена справа от математического ожидания; асимметрия отрицательна, если «длинная часть» кривой расположена слева от математического ожидания.\n",
    "\n",
    "\n",
    "As=M1[2]/(q**3)\n",
    "Es=M1[3]/q**4-3\n",
    "print(As)\n",
    "print(Es)"
   ]
  },
  {
   "cell_type": "code",
   "execution_count": 106,
   "id": "748180f1",
   "metadata": {},
   "outputs": [
    {
     "name": "stdout",
     "output_type": "stream",
     "text": [
      "Мода   82.48862984903496\n",
      "Медиана   35.118972546022036\n"
     ]
    }
   ],
   "source": [
    "#мода и медиана\n",
    "mi=max(count_interval)\n",
    "pre_m=-1\n",
    "next_m=1\n",
    "i=0\n",
    "while(count_interval[i]!=17):\n",
    "    i+=1\n",
    "    pre_m+=1\n",
    "    next_m+=1\n",
    "x_floor=interval[i]\n",
    "pre_m=count_interval[pre_m]\n",
    "next_m=count_interval[next_m]\n",
    "Moda=x_floor+((mi-pre_m)/((mi-pre_m)+(mi-next_m))*h)\n",
    "print(\"Мода  \", Moda)\n",
    "\n",
    "len_mediana=len(count_interval)/2\n",
    "i=0\n",
    "while(countM[i]<len_mediana):\n",
    "    i+=1\n",
    "x_medfloor=interval[i] #нижняя граница медианного интервала \n",
    "m_mediana=count_interval[i] #частота медианного интервала\n",
    "pre_mediana=countM[i-1] #накопленная частота предыдущего интервала \n",
    "mediana=x_medfloor+((len_mediana-pre_mediana)/m_mediana)*h\n",
    "print(\"Медиана  \",mediana)\n"
   ]
  },
  {
   "cell_type": "code",
   "execution_count": 107,
   "id": "5697de03",
   "metadata": {},
   "outputs": [
    {
     "name": "stdout",
     "output_type": "stream",
     "text": [
      "89.16123765969219\n"
     ]
    }
   ],
   "source": [
    "#коэффициент вариаций\n",
    "V=q/x_v*100\n",
    "print(V)"
   ]
  }
 ],
 "metadata": {
  "kernelspec": {
   "display_name": "Python 3",
   "language": "python",
   "name": "python3"
  },
  "language_info": {
   "codemirror_mode": {
    "name": "ipython",
    "version": 3
   },
   "file_extension": ".py",
   "mimetype": "text/x-python",
   "name": "python",
   "nbconvert_exporter": "python",
   "pygments_lexer": "ipython3",
   "version": "3.8.8"
  }
 },
 "nbformat": 4,
 "nbformat_minor": 5
}
