{
 "cells": [
  {
   "cell_type": "code",
   "execution_count": 1,
   "id": "2745c48f",
   "metadata": {},
   "outputs": [],
   "source": [
    "import numpy as np\n",
    "import pandas as pd\n",
    "import math\n",
    "import matplotlib.pyplot as plt\n",
    "#import seaborn as sns\n",
    "#df = sns.load_dataset(\"penguins\")\n",
    "#sns.pairplot(df, hue=\"species\")\n"
   ]
  },
  {
   "cell_type": "code",
   "execution_count": 2,
   "id": "559ca8b0",
   "metadata": {
    "scrolled": false
   },
   "outputs": [
    {
     "name": "stdout",
     "output_type": "stream",
     "text": [
      "23.5\n",
      "23.5\n",
      "23.5\n",
      "28.0\n",
      "31.0\n",
      "31.0\n",
      "31.0\n",
      "32.0\n",
      "33.0\n",
      "33.0\n",
      "35.0\n",
      "35.0\n",
      "35.0\n",
      "39.0\n",
      "39.0\n",
      "39.0\n",
      "44.0\n",
      "44.0\n",
      "46.0\n",
      "46.0\n",
      "46.0\n",
      "46.0\n",
      "46.0\n",
      "46.0\n",
      "49.0\n",
      "49.0\n",
      "49.0\n",
      "49.0\n",
      "51.0\n",
      "54.0\n",
      "60.0\n",
      "60.0\n",
      "60.0\n",
      "69.0\n",
      "69.0\n",
      "69.0\n",
      "70.0\n",
      "70.0\n",
      "70.0\n",
      "70.0\n",
      "72.0\n",
      "72.0\n",
      "72.0\n",
      "72.0\n",
      "72.0\n",
      "72.0\n",
      "72.0\n",
      "72.0\n",
      "72.0\n",
      "75.0\n",
      "75.0\n",
      "75.0\n",
      "75.0\n",
      "76.0\n",
      "76.0\n",
      "78.0\n",
      "78.0\n",
      "83.0\n",
      "83.0\n",
      "83.0\n",
      "83.0\n",
      "84.0\n",
      "90.0\n",
      "90.0\n",
      "90.0\n",
      "90.0\n",
      "90.0\n",
      "90.0\n",
      "90.0\n",
      "90.0\n",
      "92.0\n",
      "93.0\n",
      "93.0\n",
      "93.0\n",
      "96.0\n",
      "96.0\n",
      "96.0\n",
      "96.0\n",
      "98.0\n",
      "98.0\n",
      "98.0\n",
      "99.0\n",
      "99.0\n",
      "99.0\n",
      "105.0\n",
      "105.0\n",
      "110.0\n",
      "110.0\n",
      "110.0\n",
      "110.0\n",
      "114.0\n",
      "114.0\n",
      "115.0\n",
      "115.0\n",
      "115.0\n",
      "119.0\n",
      "120.0\n",
      "123.0\n",
      "123.0\n",
      "126.0\n",
      "140.0\n",
      "140.0\n",
      "140.0\n",
      "140.0\n",
      "149.0\n",
      "149.0\n",
      "149.0\n",
      "149.0\n",
      "155.0\n",
      "188.0\n",
      "188.0\n",
      "198.0\n",
      "230.0\n",
      "230.0\n",
      "235.0\n",
      "248.0\n"
     ]
    }
   ],
   "source": [
    "#ранжированный ряд\n",
    "df=pd.read_csv('Выборка Блохина.csv', delimiter=';')\n",
    "df_price=sorted(df[\"pizzaPrice_rupiah\"])\n",
    "for eachline in df_price:\n",
    "    print(eachline)\n",
    "\n"
   ]
  },
  {
   "cell_type": "code",
   "execution_count": 29,
   "id": "1e5382e0",
   "metadata": {
    "scrolled": true
   },
   "outputs": [
    {
     "name": "stdout",
     "output_type": "stream",
     "text": [
      "x     [23.5, 28.0, 31.0, 32.0, 33.0, 35.0, 39.0, 44.0, 46.0, 49.0, 51.0, 54.0, 60.0, 69.0, 70.0, 72.0, 75.0, 76.0, 78.0, 83.0, 84.0, 90.0, 92.0, 93.0, 96.0, 98.0, 99.0, 105.0, 110.0, 114.0, 115.0, 119.0, 120.0, 123.0, 126.0, 140.0, 149.0, 155.0, 188.0, 198.0, 230.0, 235.0, 248.0] \n",
      "\n",
      "m     [3, 1, 3, 1, 2, 3, 3, 2, 6, 4, 1, 1, 3, 3, 4, 9, 4, 2, 2, 4, 1, 8, 1, 3, 4, 3, 3, 2, 4, 2, 3, 1, 1, 2, 1, 4, 4, 1, 2, 1, 2, 1, 1] \n",
      "\n",
      "p     [0.02586206896551724, 0.008620689655172414, 0.02586206896551724, 0.008620689655172414, 0.017241379310344827, 0.02586206896551724, 0.02586206896551724, 0.017241379310344827, 0.05172413793103448, 0.034482758620689655, 0.008620689655172414, 0.008620689655172414, 0.02586206896551724, 0.02586206896551724, 0.034482758620689655, 0.07758620689655173, 0.034482758620689655, 0.017241379310344827, 0.017241379310344827, 0.034482758620689655, 0.008620689655172414, 0.06896551724137931, 0.008620689655172414, 0.02586206896551724, 0.034482758620689655, 0.02586206896551724, 0.02586206896551724, 0.017241379310344827, 0.034482758620689655, 0.017241379310344827, 0.02586206896551724, 0.008620689655172414, 0.008620689655172414, 0.017241379310344827, 0.008620689655172414, 0.034482758620689655, 0.034482758620689655, 0.008620689655172414, 0.017241379310344827, 0.008620689655172414, 0.017241379310344827, 0.008620689655172414, 0.008620689655172414] \n",
      "\n"
     ]
    }
   ],
   "source": [
    "#вариационный ряд\n",
    "count=1\n",
    "m = [] #абсолютные частоты\n",
    "x=[] #варианты\n",
    "p=[] #относительные частоты\n",
    "\n",
    "len_df=len(df_price)\n",
    "\n",
    "for i in range(1,len_df):\n",
    "    if df_price[i]==df_price[i-1]:\n",
    "        count+=1\n",
    "    else:\n",
    "        x.append(df_price[i-1])\n",
    "        m.append(count)\n",
    "        p.append(count/len_df)\n",
    "        count=1\n",
    "     \n",
    "x.append(df_price[i])\n",
    "if df_price[len_df-1]!=df_price[len_df-2]:\n",
    "  \n",
    "    p.append(count/len_df)\n",
    "    m.append(count)\n",
    "\n",
    "\n",
    "print(\"x    \" ,x,'\\n')\n",
    "print(\"m    \" ,m,'\\n')\n",
    "print(\"p    \" ,p,'\\n')\n",
    "\n",
    "\n",
    "\n",
    "        \n",
    "    \n",
    "    \n",
    "    \n",
    "    "
   ]
  },
  {
   "cell_type": "code",
   "execution_count": 17,
   "id": "2d7e88c7",
   "metadata": {},
   "outputs": [
    {
     "name": "stdout",
     "output_type": "stream",
     "text": [
      "[18.137397286451368, 28.862602713548632, 39.5878081406459, 50.31301356774316, 61.03821899484043, 71.7634244219377, 82.48862984903496, 93.21383527613223, 103.9390407032295, 114.66424613032676, 125.38945155742402, 136.1146569845213, 146.83986241161858, 157.56506783871586, 168.29027326581314, 179.01547869291042, 189.7406841200077, 200.46588954710498, 211.19109497420226, 221.91630040129954, 232.64150582839682, 243.3667112554941, 254.09191668259137]\n",
      "[4, 10, 11, 6, 6, 19, 16, 10, 9, 7, 2, 1, 8, 0, 0, 1, 2, 0, 0, 1, 2, 2]\n",
      "[0.034482758620689655, 0.08620689655172414, 0.09482758620689655, 0.05172413793103448, 0.05172413793103448, 0.16379310344827586, 0.13793103448275862, 0.08620689655172414, 0.07758620689655173, 0.0603448275862069, 0.017241379310344827, 0.008620689655172414, 0.06896551724137931, 0.0, 0.0, 0.008620689655172414, 0.017241379310344827, 0.0, 0.0, 0.008620689655172414, 0.017241379310344827, 0.017241379310344827]\n"
     ]
    }
   ],
   "source": [
    "# интервальный ряд\n",
    "x_min=df_price[0]\n",
    "x_max=df_price[len_df-1]\n",
    "R=x_max-x_min #размах выборки\n",
    "k=1+3.322*math.floor(math.log2(len_df)) #число интервалов по ф. Стёрджесса\n",
    "h=R/k #длина интервалов\n",
    "x0=x_min-h/2\n",
    "interval=[]\n",
    "for i in range (-1,round(k+1)):\n",
    "    interval.append(x0)\n",
    "    x0+=h\n",
    "print(interval)\n",
    "\n",
    "\n",
    "count=0\n",
    "count_interval=[] #абсолютные частоты\n",
    "p_interval=[] #относительные частоты\n",
    "n=0 #счетчик интервалов\n",
    "j=0 #счетчик абсолютных частот вариационного ряда\n",
    "i1=0 \n",
    "i=-1 #счетчик элементов вариационного ряда\n",
    "flag=0\n",
    "while i< 43:\n",
    "    if flag==1:\n",
    "        i = i1\n",
    "        n+=1\n",
    "        flag=0\n",
    "    else:\n",
    "        i+=1\n",
    "  \n",
    "    i1+=1;\n",
    "    if n<21 and x[i]>interval[n] and x[i]<=interval[n+1]:\n",
    "        count+=m[j]\n",
    "        j+=1\n",
    "    else:\n",
    "        if n<20 and x[i]>interval[n+1] and x[i]<=interval[n+2]:\n",
    "            count_interval.append(count)\n",
    "            p_interval.append(count/len_df)\n",
    "            count=m[j]\n",
    "            j+=1\n",
    "            n+=1\n",
    "        else:\n",
    "            if n<20 and x[i]>interval[n+2]:\n",
    "                count_interval.append(count)\n",
    "                p_interval.append(count/len_df)\n",
    "                count=0\n",
    "                while x[i]>interval[n+2]:\n",
    "                    i1=i\n",
    "                    n+=1\n",
    "                    flag=1\n",
    "                    count_interval.append(0)\n",
    "                    p_interval.append(count/len_df)\n",
    "            else:\n",
    "                count_interval.append(count)\n",
    "                p_interval.append(count/len_df)\n",
    "                n+=1\n",
    "        \n",
    "print(count_interval)  \n",
    "print(p_interval)\n",
    "\n",
    "    \n",
    "\n",
    "    \n",
    "    \n",
    "    "
   ]
  },
  {
   "cell_type": "code",
   "execution_count": 6,
   "id": "878029e0",
   "metadata": {},
   "outputs": [
    {
     "data": {
      "image/png": "[encoded data removed]",
      "text/plain": [
       "<Figure size 432x288 with 1 Axes>"
      ]
     },
     "metadata": {
      "needs_background": "light"
     },
     "output_type": "display_data"
    }
   ],
   "source": [
    "#полигон интервального ряда относительных частот\n",
    "mid_interval=[]\n",
    "for i in range(0,len(interval)-1):\n",
    "    mid_interval.append((interval[i]+interval[i+1])/2)\n",
    "#print(mid_interval)\n",
    "plt.plot(mid_interval,p_interval)\n",
    "plt.show()\n",
    "\n"
   ]
  },
  {
   "cell_type": "code",
   "execution_count": 7,
   "id": "1a8eb8c9",
   "metadata": {},
   "outputs": [
    {
     "data": {
      "image/png": "[encoded data removed]",
      "text/plain": [
       "<Figure size 432x288 with 1 Axes>"
      ]
     },
     "metadata": {
      "needs_background": "light"
     },
     "output_type": "display_data"
    }
   ],
   "source": [
    "#полигон интервального ряда абсолютных частот\n",
    "\n",
    "plt.plot(mid_interval,count_interval)\n",
    "plt.show()"
   ]
  },
  {
   "cell_type": "code",
   "execution_count": 8,
   "id": "c33d5a45",
   "metadata": {
    "scrolled": true
   },
   "outputs": [
    {
     "data": {
      "text/plain": [
       "<function matplotlib.pyplot.show(close=None, block=None)>"
      ]
     },
     "execution_count": 8,
     "metadata": {},
     "output_type": "execute_result"
    },
    {
     "data": {
      "image/png": "[encoded data removed]",
      "text/plain": [
       "<Figure size 432x288 with 1 Axes>"
      ]
     },
     "metadata": {
      "needs_background": "light"
     },
     "output_type": "display_data"
    }
   ],
   "source": [
    "#гистрограмма интервального ряда абсолютных частот\n",
    "fig,ax=plt.subplots()\n",
    "#ax.hist(count_interval)\n",
    "ax.hist(df['pizzaPrice_rupiah'], bins=interval)\n",
    "plt.show"
   ]
  },
  {
   "cell_type": "code",
   "execution_count": 20,
   "id": "8e9764b0",
   "metadata": {},
   "outputs": [
    {
     "data": {
      "text/plain": [
       "<function matplotlib.pyplot.show(close=None, block=None)>"
      ]
     },
     "execution_count": 20,
     "metadata": {},
     "output_type": "execute_result"
    },
    {
     "data": {
      "image/png": "[encoded data removed]",
      "text/plain": [
       "<Figure size 432x288 with 1 Axes>"
      ]
     },
     "metadata": {
      "needs_background": "light"
     },
     "output_type": "display_data"
    }
   ],
   "source": [
    "#гистрограмма интервального ряда относительных частот\n",
    "fig,ax=plt.subplots()\n",
    "#ax.hist(p_interval)\n",
    "#count_interval1=np.array(count_interval)\n",
    "ax.hist(df_price, weights=np.zeros_like(df_price)+1./len_df)\n",
    "plt.show"
   ]
  },
  {
   "cell_type": "code",
   "execution_count": 60,
   "id": "835f4f50",
   "metadata": {},
   "outputs": [
    {
     "data": {
      "image/png": "[encoded data removed]",
      "text/plain": [
       "<Figure size 432x288 with 1 Axes>"
      ]
     },
     "metadata": {
      "needs_background": "light"
     },
     "output_type": "display_data"
    }
   ],
   "source": [
    "#кумулята интервального ряда абсолютных частот\n",
    "kum_abs=[0]\n",
    "count_kum=0\n",
    "for i in range(0,len(count_interval)):\n",
    "    count_kum+=count_interval[i]\n",
    "    kum_abs.append(count_kum)\n",
    "\n",
    "plt.plot(interval,kum_abs)\n",
    "plt.show()"
   ]
  },
  {
   "cell_type": "code",
   "execution_count": 61,
   "id": "754c71d4",
   "metadata": {},
   "outputs": [
    {
     "data": {
      "image/png": "[encoded data removed]",
      "text/plain": [
       "<Figure size 432x288 with 1 Axes>"
      ]
     },
     "metadata": {
      "needs_background": "light"
     },
     "output_type": "display_data"
    }
   ],
   "source": [
    "#кумулята интервального ряда относительных частот\n",
    "kum_abs=[0]\n",
    "count_kum=0\n",
    "for i in range(0,len(count_interval)):\n",
    "    count_kum+=p_interval[i]\n",
    "    kum_abs.append(count_kum)\n",
    "\n",
    "plt.plot(interval,kum_abs)\n",
    "plt.show()"
   ]
  },
  {
   "cell_type": "code",
   "execution_count": 11,
   "id": "de6bb7b0",
   "metadata": {},
   "outputs": [
    {
     "data": {
      "image/png": "[encoded data removed]",
      "text/plain": [
       "<Figure size 432x288 with 1 Axes>"
      ]
     },
     "metadata": {
      "needs_background": "light"
     },
     "output_type": "display_data"
    }
   ],
   "source": [
    "#эмпирическая функция абсолютных частот\n",
    "ampir=[0]\n",
    "count_ampir=0\n",
    "for i in range(0,len(count_interval)):\n",
    "    count_ampir+=count_interval[i]\n",
    "    ampir.append(count_ampir/len_df)\n",
    "\n",
    "plt.plot(interval,ampir)\n",
    "plt.show()"
   ]
  },
  {
   "cell_type": "code",
   "execution_count": 14,
   "id": "d2714197",
   "metadata": {},
   "outputs": [
    {
     "data": {
      "image/png": "[encoded data removed]",
      "text/plain": [
       "<Figure size 432x288 with 1 Axes>"
      ]
     },
     "metadata": {
      "needs_background": "light"
     },
     "output_type": "display_data"
    }
   ],
   "source": [
    "#эмпирическая функция относительных частот\n",
    "ampir=[0]\n",
    "count_ampir=0\n",
    "for i in range(0,len(count_interval)):\n",
    "    count_ampir+=p_interval[i]\n",
    "    ampir.append(count_ampir/len_df)\n",
    "plt.plot(interval,ampir)\n",
    "plt.show()"
   ]
  }
 ],
 "metadata": {
  "kernelspec": {
   "display_name": "Python 3",
   "language": "python",
   "name": "python3"
  },
  "language_info": {
   "codemirror_mode": {
    "name": "ipython",
    "version": 3
   },
   "file_extension": ".py",
   "mimetype": "text/x-python",
   "name": "python",
   "nbconvert_exporter": "python",
   "pygments_lexer": "ipython3",
   "version": "3.8.8"
  }
 },
 "nbformat": 4,
 "nbformat_minor": 5
}
