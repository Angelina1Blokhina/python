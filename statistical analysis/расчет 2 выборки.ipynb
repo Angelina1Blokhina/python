{
 "cells": [
  {
   "cell_type": "code",
   "execution_count": 1,
   "id": "d365621c",
   "metadata": {},
   "outputs": [],
   "source": [
    "import numpy as np\n",
    "import pandas as pd\n",
    "import math\n",
    "import matplotlib.pyplot as plt\n"
   ]
  },
  {
   "cell_type": "code",
   "execution_count": 2,
   "id": "67bb7d6a",
   "metadata": {},
   "outputs": [
    {
     "name": "stdout",
     "output_type": "stream",
     "text": [
      "8.0\n",
      "8.0\n",
      "8.0\n",
      "8.0\n",
      "8.5\n",
      "8.5\n",
      "8.5\n",
      "8.5\n",
      "8.5\n",
      "8.5\n",
      "8.5\n",
      "8.5\n",
      "8.5\n",
      "8.5\n",
      "8.5\n",
      "8.5\n",
      "8.5\n",
      "8.5\n",
      "8.5\n",
      "8.5\n",
      "8.5\n",
      "8.5\n",
      "8.5\n",
      "12.0\n",
      "12.0\n",
      "12.0\n",
      "12.0\n",
      "12.0\n",
      "12.0\n",
      "12.0\n",
      "12.0\n",
      "12.0\n",
      "12.0\n",
      "12.0\n",
      "12.0\n",
      "12.0\n",
      "12.0\n",
      "12.0\n",
      "12.0\n",
      "12.0\n",
      "12.0\n",
      "12.0\n",
      "12.0\n",
      "12.0\n",
      "12.0\n",
      "12.0\n",
      "12.0\n",
      "12.0\n",
      "12.0\n",
      "12.0\n",
      "12.0\n",
      "12.0\n",
      "12.0\n",
      "12.0\n",
      "12.0\n",
      "12.0\n",
      "12.0\n",
      "12.0\n",
      "12.0\n",
      "12.0\n",
      "12.0\n",
      "12.0\n",
      "12.0\n",
      "12.0\n",
      "12.0\n",
      "12.0\n",
      "14.0\n",
      "14.0\n",
      "14.0\n",
      "14.0\n",
      "14.0\n",
      "14.0\n",
      "14.0\n",
      "14.0\n",
      "14.0\n",
      "14.0\n",
      "14.0\n",
      "14.0\n",
      "14.0\n",
      "14.0\n",
      "14.0\n",
      "14.0\n",
      "14.0\n",
      "14.0\n",
      "14.0\n",
      "14.0\n",
      "14.0\n",
      "14.0\n",
      "16.0\n",
      "16.0\n",
      "16.0\n",
      "16.0\n",
      "16.0\n",
      "16.5\n",
      "16.5\n",
      "16.5\n",
      "16.5\n",
      "17.0\n",
      "17.0\n",
      "17.0\n",
      "17.0\n",
      "17.0\n",
      "17.0\n",
      "17.0\n",
      "17.0\n",
      "18.0\n",
      "18.5\n",
      "18.5\n",
      "18.5\n",
      "18.5\n",
      "18.5\n",
      "18.5\n",
      "20.0\n",
      "22.0\n",
      "22.0\n",
      "22.0\n"
     ]
    }
   ],
   "source": [
    "#ранжированный ряд\n",
    "df=pd.read_csv('Выборка Блохина.csv', delimiter=';')\n",
    "df_price=sorted(df[\"The diameter of pizza in inch\"])\n",
    "for eachline in df_price:\n",
    "    print(eachline)\n",
    "\n"
   ]
  },
  {
   "cell_type": "code",
   "execution_count": 3,
   "id": "e664de53",
   "metadata": {},
   "outputs": [
    {
     "name": "stdout",
     "output_type": "stream",
     "text": [
      "x     [8.0, 8.5, 12.0, 14.0, 16.0, 16.5, 17.0, 18.0, 18.5, 20.0, 22.0] \n",
      "\n",
      "m     [4, 19, 43, 22, 5, 4, 8, 1, 6, 1, 3] \n",
      "\n",
      "p     [0.034482758620689655, 0.16379310344827586, 0.3706896551724138, 0.1896551724137931, 0.04310344827586207, 0.034482758620689655, 0.06896551724137931, 0.008620689655172414, 0.05172413793103448, 0.008620689655172414, 0.02586206896551724] \n",
      "\n"
     ]
    },
    {
     "data": {
      "text/html": [
       "<div>\n",
       "<style scoped>\n",
       "    .dataframe tbody tr th:only-of-type {\n",
       "        vertical-align: middle;\n",
       "    }\n",
       "\n",
       "    .dataframe tbody tr th {\n",
       "        vertical-align: top;\n",
       "    }\n",
       "\n",
       "    .dataframe thead th {\n",
       "        text-align: right;\n",
       "    }\n",
       "</style>\n",
       "<table border=\"1\" class=\"dataframe\">\n",
       "  <thead>\n",
       "    <tr style=\"text-align: right;\">\n",
       "      <th></th>\n",
       "      <th>x</th>\n",
       "      <th>m</th>\n",
       "      <th>p</th>\n",
       "    </tr>\n",
       "  </thead>\n",
       "  <tbody>\n",
       "    <tr>\n",
       "      <th>0</th>\n",
       "      <td>8.0</td>\n",
       "      <td>4</td>\n",
       "      <td>0.034483</td>\n",
       "    </tr>\n",
       "    <tr>\n",
       "      <th>1</th>\n",
       "      <td>8.5</td>\n",
       "      <td>19</td>\n",
       "      <td>0.163793</td>\n",
       "    </tr>\n",
       "    <tr>\n",
       "      <th>2</th>\n",
       "      <td>12.0</td>\n",
       "      <td>43</td>\n",
       "      <td>0.370690</td>\n",
       "    </tr>\n",
       "    <tr>\n",
       "      <th>3</th>\n",
       "      <td>14.0</td>\n",
       "      <td>22</td>\n",
       "      <td>0.189655</td>\n",
       "    </tr>\n",
       "    <tr>\n",
       "      <th>4</th>\n",
       "      <td>16.0</td>\n",
       "      <td>5</td>\n",
       "      <td>0.043103</td>\n",
       "    </tr>\n",
       "    <tr>\n",
       "      <th>5</th>\n",
       "      <td>16.5</td>\n",
       "      <td>4</td>\n",
       "      <td>0.034483</td>\n",
       "    </tr>\n",
       "    <tr>\n",
       "      <th>6</th>\n",
       "      <td>17.0</td>\n",
       "      <td>8</td>\n",
       "      <td>0.068966</td>\n",
       "    </tr>\n",
       "    <tr>\n",
       "      <th>7</th>\n",
       "      <td>18.0</td>\n",
       "      <td>1</td>\n",
       "      <td>0.008621</td>\n",
       "    </tr>\n",
       "    <tr>\n",
       "      <th>8</th>\n",
       "      <td>18.5</td>\n",
       "      <td>6</td>\n",
       "      <td>0.051724</td>\n",
       "    </tr>\n",
       "    <tr>\n",
       "      <th>9</th>\n",
       "      <td>20.0</td>\n",
       "      <td>1</td>\n",
       "      <td>0.008621</td>\n",
       "    </tr>\n",
       "    <tr>\n",
       "      <th>10</th>\n",
       "      <td>22.0</td>\n",
       "      <td>3</td>\n",
       "      <td>0.025862</td>\n",
       "    </tr>\n",
       "  </tbody>\n",
       "</table>\n",
       "</div>"
      ],
      "text/plain": [
       "       x   m         p\n",
       "0    8.0   4  0.034483\n",
       "1    8.5  19  0.163793\n",
       "2   12.0  43  0.370690\n",
       "3   14.0  22  0.189655\n",
       "4   16.0   5  0.043103\n",
       "5   16.5   4  0.034483\n",
       "6   17.0   8  0.068966\n",
       "7   18.0   1  0.008621\n",
       "8   18.5   6  0.051724\n",
       "9   20.0   1  0.008621\n",
       "10  22.0   3  0.025862"
      ]
     },
     "execution_count": 3,
     "metadata": {},
     "output_type": "execute_result"
    }
   ],
   "source": [
    "#вариационный ряд\n",
    "count=1\n",
    "m = [] #абсолютные частоты\n",
    "x=[] #варианты\n",
    "p=[] #относительные частоты\n",
    "\n",
    "len_df=len(df_price)\n",
    "\n",
    "for i in range(1,len_df):\n",
    "    if df_price[i]==df_price[i-1]:\n",
    "        count+=1\n",
    "    else:\n",
    "        x.append(df_price[i-1])\n",
    "        m.append(count)\n",
    "        p.append(count/len_df)\n",
    "        count=1     \n",
    "x.append(df_price[i])\n",
    "if len(x)!=len(m):\n",
    "    p.append(count/len_df)\n",
    "    m.append(count)\n",
    "\n",
    "\n",
    "print(\"x    \" ,x,'\\n')\n",
    "print(\"m    \" ,m,'\\n')\n",
    "print(\"p    \" ,p,'\\n')\n",
    "\n",
    "list = {'x':x,\n",
    "        'm':m,'p':p}\n",
    "tab=pd.DataFrame(list)\n",
    "tab\n"
   ]
  },
  {
   "cell_type": "code",
   "execution_count": 4,
   "id": "e7a79af1",
   "metadata": {
    "scrolled": true
   },
   "outputs": [
    {
     "name": "stdout",
     "output_type": "stream",
     "text": [
      "[7.0, 9.0, 11.0, 13.0, 15.0, 17.0, 19.0, 21.0, 23.0]\n",
      "10 9\n",
      "m_interval     [23, 0, 43, 22, 17, 7, 1, 3] \n",
      "\n",
      "p_interval     [0.19827586206896552, 0.0, 0.3706896551724138, 0.1896551724137931, 0.14655172413793102, 0.0603448275862069, 0.008620689655172414, 0.02586206896551724] \n",
      "\n"
     ]
    }
   ],
   "source": [
    "# интервальный ряд\n",
    "x_min=df_price[0]\n",
    "x_max=df_price[len_df-1]\n",
    "R=x_max-x_min #размах выборки\n",
    "\n",
    "k=math.floor(1+3.322*math.floor(math.log10(len_df))) #число интервалов по ф. Стёрджесса\n",
    "h=R/k #длина интервалов\n",
    "x0=x_min-h/2\n",
    "interval=[]\n",
    "for i in range (-1,k+1):\n",
    "    interval.append(x0)\n",
    "    x0+=h\n",
    "print(interval)\n",
    "\n",
    "j=0\n",
    "count=0\n",
    "m_interval=[]\n",
    "p_interval=[]\n",
    "for i in range(0,len(interval)-2):\n",
    "    while x[j]>interval[i] and x[j]<=interval[i+1]:\n",
    "        count+=m[j]\n",
    "        j+=1\n",
    "    m_interval.append(count)\n",
    "    p_interval.append(count/len_df)\n",
    "    count=0\n",
    "print(j, len(interval))\n",
    "if len(interval)-1!=len(m_interval):\n",
    "    while(len(x)!=j):\n",
    "        count+=m[j]\n",
    "        j+=1\n",
    "    p_interval.append(count/len_df)\n",
    "    m_interval.append(count)  \n",
    "\n",
    "print(\"m_interval    \" ,m_interval,'\\n')\n",
    "print(\"p_interval    \" ,p_interval,'\\n')   \n"
   ]
  },
  {
   "cell_type": "code",
   "execution_count": 5,
   "id": "693a4b07",
   "metadata": {},
   "outputs": [
    {
     "name": "stdout",
     "output_type": "stream",
     "text": [
      "[8.0, 10.0, 12.0, 14.0, 16.0, 18.0, 20.0, 22.0]\n"
     ]
    }
   ],
   "source": [
    "mid_interval=[]\n",
    "for i in range(0,len(interval)-1):\n",
    "    mid_interval.append((interval[i]+interval[i+1])/2)\n",
    "print(mid_interval)"
   ]
  },
  {
   "cell_type": "code",
   "execution_count": 6,
   "id": "ace5e7b0",
   "metadata": {},
   "outputs": [
    {
     "data": {
      "text/html": [
       "<div>\n",
       "<style scoped>\n",
       "    .dataframe tbody tr th:only-of-type {\n",
       "        vertical-align: middle;\n",
       "    }\n",
       "\n",
       "    .dataframe tbody tr th {\n",
       "        vertical-align: top;\n",
       "    }\n",
       "\n",
       "    .dataframe thead th {\n",
       "        text-align: right;\n",
       "    }\n",
       "</style>\n",
       "<table border=\"1\" class=\"dataframe\">\n",
       "  <thead>\n",
       "    <tr style=\"text-align: right;\">\n",
       "      <th></th>\n",
       "      <th>nachalo</th>\n",
       "      <th>konec</th>\n",
       "      <th>m_interval</th>\n",
       "      <th>p_interval</th>\n",
       "      <th>mid_interval</th>\n",
       "    </tr>\n",
       "  </thead>\n",
       "  <tbody>\n",
       "    <tr>\n",
       "      <th>0</th>\n",
       "      <td>7.464285714285715</td>\n",
       "      <td>39.535714285714285</td>\n",
       "      <td>23</td>\n",
       "      <td>0.198276</td>\n",
       "      <td>8.0</td>\n",
       "    </tr>\n",
       "    <tr>\n",
       "      <th>1</th>\n",
       "      <td>39.535714285714285</td>\n",
       "      <td>71.60714285714286</td>\n",
       "      <td>0</td>\n",
       "      <td>0.000000</td>\n",
       "      <td>10.0</td>\n",
       "    </tr>\n",
       "    <tr>\n",
       "      <th>2</th>\n",
       "      <td>71.60714285714286</td>\n",
       "      <td>103.67857142857143</td>\n",
       "      <td>43</td>\n",
       "      <td>0.370690</td>\n",
       "      <td>12.0</td>\n",
       "    </tr>\n",
       "    <tr>\n",
       "      <th>3</th>\n",
       "      <td>103.67857142857143</td>\n",
       "      <td>135.75</td>\n",
       "      <td>22</td>\n",
       "      <td>0.189655</td>\n",
       "      <td>14.0</td>\n",
       "    </tr>\n",
       "    <tr>\n",
       "      <th>4</th>\n",
       "      <td>135.75</td>\n",
       "      <td>167.82142857142856</td>\n",
       "      <td>17</td>\n",
       "      <td>0.146552</td>\n",
       "      <td>16.0</td>\n",
       "    </tr>\n",
       "    <tr>\n",
       "      <th>5</th>\n",
       "      <td>167.82142857142856</td>\n",
       "      <td>199.8928571428571</td>\n",
       "      <td>7</td>\n",
       "      <td>0.060345</td>\n",
       "      <td>18.0</td>\n",
       "    </tr>\n",
       "    <tr>\n",
       "      <th>6</th>\n",
       "      <td>199.8928571428571</td>\n",
       "      <td>231.96428571428567</td>\n",
       "      <td>1</td>\n",
       "      <td>0.008621</td>\n",
       "      <td>20.0</td>\n",
       "    </tr>\n",
       "    <tr>\n",
       "      <th>7</th>\n",
       "      <td>231.96428571428567</td>\n",
       "      <td>264.0357142857142</td>\n",
       "      <td>3</td>\n",
       "      <td>0.025862</td>\n",
       "      <td>22.0</td>\n",
       "    </tr>\n",
       "  </tbody>\n",
       "</table>\n",
       "</div>"
      ],
      "text/plain": [
       "              nachalo               konec  m_interval  p_interval  \\\n",
       "0   7.464285714285715  39.535714285714285          23    0.198276   \n",
       "1  39.535714285714285   71.60714285714286           0    0.000000   \n",
       "2   71.60714285714286  103.67857142857143          43    0.370690   \n",
       "3  103.67857142857143              135.75          22    0.189655   \n",
       "4              135.75  167.82142857142856          17    0.146552   \n",
       "5  167.82142857142856   199.8928571428571           7    0.060345   \n",
       "6   199.8928571428571  231.96428571428567           1    0.008621   \n",
       "7  231.96428571428567   264.0357142857142           3    0.025862   \n",
       "\n",
       "   mid_interval  \n",
       "0           8.0  \n",
       "1          10.0  \n",
       "2          12.0  \n",
       "3          14.0  \n",
       "4          16.0  \n",
       "5          18.0  \n",
       "6          20.0  \n",
       "7          22.0  "
      ]
     },
     "execution_count": 6,
     "metadata": {},
     "output_type": "execute_result"
    }
   ],
   "source": [
    "list = {'nachalo':['7.464285714285715','39.535714285714285', '71.60714285714286', '103.67857142857143', '135.75', '167.82142857142856', '199.8928571428571', '231.96428571428567'],\n",
    "        'konec':['39.535714285714285', '71.60714285714286', '103.67857142857143', '135.75', '167.82142857142856', '199.8928571428571', '231.96428571428567','264.0357142857142'],'m_interval':m_interval,'p_interval': p_interval,\n",
    "       'mid_interval':mid_interval}\n",
    "tab=pd.DataFrame(list)\n",
    "tab"
   ]
  },
  {
   "cell_type": "code",
   "execution_count": 7,
   "id": "b930829a",
   "metadata": {},
   "outputs": [
    {
     "name": "stdout",
     "output_type": "stream",
     "text": [
      "[23, 23, 66, 88, 105, 112, 113, 116]\n",
      "[0.19827586206896552, 0.19827586206896552, 0.5689655172413793, 0.7586206896551724, 0.9051724137931034, 0.9655172413793103, 0.9741379310344827, 0.9999999999999999]\n"
     ]
    }
   ],
   "source": [
    "count_p=0\n",
    "count_m=0\n",
    "countM=[]\n",
    "countP=[]\n",
    "for i in range(0,len(m_interval)):\n",
    "    count_m+=m_interval[i]\n",
    "    count_p+=p_interval[i]\n",
    "    countM.append(count_m)\n",
    "    countP.append(count_p)\n",
    "print(countM)\n",
    "print(countP)"
   ]
  },
  {
   "cell_type": "code",
   "execution_count": 8,
   "id": "c7cb8e91",
   "metadata": {
    "scrolled": true
   },
   "outputs": [
    {
     "name": "stdout",
     "output_type": "stream",
     "text": [
      "Математическое ожидание   12.862068965517242\n"
     ]
    }
   ],
   "source": [
    "x_v=0\n",
    "msum=0\n",
    "for i in range(0, len(mid_interval)):\n",
    "    x_v+=mid_interval[i]*p_interval[i]   \n",
    "print('Математическое ожидание  ',x_v)\n"
   ]
  },
  {
   "cell_type": "code",
   "execution_count": 19,
   "id": "842db497",
   "metadata": {},
   "outputs": [
    {
     "name": "stdout",
     "output_type": "stream",
     "text": [
      "10.84304399524376\n"
     ]
    },
    {
     "data": {
      "text/plain": [
       "10.937331334332836"
      ]
     },
     "execution_count": 19,
     "metadata": {},
     "output_type": "execute_result"
    }
   ],
   "source": [
    "D1=0\n",
    "for i in range(0, len(mid_interval)):\n",
    "    D1+=((mid_interval[i]-x_v)**2)*p_interval[i]\n",
    "\n",
    "print(D1)\n",
    "Ds=D1*(116/115)\n",
    "Ds"
   ]
  },
  {
   "cell_type": "code",
   "execution_count": 10,
   "id": "c33b99c2",
   "metadata": {},
   "outputs": [
    {
     "name": "stdout",
     "output_type": "stream",
     "text": [
      "3.2928777680387347\n"
     ]
    }
   ],
   "source": [
    "sko=math.sqrt(D1)\n",
    "print(sko)"
   ]
  },
  {
   "cell_type": "code",
   "execution_count": 11,
   "id": "944cadb9",
   "metadata": {},
   "outputs": [
    {
     "name": "stdout",
     "output_type": "stream",
     "text": [
      "[-3, -2, -1, 0, 1, 2, 3, 4]\n"
     ]
    }
   ],
   "source": [
    "len_mid=len(mid_interval)\n",
    "C=mid_interval[math.floor(len_mid/2)-1]\n",
    "u=[]\n",
    "for i in range(0, len_mid):\n",
    "    u.append(round((mid_interval[i]-C)/h))\n",
    "print(u)"
   ]
  },
  {
   "cell_type": "code",
   "execution_count": 12,
   "id": "842fa6ea",
   "metadata": {},
   "outputs": [
    {
     "name": "stdout",
     "output_type": "stream",
     "text": [
      "[-0.5689655172413793, 3.0344827586206895, -3.2068965517241397, 24.86206896551724]\n"
     ]
    }
   ],
   "source": [
    "Mk=[]\n",
    "for i in range(1,5):\n",
    "    k=0\n",
    "    M=0\n",
    "    while (k<len(u)):\n",
    "        M+=p_interval[k]*(u[k]**i)\n",
    "        k+=1\n",
    "    Mk.append(M)\n",
    "       \n",
    "print(Mk)"
   ]
  },
  {
   "cell_type": "code",
   "execution_count": 13,
   "id": "88778f76",
   "metadata": {
    "scrolled": true
   },
   "outputs": [
    {
     "name": "stdout",
     "output_type": "stream",
     "text": [
      "[0, 10.843043995243757, 12.83422854565581, 370.29113605483525]\n"
     ]
    },
    {
     "data": {
      "text/plain": [
       "3.292877768038734"
      ]
     },
     "execution_count": 13,
     "metadata": {},
     "output_type": "execute_result"
    }
   ],
   "source": [
    "#центральные моменты через условные\n",
    "M1=[]\n",
    "M1.append(0)\n",
    "M1.append((Mk[1]-Mk[0]**2)*h**2)\n",
    "M1.append((Mk[2]-3*Mk[1]*Mk[0]+2*(Mk[0]**3))*h**3)\n",
    "M1.append((Mk[3]-4*Mk[2]*Mk[0]+6*Mk[1]*(Mk[0]**2)-3*(Mk[0]**4))*h**4)\n",
    "print(M1)\n",
    "q=math.sqrt(M1[1])\n",
    "q"
   ]
  },
  {
   "cell_type": "code",
   "execution_count": 14,
   "id": "8687d7fb",
   "metadata": {},
   "outputs": [
    {
     "name": "stdout",
     "output_type": "stream",
     "text": [
      "0.3594536838811182\n",
      "0.14949465981239607\n"
     ]
    }
   ],
   "source": [
    "As=M1[2]/(sko**3)\n",
    "Es=M1[3]/sko**4-3\n",
    "print(As)\n",
    "print(Es)"
   ]
  },
  {
   "cell_type": "code",
   "execution_count": 15,
   "id": "fd358b30",
   "metadata": {},
   "outputs": [
    {
     "data": {
      "text/html": [
       "<div>\n",
       "<style scoped>\n",
       "    .dataframe tbody tr th:only-of-type {\n",
       "        vertical-align: middle;\n",
       "    }\n",
       "\n",
       "    .dataframe tbody tr th {\n",
       "        vertical-align: top;\n",
       "    }\n",
       "\n",
       "    .dataframe thead th {\n",
       "        text-align: right;\n",
       "    }\n",
       "</style>\n",
       "<table border=\"1\" class=\"dataframe\">\n",
       "  <thead>\n",
       "    <tr style=\"text-align: right;\">\n",
       "      <th></th>\n",
       "      <th>nachalo</th>\n",
       "      <th>konec</th>\n",
       "      <th>m_interval</th>\n",
       "      <th>p_interval</th>\n",
       "      <th>mid_interval</th>\n",
       "      <th>coutM</th>\n",
       "      <th>coutP</th>\n",
       "    </tr>\n",
       "  </thead>\n",
       "  <tbody>\n",
       "    <tr>\n",
       "      <th>0</th>\n",
       "      <td>7.464285714285715</td>\n",
       "      <td>39.535714285714285</td>\n",
       "      <td>23</td>\n",
       "      <td>0.198276</td>\n",
       "      <td>8.0</td>\n",
       "      <td>23</td>\n",
       "      <td>0.198276</td>\n",
       "    </tr>\n",
       "    <tr>\n",
       "      <th>1</th>\n",
       "      <td>39.535714285714285</td>\n",
       "      <td>71.60714285714286</td>\n",
       "      <td>0</td>\n",
       "      <td>0.000000</td>\n",
       "      <td>10.0</td>\n",
       "      <td>23</td>\n",
       "      <td>0.198276</td>\n",
       "    </tr>\n",
       "    <tr>\n",
       "      <th>2</th>\n",
       "      <td>71.60714285714286</td>\n",
       "      <td>103.67857142857143</td>\n",
       "      <td>43</td>\n",
       "      <td>0.370690</td>\n",
       "      <td>12.0</td>\n",
       "      <td>66</td>\n",
       "      <td>0.568966</td>\n",
       "    </tr>\n",
       "    <tr>\n",
       "      <th>3</th>\n",
       "      <td>103.67857142857143</td>\n",
       "      <td>135.75</td>\n",
       "      <td>22</td>\n",
       "      <td>0.189655</td>\n",
       "      <td>14.0</td>\n",
       "      <td>88</td>\n",
       "      <td>0.758621</td>\n",
       "    </tr>\n",
       "    <tr>\n",
       "      <th>4</th>\n",
       "      <td>135.75</td>\n",
       "      <td>167.82142857142856</td>\n",
       "      <td>17</td>\n",
       "      <td>0.146552</td>\n",
       "      <td>16.0</td>\n",
       "      <td>105</td>\n",
       "      <td>0.905172</td>\n",
       "    </tr>\n",
       "    <tr>\n",
       "      <th>5</th>\n",
       "      <td>167.82142857142856</td>\n",
       "      <td>199.8928571428571</td>\n",
       "      <td>7</td>\n",
       "      <td>0.060345</td>\n",
       "      <td>18.0</td>\n",
       "      <td>112</td>\n",
       "      <td>0.965517</td>\n",
       "    </tr>\n",
       "    <tr>\n",
       "      <th>6</th>\n",
       "      <td>199.8928571428571</td>\n",
       "      <td>231.96428571428567</td>\n",
       "      <td>1</td>\n",
       "      <td>0.008621</td>\n",
       "      <td>20.0</td>\n",
       "      <td>113</td>\n",
       "      <td>0.974138</td>\n",
       "    </tr>\n",
       "    <tr>\n",
       "      <th>7</th>\n",
       "      <td>231.96428571428567</td>\n",
       "      <td>264.0357142857142</td>\n",
       "      <td>3</td>\n",
       "      <td>0.025862</td>\n",
       "      <td>22.0</td>\n",
       "      <td>116</td>\n",
       "      <td>1.000000</td>\n",
       "    </tr>\n",
       "  </tbody>\n",
       "</table>\n",
       "</div>"
      ],
      "text/plain": [
       "              nachalo               konec  m_interval  p_interval  \\\n",
       "0   7.464285714285715  39.535714285714285          23    0.198276   \n",
       "1  39.535714285714285   71.60714285714286           0    0.000000   \n",
       "2   71.60714285714286  103.67857142857143          43    0.370690   \n",
       "3  103.67857142857143              135.75          22    0.189655   \n",
       "4              135.75  167.82142857142856          17    0.146552   \n",
       "5  167.82142857142856   199.8928571428571           7    0.060345   \n",
       "6   199.8928571428571  231.96428571428567           1    0.008621   \n",
       "7  231.96428571428567   264.0357142857142           3    0.025862   \n",
       "\n",
       "   mid_interval  coutM     coutP  \n",
       "0           8.0     23  0.198276  \n",
       "1          10.0     23  0.198276  \n",
       "2          12.0     66  0.568966  \n",
       "3          14.0     88  0.758621  \n",
       "4          16.0    105  0.905172  \n",
       "5          18.0    112  0.965517  \n",
       "6          20.0    113  0.974138  \n",
       "7          22.0    116  1.000000  "
      ]
     },
     "execution_count": 15,
     "metadata": {},
     "output_type": "execute_result"
    }
   ],
   "source": [
    "tab['coutM']=countM\n",
    "tab['coutP']=countP\n",
    "tab"
   ]
  },
  {
   "cell_type": "code",
   "execution_count": 16,
   "id": "bad7ef06",
   "metadata": {},
   "outputs": [
    {
     "name": "stdout",
     "output_type": "stream",
     "text": [
      "Мода   12.34375\n"
     ]
    }
   ],
   "source": [
    "mi=max(m_interval)\n",
    "index=0\n",
    "while(m_interval[index]!=mi):\n",
    "    index+=1\n",
    "x_floor=interval[index]\n",
    "pre_m=m_interval[index-1]\n",
    "next_m=m_interval[index+1]\n",
    "Moda=x_floor+((mi-pre_m)/((mi-pre_m)+(mi-next_m))*h)\n",
    "print(\"Мода  \", Moda)\n",
    "\n",
    "\n"
   ]
  },
  {
   "cell_type": "code",
   "execution_count": 17,
   "id": "673b3957",
   "metadata": {},
   "outputs": [
    {
     "name": "stdout",
     "output_type": "stream",
     "text": [
      "Медиана   12.627906976744185\n"
     ]
    }
   ],
   "source": [
    "index=0\n",
    "for i in range (8):\n",
    "    if countP[i] <= 0.5:\n",
    "        index +=1\n",
    "pre_=interval[index]\n",
    "next_=interval[index+1]\n",
    "mediana = interval[index]+ (h/p_interval[index])*(0.5-countP[index-1])\n",
    "print(\"Медиана  \",mediana)"
   ]
  },
  {
   "cell_type": "code",
   "execution_count": 18,
   "id": "59771669",
   "metadata": {},
   "outputs": [
    {
     "name": "stdout",
     "output_type": "stream",
     "text": [
      "25.60146253971134\n"
     ]
    }
   ],
   "source": [
    "#коэффициент вариаций\n",
    "V=sko/x_v*100\n",
    "print(V)"
   ]
  }
 ],
 "metadata": {
  "kernelspec": {
   "display_name": "Python 3",
   "language": "python",
   "name": "python3"
  },
  "language_info": {
   "codemirror_mode": {
    "name": "ipython",
    "version": 3
   },
   "file_extension": ".py",
   "mimetype": "text/x-python",
   "name": "python",
   "nbconvert_exporter": "python",
   "pygments_lexer": "ipython3",
   "version": "3.8.8"
  }
 },
 "nbformat": 4,
 "nbformat_minor": 5
}
