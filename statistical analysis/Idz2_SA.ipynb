{
 "cells": [
  {
   "cell_type": "code",
   "execution_count": 1,
   "id": "884fa5db",
   "metadata": {
    "scrolled": true
   },
   "outputs": [],
   "source": [
    "import pandas as pd\n",
    "import matplotlib.pyplot as plt\n",
    "import seaborn as sns\n",
    "import numpy as np\n",
    "import math as m\n",
    "df = pd.read_csv('af_interval.csv')\n",
    "n=117\n",
    "amount_int=8\n"
   ]
  },
  {
   "cell_type": "code",
   "execution_count": 2,
   "id": "f23eff37",
   "metadata": {
    "scrolled": true
   },
   "outputs": [
    {
     "data": {
      "text/html": [
       "<div>\n",
       "<style scoped>\n",
       "    .dataframe tbody tr th:only-of-type {\n",
       "        vertical-align: middle;\n",
       "    }\n",
       "\n",
       "    .dataframe tbody tr th {\n",
       "        vertical-align: top;\n",
       "    }\n",
       "\n",
       "    .dataframe thead th {\n",
       "        text-align: right;\n",
       "    }\n",
       "</style>\n",
       "<table border=\"1\" class=\"dataframe\">\n",
       "  <thead>\n",
       "    <tr style=\"text-align: right;\">\n",
       "      <th></th>\n",
       "      <th>dif 1</th>\n",
       "      <th>dif 2</th>\n",
       "      <th>abs</th>\n",
       "      <th>otn</th>\n",
       "      <th>cumabs</th>\n",
       "      <th>cumotn</th>\n",
       "    </tr>\n",
       "  </thead>\n",
       "  <tbody>\n",
       "    <tr>\n",
       "      <th>0</th>\n",
       "      <td>-5932305.0</td>\n",
       "      <td>5964453.0</td>\n",
       "      <td>58</td>\n",
       "      <td>0.495726</td>\n",
       "      <td>58</td>\n",
       "      <td>0.495726</td>\n",
       "    </tr>\n",
       "    <tr>\n",
       "      <th>1</th>\n",
       "      <td>5964453.0</td>\n",
       "      <td>17861211.0</td>\n",
       "      <td>30</td>\n",
       "      <td>0.256410</td>\n",
       "      <td>88</td>\n",
       "      <td>0.752137</td>\n",
       "    </tr>\n",
       "    <tr>\n",
       "      <th>2</th>\n",
       "      <td>17861211.0</td>\n",
       "      <td>29757969.0</td>\n",
       "      <td>7</td>\n",
       "      <td>0.059829</td>\n",
       "      <td>95</td>\n",
       "      <td>0.811966</td>\n",
       "    </tr>\n",
       "    <tr>\n",
       "      <th>3</th>\n",
       "      <td>29757969.0</td>\n",
       "      <td>41654727.0</td>\n",
       "      <td>15</td>\n",
       "      <td>0.128205</td>\n",
       "      <td>110</td>\n",
       "      <td>0.940171</td>\n",
       "    </tr>\n",
       "    <tr>\n",
       "      <th>4</th>\n",
       "      <td>41654727.0</td>\n",
       "      <td>53551485.0</td>\n",
       "      <td>3</td>\n",
       "      <td>0.025641</td>\n",
       "      <td>113</td>\n",
       "      <td>0.965812</td>\n",
       "    </tr>\n",
       "    <tr>\n",
       "      <th>5</th>\n",
       "      <td>53551485.0</td>\n",
       "      <td>65448243.0</td>\n",
       "      <td>1</td>\n",
       "      <td>0.008547</td>\n",
       "      <td>114</td>\n",
       "      <td>0.974359</td>\n",
       "    </tr>\n",
       "    <tr>\n",
       "      <th>6</th>\n",
       "      <td>65448243.0</td>\n",
       "      <td>77345001.0</td>\n",
       "      <td>1</td>\n",
       "      <td>0.008547</td>\n",
       "      <td>115</td>\n",
       "      <td>0.982906</td>\n",
       "    </tr>\n",
       "    <tr>\n",
       "      <th>7</th>\n",
       "      <td>77345001.0</td>\n",
       "      <td>89241759.0</td>\n",
       "      <td>2</td>\n",
       "      <td>0.017094</td>\n",
       "      <td>117</td>\n",
       "      <td>1.000000</td>\n",
       "    </tr>\n",
       "  </tbody>\n",
       "</table>\n",
       "</div>"
      ],
      "text/plain": [
       "        dif 1       dif 2  abs       otn  cumabs    cumotn\n",
       "0  -5932305.0   5964453.0   58  0.495726      58  0.495726\n",
       "1   5964453.0  17861211.0   30  0.256410      88  0.752137\n",
       "2  17861211.0  29757969.0    7  0.059829      95  0.811966\n",
       "3  29757969.0  41654727.0   15  0.128205     110  0.940171\n",
       "4  41654727.0  53551485.0    3  0.025641     113  0.965812\n",
       "5  53551485.0  65448243.0    1  0.008547     114  0.974359\n",
       "6  65448243.0  77345001.0    1  0.008547     115  0.982906\n",
       "7  77345001.0  89241759.0    2  0.017094     117  1.000000"
      ]
     },
     "execution_count": 2,
     "metadata": {},
     "output_type": "execute_result"
    }
   ],
   "source": [
    "def cumfreq(df):\n",
    "    df['cumabs']=np.cumsum(df['abs'])\n",
    "    df['cumotn']=np.cumsum(df['otn'])\n",
    "    return df\n",
    "df=cumfreq(df)\n",
    "df"
   ]
  },
  {
   "cell_type": "code",
   "execution_count": 3,
   "id": "e3a4e969",
   "metadata": {
    "scrolled": true
   },
   "outputs": [
    {
     "data": {
      "text/html": [
       "<div>\n",
       "<style scoped>\n",
       "    .dataframe tbody tr th:only-of-type {\n",
       "        vertical-align: middle;\n",
       "    }\n",
       "\n",
       "    .dataframe tbody tr th {\n",
       "        vertical-align: top;\n",
       "    }\n",
       "\n",
       "    .dataframe thead th {\n",
       "        text-align: right;\n",
       "    }\n",
       "</style>\n",
       "<table border=\"1\" class=\"dataframe\">\n",
       "  <thead>\n",
       "    <tr style=\"text-align: right;\">\n",
       "      <th></th>\n",
       "      <th>dif 1</th>\n",
       "      <th>dif 2</th>\n",
       "      <th>abs</th>\n",
       "      <th>otn</th>\n",
       "      <th>cumabs</th>\n",
       "      <th>cumotn</th>\n",
       "      <th>mid</th>\n",
       "    </tr>\n",
       "  </thead>\n",
       "  <tbody>\n",
       "    <tr>\n",
       "      <th>0</th>\n",
       "      <td>-5932305.0</td>\n",
       "      <td>5964453.0</td>\n",
       "      <td>58</td>\n",
       "      <td>0.495726</td>\n",
       "      <td>58</td>\n",
       "      <td>0.495726</td>\n",
       "      <td>16074.0</td>\n",
       "    </tr>\n",
       "    <tr>\n",
       "      <th>1</th>\n",
       "      <td>5964453.0</td>\n",
       "      <td>17861211.0</td>\n",
       "      <td>30</td>\n",
       "      <td>0.256410</td>\n",
       "      <td>88</td>\n",
       "      <td>0.752137</td>\n",
       "      <td>11912832.0</td>\n",
       "    </tr>\n",
       "    <tr>\n",
       "      <th>2</th>\n",
       "      <td>17861211.0</td>\n",
       "      <td>29757969.0</td>\n",
       "      <td>7</td>\n",
       "      <td>0.059829</td>\n",
       "      <td>95</td>\n",
       "      <td>0.811966</td>\n",
       "      <td>23809590.0</td>\n",
       "    </tr>\n",
       "    <tr>\n",
       "      <th>3</th>\n",
       "      <td>29757969.0</td>\n",
       "      <td>41654727.0</td>\n",
       "      <td>15</td>\n",
       "      <td>0.128205</td>\n",
       "      <td>110</td>\n",
       "      <td>0.940171</td>\n",
       "      <td>35706348.0</td>\n",
       "    </tr>\n",
       "    <tr>\n",
       "      <th>4</th>\n",
       "      <td>41654727.0</td>\n",
       "      <td>53551485.0</td>\n",
       "      <td>3</td>\n",
       "      <td>0.025641</td>\n",
       "      <td>113</td>\n",
       "      <td>0.965812</td>\n",
       "      <td>47603106.0</td>\n",
       "    </tr>\n",
       "    <tr>\n",
       "      <th>5</th>\n",
       "      <td>53551485.0</td>\n",
       "      <td>65448243.0</td>\n",
       "      <td>1</td>\n",
       "      <td>0.008547</td>\n",
       "      <td>114</td>\n",
       "      <td>0.974359</td>\n",
       "      <td>59499864.0</td>\n",
       "    </tr>\n",
       "    <tr>\n",
       "      <th>6</th>\n",
       "      <td>65448243.0</td>\n",
       "      <td>77345001.0</td>\n",
       "      <td>1</td>\n",
       "      <td>0.008547</td>\n",
       "      <td>115</td>\n",
       "      <td>0.982906</td>\n",
       "      <td>71396622.0</td>\n",
       "    </tr>\n",
       "    <tr>\n",
       "      <th>7</th>\n",
       "      <td>77345001.0</td>\n",
       "      <td>89241759.0</td>\n",
       "      <td>2</td>\n",
       "      <td>0.017094</td>\n",
       "      <td>117</td>\n",
       "      <td>1.000000</td>\n",
       "      <td>83293380.0</td>\n",
       "    </tr>\n",
       "  </tbody>\n",
       "</table>\n",
       "</div>"
      ],
      "text/plain": [
       "        dif 1       dif 2  abs       otn  cumabs    cumotn         mid\n",
       "0  -5932305.0   5964453.0   58  0.495726      58  0.495726     16074.0\n",
       "1   5964453.0  17861211.0   30  0.256410      88  0.752137  11912832.0\n",
       "2  17861211.0  29757969.0    7  0.059829      95  0.811966  23809590.0\n",
       "3  29757969.0  41654727.0   15  0.128205     110  0.940171  35706348.0\n",
       "4  41654727.0  53551485.0    3  0.025641     113  0.965812  47603106.0\n",
       "5  53551485.0  65448243.0    1  0.008547     114  0.974359  59499864.0\n",
       "6  65448243.0  77345001.0    1  0.008547     115  0.982906  71396622.0\n",
       "7  77345001.0  89241759.0    2  0.017094     117  1.000000  83293380.0"
      ]
     },
     "execution_count": 3,
     "metadata": {},
     "output_type": "execute_result"
    }
   ],
   "source": [
    "mid = (df['dif 2'][0]-df['dif 1'][0])/2\n",
    "df['mid'] = [df['dif 1'][i]+mid for i in range (8)]\n",
    "df"
   ]
  },
  {
   "cell_type": "code",
   "execution_count": 24,
   "id": "a0e0645a",
   "metadata": {},
   "outputs": [],
   "source": [
    "df.to_csv('af_interval.csv', sep = ',',index=False)"
   ]
  },
  {
   "cell_type": "markdown",
   "id": "bcf40e8e",
   "metadata": {},
   "source": [
    "## Вычисление условных вариант:"
   ]
  },
  {
   "cell_type": "code",
   "execution_count": 4,
   "id": "480531b5",
   "metadata": {},
   "outputs": [
    {
     "data": {
      "text/plain": [
       "35706348.0"
      ]
     },
     "execution_count": 4,
     "metadata": {},
     "output_type": "execute_result"
    }
   ],
   "source": [
    "if amount_int % 2 != 0:\n",
    "    C = df['mid'][amount_int/2]\n",
    "else:\n",
    "    C = df['mid'][amount_int/2] if df['abs'][amount_int/2]>df['abs'][amount_int/2-1] else df['mid'][amount_int/2-1]\n",
    "C\n"
   ]
  },
  {
   "cell_type": "code",
   "execution_count": 5,
   "id": "d3bcf742",
   "metadata": {},
   "outputs": [
    {
     "data": {
      "text/html": [
       "<div>\n",
       "<style scoped>\n",
       "    .dataframe tbody tr th:only-of-type {\n",
       "        vertical-align: middle;\n",
       "    }\n",
       "\n",
       "    .dataframe tbody tr th {\n",
       "        vertical-align: top;\n",
       "    }\n",
       "\n",
       "    .dataframe thead th {\n",
       "        text-align: right;\n",
       "    }\n",
       "</style>\n",
       "<table border=\"1\" class=\"dataframe\">\n",
       "  <thead>\n",
       "    <tr style=\"text-align: right;\">\n",
       "      <th></th>\n",
       "      <th>dif 1</th>\n",
       "      <th>dif 2</th>\n",
       "      <th>abs</th>\n",
       "      <th>otn</th>\n",
       "      <th>cumabs</th>\n",
       "      <th>cumotn</th>\n",
       "      <th>mid</th>\n",
       "      <th>cond</th>\n",
       "    </tr>\n",
       "  </thead>\n",
       "  <tbody>\n",
       "    <tr>\n",
       "      <th>0</th>\n",
       "      <td>-5932305.0</td>\n",
       "      <td>5964453.0</td>\n",
       "      <td>58</td>\n",
       "      <td>0.495726</td>\n",
       "      <td>58</td>\n",
       "      <td>0.495726</td>\n",
       "      <td>16074.0</td>\n",
       "      <td>-3.0</td>\n",
       "    </tr>\n",
       "    <tr>\n",
       "      <th>1</th>\n",
       "      <td>5964453.0</td>\n",
       "      <td>17861211.0</td>\n",
       "      <td>30</td>\n",
       "      <td>0.256410</td>\n",
       "      <td>88</td>\n",
       "      <td>0.752137</td>\n",
       "      <td>11912832.0</td>\n",
       "      <td>-2.0</td>\n",
       "    </tr>\n",
       "    <tr>\n",
       "      <th>2</th>\n",
       "      <td>17861211.0</td>\n",
       "      <td>29757969.0</td>\n",
       "      <td>7</td>\n",
       "      <td>0.059829</td>\n",
       "      <td>95</td>\n",
       "      <td>0.811966</td>\n",
       "      <td>23809590.0</td>\n",
       "      <td>-1.0</td>\n",
       "    </tr>\n",
       "    <tr>\n",
       "      <th>3</th>\n",
       "      <td>29757969.0</td>\n",
       "      <td>41654727.0</td>\n",
       "      <td>15</td>\n",
       "      <td>0.128205</td>\n",
       "      <td>110</td>\n",
       "      <td>0.940171</td>\n",
       "      <td>35706348.0</td>\n",
       "      <td>0.0</td>\n",
       "    </tr>\n",
       "    <tr>\n",
       "      <th>4</th>\n",
       "      <td>41654727.0</td>\n",
       "      <td>53551485.0</td>\n",
       "      <td>3</td>\n",
       "      <td>0.025641</td>\n",
       "      <td>113</td>\n",
       "      <td>0.965812</td>\n",
       "      <td>47603106.0</td>\n",
       "      <td>1.0</td>\n",
       "    </tr>\n",
       "    <tr>\n",
       "      <th>5</th>\n",
       "      <td>53551485.0</td>\n",
       "      <td>65448243.0</td>\n",
       "      <td>1</td>\n",
       "      <td>0.008547</td>\n",
       "      <td>114</td>\n",
       "      <td>0.974359</td>\n",
       "      <td>59499864.0</td>\n",
       "      <td>2.0</td>\n",
       "    </tr>\n",
       "    <tr>\n",
       "      <th>6</th>\n",
       "      <td>65448243.0</td>\n",
       "      <td>77345001.0</td>\n",
       "      <td>1</td>\n",
       "      <td>0.008547</td>\n",
       "      <td>115</td>\n",
       "      <td>0.982906</td>\n",
       "      <td>71396622.0</td>\n",
       "      <td>3.0</td>\n",
       "    </tr>\n",
       "    <tr>\n",
       "      <th>7</th>\n",
       "      <td>77345001.0</td>\n",
       "      <td>89241759.0</td>\n",
       "      <td>2</td>\n",
       "      <td>0.017094</td>\n",
       "      <td>117</td>\n",
       "      <td>1.000000</td>\n",
       "      <td>83293380.0</td>\n",
       "      <td>4.0</td>\n",
       "    </tr>\n",
       "  </tbody>\n",
       "</table>\n",
       "</div>"
      ],
      "text/plain": [
       "        dif 1       dif 2  abs       otn  cumabs    cumotn         mid  cond\n",
       "0  -5932305.0   5964453.0   58  0.495726      58  0.495726     16074.0  -3.0\n",
       "1   5964453.0  17861211.0   30  0.256410      88  0.752137  11912832.0  -2.0\n",
       "2  17861211.0  29757969.0    7  0.059829      95  0.811966  23809590.0  -1.0\n",
       "3  29757969.0  41654727.0   15  0.128205     110  0.940171  35706348.0   0.0\n",
       "4  41654727.0  53551485.0    3  0.025641     113  0.965812  47603106.0   1.0\n",
       "5  53551485.0  65448243.0    1  0.008547     114  0.974359  59499864.0   2.0\n",
       "6  65448243.0  77345001.0    1  0.008547     115  0.982906  71396622.0   3.0\n",
       "7  77345001.0  89241759.0    2  0.017094     117  1.000000  83293380.0   4.0"
      ]
     },
     "execution_count": 5,
     "metadata": {},
     "output_type": "execute_result"
    }
   ],
   "source": [
    "h = df['dif 2'][0]-df['dif 1'][0]\n",
    "df['cond'] = [(df['mid'][i]-C)/h for i in range (8)]\n",
    "df"
   ]
  },
  {
   "cell_type": "markdown",
   "id": "9e69e348",
   "metadata": {},
   "source": [
    "## Вычисление моментов:"
   ]
  },
  {
   "cell_type": "code",
   "execution_count": 6,
   "id": "5aa392b6",
   "metadata": {},
   "outputs": [
    {
     "data": {
      "text/plain": [
       "[-1.9230769230769236,\n",
       " 5.957264957264954,\n",
       " -14.076923076923084,\n",
       " 49.54700854700852]"
      ]
     },
     "execution_count": 6,
     "metadata": {},
     "output_type": "execute_result"
    }
   ],
   "source": [
    "cond_em = [np.sum(pow(df['cond'],i)*df['otn']) for i in range(1,5)]\n",
    "cond_em"
   ]
  },
  {
   "cell_type": "code",
   "execution_count": 7,
   "id": "cb6e7673",
   "metadata": {},
   "outputs": [
    {
     "data": {
      "text/plain": [
       "[0, 319728386409399.6, 1.021714161141922e+22, 2.003154788687194e+28]"
      ]
     },
     "execution_count": 7,
     "metadata": {},
     "output_type": "execute_result"
    }
   ],
   "source": [
    "cent_em = [0]\n",
    "cent_em.append((cond_em[1]-pow(cond_em[0],2))*pow(h,2))\n",
    "cent_em.append((cond_em[2]-3*cond_em[0]*cond_em[1]+2*pow(cond_em[0],3))*pow(h,3))\n",
    "cent_em.append((cond_em[3]-4*cond_em[0]*cond_em[2]+6*pow(cond_em[0],2)*cond_em[1]-3*pow(cond_em[0],4))+pow(h,4))\n",
    "cent_em"
   ]
  },
  {
   "cell_type": "code",
   "execution_count": 8,
   "id": "a0a2c2df",
   "metadata": {},
   "outputs": [
    {
     "data": {
      "text/html": [
       "<div>\n",
       "<style scoped>\n",
       "    .dataframe tbody tr th:only-of-type {\n",
       "        vertical-align: middle;\n",
       "    }\n",
       "\n",
       "    .dataframe tbody tr th {\n",
       "        vertical-align: top;\n",
       "    }\n",
       "\n",
       "    .dataframe thead th {\n",
       "        text-align: right;\n",
       "    }\n",
       "</style>\n",
       "<table border=\"1\" class=\"dataframe\">\n",
       "  <thead>\n",
       "    <tr style=\"text-align: right;\">\n",
       "      <th></th>\n",
       "      <th>Order</th>\n",
       "      <th>cond EM</th>\n",
       "      <th>center EM</th>\n",
       "    </tr>\n",
       "  </thead>\n",
       "  <tbody>\n",
       "    <tr>\n",
       "      <th>0</th>\n",
       "      <td>first</td>\n",
       "      <td>-1.923077</td>\n",
       "      <td>0.000000e+00</td>\n",
       "    </tr>\n",
       "    <tr>\n",
       "      <th>1</th>\n",
       "      <td>second</td>\n",
       "      <td>5.957265</td>\n",
       "      <td>3.197284e+14</td>\n",
       "    </tr>\n",
       "    <tr>\n",
       "      <th>2</th>\n",
       "      <td>third</td>\n",
       "      <td>-14.076923</td>\n",
       "      <td>1.021714e+22</td>\n",
       "    </tr>\n",
       "    <tr>\n",
       "      <th>3</th>\n",
       "      <td>fourth</td>\n",
       "      <td>49.547009</td>\n",
       "      <td>2.003155e+28</td>\n",
       "    </tr>\n",
       "  </tbody>\n",
       "</table>\n",
       "</div>"
      ],
      "text/plain": [
       "    Order    cond EM     center EM\n",
       "0   first  -1.923077  0.000000e+00\n",
       "1  second   5.957265  3.197284e+14\n",
       "2   third -14.076923  1.021714e+22\n",
       "3  fourth  49.547009  2.003155e+28"
      ]
     },
     "execution_count": 8,
     "metadata": {},
     "output_type": "execute_result"
    }
   ],
   "source": [
    "list = {'Order':['first','second','third','fourth'],'cond EM':cond_em,'center EM': cent_em}\n",
    "em=pd.DataFrame(list)\n",
    "em"
   ]
  },
  {
   "cell_type": "markdown",
   "id": "f828464d",
   "metadata": {},
   "source": [
    "## По стандартным формулам:"
   ]
  },
  {
   "cell_type": "code",
   "execution_count": 9,
   "id": "f8541ca0",
   "metadata": {},
   "outputs": [
    {
     "data": {
      "text/plain": [
       "12827967.230769213"
      ]
     },
     "execution_count": 9,
     "metadata": {},
     "output_type": "execute_result"
    }
   ],
   "source": [
    "sample_mean = np.sum(df['mid']*df['otn']) \n",
    "sample_mean"
   ]
  },
  {
   "cell_type": "code",
   "execution_count": 10,
   "id": "65357d85",
   "metadata": {},
   "outputs": [
    {
     "data": {
      "text/plain": [
       "319728386409399.5"
      ]
     },
     "execution_count": 10,
     "metadata": {},
     "output_type": "execute_result"
    }
   ],
   "source": [
    "sample_var=  np.sum(pow(df['mid']-sample_mean,2)*df['otn'])\n",
    "sample_var"
   ]
  },
  {
   "cell_type": "markdown",
   "id": "75fa7e31",
   "metadata": {},
   "source": [
    "## С помощью условных вариант:"
   ]
  },
  {
   "cell_type": "code",
   "execution_count": 11,
   "id": "ac0aebe6",
   "metadata": {
    "scrolled": true
   },
   "outputs": [
    {
     "data": {
      "text/plain": [
       "12827967.230769224"
      ]
     },
     "execution_count": 11,
     "metadata": {},
     "output_type": "execute_result"
    }
   ],
   "source": [
    "cond_mean = np.sum(df['cond']*df['otn'])\n",
    "sample_mean = cond_mean*h+C \n",
    "sample_mean"
   ]
  },
  {
   "cell_type": "code",
   "execution_count": 12,
   "id": "e40ba85f",
   "metadata": {
    "scrolled": true
   },
   "outputs": [
    {
     "data": {
      "text/plain": [
       "319728386409399.6"
      ]
     },
     "execution_count": 12,
     "metadata": {},
     "output_type": "execute_result"
    }
   ],
   "source": [
    "sample_var = pow(h,2)*(np.sum(pow(df['cond'],2)*df['otn'])-pow(cond_mean,2))\n",
    "sample_var"
   ]
  },
  {
   "cell_type": "markdown",
   "id": "6a80b03b",
   "metadata": {},
   "source": [
    "## Исправленные параметры:"
   ]
  },
  {
   "cell_type": "code",
   "execution_count": 13,
   "id": "f5c0e775",
   "metadata": {},
   "outputs": [
    {
     "data": {
      "text/plain": [
       "322484665602584.1"
      ]
     },
     "execution_count": 13,
     "metadata": {},
     "output_type": "execute_result"
    }
   ],
   "source": [
    "fix_var =sample_var* n/(n-1)\n",
    "fix_var"
   ]
  },
  {
   "cell_type": "code",
   "execution_count": 14,
   "id": "7645b619",
   "metadata": {},
   "outputs": [
    {
     "data": {
      "text/plain": [
       "17957858.04606396"
      ]
     },
     "execution_count": 14,
     "metadata": {},
     "output_type": "execute_result"
    }
   ],
   "source": [
    "fix_SD = np.sqrt(fix_var)\n",
    "fix_SD"
   ]
  },
  {
   "cell_type": "markdown",
   "id": "6873d84a",
   "metadata": {},
   "source": [
    "## Кэффициенты ассиметрии и эксцесса:"
   ]
  },
  {
   "cell_type": "code",
   "execution_count": 15,
   "id": "5edc7057",
   "metadata": {},
   "outputs": [
    {
     "data": {
      "text/plain": [
       "1.7871360644070562"
      ]
     },
     "execution_count": 15,
     "metadata": {},
     "output_type": "execute_result"
    }
   ],
   "source": [
    "SD = np.sqrt(sample_var)\n",
    "skew = cent_em[2]/pow(SD,3)\n",
    "skew"
   ]
  },
  {
   "cell_type": "code",
   "execution_count": 16,
   "id": "1f9f7290",
   "metadata": {},
   "outputs": [
    {
     "data": {
      "text/plain": [
       "-2.8040469093254865"
      ]
     },
     "execution_count": 16,
     "metadata": {},
     "output_type": "execute_result"
    }
   ],
   "source": [
    "kurt = cent_em[3]/pow(SD,4) -3\n",
    "kurt"
   ]
  },
  {
   "cell_type": "markdown",
   "id": "ccc73d6f",
   "metadata": {},
   "source": [
    "## Мода и медиана:"
   ]
  },
  {
   "cell_type": "code",
   "execution_count": 17,
   "id": "d09baf82",
   "metadata": {},
   "outputs": [
    {
     "data": {
      "text/plain": [
       "(-5932305.0, 5964453.0)"
      ]
     },
     "execution_count": 17,
     "metadata": {},
     "output_type": "execute_result"
    }
   ],
   "source": [
    "check = sum(df['abs'])/2\n",
    "maxabs = 0\n",
    "for i in range (8):\n",
    "    if df['abs'][i] > maxabs :\n",
    "        index = i\n",
    "        maxabs = df['abs'][i]\n",
    "df['dif 1'][index], df['dif 2'][index]"
   ]
  },
  {
   "cell_type": "code",
   "execution_count": 18,
   "id": "92588a40",
   "metadata": {},
   "outputs": [
    {
     "data": {
      "text/plain": [
       "2091089.9302325575"
      ]
     },
     "execution_count": 18,
     "metadata": {},
     "output_type": "execute_result"
    }
   ],
   "source": [
    "p = df['otn'][index]\n",
    "if index == 0:\n",
    "    p1 = 0\n",
    "    p2 = df['otn'][index+1]\n",
    "elif index == amount_int-1:\n",
    "    p1 = df['otn'][index-1]\n",
    "    p2 = 0\n",
    "mode = df['dif 1'][index] + h*(p-p1)/((p-p1)+(p-p2))\n",
    "mode"
   ]
  },
  {
   "cell_type": "code",
   "execution_count": 22,
   "id": "02638ee6",
   "metadata": {},
   "outputs": [
    {
     "data": {
      "text/plain": [
       "(5964453.0, 17861211.0)"
      ]
     },
     "execution_count": 22,
     "metadata": {},
     "output_type": "execute_result"
    }
   ],
   "source": [
    "index=0\n",
    "for i in range (8):\n",
    "    if df['cumotn'][i] <= 0.5:\n",
    "        index +=1\n",
    "df['dif 1'][index], df['dif 2'][index]"
   ]
  },
  {
   "cell_type": "code",
   "execution_count": 23,
   "id": "1b00544f",
   "metadata": {},
   "outputs": [
    {
     "data": {
      "text/plain": [
       "6162732.300000002"
      ]
     },
     "execution_count": 23,
     "metadata": {},
     "output_type": "execute_result"
    }
   ],
   "source": [
    "med = df['dif 1'][index] + (h/df['otn'][index])*(0.5-df['cumotn'][index-1])\n",
    "med"
   ]
  },
  {
   "cell_type": "markdown",
   "id": "65313c5b",
   "metadata": {},
   "source": [
    "## Kоэффициент вариации"
   ]
  },
  {
   "cell_type": "code",
   "execution_count": 21,
   "id": "4b3e33eb",
   "metadata": {},
   "outputs": [
    {
     "data": {
      "text/plain": [
       "139.39036525444433"
      ]
     },
     "execution_count": 21,
     "metadata": {},
     "output_type": "execute_result"
    }
   ],
   "source": [
    "CV = SD/sample_mean * 100\n",
    "CV"
   ]
  }
 ],
 "metadata": {
  "kernelspec": {
   "display_name": "Python 3 (ipykernel)",
   "language": "python",
   "name": "python3"
  },
  "language_info": {
   "codemirror_mode": {
    "name": "ipython",
    "version": 3
   },
   "file_extension": ".py",
   "mimetype": "text/x-python",
   "name": "python",
   "nbconvert_exporter": "python",
   "pygments_lexer": "ipython3",
   "version": "3.9.13"
  }
 },
 "nbformat": 4,
 "nbformat_minor": 5
}
