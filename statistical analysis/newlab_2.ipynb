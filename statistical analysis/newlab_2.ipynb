{
 "cells": [
  {
   "cell_type": "code",
   "execution_count": 1,
   "id": "5b48f9e3",
   "metadata": {},
   "outputs": [],
   "source": [
    "import numpy as np\n",
    "import pandas as pd\n",
    "import math\n"
   ]
  },
  {
   "cell_type": "code",
   "execution_count": 2,
   "id": "9cef1649",
   "metadata": {},
   "outputs": [
    {
     "name": "stdout",
     "output_type": "stream",
     "text": [
      "x     [23.5, 28.0, 31.0, 32.0, 33.0, 35.0, 39.0, 44.0, 46.0, 49.0, 51.0, 54.0, 60.0, 69.0, 70.0, 72.0, 75.0, 76.0, 78.0, 83.0, 84.0, 90.0, 92.0, 93.0, 96.0, 98.0, 99.0, 105.0, 110.0, 114.0, 115.0, 119.0, 120.0, 123.0, 126.0, 140.0, 149.0, 155.0, 188.0, 198.0, 230.0, 235.0, 248.0] \n",
      "\n",
      "m     [3, 1, 3, 1, 2, 3, 3, 2, 6, 4, 1, 1, 3, 3, 4, 9, 4, 2, 2, 4, 1, 8, 1, 3, 4, 3, 3, 2, 4, 2, 3, 1, 1, 2, 1, 4, 4, 1, 2, 1, 2, 1, 1] \n",
      "\n",
      "p     [0.02586206896551724, 0.008620689655172414, 0.02586206896551724, 0.008620689655172414, 0.017241379310344827, 0.02586206896551724, 0.02586206896551724, 0.017241379310344827, 0.05172413793103448, 0.034482758620689655, 0.008620689655172414, 0.008620689655172414, 0.02586206896551724, 0.02586206896551724, 0.034482758620689655, 0.07758620689655173, 0.034482758620689655, 0.017241379310344827, 0.017241379310344827, 0.034482758620689655, 0.008620689655172414, 0.06896551724137931, 0.008620689655172414, 0.02586206896551724, 0.034482758620689655, 0.02586206896551724, 0.02586206896551724, 0.017241379310344827, 0.034482758620689655, 0.017241379310344827, 0.02586206896551724, 0.008620689655172414, 0.008620689655172414, 0.017241379310344827, 0.008620689655172414, 0.034482758620689655, 0.034482758620689655, 0.008620689655172414, 0.017241379310344827, 0.008620689655172414, 0.017241379310344827, 0.008620689655172414, 0.008620689655172414] \n",
      "\n",
      "[7.464285714285715, 39.535714285714285, 71.60714285714286, 103.67857142857143, 135.75, 167.82142857142856, 199.8928571428571, 231.96428571428567, 264.0357142857142]\n",
      "41 9\n"
     ]
    },
    {
     "data": {
      "text/plain": [
       "[16, 24, 44, 16, 9, 3, 2, 2]"
      ]
     },
     "execution_count": 2,
     "metadata": {},
     "output_type": "execute_result"
    }
   ],
   "source": [
    "#ранжированный ряд\n",
    "df=pd.read_csv('Выборка Блохина.csv', delimiter=';')\n",
    "df_price=sorted(df[\"pizzaPrice_rupiah\"])\n",
    "\n",
    "#вариационный ряд\n",
    "count=1\n",
    "m = [] #абсолютные частоты\n",
    "x=[] #варианты\n",
    "p=[] #относительные частоты\n",
    "\n",
    "len_df=len(df_price)\n",
    "\n",
    "for i in range(1,len_df):\n",
    "    if df_price[i]==df_price[i-1]:\n",
    "        count+=1\n",
    "    else:\n",
    "        x.append(df_price[i-1])\n",
    "        m.append(count)\n",
    "        p.append(count/len_df)\n",
    "        count=1     \n",
    "x.append(df_price[i])\n",
    "if len(x)!=len(m):\n",
    "    p.append(count/len_df)\n",
    "    m.append(count)\n",
    "\n",
    "\n",
    "print(\"x    \" ,x,'\\n')\n",
    "print(\"m    \" ,m,'\\n')\n",
    "print(\"p    \" ,p,'\\n')\n",
    "\n",
    "list = {'x':x,\n",
    "        'm':m,'p':p}\n",
    "tab=pd.DataFrame(list)\n",
    "# интервальный ряд\n",
    "x_min=df_price[0]\n",
    "x_max=df_price[len_df-1]\n",
    "R=x_max-x_min #размах выборки\n",
    "\n",
    "k=math.floor(1+3.322*math.floor(math.log10(len_df))) #число интервалов по ф. Стёрджесса\n",
    "h=R/k #длина интервалов\n",
    "x0=x_min-h/2\n",
    "interval=[]\n",
    "for i in range (-1,k+1):\n",
    "    interval.append(x0)\n",
    "    x0+=h\n",
    "print(interval)\n",
    "\n",
    "j=0\n",
    "count=0\n",
    "m_interval=[]\n",
    "p_interval=[]\n",
    "for i in range(0,len(interval)-2):\n",
    "    while x[j]>interval[i] and x[j]<=interval[i+1]:\n",
    "        count+=m[j]\n",
    "        j+=1\n",
    "    m_interval.append(count)\n",
    "    p_interval.append(count/len_df)\n",
    "    count=0\n",
    "print(j, len(interval))\n",
    "if len(interval)-1!=len(m_interval):\n",
    "    while(len(x)!=j):\n",
    "        count+=m[j]\n",
    "        j+=1\n",
    "    p_interval.append(count/len_df)\n",
    "    m_interval.append(count)  \n",
    "m_interval"
   ]
  },
  {
   "cell_type": "code",
   "execution_count": 3,
   "id": "70636017",
   "metadata": {},
   "outputs": [
    {
     "name": "stdout",
     "output_type": "stream",
     "text": [
      "[23.5, 55.57142857142857, 87.64285714285714, 119.71428571428572, 151.78571428571428, 183.85714285714283, 215.9285714285714, 247.99999999999994]\n"
     ]
    }
   ],
   "source": [
    "#середины интервалов\n",
    "mid_interval=[]\n",
    "for i in range(0,len(interval)-1):\n",
    "    mid_interval.append((interval[i]+interval[i+1])/2)\n",
    "print(mid_interval)"
   ]
  },
  {
   "cell_type": "code",
   "execution_count": 4,
   "id": "83269890",
   "metadata": {},
   "outputs": [
    {
     "data": {
      "text/html": [
       "<div>\n",
       "<style scoped>\n",
       "    .dataframe tbody tr th:only-of-type {\n",
       "        vertical-align: middle;\n",
       "    }\n",
       "\n",
       "    .dataframe tbody tr th {\n",
       "        vertical-align: top;\n",
       "    }\n",
       "\n",
       "    .dataframe thead th {\n",
       "        text-align: right;\n",
       "    }\n",
       "</style>\n",
       "<table border=\"1\" class=\"dataframe\">\n",
       "  <thead>\n",
       "    <tr style=\"text-align: right;\">\n",
       "      <th></th>\n",
       "      <th>nachalo</th>\n",
       "      <th>konec</th>\n",
       "      <th>m_interval</th>\n",
       "      <th>p_interval</th>\n",
       "      <th>mid_interval</th>\n",
       "    </tr>\n",
       "  </thead>\n",
       "  <tbody>\n",
       "    <tr>\n",
       "      <th>0</th>\n",
       "      <td>7.464285714285715</td>\n",
       "      <td>39.535714285714285</td>\n",
       "      <td>16</td>\n",
       "      <td>0.137931</td>\n",
       "      <td>23.500000</td>\n",
       "    </tr>\n",
       "    <tr>\n",
       "      <th>1</th>\n",
       "      <td>39.535714285714285</td>\n",
       "      <td>71.60714285714286</td>\n",
       "      <td>24</td>\n",
       "      <td>0.206897</td>\n",
       "      <td>55.571429</td>\n",
       "    </tr>\n",
       "    <tr>\n",
       "      <th>2</th>\n",
       "      <td>71.60714285714286</td>\n",
       "      <td>103.67857142857143</td>\n",
       "      <td>44</td>\n",
       "      <td>0.379310</td>\n",
       "      <td>87.642857</td>\n",
       "    </tr>\n",
       "    <tr>\n",
       "      <th>3</th>\n",
       "      <td>103.67857142857143</td>\n",
       "      <td>135.75</td>\n",
       "      <td>16</td>\n",
       "      <td>0.137931</td>\n",
       "      <td>119.714286</td>\n",
       "    </tr>\n",
       "    <tr>\n",
       "      <th>4</th>\n",
       "      <td>135.75</td>\n",
       "      <td>167.82142857142856</td>\n",
       "      <td>9</td>\n",
       "      <td>0.077586</td>\n",
       "      <td>151.785714</td>\n",
       "    </tr>\n",
       "    <tr>\n",
       "      <th>5</th>\n",
       "      <td>167.82142857142856</td>\n",
       "      <td>199.8928571428571</td>\n",
       "      <td>3</td>\n",
       "      <td>0.025862</td>\n",
       "      <td>183.857143</td>\n",
       "    </tr>\n",
       "    <tr>\n",
       "      <th>6</th>\n",
       "      <td>199.8928571428571</td>\n",
       "      <td>231.96428571428567</td>\n",
       "      <td>2</td>\n",
       "      <td>0.017241</td>\n",
       "      <td>215.928571</td>\n",
       "    </tr>\n",
       "    <tr>\n",
       "      <th>7</th>\n",
       "      <td>231.96428571428567</td>\n",
       "      <td>264.0357142857142</td>\n",
       "      <td>2</td>\n",
       "      <td>0.017241</td>\n",
       "      <td>248.000000</td>\n",
       "    </tr>\n",
       "  </tbody>\n",
       "</table>\n",
       "</div>"
      ],
      "text/plain": [
       "              nachalo               konec  m_interval  p_interval  \\\n",
       "0   7.464285714285715  39.535714285714285          16    0.137931   \n",
       "1  39.535714285714285   71.60714285714286          24    0.206897   \n",
       "2   71.60714285714286  103.67857142857143          44    0.379310   \n",
       "3  103.67857142857143              135.75          16    0.137931   \n",
       "4              135.75  167.82142857142856           9    0.077586   \n",
       "5  167.82142857142856   199.8928571428571           3    0.025862   \n",
       "6   199.8928571428571  231.96428571428567           2    0.017241   \n",
       "7  231.96428571428567   264.0357142857142           2    0.017241   \n",
       "\n",
       "   mid_interval  \n",
       "0     23.500000  \n",
       "1     55.571429  \n",
       "2     87.642857  \n",
       "3    119.714286  \n",
       "4    151.785714  \n",
       "5    183.857143  \n",
       "6    215.928571  \n",
       "7    248.000000  "
      ]
     },
     "execution_count": 4,
     "metadata": {},
     "output_type": "execute_result"
    }
   ],
   "source": [
    "list = {'nachalo':['7.464285714285715','39.535714285714285', '71.60714285714286', '103.67857142857143', '135.75', '167.82142857142856', '199.8928571428571', '231.96428571428567'],\n",
    "        'konec':['39.535714285714285', '71.60714285714286', '103.67857142857143', '135.75', '167.82142857142856', '199.8928571428571', '231.96428571428567','264.0357142857142'],'m_interval':m_interval,'p_interval': p_interval,\n",
    "       'mid_interval':mid_interval}\n",
    "tab=pd.DataFrame(list)\n",
    "tab"
   ]
  },
  {
   "cell_type": "code",
   "execution_count": 5,
   "id": "82225420",
   "metadata": {},
   "outputs": [
    {
     "name": "stdout",
     "output_type": "stream",
     "text": [
      "[16, 40, 84, 100, 109, 112, 114, 116]\n",
      "[0.13793103448275862, 0.3448275862068966, 0.7241379310344828, 0.8620689655172413, 0.939655172413793, 0.9655172413793103, 0.9827586206896551, 1.0]\n"
     ]
    }
   ],
   "source": [
    "#накопленные частоты\n",
    "count_p=0\n",
    "count_m=0\n",
    "countM=[]\n",
    "countP=[]\n",
    "for i in range(0,len(m_interval)):\n",
    "    count_m+=m_interval[i]\n",
    "    count_p+=p_interval[i]\n",
    "    countM.append(count_m)\n",
    "    countP.append(count_p)\n",
    "print(countM)\n",
    "print(countP)"
   ]
  },
  {
   "cell_type": "code",
   "execution_count": 18,
   "id": "0e276ece",
   "metadata": {},
   "outputs": [],
   "source": [
    "tab['countM']=countM\n",
    "tab['countP']=countP"
   ]
  },
  {
   "cell_type": "code",
   "execution_count": 6,
   "id": "156a1d18",
   "metadata": {},
   "outputs": [
    {
     "name": "stdout",
     "output_type": "stream",
     "text": [
      "[-3, -2, -1, 0, 1, 2, 3, 4]\n"
     ]
    }
   ],
   "source": [
    "#условные варианты\n",
    "len_mid=len(mid_interval)\n",
    "C=mid_interval[math.floor(len_mid/2)-1]\n",
    "u=[]\n",
    "for i in range(0, len_mid):\n",
    "    u.append(round((mid_interval[i]-C)/h))\n",
    "print(u)"
   ]
  },
  {
   "cell_type": "code",
   "execution_count": 20,
   "id": "35ad4fb2",
   "metadata": {},
   "outputs": [
    {
     "data": {
      "text/html": [
       "<div>\n",
       "<style scoped>\n",
       "    .dataframe tbody tr th:only-of-type {\n",
       "        vertical-align: middle;\n",
       "    }\n",
       "\n",
       "    .dataframe tbody tr th {\n",
       "        vertical-align: top;\n",
       "    }\n",
       "\n",
       "    .dataframe thead th {\n",
       "        text-align: right;\n",
       "    }\n",
       "</style>\n",
       "<table border=\"1\" class=\"dataframe\">\n",
       "  <thead>\n",
       "    <tr style=\"text-align: right;\">\n",
       "      <th></th>\n",
       "      <th>nachalo</th>\n",
       "      <th>konec</th>\n",
       "      <th>m_interval</th>\n",
       "      <th>p_interval</th>\n",
       "      <th>mid_interval</th>\n",
       "      <th>u</th>\n",
       "      <th>countM</th>\n",
       "      <th>countP</th>\n",
       "    </tr>\n",
       "  </thead>\n",
       "  <tbody>\n",
       "    <tr>\n",
       "      <th>0</th>\n",
       "      <td>7.464285714285715</td>\n",
       "      <td>39.535714285714285</td>\n",
       "      <td>16</td>\n",
       "      <td>0.137931</td>\n",
       "      <td>23.500000</td>\n",
       "      <td>-3</td>\n",
       "      <td>16</td>\n",
       "      <td>0.137931</td>\n",
       "    </tr>\n",
       "    <tr>\n",
       "      <th>1</th>\n",
       "      <td>39.535714285714285</td>\n",
       "      <td>71.60714285714286</td>\n",
       "      <td>24</td>\n",
       "      <td>0.206897</td>\n",
       "      <td>55.571429</td>\n",
       "      <td>-2</td>\n",
       "      <td>40</td>\n",
       "      <td>0.344828</td>\n",
       "    </tr>\n",
       "    <tr>\n",
       "      <th>2</th>\n",
       "      <td>71.60714285714286</td>\n",
       "      <td>103.67857142857143</td>\n",
       "      <td>44</td>\n",
       "      <td>0.379310</td>\n",
       "      <td>87.642857</td>\n",
       "      <td>-1</td>\n",
       "      <td>84</td>\n",
       "      <td>0.724138</td>\n",
       "    </tr>\n",
       "    <tr>\n",
       "      <th>3</th>\n",
       "      <td>103.67857142857143</td>\n",
       "      <td>135.75</td>\n",
       "      <td>16</td>\n",
       "      <td>0.137931</td>\n",
       "      <td>119.714286</td>\n",
       "      <td>0</td>\n",
       "      <td>100</td>\n",
       "      <td>0.862069</td>\n",
       "    </tr>\n",
       "    <tr>\n",
       "      <th>4</th>\n",
       "      <td>135.75</td>\n",
       "      <td>167.82142857142856</td>\n",
       "      <td>9</td>\n",
       "      <td>0.077586</td>\n",
       "      <td>151.785714</td>\n",
       "      <td>1</td>\n",
       "      <td>109</td>\n",
       "      <td>0.939655</td>\n",
       "    </tr>\n",
       "    <tr>\n",
       "      <th>5</th>\n",
       "      <td>167.82142857142856</td>\n",
       "      <td>199.8928571428571</td>\n",
       "      <td>3</td>\n",
       "      <td>0.025862</td>\n",
       "      <td>183.857143</td>\n",
       "      <td>2</td>\n",
       "      <td>112</td>\n",
       "      <td>0.965517</td>\n",
       "    </tr>\n",
       "    <tr>\n",
       "      <th>6</th>\n",
       "      <td>199.8928571428571</td>\n",
       "      <td>231.96428571428567</td>\n",
       "      <td>2</td>\n",
       "      <td>0.017241</td>\n",
       "      <td>215.928571</td>\n",
       "      <td>3</td>\n",
       "      <td>114</td>\n",
       "      <td>0.982759</td>\n",
       "    </tr>\n",
       "    <tr>\n",
       "      <th>7</th>\n",
       "      <td>231.96428571428567</td>\n",
       "      <td>264.0357142857142</td>\n",
       "      <td>2</td>\n",
       "      <td>0.017241</td>\n",
       "      <td>248.000000</td>\n",
       "      <td>4</td>\n",
       "      <td>116</td>\n",
       "      <td>1.000000</td>\n",
       "    </tr>\n",
       "  </tbody>\n",
       "</table>\n",
       "</div>"
      ],
      "text/plain": [
       "              nachalo               konec  m_interval  p_interval  \\\n",
       "0   7.464285714285715  39.535714285714285          16    0.137931   \n",
       "1  39.535714285714285   71.60714285714286          24    0.206897   \n",
       "2   71.60714285714286  103.67857142857143          44    0.379310   \n",
       "3  103.67857142857143              135.75          16    0.137931   \n",
       "4              135.75  167.82142857142856           9    0.077586   \n",
       "5  167.82142857142856   199.8928571428571           3    0.025862   \n",
       "6   199.8928571428571  231.96428571428567           2    0.017241   \n",
       "7  231.96428571428567   264.0357142857142           2    0.017241   \n",
       "\n",
       "   mid_interval  u  countM    countP  \n",
       "0     23.500000 -3      16  0.137931  \n",
       "1     55.571429 -2      40  0.344828  \n",
       "2     87.642857 -1      84  0.724138  \n",
       "3    119.714286  0     100  0.862069  \n",
       "4    151.785714  1     109  0.939655  \n",
       "5    183.857143  2     112  0.965517  \n",
       "6    215.928571  3     114  0.982759  \n",
       "7    248.000000  4     116  1.000000  "
      ]
     },
     "execution_count": 20,
     "metadata": {},
     "output_type": "execute_result"
    }
   ],
   "source": [
    "tab"
   ]
  },
  {
   "cell_type": "code",
   "execution_count": 8,
   "id": "e2be94f5",
   "metadata": {},
   "outputs": [
    {
     "name": "stdout",
     "output_type": "stream",
     "text": [
      "[-0.9568965517241378, 3.0603448275862073, -3.9051724137931036, 21.163793103448278]\n"
     ]
    }
   ],
   "source": [
    "#условные эмпирические моменты\n",
    "Mk=[]\n",
    "for i in range(1,5):\n",
    "    k=0\n",
    "    M=0\n",
    "    while (k<len(u)):\n",
    "        M+=p_interval[k]*(u[k]**i)\n",
    "        k+=1\n",
    "    Mk.append(M)\n",
    "       \n",
    "print(Mk)"
   ]
  },
  {
   "cell_type": "code",
   "execution_count": 9,
   "id": "8b14d030",
   "metadata": {},
   "outputs": [
    {
     "name": "stdout",
     "output_type": "stream",
     "text": [
      "[0, 2205.9817253967585, 103178.33341849987, 21703619.244873997]\n"
     ]
    }
   ],
   "source": [
    "#центральные моменты через условные\n",
    "M1=[]\n",
    "M1.append(0)\n",
    "M1.append((Mk[1]-Mk[0]**2)*h**2)\n",
    "M1.append((Mk[2]-3*Mk[1]*Mk[0]+2*(Mk[0]**3))*h**3)\n",
    "M1.append((Mk[3]-4*Mk[2]*Mk[0]+6*Mk[1]*(Mk[0]**2)-3*(Mk[0]**4))*h**4)\n",
    "print(M1)"
   ]
  },
  {
   "cell_type": "code",
   "execution_count": 17,
   "id": "cebaef6a",
   "metadata": {},
   "outputs": [
    {
     "data": {
      "text/html": [
       "<div>\n",
       "<style scoped>\n",
       "    .dataframe tbody tr th:only-of-type {\n",
       "        vertical-align: middle;\n",
       "    }\n",
       "\n",
       "    .dataframe tbody tr th {\n",
       "        vertical-align: top;\n",
       "    }\n",
       "\n",
       "    .dataframe thead th {\n",
       "        text-align: right;\n",
       "    }\n",
       "</style>\n",
       "<table border=\"1\" class=\"dataframe\">\n",
       "  <thead>\n",
       "    <tr style=\"text-align: right;\">\n",
       "      <th></th>\n",
       "      <th>usl</th>\n",
       "      <th>cent</th>\n",
       "    </tr>\n",
       "  </thead>\n",
       "  <tbody>\n",
       "    <tr>\n",
       "      <th>0</th>\n",
       "      <td>-0.956897</td>\n",
       "      <td>0.000000e+00</td>\n",
       "    </tr>\n",
       "    <tr>\n",
       "      <th>1</th>\n",
       "      <td>3.060345</td>\n",
       "      <td>2.205982e+03</td>\n",
       "    </tr>\n",
       "    <tr>\n",
       "      <th>2</th>\n",
       "      <td>-3.905172</td>\n",
       "      <td>1.031783e+05</td>\n",
       "    </tr>\n",
       "    <tr>\n",
       "      <th>3</th>\n",
       "      <td>21.163793</td>\n",
       "      <td>2.170362e+07</td>\n",
       "    </tr>\n",
       "  </tbody>\n",
       "</table>\n",
       "</div>"
      ],
      "text/plain": [
       "         usl          cent\n",
       "0  -0.956897  0.000000e+00\n",
       "1   3.060345  2.205982e+03\n",
       "2  -3.905172  1.031783e+05\n",
       "3  21.163793  2.170362e+07"
      ]
     },
     "execution_count": 17,
     "metadata": {},
     "output_type": "execute_result"
    }
   ],
   "source": [
    "cen={'usl':Mk, 'cent':M1}\n",
    "em=pd.DataFrame(cen)\n",
    "em"
   ]
  },
  {
   "cell_type": "code",
   "execution_count": 10,
   "id": "6099d543",
   "metadata": {},
   "outputs": [
    {
     "name": "stdout",
     "output_type": "stream",
     "text": [
      "Стандартный способ   89.0252463054187\n",
      "Через условные варианты   89.02524630541873\n"
     ]
    }
   ],
   "source": [
    "#выборочное среднее\n",
    "x_v=0\n",
    "for i in range(0, len(mid_interval)):\n",
    "    x_v+=mid_interval[i]*p_interval[i]   \n",
    "print('Стандартный способ  ',x_v)\n",
    "\n",
    "U_v=0\n",
    "for i in range(0, len_mid):\n",
    "    U_v+=u[i]*p_interval[i]\n",
    "\n",
    "x_uv=(((U_v)*h)+C)\n",
    "print('Через условные варианты  ',x_uv)\n"
   ]
  },
  {
   "cell_type": "code",
   "execution_count": 11,
   "id": "9a8f38a4",
   "metadata": {},
   "outputs": [
    {
     "name": "stdout",
     "output_type": "stream",
     "text": [
      "с помощью стандартной формулы 2205.981725396757\n",
      "с помощью условных вариант 2205.9817253967585\n"
     ]
    }
   ],
   "source": [
    "#дисперсия\n",
    "D1=0\n",
    "for i in range(0, len_mid):\n",
    "    D1+=((mid_interval[i]-x_v)**2)*p_interval[i]\n",
    "print(\"с помощью стандартной формулы\", D1) #с помощью стандартной формулы\n",
    "\n",
    "D2=0\n",
    "U2=0\n",
    "U_b=0\n",
    "for i in range(0, len_mid):\n",
    "    U2+=(u[i]**2)*p_interval[i]\n",
    "    U_b+=u[i]*p_interval[i]\n",
    "D2=(h**2)*(U2-(U_b**2))\n",
    "print('с помощью условных вариант', D2)# с помощью условных вариант\n"
   ]
  },
  {
   "cell_type": "code",
   "execution_count": 12,
   "id": "6511db54",
   "metadata": {},
   "outputs": [
    {
     "name": "stdout",
     "output_type": "stream",
     "text": [
      "СКО  46.96787972004653\n",
      "2521.12197188201\n",
      "50.21077545589203\n",
      "315.1402464852513\n"
     ]
    },
    {
     "data": {
      "text/plain": [
       "-3.242895735845501"
      ]
     },
     "execution_count": 12,
     "metadata": {},
     "output_type": "execute_result"
    }
   ],
   "source": [
    "#исправленные дисперсия и ско\n",
    "sko=math.sqrt(M1[1])\n",
    "print('СКО ',sko)\n",
    "\n",
    "Ds=M1[1]*(len_mid/(len_mid-1))\n",
    "print(Ds)\n",
    "qs=math.sqrt(Ds)\n",
    "print(qs)\n",
    "print(Ds-M1[1])\n",
    "sko-qs\n"
   ]
  },
  {
   "cell_type": "code",
   "execution_count": 13,
   "id": "5e0a7129",
   "metadata": {},
   "outputs": [
    {
     "name": "stdout",
     "output_type": "stream",
     "text": [
      "0.9958310033864437\n",
      "1.4599330674149877\n"
     ]
    }
   ],
   "source": [
    "As=M1[2]/(sko**3)\n",
    "Es=M1[3]/sko**4-3\n",
    "print(As)\n",
    "print(Es)"
   ]
  },
  {
   "cell_type": "code",
   "execution_count": 14,
   "id": "f25ba5a6",
   "metadata": {},
   "outputs": [
    {
     "name": "stdout",
     "output_type": "stream",
     "text": [
      "Мода   84.9702380952381\n"
     ]
    }
   ],
   "source": [
    "mi=max(m_interval)\n",
    "index=0\n",
    "while(m_interval[index]!=mi):\n",
    "    index+=1\n",
    "x_floor=interval[index]\n",
    "pre_m=m_interval[index-1]\n",
    "next_m=m_interval[index+1]\n",
    "Moda=x_floor+((mi-pre_m)/((mi-pre_m)+(mi-next_m))*h)\n",
    "print(\"Мода  \", Moda)"
   ]
  },
  {
   "cell_type": "code",
   "execution_count": 15,
   "id": "5f46f4fe",
   "metadata": {},
   "outputs": [
    {
     "name": "stdout",
     "output_type": "stream",
     "text": [
      "Медиана   84.72727272727273\n"
     ]
    }
   ],
   "source": [
    "index=0\n",
    "for i in range (8):\n",
    "    if countP[i] <= 0.5:\n",
    "        index +=1\n",
    "pre_=interval[index]\n",
    "next_=interval[index+1]\n",
    "mediana = interval[index]+ (h/p_interval[index])*(0.5-countP[index-1])\n",
    "print(\"Медиана  \",mediana)"
   ]
  },
  {
   "cell_type": "code",
   "execution_count": 16,
   "id": "7ec3bd94",
   "metadata": {},
   "outputs": [
    {
     "name": "stdout",
     "output_type": "stream",
     "text": [
      "52.75793291142822\n"
     ]
    }
   ],
   "source": [
    "#коэффициент вариаций\n",
    "V=sko/x_v*100\n",
    "print(V)"
   ]
  }
 ],
 "metadata": {
  "kernelspec": {
   "display_name": "Python 3",
   "language": "python",
   "name": "python3"
  },
  "language_info": {
   "codemirror_mode": {
    "name": "ipython",
    "version": 3
   },
   "file_extension": ".py",
   "mimetype": "text/x-python",
   "name": "python",
   "nbconvert_exporter": "python",
   "pygments_lexer": "ipython3",
   "version": "3.8.8"
  }
 },
 "nbformat": 4,
 "nbformat_minor": 5
}
