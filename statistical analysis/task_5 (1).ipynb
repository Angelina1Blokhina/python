{
 "cells": [
  {
   "cell_type": "markdown",
   "id": "01c6df57",
   "metadata": {},
   "source": [
    "# Практическое задание 5\n",
    "## Вариант 7"
   ]
  },
  {
   "cell_type": "code",
   "execution_count": 1,
   "id": "034d2bc5",
   "metadata": {},
   "outputs": [],
   "source": [
    "import numpy as np\n",
    "import matplotlib.pyplot as plt\n",
    "from sklearn.cluster import KMeans\n",
    "from scipy.stats import norm\n",
    "from scipy.cluster import hierarchy"
   ]
  },
  {
   "cell_type": "markdown",
   "id": "1f913632",
   "metadata": {},
   "source": [
    "### Задание 1 (v 7)"
   ]
  },
  {
   "cell_type": "code",
   "execution_count": 2,
   "id": "bb07bcf4",
   "metadata": {
    "scrolled": true
   },
   "outputs": [
    {
     "name": "stdout",
     "output_type": "stream",
     "text": [
      "Source data D [[9.1, -15.6], [13.5, -29.7], [0.7, -12.2], [-4.0, -20.5], [13.0, -25.7], [9.6, -24.1], [9.8, -27.1], [0.7, -15.2], [2.7, -14.0], [9.8, -29.2]]\n",
      "Clusters count 2\n",
      "Init centers: U_init = [[4.0, -25.0], [2.0, -10.0]]\n",
      "Epsilon: 0.01\n"
     ]
    }
   ],
   "source": [
    "k=2\n",
    "D = [[9.1, -15.6], [13.5, -29.7], [0.7, -12.2], [-4.0, -20.5], [13.0, -25.7],[9.6, -24.1], [9.8, -27.1],\n",
    "     [0.7, -15.2],[2.7,-14.0],[9.8,-29.2]]\n",
    "U_init = [[4.0, -25.0], [2.0, -10.0]]\n",
    "e=0.01\n",
    "print('Source data D',D)\n",
    "print('Clusters count',k)\n",
    "print('Init centers: U_init =',U_init)\n",
    "print('Epsilon:',e)"
   ]
  },
  {
   "cell_type": "code",
   "execution_count": 3,
   "id": "f9dd796c",
   "metadata": {
    "scrolled": false
   },
   "outputs": [],
   "source": [
    "def recalc_centroids(cluster):\n",
    "    centroid=[]\n",
    "    temp_1=0\n",
    "    temp_2=0\n",
    "    len_cluster=len(cluster)\n",
    "    for coordinate_1,coordinate_2 in cluster:\n",
    "        temp_1+=coordinate_1\n",
    "        temp_2+=coordinate_2\n",
    "    centroid.append(temp_1/len_cluster)\n",
    "    centroid.append(temp_2/len_cluster)\n",
    "    return centroid\n",
    "\n",
    "def calc_distance(coordinate_1,coordinate_2):\n",
    "    return (coordinate_1[0]-coordinate_2[0])**2+(coordinate_1[1]-coordinate_2[1])**2\n",
    "\n",
    "def cluster_index(D,cluster):\n",
    "    return [D.index(coordinate) for coordinate in cluster]\n",
    "\n",
    "def run_Kmeans(U_init,D,e):  \n",
    "    U_new=U_init\n",
    "    first_thr=1\n",
    "    second_thr=1\n",
    "    cluster=[]\n",
    "    while first_thr>e or second_thr>e:\n",
    "        cluster=[]\n",
    "        first_cluster=[]\n",
    "        second_cluster=[]\n",
    "        for coordinate in D:\n",
    "            first_distance=calc_distance(U_new[0],coordinate)\n",
    "            second_distance=calc_distance(U_new[1],coordinate)\n",
    "            if first_distance<=second_distance:\n",
    "                first_cluster.append(coordinate)\n",
    "            else: \n",
    "                second_cluster.append(coordinate)\n",
    "        U_old=U_new.copy()\n",
    "        U_new[0]=recalc_centroids(first_cluster)\n",
    "        U_new[1]=recalc_centroids(second_cluster)\n",
    "        first_thr =calc_distance(U_old[0],U_new[0])\n",
    "        second_thr=calc_distance(U_old[1],U_new[1])\n",
    "        cluster.append(cluster_index(D,first_cluster))\n",
    "        cluster.append(cluster_index(D,second_cluster))\n",
    "    return U_new,cluster"
   ]
  },
  {
   "cell_type": "code",
   "execution_count": 4,
   "id": "c50ea30f",
   "metadata": {
    "scrolled": true
   },
   "outputs": [
    {
     "name": "stdout",
     "output_type": "stream",
     "text": [
      "1.1\n",
      "Clusters: [[1, 4, 5, 6, 9], [0, 2, 3, 7, 8]]\n",
      "New centers: [[11.14, -27.159999999999997], [1.8399999999999999, -15.5]]\n"
     ]
    }
   ],
   "source": [
    "print('1.1')\n",
    "U,clusters=run_Kmeans(U_init,D,e)\n",
    "print('Clusters:',clusters)\n",
    "print('New centers:',U)"
   ]
  },
  {
   "cell_type": "code",
   "execution_count": 5,
   "id": "34c0d52e",
   "metadata": {
    "scrolled": false
   },
   "outputs": [],
   "source": [
    "def make_plot(U,D,clusters):\n",
    "    D=np.array(D)\n",
    "    fig, ax = plt.subplots()\n",
    "    for i,coordinate in enumerate(U):\n",
    "        ax.plot(coordinate[0],coordinate[1],'r*')\n",
    "        ax.text(coordinate[0]+0.1,coordinate[1]-0.1,'Center'+str(i))\n",
    "    labels_=[0]*len(D)\n",
    "    for index in clusters[1]:\n",
    "        labels_[index]=1\n",
    "    for cluster in clusters:\n",
    "        for index in cluster:\n",
    "            ax.text(D[index,0]+0.01,D[index,1]+0.1,index)\n",
    "    scatter = ax.scatter(D[:,0],D[:,1],c=labels_,cmap='rainbow')\n",
    "    legend = ax.legend(*scatter.legend_elements(fmt='Cluster {x:.0f}'),bbox_to_anchor=(1,0.7))\n",
    "    ax.add_artist(legend)\n",
    "    plt.show()"
   ]
  },
  {
   "cell_type": "code",
   "execution_count": 6,
   "id": "c7f042e9",
   "metadata": {
    "scrolled": true
   },
   "outputs": [
    {
     "name": "stdout",
     "output_type": "stream",
     "text": [
      "1.2\n"
     ]
    },
    {
     "data": {
      "image/png": "[encoded data removed]",
      "text/plain": [
       "<Figure size 432x288 with 1 Axes>"
      ]
     },
     "metadata": {
      "needs_background": "light"
     },
     "output_type": "display_data"
    }
   ],
   "source": [
    "print('1.2')\n",
    "make_plot(U,D,clusters)"
   ]
  },
  {
   "cell_type": "code",
   "execution_count": 7,
   "id": "cc45e9e0",
   "metadata": {},
   "outputs": [
    {
     "name": "stdout",
     "output_type": "stream",
     "text": [
      "1.3\n",
      "KMean labels: [1 0 1 1 0 0 0 1 1 0]\n",
      "KMean cluster centers: [[ 11.14 -27.16]\n",
      " [  1.84 -15.5 ]]\n"
     ]
    }
   ],
   "source": [
    "print('1.3')\n",
    "kmeans = KMeans(n_clusters=2, random_state=0).fit(np.array(D))\n",
    "print('KMean labels:',kmeans.labels_)\n",
    "print('KMean cluster centers:',kmeans.cluster_centers_)"
   ]
  },
  {
   "cell_type": "code",
   "execution_count": 8,
   "id": "2ac53060",
   "metadata": {
    "scrolled": true
   },
   "outputs": [
    {
     "name": "stdout",
     "output_type": "stream",
     "text": [
      "1.4\n",
      "Add point [24, -6] to D\n",
      "Clusters: [[1, 3, 4, 5, 6, 9], [0, 2, 7, 8, 10]]\n",
      "New centers: [[8.616666666666667, -26.049999999999997], [7.44, -12.6]]\n"
     ]
    },
    {
     "data": {
      "image/png": "[encoded data removed]",
      "text/plain": [
       "<Figure size 432x288 with 1 Axes>"
      ]
     },
     "metadata": {
      "needs_background": "light"
     },
     "output_type": "display_data"
    }
   ],
   "source": [
    "print('1.4')\n",
    "new=[24,-6]\n",
    "D.append(new)\n",
    "print(f'Add point {new} to D')\n",
    "U_init = [[4.0, -25.0], [2.0, -10.0]]\n",
    "U,clusters=run_Kmeans(U_init,D,e)\n",
    "print('Clusters:',clusters)\n",
    "print('New centers:',U)\n",
    "make_plot(U,D,clusters)"
   ]
  },
  {
   "cell_type": "markdown",
   "id": "aa19f5b2",
   "metadata": {},
   "source": [
    "### Задание 2 (v 7)"
   ]
  },
  {
   "cell_type": "code",
   "execution_count": 9,
   "id": "db4da43d",
   "metadata": {},
   "outputs": [
    {
     "name": "stdout",
     "output_type": "stream",
     "text": [
      "Source data x: [4.7, 12.1, 18, 10.3, 11.7, 11.6, 12.4, 15.7, 13.4, 20.6]\n",
      "P(Ci|x): [[1, 0.6, 0.2, 0.8, 0.7, 0.7, 0.6, 0.3, 0.5, 0.1], [0, 0.4, 0.8, 0.2, 0.3, 0.3, 0.4, 0.7, 0.5, 0.9]]\n"
     ]
    }
   ],
   "source": [
    "x = [4.7,12.1,18,10.3,11.7,11.6,12.4,15.7,13.4,20.6]\n",
    "P= [[1,0.6,0.2,0.8,0.7,0.7,0.6,0.3,0.5,0.1], [0,0.4,0.8,0.2,0.3,0.3,0.4,0.7,0.5,0.9]]\n",
    "print('Source data x:',x)\n",
    "print('P(Ci|x):',P)"
   ]
  },
  {
   "cell_type": "code",
   "execution_count": 10,
   "id": "46263012",
   "metadata": {
    "scrolled": true
   },
   "outputs": [
    {
     "name": "stdout",
     "output_type": "stream",
     "text": [
      "2.1\n",
      "Result u1 and u2: [11.09, 15.44]\n"
     ]
    }
   ],
   "source": [
    "print('2.1')\n",
    "def calc_estimate_mean(x,P):\n",
    "    est_1=0\n",
    "    est_2=0\n",
    "    for var,prob_1,prob_2 in zip(x,P[0],P[1]):\n",
    "        est_1+=var*prob_1\n",
    "        est_2+=var*prob_2\n",
    "    est_1/=np.sum(P[0])\n",
    "    est_2/=np.sum(P[1])\n",
    "    return [round(est_1,2),round(est_2,2)]\n",
    "estimate=calc_estimate_mean(x,P)\n",
    "print(f'Result u1 and u2:',estimate)"
   ]
  },
  {
   "cell_type": "code",
   "execution_count": 11,
   "id": "617297e0",
   "metadata": {
    "scrolled": false
   },
   "outputs": [
    {
     "name": "stdout",
     "output_type": "stream",
     "text": [
      "2.2\n",
      "New point value: 12.6\n",
      "Source u1 and u2: [11, 17.9]\n",
      "Source σ1 and σ2: [4.6, 3.9]\n",
      "Source P(C1) and P(C2): [0.4, 0.6]\n",
      "\n",
      "Result P(C1|12.6) and P(C2|12.6): [0.573, 0.427]\n"
     ]
    }
   ],
   "source": [
    "print('2.2')\n",
    "x=12.6\n",
    "u=[11,17.9]\n",
    "sd=[4.6,3.9]\n",
    "P_a=[0.4,0.6]\n",
    "print('New point value:',x)\n",
    "print('Source u1 and u2:',u)\n",
    "print('Source σ1 and σ2:',sd)\n",
    "print('Source P(C1) and P(C2):',P_a)\n",
    "P_x=norm.pdf(x,u,sd)*P_a\n",
    "P_cx=P_x/np.sum(P_x)\n",
    "P_cx=[round(p,3) for p in P_cx]\n",
    "print(f'\\nResult P(C1|{x}) and P(C2|{x}): {P_cx}')"
   ]
  },
  {
   "cell_type": "markdown",
   "id": "6148c749",
   "metadata": {},
   "source": [
    "### Задание 3 (v7)"
   ]
  },
  {
   "cell_type": "code",
   "execution_count": 12,
   "id": "5f3fa50e",
   "metadata": {
    "scrolled": false
   },
   "outputs": [],
   "source": [
    "a=[[0,0,1,1,0],\n",
    "   [1,0,0,0,1],\n",
    "   [0,1,1,0,1],\n",
    "   [0,1,1,1,0],\n",
    "   [0,0,0,0,0],\n",
    "   [0,1,1,0,1]]"
   ]
  },
  {
   "cell_type": "code",
   "execution_count": 13,
   "id": "ff20bed9",
   "metadata": {},
   "outputs": [],
   "source": [
    "def dist_RC(n11,n10,n01,n00):\n",
    "    return n11/(n11+n10+n01+n00)\n",
    "def dist_SMC(n11,n10,n01,n00):\n",
    "    return (n11+n00)/(n11+n10+n01+n00)\n",
    "def dist_JC(n11,n10,n01,n00):\n",
    "    return n11/(n11+n01+n10)\n",
    "def single_line(matrix,check=0):\n",
    "    min_dist=2\n",
    "    min_i=0\n",
    "    min_j=0\n",
    "    len_temp=len(matrix)\n",
    "    if check!=0: \n",
    "        len_temp=check\n",
    "    for i in range(len(matrix)):\n",
    "        for j in range(len_temp):\n",
    "            if matrix[i,j]<min_dist:\n",
    "                min_i=i\n",
    "                min_j=j\n",
    "                min_dist=matrix[i,j]\n",
    "    return min_i,min_j\n",
    "def full_line(matrix,check=0):\n",
    "    max_dist=-1\n",
    "    max_i=0\n",
    "    max_j=0\n",
    "    len_temp=len(matrix)\n",
    "    if check!=0: \n",
    "        len_temp=check\n",
    "    for i in range(len(matrix)):\n",
    "        for j in range(len_temp):\n",
    "            if matrix[i,j]>max_dist and matrix[i,j]<2:\n",
    "                max_i=i\n",
    "                max_j=j\n",
    "                max_dist=matrix[i,j]\n",
    "    return max_i,max_j\n",
    "def middle_line(matrix,check=0):\n",
    "    max_dist=0\n",
    "    count=0\n",
    "    len_temp=len(matrix)\n",
    "    if check!=0: \n",
    "        len_temp=check\n",
    "    for i in range(len(matrix)):\n",
    "        for j in range(len_temp):\n",
    "            if matrix[i,j]<2:\n",
    "                count+=1\n",
    "                max_dist+=matrix[i,j]\n",
    "    return max_dist/count"
   ]
  },
  {
   "cell_type": "code",
   "execution_count": 14,
   "id": "bb5b32fe",
   "metadata": {
    "scrolled": true
   },
   "outputs": [],
   "source": [
    "def compute_distance(a,dist_func,method):\n",
    "    len_data = len(a)\n",
    "    dist_matrix=np.matrix([[2.0]*len_data]*len_data)\n",
    "    for i in range(len_data):\n",
    "        for j in range(i+1,len_data):\n",
    "            len_i=len(a[i])\n",
    "            len_j=len(a[j])\n",
    "            temp_matrix=np.matrix([[2.0]*(len_j)]*(len_i))\n",
    "            for m in range(len_i):\n",
    "                count=0\n",
    "                for n in range(len_j):\n",
    "                    n11=0\n",
    "                    n00=0\n",
    "                    n01=0\n",
    "                    n10=0\n",
    "                    for atr_i,atr_j in zip(a[i][m],a[j][n]):\n",
    "                        if atr_i==1 and atr_j==1:\n",
    "                            n11+=1\n",
    "                        elif atr_i==0 and atr_j==0:\n",
    "                            n00+=1\n",
    "                        elif atr_i==0 and atr_j==1:    \n",
    "                            n01+=1\n",
    "                        else: n10+=1\n",
    "                    count+=1\n",
    "                    temp_matrix[m,n]=dist_func(n11,n10,n01,n00)\n",
    "                    if method == middle_line:\n",
    "                        data=method(temp_matrix,count)\n",
    "                    else:\n",
    "                        f,g=method(temp_matrix,count)\n",
    "                        data=temp_matrix[f,g]\n",
    "            dist_matrix[i,j]=data\n",
    "    return dist_matrix\n",
    "\n",
    "def run_AIC(a,dist_func,method):\n",
    "    data=a.copy()\n",
    "    C=[[i] for i in range (len(data))]\n",
    "    data = [[x] for x in data]\n",
    "    dataD=C.copy()\n",
    "    arr_dendr=[]\n",
    "    step=0\n",
    "    print(step,C)\n",
    "    while len(C)!=1:\n",
    "        step+=1\n",
    "        dist_matrix=compute_distance(data,dist_func,method)\n",
    "        #print('Матрица:',dist_matrix)\n",
    "        i,j=single_line(dist_matrix)\n",
    "        dataD.append(C[i]+C[j])\n",
    "        temp=[float(x) for x in [dataD.index(C[i]),dataD.index(C[j]),step,len(C[i])+len(C[j])]]\n",
    "        arr_dendr.append(temp)\n",
    "        C[i]=C[i]+C[j]\n",
    "        C.pop(j)\n",
    "        data[i]=data[i]+data[j]\n",
    "        data.pop(j)\n",
    "        print(step,C)\n",
    "    label_C = ['x'+str(x) for x in C[0]]\n",
    "    def llf(id):\n",
    "        return f'x{id}'\n",
    "    hierarchy.dendrogram(arr_dendr,leaf_label_func=llf)\n",
    "    "
   ]
  },
  {
   "cell_type": "code",
   "execution_count": 15,
   "id": "d976c597",
   "metadata": {
    "scrolled": true
   },
   "outputs": [
    {
     "name": "stdout",
     "output_type": "stream",
     "text": [
      "3.1 SL+RC\n",
      "3.1 result (SL+RC):\n",
      "0 [[0], [1], [2], [3], [4], [5]]\n",
      "1 [[0, 1], [2], [3], [4], [5]]\n",
      "2 [[0, 1, 3], [2], [4], [5]]\n",
      "3 [[0, 1, 3, 4], [2], [5]]\n",
      "4 [[0, 1, 3, 4, 2], [5]]\n",
      "5 [[0, 1, 3, 4, 2, 5]]\n"
     ]
    },
    {
     "data": {
      "image/png": "[encoded data removed]",
      "text/plain": [
       "<Figure size 432x288 with 1 Axes>"
      ]
     },
     "metadata": {
      "needs_background": "light"
     },
     "output_type": "display_data"
    }
   ],
   "source": [
    "print('3.1 SL+RC\\n3.1 result (SL+RC):')\n",
    "run_AIC(a,dist_RC,single_line)"
   ]
  },
  {
   "cell_type": "code",
   "execution_count": 16,
   "id": "58cf4fe5",
   "metadata": {},
   "outputs": [
    {
     "name": "stdout",
     "output_type": "stream",
     "text": [
      "3.2 FL+SMC\n",
      "3.2 result (FL+SMC):\n",
      "0 [[0], [1], [2], [3], [4], [5]]\n",
      "1 [[0], [1, 3], [2], [4], [5]]\n",
      "2 [[0, 2], [1, 3], [4], [5]]\n",
      "3 [[0, 2], [1, 3], [4, 5]]\n",
      "4 [[0, 2], [1, 3, 4, 5]]\n",
      "5 [[0, 2, 1, 3, 4, 5]]\n"
     ]
    },
    {
     "data": {
      "image/png": "[encoded data removed]",
      "text/plain": [
       "<Figure size 432x288 with 1 Axes>"
      ]
     },
     "metadata": {
      "needs_background": "light"
     },
     "output_type": "display_data"
    }
   ],
   "source": [
    "print('3.2 FL+SMC\\n3.2 result (FL+SMC):')\n",
    "run_AIC(a,dist_SMC,full_line)"
   ]
  },
  {
   "cell_type": "code",
   "execution_count": 17,
   "id": "83ddeaab",
   "metadata": {
    "scrolled": true
   },
   "outputs": [
    {
     "name": "stdout",
     "output_type": "stream",
     "text": [
      "3.3 ML+JC\n",
      "3.3 result (ML+JC):\n",
      "0 [[0], [1], [2], [3], [4], [5]]\n",
      "1 [[0, 1], [2], [3], [4], [5]]\n",
      "2 [[0, 1, 4], [2], [3], [5]]\n",
      "3 [[0, 1, 4, 2], [3], [5]]\n",
      "4 [[0, 1, 4, 2, 3], [5]]\n",
      "5 [[0, 1, 4, 2, 3, 5]]\n"
     ]
    },
    {
     "data": {
      "image/png": "[encoded data removed]",
      "text/plain": [
       "<Figure size 432x288 with 1 Axes>"
      ]
     },
     "metadata": {
      "needs_background": "light"
     },
     "output_type": "display_data"
    }
   ],
   "source": [
    "print('3.3 ML+JC\\n3.3 result (ML+JC):')\n",
    "run_AIC(a,dist_JC,middle_line)"
   ]
  },
  {
   "cell_type": "markdown",
   "id": "33800451",
   "metadata": {},
   "source": [
    " ### Задание 4"
   ]
  },
  {
   "cell_type": "code",
   "execution_count": 18,
   "id": "6ffb5bb1",
   "metadata": {},
   "outputs": [
    {
     "name": "stdout",
     "output_type": "stream",
     "text": [
      " Source points ND: [[13, 5], [13, 6], [14, 5], [16, 2], [11, 3], [10, 6], [1, 3], [15, 2], [2, 4], [4, 9], [14, 3], [13, 8], [12, 4], [12, 6], [14, 6], [12, 7], [4, 1], [3, 9], [14, 1], [17, 4], [9, 7], [16, 1], [2, 8], [7, 3], [5, 4]]\n"
     ]
    }
   ],
   "source": [
    "ND =[[13,5],[13,6],[14,5],[16,2],[11,3],[10,6],[1,3],[15,2],[2,4],[4,9],[14,3],[13,8],[12,4],[12,6],\n",
    "    [14,6],[12,7],[4,1],[3,9],[14,1],[17,4],[9,7],[16,1],[2,8],[7,3],[5,4]]\n",
    "print(' Source points ND:',ND)"
   ]
  },
  {
   "cell_type": "code",
   "execution_count": 19,
   "id": "afbee136",
   "metadata": {},
   "outputs": [],
   "source": [
    "def compute_m1(x,D,ϵ):\n",
    "    neighbours=[]\n",
    "    for i,y in enumerate(D):\n",
    "        if x!=y:\n",
    "            distances=np.sqrt((x[0]-y[0])**2+(x[1]-y[1])**2)\n",
    "            if distances<=ϵ:\n",
    "                neighbours.append(i)\n",
    "    return neighbours\n",
    "\n",
    "def compute_m2(x,D,ϵ):\n",
    "    neighbours=[]\n",
    "    for i,y in enumerate(D):\n",
    "        if x!=y:\n",
    "            distances=((abs(x[0]-y[0]))**0.5+(abs(x[1]-y[1]))**0.5)**2\n",
    "            if distances<=ϵ:\n",
    "                neighbours.append(i)\n",
    "    return neighbours\n",
    "\n",
    "def compute_m3(x,D,ϵ):\n",
    "    neighbours=[]\n",
    "    for i,y in enumerate(D):\n",
    "        if x!=y:\n",
    "            distances=[abs(x[0]-y[0]),abs(x[1]-y[1])]\n",
    "            distances=max(distances)\n",
    "            if distances<=ϵ:\n",
    "                neighbours.append(i)\n",
    "    return neighbours\n",
    "\n",
    "def compute_m4(x,D,ϵ):\n",
    "    neighbours=[]\n",
    "    for i,y in enumerate(D):\n",
    "        if x!=y:\n",
    "            distances=[abs(x[0]-y[0]),abs(x[1]-y[1])]\n",
    "            distances=min(distances)\n",
    "            if distances<=ϵ:\n",
    "                neighbours.append(i)\n",
    "    return neighbours\n",
    "\n",
    "def compute_m5(x,D,ϵ):\n",
    "    neighbours=[]\n",
    "    for i,y in enumerate(D):\n",
    "        if x!=y:\n",
    "            distances=np.sqrt((x[0]-y[0])**2+2*(x[1]-y[1])**2)\n",
    "            if distances<=ϵ:\n",
    "                neighbours.append(i)\n",
    "    return neighbours\n",
    "    \n",
    "def run_DBSCAN(D,minPts,ϵ,compute_m):\n",
    "    core=[]\n",
    "    id_cluster={}\n",
    "    point_neighbours={}\n",
    "    \n",
    "    def density_connected(x,k):\n",
    "        neighbours=point_neighbours.get(x)\n",
    "        for y in neighbours:\n",
    "            if id_cluster.get(y)!=k:\n",
    "                id_cluster[y]=k\n",
    "                if y in core:\n",
    "                    density_connected(y,k)    \n",
    "    \n",
    "    for i,x in enumerate(D):\n",
    "        neigh=compute_m(x,D,ϵ)\n",
    "        amount_neigh = len(neigh)\n",
    "        point_neighbours[i]=neigh\n",
    "        id_cluster.setdefault(i,0)\n",
    "        if amount_neigh>=minPts:\n",
    "            core.append(i)\n",
    "    k=0\n",
    "    for x in core:\n",
    "        if id_cluster.get(x)==0:\n",
    "            k=k+1\n",
    "            id_cluster[x]=k\n",
    "            density_connected(x,k)\n",
    "    C=[]\n",
    "    for i in range (1,k+1):\n",
    "        Ci=[x  for x in range(len(D)) if id_cluster.get(x)==i]\n",
    "        C.append(Ci)\n",
    "    noise=[x for x in range(len(D)) if id_cluster.get(x)==0]\n",
    "    append_arr= core + noise\n",
    "    border=[x for x in range(len(D)) if x not in append_arr]\n",
    "    return C,core,border,noise"
   ]
  },
  {
   "cell_type": "code",
   "execution_count": 20,
   "id": "9e041338",
   "metadata": {},
   "outputs": [],
   "source": [
    "def make_plot_with_noise(D,clusters,noise):\n",
    "    D=np.array(D)\n",
    "    fig, ax = plt.subplots()\n",
    "    for index in noise:\n",
    "        ax.plot(D[index,0],D[index,1],'g*')\n",
    "        ax.text(D[index,0]+0.1,D[index,1]+0.1,index)\n",
    "    labels_=[-1]*len(D)\n",
    "    for i,cluster in enumerate(clusters):\n",
    "        for index in cluster:\n",
    "            labels_[index]=i\n",
    "    labels_=[x for x in labels_ if x !=-1]\n",
    "    new_D=[]\n",
    "    for i,x in enumerate(D):\n",
    "        if i not in noise:\n",
    "            ax.text(x[0]+0.1,x[1]+0.1,i)\n",
    "            new_D.append(x)\n",
    "    new_D=np.array(new_D)\n",
    "    scatter = ax.scatter(new_D[:,0],new_D[:,1],c=labels_,cmap='rainbow')\n",
    "    legend = ax.legend(*scatter.legend_elements(fmt='Cluster {x:.0f}'),bbox_to_anchor=(1,0.7))\n",
    "    ax.add_artist(legend)\n",
    "    plt.show()"
   ]
  },
  {
   "cell_type": "code",
   "execution_count": 21,
   "id": "8c10ae8c",
   "metadata": {
    "scrolled": false
   },
   "outputs": [
    {
     "name": "stdout",
     "output_type": "stream",
     "text": [
      "Measure 1 (Norm), ϵ = 3, minPts = 4\n",
      "Result:\n",
      " C: [[0, 1, 2, 3, 4, 5, 7, 10, 11, 12, 13, 14, 15, 18, 19, 20, 21]]\n",
      " O: [0, 1, 2, 3, 5, 7, 10, 11, 12, 13, 14, 15, 18, 21]\n",
      " B: [4, 19, 20]\n",
      " N: [6, 8, 9, 16, 17, 22, 23, 24]\n"
     ]
    },
    {
     "data": {
      "image/png": "[encoded data removed]",
      "text/plain": [
       "<Figure size 432x288 with 1 Axes>"
      ]
     },
     "metadata": {
      "needs_background": "light"
     },
     "output_type": "display_data"
    }
   ],
   "source": [
    "minPts =4 \n",
    "ϵ = 3\n",
    "C,core,border,noise = run_DBSCAN(ND,minPts,ϵ,compute_m1)\n",
    "print(f'Measure 1 (Norm), ϵ = {ϵ}, minPts = {minPts}')\n",
    "print(f'Result:\\n C: {C}\\n O: {core}\\n B: {border}\\n N: {noise}')\n",
    "make_plot_with_noise(ND,C,noise)"
   ]
  },
  {
   "cell_type": "code",
   "execution_count": 22,
   "id": "7960a1bb",
   "metadata": {},
   "outputs": [
    {
     "name": "stdout",
     "output_type": "stream",
     "text": [
      "Measure 2 (1/2), ϵ = 4, minPts = 6\n",
      "Result:\n",
      " C: [[0, 1, 2, 5, 10, 11, 12, 13, 14, 15]]\n",
      " O: [0, 1, 13, 14]\n",
      " B: [2, 5, 10, 11, 12, 15]\n",
      " N: [3, 4, 6, 7, 8, 9, 16, 17, 18, 19, 20, 21, 22, 23, 24]\n"
     ]
    },
    {
     "data": {
      "image/png": "[encoded data removed]",
      "text/plain": [
       "<Figure size 432x288 with 1 Axes>"
      ]
     },
     "metadata": {
      "needs_background": "light"
     },
     "output_type": "display_data"
    }
   ],
   "source": [
    "minPts=6\n",
    "ϵ=4\n",
    "C,core,border,noise=run_DBSCAN(ND,minPts,ϵ,compute_m2)\n",
    "print(f'Measure 2 (1/2), ϵ = {ϵ}, minPts = {minPts}')\n",
    "print(f'Result:\\n C: {C}\\n O: {core}\\n B: {border}\\n N: {noise}')\n",
    "make_plot_with_noise(ND,C,noise)"
   ]
  },
  {
   "cell_type": "code",
   "execution_count": 23,
   "id": "bb066d36",
   "metadata": {},
   "outputs": [
    {
     "name": "stdout",
     "output_type": "stream",
     "text": [
      "Measure 3 (Max), ϵ = 3, minPts = 4\n",
      "Result:\n",
      " C: [[0, 1, 2, 3, 4, 5, 7, 10, 11, 12, 13, 14, 15, 18, 19, 20, 21], [6, 8, 16, 23, 24]]\n",
      " O: [0, 1, 2, 3, 4, 5, 7, 10, 11, 12, 13, 14, 15, 16, 18, 19, 20, 21]\n",
      " B: [6, 8, 23, 24]\n",
      " N: [9, 17, 22]\n"
     ]
    },
    {
     "data": {
      "image/png": "[encoded data removed]",
      "text/plain": [
       "<Figure size 432x288 with 1 Axes>"
      ]
     },
     "metadata": {
      "needs_background": "light"
     },
     "output_type": "display_data"
    }
   ],
   "source": [
    "minPts=4\n",
    "ϵ=3\n",
    "C,core,border,noise=run_DBSCAN(ND,minPts,ϵ,compute_m3)\n",
    "print(f'Measure 3 (Max), ϵ = {ϵ}, minPts = {minPts}')\n",
    "print(f'Result:\\n C: {C}\\n O: {core}\\n B: {border}\\n N: {noise}')\n",
    "make_plot_with_noise(ND,C,noise)"
   ]
  },
  {
   "cell_type": "code",
   "execution_count": 24,
   "id": "2e43e996",
   "metadata": {
    "scrolled": true
   },
   "outputs": [
    {
     "name": "stdout",
     "output_type": "stream",
     "text": [
      "Measure 4 (Min), ϵ = 2, minPts = 10\n",
      "Result:\n",
      " C: [[0, 1, 2, 3, 4, 5, 6, 7, 8, 9, 10, 11, 12, 13, 14, 15, 16, 17, 18, 19, 20, 21, 22, 23, 24]]\n",
      " O: [0, 1, 2, 3, 4, 5, 6, 7, 8, 10, 11, 12, 13, 14, 15, 16, 18, 19, 20, 21, 22, 23, 24]\n",
      " B: [9, 17]\n",
      " N: []\n"
     ]
    },
    {
     "data": {
      "image/png": "[encoded data removed]",
      "text/plain": [
       "<Figure size 432x288 with 1 Axes>"
      ]
     },
     "metadata": {
      "needs_background": "light"
     },
     "output_type": "display_data"
    }
   ],
   "source": [
    "minPts=10\n",
    "ϵ=2\n",
    "C,core,border,noise=run_DBSCAN(ND,minPts,ϵ,compute_m4)\n",
    "print(f'Measure 4 (Min), ϵ = {ϵ}, minPts = {minPts}')\n",
    "print(f'Result:\\n C: {C}\\n O: {core}\\n B: {border}\\n N: {noise}')\n",
    "make_plot_with_noise(ND,C,noise)"
   ]
  },
  {
   "cell_type": "code",
   "execution_count": 25,
   "id": "87978971",
   "metadata": {},
   "outputs": [
    {
     "name": "stdout",
     "output_type": "stream",
     "text": [
      "Measure 5 (Pow), ϵ = 4, minPts = 2\n",
      "Result:\n",
      " C: [[0, 1, 2, 3, 4, 5, 6, 7, 8, 10, 11, 12, 13, 14, 15, 18, 19, 20, 21, 23, 24], [9, 17, 22]]\n",
      " O: [0, 1, 2, 3, 4, 5, 7, 8, 9, 10, 11, 12, 13, 14, 15, 17, 18, 19, 20, 21, 22, 23, 24]\n",
      " B: [6]\n",
      " N: [16]\n"
     ]
    },
    {
     "data": {
      "image/png": "[encoded data removed]",
      "text/plain": [
       "<Figure size 432x288 with 1 Axes>"
      ]
     },
     "metadata": {
      "needs_background": "light"
     },
     "output_type": "display_data"
    }
   ],
   "source": [
    "minPts=2\n",
    "ϵ=4\n",
    "C,core,border,noise=run_DBSCAN(ND,minPts,ϵ,compute_m5)\n",
    "print(f'Measure 5 (Pow), ϵ = {ϵ}, minPts = {minPts}')\n",
    "print(f'Result:\\n C: {C}\\n O: {core}\\n B: {border}\\n N: {noise}')\n",
    "make_plot_with_noise(ND,C,noise)"
   ]
  }
 ],
 "metadata": {
  "kernelspec": {
   "display_name": "Python 3",
   "language": "python",
   "name": "python3"
  },
  "language_info": {
   "codemirror_mode": {
    "name": "ipython",
    "version": 3
   },
   "file_extension": ".py",
   "mimetype": "text/x-python",
   "name": "python",
   "nbconvert_exporter": "python",
   "pygments_lexer": "ipython3",
   "version": "3.8.8"
  }
 },
 "nbformat": 4,
 "nbformat_minor": 5
}
