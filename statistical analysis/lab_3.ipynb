{
 "cells": [
  {
   "cell_type": "code",
   "execution_count": 8,
   "id": "bfe96e1f",
   "metadata": {},
   "outputs": [],
   "source": [
    "import numpy as np\n",
    "import pandas as pd\n",
    "import math\n",
    "import scipy.stats as stats\n",
    "\n",
    "m =[4, 12, 12, 5, 7, 17, 17, 10, 8, 7, 1, 4, 5, 0, 0, 2, 1, 0, 0, 2, 1, 1]\n",
    "n=sum(m)\n",
    "s=46.14900983234701\n",
    "x_v=88.40598456743346\n",
    "t1=stats.t.ppf((1 + 0.95)/2, n-1)\n",
    "t2=stats.t.ppf((1 + 0.99)/2, n-1)"
   ]
  },
  {
   "cell_type": "code",
   "execution_count": 9,
   "id": "e269511f",
   "metadata": {},
   "outputs": [
    {
     "name": "stdout",
     "output_type": "stream",
     "text": [
      "( 79.91856496538244 ; 96.89340416948448 )\n",
      "( 77.18291465079217 ; 99.62905448407476 )\n"
     ]
    }
   ],
   "source": [
    "dov1_95=x_v-t1*s/math.sqrt(n)\n",
    "dov2_95=x_v+t1*s/math.sqrt(n)\n",
    "print(\"(\",dov1_95,\";\",dov2_95, \")\")\n",
    "dov1_99=x_v-t2*s/math.sqrt(n)\n",
    "dov2_99=x_v+t2*s/math.sqrt(n)\n",
    "print(\"(\",dov1_99,\";\",dov2_99, \")\")\n"
   ]
  },
  {
   "cell_type": "code",
   "execution_count": 10,
   "id": "701135b2",
   "metadata": {},
   "outputs": [
    {
     "name": "stdout",
     "output_type": "stream",
     "text": [
      "-0.10051572449850354\n",
      "-0.13681418143339985\n",
      "( 50.78771099053394 ; 41.510308674160086 )\n",
      "( 52.46284883652149 ; 39.83517082817254 )\n"
     ]
    }
   ],
   "source": [
    "q1=math.sqrt((n-1)/142.1381600390264632713)-1\n",
    "print(q1)\n",
    "q2=math.sqrt((n-1)/154.3438208105705585851)-1\n",
    "print(q2)\n",
    "sko95=[s-s*q1, s+s*q1]\n",
    "\n",
    "print(\"(\",sko95[0],\";\",sko95[1], \")\")\n",
    "sko99=[s-s*q2, s+s*q2]\n",
    "print(\"(\",sko99[0],\";\",sko99[1], \")\")\n"
   ]
  },
  {
   "cell_type": "code",
   "execution_count": 11,
   "id": "fcfe4b57",
   "metadata": {},
   "outputs": [
    {
     "name": "stdout",
     "output_type": "stream",
     "text": [
      "19.99353023804064\n",
      "[0.0984833572959018, 0.04658129447304804, 0.059497910872055026, 0.0720178425263559, 0.08260889861423598, 0.08979702944888136, 0.09250081706097825, 0.0902978989202261, 0.08353302042982583, 0.07322968138019331, 0.0608365319186841, 0.04789497947868937, 0.03573251939160832, 0.025263017466383486, 0.016926008266734793, 0.01074660760776397, 0.006465996972495391, 0.0036867745486498515, 0.0019920687877820753, 0.0010200193421059378, 0.0004949467096012627, 0.0003927784877993945]\n"
     ]
    }
   ],
   "source": [
    "from scipy import integrate\n",
    "x_interval=[18.137397286451368, 28.862602713548632, 39.5878081406459, 50.31301356774316, 61.03821899484043, 71.7634244219377, 82.48862984903496, 93.21383527613223, 103.9390407032295, 114.66424613032676, 125.38945155742402, 136.1146569845213, 146.83986241161858, 157.56506783871586, 168.29027326581314, 179.01547869291042, 189.7406841200077, 200.46588954710498, 211.19109497420226, 221.91630040129954, 232.64150582839682, 243.3667112554941, 254.09191668259137]\n",
    "\n",
    "def F_L(x):\n",
    "    invexp = lambda x: np.exp(-(x**2)/2)\n",
    "    return (1/np.sqrt(2*np.pi))*(integrate.quad(invexp, 0,x))[0]\n",
    "F_L(2)\n",
    "p=[]\n",
    "f_l1=F_L((x_interval[1]-x_v)/s)\n",
    "f_l2=F_L(-math.inf)\n",
    "p.append(f_l1-f_l2)\n",
    "for i in range(2,len(x_interval)-1):\n",
    "    p.append(F_L((x_interval[i]-x_v)/s)-F_L((x_interval[i-1]-x_v)/s))\n",
    "p.append(F_L(math.inf)-F_L((x_interval[len(x_interval)-2]-x_v)/s))\n",
    "m_new=[i * n for i in p]\n",
    "X_nabl=0\n",
    "for i in range(0,len(m_new)):\n",
    "        X_nabl=((m[i]-m_new[i])**2)/m_new[i]\n",
    "print(X_nabl)\n",
    "X_kr=10.11701306385904450202\n",
    "print(p)"
   ]
  },
  {
   "cell_type": "code",
   "execution_count": null,
   "id": "c714a9a1",
   "metadata": {},
   "outputs": [],
   "source": []
  }
 ],
 "metadata": {
  "kernelspec": {
   "display_name": "Python 3 (ipykernel)",
   "language": "python",
   "name": "python3"
  },
  "language_info": {
   "codemirror_mode": {
    "name": "ipython",
    "version": 3
   },
   "file_extension": ".py",
   "mimetype": "text/x-python",
   "name": "python",
   "nbconvert_exporter": "python",
   "pygments_lexer": "ipython3",
   "version": "3.9.13"
  }
 },
 "nbformat": 4,
 "nbformat_minor": 5
}
