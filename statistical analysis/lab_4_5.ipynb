{
 "cells": [
  {
   "cell_type": "code",
   "execution_count": 2,
   "id": "c5531494",
   "metadata": {},
   "outputs": [],
   "source": [
    "import numpy as np\n",
    "import pandas as pd\n",
    "import math\n",
    "import scipy.stats as stats\n",
    "import matplotlib.pyplot as plt\n",
    "import random"
   ]
  },
  {
   "cell_type": "code",
   "execution_count": 3,
   "id": "9ec71237",
   "metadata": {},
   "outputs": [],
   "source": [
    "mat_o1=89.0252463054187\n",
    "D1=2205.981725396757\n",
    "Ds1=2521.12197188201\n",
    "sko1=46.96787972004653\n",
    "As1=0.9958310033864437\n",
    "Ex1=1.4599330674149877\n",
    "moda1=84.9702380952381\n",
    "mediana1=84.72727272727273\n",
    "k_var1=52.75793291142822"
   ]
  },
  {
   "cell_type": "code",
   "execution_count": 4,
   "id": "93f06c9f",
   "metadata": {},
   "outputs": [],
   "source": [
    "mat_o2=12.862068965517242\n",
    "D2=10.843043995243757\n",
    "Ds2=10.937331334332836\n",
    "sko2=3.292877768038734\n",
    "As2=0.3594536838811182\n",
    "Ex2=0.14949465981239607\n",
    "moda2=12.34375\n",
    "mediana2=12.627906976744185\n",
    "k_var2=25.60146253971134"
   ]
  },
  {
   "cell_type": "code",
   "execution_count": 5,
   "id": "ee0af482",
   "metadata": {
    "scrolled": false
   },
   "outputs": [
    {
     "data": {
      "text/html": [
       "<div>\n",
       "<style scoped>\n",
       "    .dataframe tbody tr th:only-of-type {\n",
       "        vertical-align: middle;\n",
       "    }\n",
       "\n",
       "    .dataframe tbody tr th {\n",
       "        vertical-align: top;\n",
       "    }\n",
       "\n",
       "    .dataframe thead th {\n",
       "        text-align: right;\n",
       "    }\n",
       "</style>\n",
       "<table border=\"1\" class=\"dataframe\">\n",
       "  <thead>\n",
       "    <tr style=\"text-align: right;\">\n",
       "      <th></th>\n",
       "      <th>№</th>\n",
       "      <th>Mean</th>\n",
       "      <th>Var</th>\n",
       "      <th>Sko</th>\n",
       "      <th>As</th>\n",
       "      <th>Ex</th>\n",
       "      <th>Moda</th>\n",
       "      <th>Mediana</th>\n",
       "      <th>KV</th>\n",
       "    </tr>\n",
       "  </thead>\n",
       "  <tbody>\n",
       "    <tr>\n",
       "      <th>0</th>\n",
       "      <td>Price</td>\n",
       "      <td>89.025246</td>\n",
       "      <td>2205.981725</td>\n",
       "      <td>46.967880</td>\n",
       "      <td>0.995831</td>\n",
       "      <td>1.459933</td>\n",
       "      <td>84.970238</td>\n",
       "      <td>84.727273</td>\n",
       "      <td>52.757933</td>\n",
       "    </tr>\n",
       "    <tr>\n",
       "      <th>1</th>\n",
       "      <td>Diameter</td>\n",
       "      <td>12.862069</td>\n",
       "      <td>10.843044</td>\n",
       "      <td>3.292878</td>\n",
       "      <td>0.359454</td>\n",
       "      <td>0.149495</td>\n",
       "      <td>12.343750</td>\n",
       "      <td>12.627907</td>\n",
       "      <td>25.601463</td>\n",
       "    </tr>\n",
       "  </tbody>\n",
       "</table>\n",
       "</div>"
      ],
      "text/plain": [
       "          №       Mean          Var        Sko        As        Ex       Moda  \\\n",
       "0     Price  89.025246  2205.981725  46.967880  0.995831  1.459933  84.970238   \n",
       "1  Diameter  12.862069    10.843044   3.292878  0.359454  0.149495  12.343750   \n",
       "\n",
       "     Mediana         KV  \n",
       "0  84.727273  52.757933  \n",
       "1  12.627907  25.601463  "
      ]
     },
     "execution_count": 5,
     "metadata": {},
     "output_type": "execute_result"
    }
   ],
   "source": [
    "list={'№':['Price', 'Diameter'],'Mean':[mat_o1,mat_o2], 'Var':[D1,D2], 'Sko':[sko1,sko2], 'As': [As1, As2],'Ex': [Ex1, Ex2], 'Moda':[moda1, moda2],\n",
    "     'Mediana': [mediana1, mediana2], 'KV':[k_var1, k_var2]}\n",
    "tab=pd.DataFrame(list)\n",
    "tab"
   ]
  },
  {
   "cell_type": "code",
   "execution_count": 6,
   "id": "be13ce5a",
   "metadata": {},
   "outputs": [],
   "source": [
    "m_intP=[16, 24, 44, 16, 9, 3, 2, 2]\n",
    "m_intD=[23, 0, 43, 22, 17, 7, 1, 3] \n"
   ]
  },
  {
   "cell_type": "code",
   "execution_count": 7,
   "id": "68fb0303",
   "metadata": {},
   "outputs": [],
   "source": [
    "df=pd.read_csv('Выборка Блохина.csv', delimiter=';')\n",
    "viborka=[(df[\"The diameter of pizza in inch\"]), (df[\"pizzaPrice_rupiah\"])]\n",
    "vi=pd.DataFrame(viborka)\n",
    "\n"
   ]
  },
  {
   "cell_type": "code",
   "execution_count": null,
   "id": "fac0b856",
   "metadata": {},
   "outputs": [],
   "source": []
  },
  {
   "cell_type": "code",
   "execution_count": 8,
   "id": "719856b7",
   "metadata": {},
   "outputs": [
    {
     "name": "stdout",
     "output_type": "stream",
     "text": [
      "[16, 7, 0, 0, 0, 0, 0, 0, 0, 0, 0, 0, 0, 0, 0, 0, 0, 17, 26, 0, 0, 0, 0, 0, 0, 0, 18, 4, 0, 0, 0, 0, 0, 0, 0, 12, 5, 0, 0, 0, 0, 0, 0, 0, 4, 3, 0, 0, 0, 0, 0, 0, 0, 0, 1, 0, 0, 0, 0, 0, 0, 0, 1, 2]\n"
     ]
    }
   ],
   "source": [
    "interval_y=[7.464285714285715, 39.535714285714285, 71.60714285714286, 103.67857142857143, 135.75, 167.82142857142856, 199.8928571428571, 231.96428571428567, 264.0357142857142]\n",
    "interval_x=[7.0, 9.0, 11.0, 13.0, 15.0, 17.0, 19.0, 21.0, 23.0]\n",
    "m_xy=[]\n",
    "df_price=sorted((df[\"pizzaPrice_rupiah\"]))\n",
    "df_diameter=sorted(df[\"The diameter of pizza in inch\"])\n",
    "count_mxy=0\n",
    "for i in range (1,len(interval_x)):\n",
    "    for j in range (1,len(interval_y)):\n",
    "        for n in range (0,len(df_price)):\n",
    "            if df_diameter[n]>interval_x[i-1] and df_diameter[n]<=interval_x[i] and df_price[n]>interval_y[j-1] and df_price[n]<=interval_y[j]:\n",
    "                count_mxy+=1\n",
    "        \n",
    "        m_xy.append(count_mxy)\n",
    "        count_mxy=0\n",
    "    #m_xy.append('|')\n",
    "\n",
    "    \n",
    "print(m_xy)              \n",
    "    "
   ]
  },
  {
   "cell_type": "code",
   "execution_count": 9,
   "id": "f37db410",
   "metadata": {},
   "outputs": [
    {
     "data": {
      "text/html": [
       "<div>\n",
       "<style scoped>\n",
       "    .dataframe tbody tr th:only-of-type {\n",
       "        vertical-align: middle;\n",
       "    }\n",
       "\n",
       "    .dataframe tbody tr th {\n",
       "        vertical-align: top;\n",
       "    }\n",
       "\n",
       "    .dataframe thead th {\n",
       "        text-align: right;\n",
       "    }\n",
       "</style>\n",
       "<table border=\"1\" class=\"dataframe\">\n",
       "  <thead>\n",
       "    <tr style=\"text-align: right;\">\n",
       "      <th></th>\n",
       "      <th></th>\n",
       "      <th>7.46; 39.54</th>\n",
       "      <th>39.54; 71.61</th>\n",
       "      <th>71.61; 103.68</th>\n",
       "      <th>103.68; 135.75</th>\n",
       "      <th>135.75; 167.82</th>\n",
       "      <th>167.82; 199.89</th>\n",
       "      <th>199.89; 231.96</th>\n",
       "      <th>231.96;264.06</th>\n",
       "    </tr>\n",
       "  </thead>\n",
       "  <tbody>\n",
       "    <tr>\n",
       "      <th>0</th>\n",
       "      <td>7.0; 9.0</td>\n",
       "      <td>16</td>\n",
       "      <td>7</td>\n",
       "      <td>0</td>\n",
       "      <td>0</td>\n",
       "      <td>0</td>\n",
       "      <td>0</td>\n",
       "      <td>0</td>\n",
       "      <td>0</td>\n",
       "    </tr>\n",
       "    <tr>\n",
       "      <th>1</th>\n",
       "      <td>9.0; 11.0</td>\n",
       "      <td>0</td>\n",
       "      <td>0</td>\n",
       "      <td>0</td>\n",
       "      <td>0</td>\n",
       "      <td>0</td>\n",
       "      <td>0</td>\n",
       "      <td>0</td>\n",
       "      <td>0</td>\n",
       "    </tr>\n",
       "    <tr>\n",
       "      <th>2</th>\n",
       "      <td>11.0; 13.0</td>\n",
       "      <td>0</td>\n",
       "      <td>17</td>\n",
       "      <td>26</td>\n",
       "      <td>0</td>\n",
       "      <td>0</td>\n",
       "      <td>0</td>\n",
       "      <td>0</td>\n",
       "      <td>0</td>\n",
       "    </tr>\n",
       "    <tr>\n",
       "      <th>3</th>\n",
       "      <td>13.0; 15.0</td>\n",
       "      <td>0</td>\n",
       "      <td>0</td>\n",
       "      <td>18</td>\n",
       "      <td>4</td>\n",
       "      <td>0</td>\n",
       "      <td>0</td>\n",
       "      <td>0</td>\n",
       "      <td>0</td>\n",
       "    </tr>\n",
       "    <tr>\n",
       "      <th>4</th>\n",
       "      <td>15.0; 17.0</td>\n",
       "      <td>0</td>\n",
       "      <td>0</td>\n",
       "      <td>0</td>\n",
       "      <td>12</td>\n",
       "      <td>5</td>\n",
       "      <td>0</td>\n",
       "      <td>0</td>\n",
       "      <td>0</td>\n",
       "    </tr>\n",
       "    <tr>\n",
       "      <th>5</th>\n",
       "      <td>17.0; 19.0</td>\n",
       "      <td>0</td>\n",
       "      <td>0</td>\n",
       "      <td>0</td>\n",
       "      <td>0</td>\n",
       "      <td>4</td>\n",
       "      <td>3</td>\n",
       "      <td>0</td>\n",
       "      <td>0</td>\n",
       "    </tr>\n",
       "    <tr>\n",
       "      <th>6</th>\n",
       "      <td>19.0; 21.0</td>\n",
       "      <td>0</td>\n",
       "      <td>0</td>\n",
       "      <td>0</td>\n",
       "      <td>0</td>\n",
       "      <td>0</td>\n",
       "      <td>0</td>\n",
       "      <td>1</td>\n",
       "      <td>0</td>\n",
       "    </tr>\n",
       "    <tr>\n",
       "      <th>7</th>\n",
       "      <td>21.0; 23.0</td>\n",
       "      <td>0</td>\n",
       "      <td>0</td>\n",
       "      <td>0</td>\n",
       "      <td>0</td>\n",
       "      <td>0</td>\n",
       "      <td>0</td>\n",
       "      <td>1</td>\n",
       "      <td>2</td>\n",
       "    </tr>\n",
       "  </tbody>\n",
       "</table>\n",
       "</div>"
      ],
      "text/plain": [
       "               7.46; 39.54  39.54; 71.61  71.61; 103.68  103.68; 135.75  \\\n",
       "0    7.0; 9.0           16             7              0               0   \n",
       "1   9.0; 11.0            0             0              0               0   \n",
       "2  11.0; 13.0            0            17             26               0   \n",
       "3  13.0; 15.0            0             0             18               4   \n",
       "4  15.0; 17.0            0             0              0              12   \n",
       "5  17.0; 19.0            0             0              0               0   \n",
       "6  19.0; 21.0            0             0              0               0   \n",
       "7  21.0; 23.0            0             0              0               0   \n",
       "\n",
       "   135.75; 167.82  167.82; 199.89  199.89; 231.96  231.96;264.06  \n",
       "0               0               0               0              0  \n",
       "1               0               0               0              0  \n",
       "2               0               0               0              0  \n",
       "3               0               0               0              0  \n",
       "4               5               0               0              0  \n",
       "5               4               3               0              0  \n",
       "6               0               0               1              0  \n",
       "7               0               0               1              2  "
      ]
     },
     "execution_count": 9,
     "metadata": {},
     "output_type": "execute_result"
    }
   ],
   "source": [
    "M_xy=np.reshape(m_xy, (8, 8), order='F')\n",
    "list={' ':['7.0; 9.0', '9.0; 11.0','11.0; 13.0','13.0; 15.0', '15.0; 17.0','17.0; 19.0','19.0; 21.0','21.0; 23.0'],\n",
    "      '7.46; 39.54':M_xy[0],'39.54; 71.61':M_xy[1], '71.61; 103.68':M_xy[2],'103.68; 135.75':M_xy[3], '135.75; 167.82':M_xy[4], '167.82; 199.89':M_xy[5],\n",
    "      '199.89; 231.96':M_xy[6], '231.96;264.06':M_xy[7]}\n",
    "tab_int=pd.DataFrame(list)\n",
    "tab_int"
   ]
  },
  {
   "cell_type": "code",
   "execution_count": 10,
   "id": "7c3d0a4b",
   "metadata": {},
   "outputs": [
    {
     "data": {
      "text/plain": [
       "[23, 0, 43, 22, 17, 7, 1, 3, 116]"
      ]
     },
     "execution_count": 10,
     "metadata": {},
     "output_type": "execute_result"
    }
   ],
   "source": [
    "count=0\n",
    "countMx=[]\n",
    "countMy=[0,0,0,0,0,0,0,0]\n",
    "j=0\n",
    "for i in range(len(m_xy)):\n",
    "    if j<8:\n",
    "        count+=m_xy[i]\n",
    "        j+=1\n",
    "        countMy[j-1]+=m_xy[i]\n",
    "    else:\n",
    "        countMx.append(count)\n",
    "        count=0\n",
    "        count+=m_xy[i]\n",
    "        j=1\n",
    "        countMy[j]+=m_xy[i] \n",
    "countMx.append(count)\n",
    "countMx.append(116)\n",
    "countMx\n",
    "\n"
   ]
  },
  {
   "cell_type": "code",
   "execution_count": 11,
   "id": "5e068159",
   "metadata": {},
   "outputs": [
    {
     "name": "stdout",
     "output_type": "stream",
     "text": [
      "[16, 7, 0, 0, 0, 0, 0, 0, 0, 0, 0, 0, 0, 0, 0, 0, 0, 17, 26, 0, 0, 0, 0, 0, 0, 0, 18, 4, 0, 0, 0, 0, 0, 0, 0, 12, 5, 0, 0, 0, 0, 0, 0, 0, 4, 3, 0, 0, 0, 0, 0, 0, 0, 0, 1, 0, 0, 0, 0, 0, 0, 0, 1, 2, 16, 24, 44, 16, 9, 3, 2, 2]\n"
     ]
    }
   ],
   "source": [
    "for i in range(8): \n",
    "    m_xy.append(countMy[i])\n",
    "print(m_xy)"
   ]
  },
  {
   "cell_type": "code",
   "execution_count": 12,
   "id": "5ad93294",
   "metadata": {},
   "outputs": [
    {
     "data": {
      "text/html": [
       "<div>\n",
       "<style scoped>\n",
       "    .dataframe tbody tr th:only-of-type {\n",
       "        vertical-align: middle;\n",
       "    }\n",
       "\n",
       "    .dataframe tbody tr th {\n",
       "        vertical-align: top;\n",
       "    }\n",
       "\n",
       "    .dataframe thead th {\n",
       "        text-align: right;\n",
       "    }\n",
       "</style>\n",
       "<table border=\"1\" class=\"dataframe\">\n",
       "  <thead>\n",
       "    <tr style=\"text-align: right;\">\n",
       "      <th></th>\n",
       "      <th></th>\n",
       "      <th>7.46; 39.54</th>\n",
       "      <th>39.54; 71.61</th>\n",
       "      <th>71.61; 103.68</th>\n",
       "      <th>103.68; 135.75</th>\n",
       "      <th>135.75; 167.82</th>\n",
       "      <th>167.82; 199.89</th>\n",
       "      <th>199.89; 231.96</th>\n",
       "      <th>231.96;264.06</th>\n",
       "      <th>m_xi</th>\n",
       "    </tr>\n",
       "  </thead>\n",
       "  <tbody>\n",
       "    <tr>\n",
       "      <th>0</th>\n",
       "      <td>7.0; 9.0</td>\n",
       "      <td>16</td>\n",
       "      <td>7</td>\n",
       "      <td>0</td>\n",
       "      <td>0</td>\n",
       "      <td>0</td>\n",
       "      <td>0</td>\n",
       "      <td>0</td>\n",
       "      <td>0</td>\n",
       "      <td>23</td>\n",
       "    </tr>\n",
       "    <tr>\n",
       "      <th>1</th>\n",
       "      <td>9.0; 11.0</td>\n",
       "      <td>0</td>\n",
       "      <td>0</td>\n",
       "      <td>0</td>\n",
       "      <td>0</td>\n",
       "      <td>0</td>\n",
       "      <td>0</td>\n",
       "      <td>0</td>\n",
       "      <td>0</td>\n",
       "      <td>0</td>\n",
       "    </tr>\n",
       "    <tr>\n",
       "      <th>2</th>\n",
       "      <td>11.0; 13.0</td>\n",
       "      <td>0</td>\n",
       "      <td>17</td>\n",
       "      <td>26</td>\n",
       "      <td>0</td>\n",
       "      <td>0</td>\n",
       "      <td>0</td>\n",
       "      <td>0</td>\n",
       "      <td>0</td>\n",
       "      <td>43</td>\n",
       "    </tr>\n",
       "    <tr>\n",
       "      <th>3</th>\n",
       "      <td>13.0; 15.0</td>\n",
       "      <td>0</td>\n",
       "      <td>0</td>\n",
       "      <td>18</td>\n",
       "      <td>4</td>\n",
       "      <td>0</td>\n",
       "      <td>0</td>\n",
       "      <td>0</td>\n",
       "      <td>0</td>\n",
       "      <td>22</td>\n",
       "    </tr>\n",
       "    <tr>\n",
       "      <th>4</th>\n",
       "      <td>15.0; 17.0</td>\n",
       "      <td>0</td>\n",
       "      <td>0</td>\n",
       "      <td>0</td>\n",
       "      <td>12</td>\n",
       "      <td>5</td>\n",
       "      <td>0</td>\n",
       "      <td>0</td>\n",
       "      <td>0</td>\n",
       "      <td>17</td>\n",
       "    </tr>\n",
       "    <tr>\n",
       "      <th>5</th>\n",
       "      <td>17.0; 19.0</td>\n",
       "      <td>0</td>\n",
       "      <td>0</td>\n",
       "      <td>0</td>\n",
       "      <td>0</td>\n",
       "      <td>4</td>\n",
       "      <td>3</td>\n",
       "      <td>0</td>\n",
       "      <td>0</td>\n",
       "      <td>7</td>\n",
       "    </tr>\n",
       "    <tr>\n",
       "      <th>6</th>\n",
       "      <td>19.0; 21.0</td>\n",
       "      <td>0</td>\n",
       "      <td>0</td>\n",
       "      <td>0</td>\n",
       "      <td>0</td>\n",
       "      <td>0</td>\n",
       "      <td>0</td>\n",
       "      <td>1</td>\n",
       "      <td>0</td>\n",
       "      <td>1</td>\n",
       "    </tr>\n",
       "    <tr>\n",
       "      <th>7</th>\n",
       "      <td>21.0; 23.0</td>\n",
       "      <td>0</td>\n",
       "      <td>0</td>\n",
       "      <td>0</td>\n",
       "      <td>0</td>\n",
       "      <td>0</td>\n",
       "      <td>0</td>\n",
       "      <td>1</td>\n",
       "      <td>2</td>\n",
       "      <td>3</td>\n",
       "    </tr>\n",
       "    <tr>\n",
       "      <th>8</th>\n",
       "      <td>m_yj</td>\n",
       "      <td>16</td>\n",
       "      <td>24</td>\n",
       "      <td>44</td>\n",
       "      <td>16</td>\n",
       "      <td>9</td>\n",
       "      <td>3</td>\n",
       "      <td>2</td>\n",
       "      <td>2</td>\n",
       "      <td>116</td>\n",
       "    </tr>\n",
       "  </tbody>\n",
       "</table>\n",
       "</div>"
      ],
      "text/plain": [
       "               7.46; 39.54  39.54; 71.61  71.61; 103.68  103.68; 135.75  \\\n",
       "0    7.0; 9.0           16             7              0               0   \n",
       "1   9.0; 11.0            0             0              0               0   \n",
       "2  11.0; 13.0            0            17             26               0   \n",
       "3  13.0; 15.0            0             0             18               4   \n",
       "4  15.0; 17.0            0             0              0              12   \n",
       "5  17.0; 19.0            0             0              0               0   \n",
       "6  19.0; 21.0            0             0              0               0   \n",
       "7  21.0; 23.0            0             0              0               0   \n",
       "8        m_yj           16            24             44              16   \n",
       "\n",
       "   135.75; 167.82  167.82; 199.89  199.89; 231.96  231.96;264.06  m_xi  \n",
       "0               0               0               0              0    23  \n",
       "1               0               0               0              0     0  \n",
       "2               0               0               0              0    43  \n",
       "3               0               0               0              0    22  \n",
       "4               5               0               0              0    17  \n",
       "5               4               3               0              0     7  \n",
       "6               0               0               1              0     1  \n",
       "7               0               0               1              2     3  \n",
       "8               9               3               2              2   116  "
      ]
     },
     "execution_count": 12,
     "metadata": {},
     "output_type": "execute_result"
    }
   ],
   "source": [
    "M_xy=np.reshape(m_xy, (8, 9), order='F')\n",
    "list={' ':['7.0; 9.0', '9.0; 11.0','11.0; 13.0','13.0; 15.0', '15.0; 17.0','17.0; 19.0','19.0; 21.0','21.0; 23.0','m_yj'],\n",
    "      '7.46; 39.54':M_xy[0],'39.54; 71.61':M_xy[1], '71.61; 103.68':M_xy[2],'103.68; 135.75':M_xy[3], '135.75; 167.82':M_xy[4], '167.82; 199.89':M_xy[5],\n",
    "      '199.89; 231.96':M_xy[6], '231.96;264.06':M_xy[7], 'm_xi':countMx}\n",
    "tab_int=pd.DataFrame(list)\n",
    "tab_int\n"
   ]
  },
  {
   "cell_type": "code",
   "execution_count": 13,
   "id": "de60a131",
   "metadata": {},
   "outputs": [
    {
     "data": {
      "text/plain": [
       "18"
      ]
     },
     "execution_count": 13,
     "metadata": {},
     "output_type": "execute_result"
    }
   ],
   "source": [
    "M_xy[2][3]"
   ]
  },
  {
   "cell_type": "code",
   "execution_count": 14,
   "id": "8b00e3db",
   "metadata": {},
   "outputs": [],
   "source": [
    "mid_x=[8.0, 10.0, 12.0, 14.0, 16.0, 18.0, 20.0, 22.0]\n",
    "mid_y=[23.5, 55.57142857142857, 87.64285714285714, 119.71428571428572, 151.78571428571428, 183.85714285714283, 215.9285714285714, 247.99999999999994]"
   ]
  },
  {
   "cell_type": "code",
   "execution_count": 15,
   "id": "2c217af6",
   "metadata": {},
   "outputs": [
    {
     "name": "stdout",
     "output_type": "stream",
     "text": [
      "Cтатистическая оценка корреляционного момента  144.23562510616625 \n",
      "Коэффициент корреляции: 0.8686002059704103\n"
     ]
    }
   ],
   "source": [
    "n_xy=0\n",
    "for i in range(0,len(mid_x)):\n",
    "    for j in range(0,len(mid_y)):\n",
    "        n_xy+=mid_x[i]*mid_y[j]*M_xy[j][i]\n",
    "Sxy=n_xy/116-(mat_o1*mat_o2)\n",
    "r_v=Sxy/((math.sqrt(Ds1))*(math.sqrt(Ds2)))\n",
    "\n",
    "print('Cтатистическая оценка корреляционного момента ',Sxy,'\\nКоэффициент корреляции:', r_v)"
   ]
  },
  {
   "cell_type": "code",
   "execution_count": 16,
   "id": "69921261",
   "metadata": {},
   "outputs": [
    {
     "name": "stdout",
     "output_type": "stream",
     "text": [
      "Доверительный интервал при  уровне значимости 0.95: (  1.14101147000846 ; 1.513688868035163  )\n",
      "Доверительный интервал при  уровне значимости 0.99: (  1.0809511048471765 ; 1.5737492331964464  )\n"
     ]
    },
    {
     "data": {
      "text/plain": [
       "0.09407208683835973"
      ]
     },
     "execution_count": 16,
     "metadata": {},
     "output_type": "execute_result"
    }
   ],
   "source": [
    "n=116\n",
    "t1=stats.t.ppf((1 + 0.95)/2, n-1)\n",
    "t2=stats.t.ppf((1 + 0.99)/2, n-1)\n",
    "z=0.5*math.log((1+r_v)/(1-r_v))\n",
    "m=1/(math.sqrt(n-3))\n",
    "z1=[z-t1*m,z+t1*m]\n",
    "z2=[z-t2*m, z+t2*m]\n",
    "print('Доверительный интервал при  уровне значимости 0.95:','( ',z1[0],\";\", z1[1],' )')\n",
    "print('Доверительный интервал при  уровне значимости 0.99:','( ',z2[0],\";\", z2[1],' )')\n",
    "m"
   ]
  },
  {
   "cell_type": "code",
   "execution_count": 17,
   "id": "d7d17959",
   "metadata": {},
   "outputs": [
    {
     "name": "stdout",
     "output_type": "stream",
     "text": [
      "Отвергаем нулевую гипотезу\n",
      "0.06284498583493063 18.716162845985334\n"
     ]
    }
   ],
   "source": [
    "t=stats.t.ppf((1 + 0.05)/2, n-2)\n",
    "t_r=r_v*math.sqrt((n-2)/(1-r_v**2))\n",
    "if t<t_r:\n",
    "    print(\"Отвергаем нулевую гипотезу\" )\n",
    "else:\n",
    "    print(\"Подтверждаем нулевую гипотезу\" )\n",
    "print(t, t_r)"
   ]
  },
  {
   "cell_type": "markdown",
   "id": "383d18c6",
   "metadata": {},
   "source": [
    "ЛАБОРАТОРНАЯ 5"
   ]
  },
  {
   "cell_type": "code",
   "execution_count": 18,
   "id": "906148c4",
   "metadata": {},
   "outputs": [
    {
     "data": {
      "text/plain": [
       "<matplotlib.collections.PathCollection at 0x16c3d141fa0>"
      ]
     },
     "execution_count": 18,
     "metadata": {},
     "output_type": "execute_result"
    },
    {
     "data": {
      "image/png": "[encoded data removed]",
      "text/plain": [
       "<Figure size 432x288 with 1 Axes>"
      ]
     },
     "metadata": {
      "needs_background": "light"
     },
     "output_type": "display_data"
    }
   ],
   "source": [
    "\n",
    "plt.scatter(viborka[0],viborka[1])\n"
   ]
  },
  {
   "cell_type": "code",
   "execution_count": 19,
   "id": "5796c2d0",
   "metadata": {},
   "outputs": [
    {
     "data": {
      "image/png": "[encoded data removed]",
      "text/plain": [
       "<Figure size 432x288 with 1 Axes>"
      ]
     },
     "metadata": {
      "needs_background": "light"
     },
     "output_type": "display_data"
    }
   ],
   "source": [
    "def lin_y(mid_x):\n",
    "        return(mat_o1+Sxy*(sko1/sko2)*(mid_x-mat_o2))\n",
    "    \n",
    "def lin_x(mid_y):        \n",
    "    return(mat_o2+Sxy*(sko2/sko1)*(mid_y-mat_o1))\n",
    "\n",
    "Y_x=[]\n",
    "X_y=[]\n",
    "for i in range(0, len(mid_y)):\n",
    "    X_y.append(lin_x(mid_y[i]))\n",
    "    Y_x.append(lin_y(mid_x[i]))\n",
    "    \n",
    "\n",
    "plt.plot(X_y, mid_x)\n",
    "plt.plot(Y_x, mid_y)\n",
    "plt.scatter(viborka[0],viborka[1])\n",
    "plt.show()"
   ]
  },
  {
   "cell_type": "code",
   "execution_count": 20,
   "id": "cbf9cd65",
   "metadata": {},
   "outputs": [
    {
     "name": "stdout",
     "output_type": "stream",
     "text": [
      "0.8039247332528121 0.8039247332528121\n"
     ]
    }
   ],
   "source": [
    "D_x=0\n",
    "D_y=0\n",
    "mean_x=[]\n",
    "mean_y=[]\n",
    "sum_meanx=0\n",
    "sum_meany=0\n",
    "k=0\n",
    "D_comX=0\n",
    "D_comY=0\n",
    "\n",
    "#групповые средние\n",
    "for i in range(0, len(countMy)):\n",
    "    for j in range(0,8):\n",
    "        sum_meanx+=M_xy[i][j]*mid_x[j]\n",
    "        sum_meany+=m_xy[k]*mid_y[j]\n",
    "        k+=1\n",
    "    mean_x.append(sum_meanx/countMy[i])\n",
    "    if countMx[i]!=0:\n",
    "        mean_y.append(sum_meany/countMx[i])\n",
    "    else:\n",
    "        mean_y.append(0)\n",
    "    sum_meanx=0\n",
    "    sum_meany=0\n",
    "#межгрупповая дисперсия    \n",
    "for i in range(0,len(countMy)):\n",
    "    D_x+=((mean_x[i]-mat_o2)**2)*countMy[i]\n",
    "    D_y+=((mean_y[i]-mat_o1)**2)*countMx[i]\n",
    "D_x=D_x/116\n",
    "D_y=D_y/116\n",
    "\n",
    "#Общее среднее квадратичное отклонение равно\n",
    "for i in range(0,len(countMy)):\n",
    "    D_comX+=((mean_x[i]-mat_o2)**2)*countMx[i]\n",
    "    D_comY+=((mean_y[i]-mat_o1)**2)*countMy[i]\n",
    "D_comX=D_comX/116\n",
    "D_comY=D_comY/116\n",
    "cor_yx=math.sqrt(D_y)/math.sqrt(D_comY)\n",
    "cor_xy=math.sqrt(D_x)/math.sqrt(D_comX)\n",
    "print(cor_yx, cor_yx)\n"
   ]
  },
  {
   "cell_type": "code",
   "execution_count": 21,
   "id": "2e199367",
   "metadata": {},
   "outputs": [
    {
     "data": {
      "image/png": "[encoded data removed]",
      "text/plain": [
       "<Figure size 432x288 with 1 Axes>"
      ]
     },
     "metadata": {
      "needs_background": "light"
     },
     "output_type": "display_data"
    },
    {
     "data": {
      "text/plain": [
       "array([ 0.4690159 ,  1.41345377, -0.05722198])"
      ]
     },
     "execution_count": 21,
     "metadata": {},
     "output_type": "execute_result"
    }
   ],
   "source": [
    "#Метод наименьших квадратов для 𝑦 = 𝑎𝑥2 + 𝑏𝑥 + 𝑐.\n",
    "x_mnk1=np.sum(mid_x)\n",
    "y_mnk=np.sum(mid_y)\n",
    "x_mnk2=np.sum([num**2 for num in mid_x])\n",
    "x_mnk3=np.sum([num**3 for num in mid_x])\n",
    "x_mnk4=np.sum([num**4 for num in mid_x])\n",
    "xy_mnk=0\n",
    "xy_mnk2=0\n",
    "for i in range(0,len(mid_x)):\n",
    "    xy_mnk+=mid_x[i]*mid_y[i]\n",
    "    xy_mnk2+=(mid_x[i]**2)*mid_y[i]\n",
    "    \n",
    "MNK=np.array([[x_mnk4,x_mnk3,x_mnk2],[x_mnk3,x_mnk2,x_mnk1],[x_mnk2,x_mnk1,116]])\n",
    "v_MNK=np.array([xy_mnk2,xy_mnk,y_mnk]) \n",
    "abc=np.linalg.solve(MNK, v_MNK)\n",
    "def y_res(x):\n",
    "    return abc[0]*(x**2)+abc[1]*x+abc[2]\n",
    "\n",
    "x_gen=np.linspace(-10**51,10**51,700)\n",
    "fig, ax = plt.subplots()\n",
    "ax.plot(x_gen, y_res(x_gen))\n",
    "plt.show()\n",
    "abc"
   ]
  },
  {
   "cell_type": "code",
   "execution_count": 22,
   "id": "2a24fd98",
   "metadata": {},
   "outputs": [
    {
     "data": {
      "image/png": "[encoded data removed]",
      "text/plain": [
       "<Figure size 432x288 with 1 Axes>"
      ]
     },
     "metadata": {
      "needs_background": "light"
     },
     "output_type": "display_data"
    },
    {
     "data": {
      "text/plain": [
       "array([-0.04607259,  0.76524782])"
      ]
     },
     "execution_count": 22,
     "metadata": {},
     "output_type": "execute_result"
    }
   ],
   "source": [
    "#𝑦 =1/(𝑎𝑥 + 𝑏)\n",
    "y1_mnk=np.sum([1/num for num in mid_x])\n",
    "xdely_mnk=0\n",
    "for i in range(0,len(mid_x)):\n",
    "    xdely_mnk+=mid_x[i]/mid_y[i]\n",
    "MNK_drob=np.array([[x_mnk2,x_mnk1],[x_mnk1,8]])\n",
    "v_MNK_drob=np.array([xdely_mnk,y1_mnk]) \n",
    "ab=np.linalg.solve(MNK_drob, v_MNK_drob)\n",
    "def y_drob(x):\n",
    "    return 1/(ab[0]*np.array(x)+ab[1])\n",
    "\n",
    "x_drob_gen=np.linspace(-100,100,60)\n",
    "fig, ax = plt.subplots()\n",
    "ax.plot(x_drob_gen, y_drob(x_drob_gen))\n",
    "plt.show()\n",
    "ab"
   ]
  },
  {
   "cell_type": "code",
   "execution_count": 23,
   "id": "9f8d7fca",
   "metadata": {
    "scrolled": true
   },
   "outputs": [
    {
     "name": "stdout",
     "output_type": "stream",
     "text": [
      "0.23224427104094533 0.23660996979917465 3412.946338683052 4974.959069935746\n"
     ]
    }
   ],
   "source": [
    "#теоретический коэффициент детерминации \n",
    "D_y_res=np.sum([(y_res(mid_x[i])-mat_o1)**2 for i in range(0, len(mid_y))])/115\n",
    "R_2_par=D_y_res/D1\n",
    "D_y_drob=np.sum([(y_drob(mid_x[i])-mat_o1)**2 for i in range(0, len(mid_y))])/115\n",
    "R_2_hyp=D_y_drob/D1\n",
    "\n",
    "D_y_lin_y=np.sum([(lin_y(mid_x[i])-mat_o1)**2 for i in range(0, len(mid_y))])/115\n",
    "R_2_lin_y=D_y_lin_y/D1\n",
    "\n",
    "D_y_lin_x=np.sum([(lin_x(mid_y[i])-mat_o2)**2 for i in range(0, len(mid_x))])/115\n",
    "R_2_lin_x=D_y_lin_x/D2\n",
    "print(R_2_par, R_2_hyp,R_2_lin_y,R_2_lin_x)"
   ]
  },
  {
   "cell_type": "code",
   "execution_count": 24,
   "id": "67f549b1",
   "metadata": {},
   "outputs": [
    {
     "name": "stdout",
     "output_type": "stream",
     "text": [
      "5.6773630376388375 1655.2213198812888 7469393.931392456 53798.9725494696\n"
     ]
    }
   ],
   "source": [
    "#средняя квадратическая ошибка\n",
    "ey_par=0\n",
    "ey_hyp=0\n",
    "ey_lin_y=0\n",
    "ey_lin_x=0\n",
    "for i in range(0,len(mid_y)):\n",
    "    ey_lin_y+=(mid_y[i]-lin_y(mid_x[i]))**2\n",
    "    ey_lin_x+=(mid_x[i]-lin_x(mid_y[i]))**2\n",
    "    ey_par+=(mid_y[i]-y_res(mid_x[i]))**2\n",
    "    ey_hyp+=(mid_y[i]-y_drob(mid_x[i]))**2\n",
    "Se_par=ey_par/114\n",
    "Se_hyp=ey_hyp/114\n",
    "Se_lin_y=ey_lin_y/114\n",
    "Se_lin_x=ey_lin_x/114\n",
    "print(Se_par,Se_hyp,Se_lin_y,Se_lin_x)"
   ]
  },
  {
   "cell_type": "code",
   "execution_count": 25,
   "id": "0f727e99",
   "metadata": {},
   "outputs": [
    {
     "name": "stdout",
     "output_type": "stream",
     "text": [
      "65.37037148984787 19058.572062630778 86004198.22760004 3638586.376230248\n"
     ]
    }
   ],
   "source": [
    "Ay_par=np.sum([abs(ey_par/num) for num in mid_y])\n",
    "Ay_hyp=np.sum([abs(ey_hyp/num) for num in mid_y])\n",
    "Ay_lin_x=np.sum([abs(ey_lin_x/num) for num in mid_x])\n",
    "Ay_lin_y=np.sum([abs(ey_lin_y/num) for num in mid_y])\n",
    "print(Ay_par,Ay_hyp,Ay_lin_y,Ay_lin_x)"
   ]
  },
  {
   "cell_type": "markdown",
   "id": "310a4591",
   "metadata": {},
   "source": [
    "Лабораторная 6"
   ]
  },
  {
   "cell_type": "code",
   "execution_count": 26,
   "id": "26f97826",
   "metadata": {},
   "outputs": [],
   "source": [
    "#нормализация\n",
    "norm_price=[]\n",
    "norm_diameter=[]\n",
    "for element in viborka[0]:\n",
    "    norm_price.append((element-mat_o2)/Ds2)\n",
    "for element in viborka[1]:\n",
    "    norm_diameter.append((element-mat_o1)/Ds1)    \n",
    "norm_viborka=[norm_price, norm_diameter]"
   ]
  },
  {
   "cell_type": "code",
   "execution_count": 27,
   "id": "d28c1b91",
   "metadata": {},
   "outputs": [
    {
     "data": {
      "text/plain": [
       "7"
      ]
     },
     "execution_count": 27,
     "metadata": {},
     "output_type": "execute_result"
    }
   ],
   "source": [
    "#«грубая» верхняя оценка количества кластеров\n",
    "k=math.floor(math.sqrt(116/2))\n",
    "k"
   ]
  },
  {
   "cell_type": "code",
   "execution_count": 28,
   "id": "1a5e3147",
   "metadata": {},
   "outputs": [],
   "source": [
    "def kMeans(xy,M):\n",
    "    M_k=[[],[],[],[],[],[],[]]\n",
    "    lastM_K=[]\n",
    "    lastM=[[0,0],[0,0],[0,0],[0,0],[0,0],[0,0],[0,0]] \n",
    "    \n",
    "    while lastM!=M:\n",
    "        lastM=[row[:] for row in M]\n",
    "        lastM_K=[row[:] for row in M_k]\n",
    "        M_k.clear()\n",
    "        M_k=[[],[],[],[],[],[],[]]\n",
    "        sm=0\n",
    "        sm1=0\n",
    "        check=0\n",
    "        p=[]\n",
    "        for i in range(0,len(xy[0])):\n",
    "            for j in range (0,7):\n",
    "                p.append(sqrt(((xy[0][i]-M[j][0])**2)+((xy[1][i]-M[j][1])**2)))\n",
    "                \n",
    "            M_k[p.index(min(p))].append(i)\n",
    "            p.clear()\n",
    "        for j in range (0,7):\n",
    "\n",
    "            if len(M_k[j])!=0:\n",
    "                for l in range (0,len(M_k[j])):\n",
    "                    sm+=xy[0][M_k[j][l]]\n",
    "                    sm1+=xy[1][M_k[j][l]]\n",
    "                M[j][0]=sm/len(M_k[j])\n",
    "                M[j][1]=sm1/len(M_k[j])\n",
    "                sm=0                \n",
    "                sm1=0\n",
    "            else:\n",
    "                M_k[j]=lastM_K[j]\n",
    "                M[j]=lastM[j]\n",
    "            \n",
    "    return M, M_k\n",
    "        "
   ]
  },
  {
   "cell_type": "code",
   "execution_count": 29,
   "id": "f42d013b",
   "metadata": {},
   "outputs": [],
   "source": [
    "def kMedians(xy,M):\n",
    "    M_k=[[],[],[],[],[],[],[]]\n",
    "    lastM_K=[]\n",
    "    lastM=[[0,0],[0,0],[0,0],[0,0],[0,0],[0,0],[0,0]] \n",
    "    \n",
    "    while lastM!=M:\n",
    "        lastM=[row[:] for row in M]\n",
    "        lastM_K=[row[:] for row in M_k]\n",
    "        M_k.clear()\n",
    "        M_k=[[],[],[],[],[],[],[]]\n",
    "        x_new=[]\n",
    "        y_new=[]\n",
    "        p=[]\n",
    "        check=0\n",
    "        for i in range(0,len(xy[0])):\n",
    "            for j in range (0,7):\n",
    "                p.append(sqrt(((xy[0][i]-M[j][0])**2)+((xy[1][i]-M[j][1])**2)))\n",
    "                \n",
    "            M_k[p.index(min(p))].append(i)\n",
    "            p.clear()\n",
    "        for j in range (0,7):\n",
    "            if len(M_k[j])!=0 and check==0:\n",
    "                for i in range (0,len(M_k[j])):\n",
    "                    x_new.append(xy[0][M_k[j][i]])\n",
    "                    y_new.append(xy[1][M_k[j][i]])\n",
    "            else:\n",
    "                M_k[j]=lastM_K[j]\n",
    "                M[j]=lastM[j]\n",
    "                check=1\n",
    "            \n",
    "    return M, M_k\n",
    "        "
   ]
  },
  {
   "cell_type": "code",
   "execution_count": 30,
   "id": "6a4fbe00",
   "metadata": {
    "scrolled": false
   },
   "outputs": [
    {
     "name": "stdout",
     "output_type": "stream",
     "text": [
      "[[0.44690344336001736, 0.02176317189305995], [-0.07881894944621116, -0.00589517515356447], [-0.40677431735935954, -0.018850831826252835], [-0.002389906705275698, 0.5154759293782212], [0.055917466614812006, -0.3988238841978287], [-0.01706591223482158, 0.10404101326899871], [0.10404101326899867, 0.002027318546246098]] \n",
      " [[0, 1, 2, 4, 5, 6, 10, 11, 15, 16, 20, 21, 23, 24, 29, 35, 41, 47, 79, 80, 84, 85, 87, 88, 93, 99, 104, 110], [8, 9, 13, 14, 18, 19, 26, 28, 30, 32, 34, 36, 38, 40, 42, 44, 46, 48, 50, 53, 56, 59, 62, 65, 68, 71, 74, 77, 82, 83, 90, 92, 94, 96, 98, 101, 103, 105, 107, 109, 111, 113, 115], [7, 12, 17, 25, 31, 37, 43, 49, 52, 55, 58, 61, 64, 67, 70, 73, 76, 81, 89, 95, 100, 106, 112], [], [], [], [3, 22, 27, 33, 39, 45, 51, 54, 57, 60, 63, 66, 69, 72, 75, 78, 86, 91, 97, 102, 108, 114]]\n"
     ]
    }
   ],
   "source": [
    "from math import sqrt\n",
    "K=[]\n",
    "for i in range(0,7):\n",
    "    K.append([random.choice(norm_diameter),random.choice(norm_price) ])\n",
    "M, cluster_mean=kMeans(norm_viborka,K)\n",
    "print(M,'\\n', cluster_mean)\n"
   ]
  },
  {
   "cell_type": "code",
   "execution_count": 38,
   "id": "9376296d",
   "metadata": {},
   "outputs": [
    {
     "data": {
      "image/png": "[encoded data removed]",
      "text/plain": [
       "<Figure size 432x288 with 1 Axes>"
      ]
     },
     "metadata": {
      "needs_background": "light"
     },
     "output_type": "display_data"
    }
   ],
   "source": [
    "fig, ax = plt.subplots()\n",
    "for i,coordinate in enumerate(M):\n",
    "    ax.plot(coordinate[0],coordinate[1],'r*')\n",
    "    ax.text(coordinate[0]+0.1,coordinate[1]-0.1,'Center'+str(i))\n",
    "labels_=[0]*len(norm_viborka[0])\n",
    "\n",
    "for cluster in cluster_mean:\n",
    "    for index in cluster:\n",
    "        ax.text(norm_viborka[0][index],norm_viborka[1][index],index)\n",
    "scatter = ax.scatter(norm_viborka[0],norm_viborka[1],c=labels_)\n",
    "    \n",
    "plt.show()"
   ]
  },
  {
   "cell_type": "code",
   "execution_count": 39,
   "id": "0b808e5e",
   "metadata": {},
   "outputs": [],
   "source": [
    "M_med,cluster_med=kMedians(norm_viborka,K)\n",
    "print(M,'\\n', cluster_med)"
   ]
  },
  {
   "cell_type": "code",
   "execution_count": 40,
   "id": "c973910d",
   "metadata": {},
   "outputs": [
    {
     "ename": "TypeError",
     "evalue": "'dict' object is not callable",
     "output_type": "error",
     "traceback": [
      "\u001b[1;31m---------------------------------------------------------------------------\u001b[0m",
      "\u001b[1;31mTypeError\u001b[0m                                 Traceback (most recent call last)",
      "\u001b[1;32m<ipython-input-40-44b9c76aa145>\u001b[0m in \u001b[0;36m<module>\u001b[1;34m\u001b[0m\n\u001b[0;32m      1\u001b[0m \u001b[0msse\u001b[0m \u001b[1;33m=\u001b[0m \u001b[1;33m[\u001b[0m\u001b[1;33m]\u001b[0m\u001b[1;33m\u001b[0m\u001b[1;33m\u001b[0m\u001b[0m\n\u001b[1;32m----> 2\u001b[1;33m \u001b[0mlist_k\u001b[0m \u001b[1;33m=\u001b[0m \u001b[0mlist\u001b[0m\u001b[1;33m(\u001b[0m\u001b[0mrange\u001b[0m\u001b[1;33m(\u001b[0m\u001b[1;36m1\u001b[0m\u001b[1;33m,\u001b[0m \u001b[1;36m10\u001b[0m\u001b[1;33m)\u001b[0m\u001b[1;33m)\u001b[0m\u001b[1;33m\u001b[0m\u001b[1;33m\u001b[0m\u001b[0m\n\u001b[0m\u001b[0;32m      3\u001b[0m \u001b[1;33m\u001b[0m\u001b[0m\n\u001b[0;32m      4\u001b[0m \u001b[1;32mfor\u001b[0m \u001b[0mk\u001b[0m \u001b[1;32min\u001b[0m \u001b[0mlist_k\u001b[0m\u001b[1;33m:\u001b[0m\u001b[1;33m\u001b[0m\u001b[1;33m\u001b[0m\u001b[0m\n\u001b[0;32m      5\u001b[0m     \u001b[0mkm\u001b[0m \u001b[1;33m=\u001b[0m \u001b[0mkMeans\u001b[0m\u001b[1;33m(\u001b[0m\u001b[0mxy\u001b[0m\u001b[1;33m,\u001b[0m\u001b[0mk\u001b[0m\u001b[1;33m)\u001b[0m\u001b[1;33m\u001b[0m\u001b[1;33m\u001b[0m\u001b[0m\n",
      "\u001b[1;31mTypeError\u001b[0m: 'dict' object is not callable"
     ]
    }
   ],
   "source": [
    "sse = []\n",
    "list_k = list(range(1, 7))\n",
    "\n",
    "for k in list_k:\n",
    "    km = kMeans(xy,k)\n",
    "    sse.append(km.inertia_)\n"
   ]
  },
  {
   "cell_type": "code",
   "execution_count": null,
   "id": "9305e44d",
   "metadata": {},
   "outputs": [],
   "source": [
    "plt.figure(figsize=(6, 6))\n",
    "plt.plot(list_k, sse, '-o')\n",
    "plt.xlabel(r'k')\n",
    "plt.ylabel('WCSS');"
   ]
  },
  {
   "cell_type": "code",
   "execution_count": null,
   "id": "797d7d44",
   "metadata": {},
   "outputs": [],
   "source": [
    "sse = []\n",
    "list_k = list(range(1, 7))\n",
    "\n",
    "for k in list_k:\n",
    "    km = kMedians(xy,k)\n",
    "    sse.append(km.inertia_)\n",
    "sns.lineplot(x=range(1, len(cluster)+1), y=sse, marker='o')\n",
    "plt.figure(figsize=(6, 6))\n",
    "plt.plot(list_k, sse, '-o')\n",
    "plt.xlabel(r'k')\n",
    "plt.ylabel('WCSS');"
   ]
  },
  {
   "cell_type": "code",
   "execution_count": null,
   "id": "a8c0a9ea",
   "metadata": {},
   "outputs": [],
   "source": []
  },
  {
   "cell_type": "code",
   "execution_count": null,
   "id": "ce60a6f4",
   "metadata": {},
   "outputs": [],
   "source": [
    "#качество разбиения kMeans\n",
    "new_clusters={}\n",
    "for x,index_cluster in zip(norm_viborka,cluster_mean):\n",
    "        new_clusters.setdefault(int(index_cluster),[])\n",
    "        new_clusters[int(index_cluster)].append(x)\n",
    "    new = [0]*k\n",
    "    for key, value in new_clusters.items():\n",
    "        new[key] = value\n",
    "f=0\n",
    "for cluster, centroid in zip(clusters,M):\n",
    "    count=0\n",
    "    if cluster!=0:\n",
    "        for x in cluster:\n",
    "            count+=np.sqrt((x[0]-y[0])**2 + (x[1]-y[1])**2)\n",
    "        f+=len(cluster)*count\n",
    "f=f/len(norm_viborka)\n",
    "print('Оценка качества разбиения для K-Means:',f)\n"
   ]
  },
  {
   "cell_type": "code",
   "execution_count": null,
   "id": "46364916",
   "metadata": {},
   "outputs": [],
   "source": [
    "new_clusters={}\n",
    "for x,index_cluster in zip(norm_viborka,cluster_med):\n",
    "        new_clusters.setdefault(int(index_cluster),[])\n",
    "        new_clusters[int(index_cluster)].append(x)\n",
    "    new = [0]*k\n",
    "    for key, value in new_clusters.items():\n",
    "        new[key] = value\n",
    "f=0\n",
    "for cluster, centroid in zip(clusters,M):\n",
    "    count=0\n",
    "    if cluster!=0:\n",
    "        for x in cluster:\n",
    "            count+=abs(x[0]-y[0]) + abs(x[1]-y[1])\n",
    "        f+=len(cluster)*count\n",
    "f=f/len(norm_viborka)\n",
    "print('Оценка качества разбиения для K-Medians:',f)\n"
   ]
  },
  {
   "cell_type": "code",
   "execution_count": null,
   "id": "197ad228",
   "metadata": {},
   "outputs": [],
   "source": []
  }
 ],
 "metadata": {
  "kernelspec": {
   "display_name": "Python 3 (ipykernel)",
   "language": "python",
   "name": "python3"
  },
  "language_info": {
   "codemirror_mode": {
    "name": "ipython",
    "version": 3
   },
   "file_extension": ".py",
   "mimetype": "text/x-python",
   "name": "python",
   "nbconvert_exporter": "python",
   "pygments_lexer": "ipython3",
   "version": "3.9.13"
  }
 },
 "nbformat": 4,
 "nbformat_minor": 5
}
