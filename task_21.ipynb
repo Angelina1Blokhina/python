{
 "cells": [
  {
   "cell_type": "markdown",
   "id": "d8a49008",
   "metadata": {},
   "source": [
    "# Практическое задание 2\n",
    "## Вариант 7\n",
    "## Задание 1 \n",
    "\n",
    "Рассмотрим данные:\n",
    "\n",
    "|       | x<sub>1</sub> | x<sub>2</sub> | x<sub>3</sub> | x<sub>4</sub> | x<sub>5</sub> | x<sub>6</sub> | x<sub>7</sub> | x<sub>8</sub> |\n",
    "| :---: | :-----------: | :-----------: | :-----------: | :-----------: | :-----------: | :-----------: | :-----------: | :-----------: |\n",
    "| **A** |      1.9       |      2.9       |      1.4       |      -1.4       |      2      |      -1.4      |      -2.9      |      2      |\n",
    "| **B** |      -5       |      -6.4       |      -1.5       |      -1.3       |      -6.3      |      -0.4      |      -3.1      |      -5.8      |\n",
    "\n",
    "Есть ядро (функция сходства):\n",
    "$$\n",
    "K({\\bf x}_i,{\\bf x}_j)=||{\\bf x}_i-{\\bf x}_j||^2\\\\\n",
    "$$\n",
    "\n",
    "1. Построить диаграмму рассеяния точек **x<sub>i</sub>** (оси подписать, пронумеровать точки)"
   ]
  },
  {
   "cell_type": "code",
   "execution_count": 1,
   "id": "bfaa5e4f",
   "metadata": {},
   "outputs": [],
   "source": [
    "import pandas as pd\n",
    "import numpy as np\n",
    "import statistics as st\n",
    "import matplotlib.pyplot as plt\n",
    "import scipy.stats as sts\n",
    "import math"
   ]
  },
  {
   "cell_type": "code",
   "execution_count": 2,
   "id": "19aa98a4",
   "metadata": {},
   "outputs": [],
   "source": [
    "A=np.array([1.9,2.9,1.4,-1.4,2.0,-1.4,-2.9,2.0])\n",
    "B=np.array([-5.0,-6.4,-1.5,-1.3,-6.3,-0.4,-3.1,-5.8])\n",
    "matrix = np.transpose([A,B])\n",
    "C=[1,2,3,4,5,6,7,8]"
   ]
  },
  {
   "cell_type": "code",
   "execution_count": 3,
   "id": "a4037992",
   "metadata": {},
   "outputs": [
    {
     "data": {
      "image/png": "[encoded data removed]",
      "text/plain": [
       "<Figure size 432x288 with 1 Axes>"
      ]
     },
     "metadata": {
      "needs_background": "light"
     },
     "output_type": "display_data"
    }
   ],
   "source": [
    "fig, axs = plt.subplots()\n",
    "scatter = axs.scatter(A,B,c=C,cmap='Set1')\n",
    "legend = axs.legend(*scatter.legend_elements(),loc=\"upper right\", title=\"X\")\n",
    "axs.set_xlabel('A')\n",
    "axs.set_ylabel('B')\n",
    "axs.add_artist(legend)\n",
    "plt.show()"
   ]
  },
  {
   "cell_type": "markdown",
   "id": "cbc2706a",
   "metadata": {},
   "source": [
    "2. Рассчитать ядерную матрицу"
   ]
  },
  {
   "cell_type": "code",
   "execution_count": 4,
   "id": "0d79a55f",
   "metadata": {
    "scrolled": true
   },
   "outputs": [
    {
     "data": {
      "text/plain": [
       "array([[ 0.  ,  2.96, 12.5 , 24.58,  1.7 , 32.05, 26.65,  0.65],\n",
       "       [ 2.96,  0.  , 26.26, 44.5 ,  0.82, 54.49, 44.53,  1.17],\n",
       "       [12.5 , 26.26,  0.  ,  7.88, 23.4 ,  9.05, 21.05, 18.85],\n",
       "       [24.58, 44.5 ,  7.88,  0.  , 36.56,  0.81,  5.49, 31.81],\n",
       "       [ 1.7 ,  0.82, 23.4 , 36.56,  0.  , 46.37, 34.25,  0.25],\n",
       "       [32.05, 54.49,  9.05,  0.81, 46.37,  0.  ,  9.54, 40.72],\n",
       "       [26.65, 44.53, 21.05,  5.49, 34.25,  9.54,  0.  , 31.3 ],\n",
       "       [ 0.65,  1.17, 18.85, 31.81,  0.25, 40.72, 31.3 ,  0.  ]])"
      ]
     },
     "execution_count": 4,
     "metadata": {},
     "output_type": "execute_result"
    }
   ],
   "source": [
    "from scipy.spatial.distance import squareform, pdist\n",
    "K=squareform(pdist(matrix))**2\n",
    "K"
   ]
  },
  {
   "cell_type": "markdown",
   "id": "b31799f8",
   "metadata": {},
   "source": [
    "## Задание 2\n",
    "Рассмотрим данные в виде матрицы **D**:\n",
    "\n",
    "| ***X<sub>1</sub>*** | ***X<sub>2</sub>*** |\n",
    "| :-----------------: | :-----------------: |\n",
    "|         -46         |         -19         |\n",
    "|         -72         |         132         |\n",
    "|         -27         |         73         |\n",
    "|         3         |         64         |\n",
    "|         -50         |         145         |\n",
    "|         -37         |         202         |\n",
    "|         -49         |         9         |\n",
    "|         -47         |         37         |\n",
    "\n",
    "1. Построить диаграмму рассеяния (оси подписать, пронумеровать точки)"
   ]
  },
  {
   "cell_type": "code",
   "execution_count": 5,
   "id": "35597b8a",
   "metadata": {},
   "outputs": [],
   "source": [
    "X1=np.array([-46,-72,-27,3,-50,-37,-49,-47])\n",
    "X2=np.array([-19,132,73,64,145,202,9,37])"
   ]
  },
  {
   "cell_type": "code",
   "execution_count": 6,
   "id": "da36000a",
   "metadata": {},
   "outputs": [
    {
     "data": {
      "image/png": "[encoded data removed]",
      "text/plain": [
       "<Figure size 432x288 with 1 Axes>"
      ]
     },
     "metadata": {
      "needs_background": "light"
     },
     "output_type": "display_data"
    }
   ],
   "source": [
    "fig, axs = plt.subplots()\n",
    "scatter = axs.scatter(X1,X2,c=C,cmap='Set1')\n",
    "legend = axs.legend(*scatter.legend_elements(), title=\"X\",bbox_to_anchor=(1.2, 0.8))\n",
    "axs.set_xlabel('X1')\n",
    "axs.set_ylabel('X2')\n",
    "axs.add_artist(legend)\n",
    "plt.show()\n"
   ]
  },
  {
   "cell_type": "markdown",
   "id": "9ac067e4",
   "metadata": {},
   "source": [
    "2. Рассчитайте среднее **μ** для матрицы **D**, ковариационную матрицу **Σ** для матрицы **D** и ковариационную матрицу **Σ<sub>c</sub>**  для центрированной матрицы **D**"
   ]
  },
  {
   "cell_type": "code",
   "execution_count": 7,
   "id": "8bd2cdab",
   "metadata": {
    "scrolled": false
   },
   "outputs": [
    {
     "name": "stdout",
     "output_type": "stream",
     "text": [
      "(array([ -5.375, -31.375,  13.625,  43.625,  -9.375,   3.625,  -8.375,\n",
      "        -6.375]), array([-99.375,  51.625,  -7.375, -16.375,  64.625, 121.625, -71.375,\n",
      "       -43.375]))\n",
      "Mean vector:  (-40.625, 80.375)\n"
     ]
    }
   ],
   "source": [
    "X = np.vstack((X1,X2))\n",
    "Xcentered = (X[0] - X1.mean(), X[1] - X2.mean())\n",
    "m = (X1.mean(), X2.mean())\n",
    "print(Xcentered)\n",
    "print('Mean vector: ', m)"
   ]
  },
  {
   "cell_type": "code",
   "execution_count": 8,
   "id": "7fd0c4b4",
   "metadata": {},
   "outputs": [
    {
     "name": "stdout",
     "output_type": "stream",
     "text": [
      "Σ  [[ 473.41071429 -170.16071429]\n",
      " [-170.16071429 5543.98214286]]\n",
      "\n",
      "Σc  [[ 473.41071429 -170.16071429]\n",
      " [-170.16071429 5543.98214286]]\n"
     ]
    }
   ],
   "source": [
    "Σ = np.cov(X)\n",
    "print('Σ ',Σ)\n",
    "Σc=np.cov(Xcentered)\n",
    "print('\\nΣc ',Σc)"
   ]
  },
  {
   "cell_type": "markdown",
   "id": "cf3cd2f7",
   "metadata": {},
   "source": [
    "\n",
    "3. Рассчитайте собственные числа и собственные вектора для матрицы **Σ<sub>c</sub>**"
   ]
  },
  {
   "cell_type": "code",
   "execution_count": 9,
   "id": "9fe8135c",
   "metadata": {
    "scrolled": true
   },
   "outputs": [
    {
     "name": "stdout",
     "output_type": "stream",
     "text": [
      "Собственные числа  [ 467.70679425 5549.6860629 ]\n",
      "Собственные векторы  [[-0.99943865  0.03350196]\n",
      " [-0.03350196 -0.99943865]]\n"
     ]
    }
   ],
   "source": [
    "from numpy import linalg as LA\n",
    "w,v = LA.eig(Σc)\n",
    "print('Собственные числа ',w)\n",
    "print('Собственные векторы ',v)"
   ]
  },
  {
   "cell_type": "markdown",
   "id": "1782476c",
   "metadata": {},
   "source": [
    "4. Выведите индекс (порядковый номер), соответствующий первой главной компоненте"
   ]
  },
  {
   "cell_type": "code",
   "execution_count": 10,
   "id": "ffa59410",
   "metadata": {},
   "outputs": [
    {
     "name": "stdout",
     "output_type": "stream",
     "text": [
      "Индекс первого главного компонента:  1\n"
     ]
    }
   ],
   "source": [
    "print('Индекс первого главного компонента: ', np.argmax(w))"
   ]
  },
  {
   "cell_type": "markdown",
   "id": "ea12c8d7",
   "metadata": {},
   "source": [
    "    Т.е. 2 порядковый номер, так как большее собственное число представляет величину дисперсии, соответствующую первой главной оси."
   ]
  },
  {
   "cell_type": "markdown",
   "id": "e959172c",
   "metadata": {},
   "source": [
    "5. Рассчитайте первый главный компонент. Постройте точечный график полученного вектора (добавить к каждой точке ее номер)"
   ]
  },
  {
   "cell_type": "code",
   "execution_count": 11,
   "id": "16b68088",
   "metadata": {
    "scrolled": false
   },
   "outputs": [
    {
     "name": "stdout",
     "output_type": "stream",
     "text": [
      "[-99.13914295  52.64714452  -7.82732432 -17.82733111  64.90280378\n",
      " 121.43528139 -71.05435481 -43.13707649]\n"
     ]
    }
   ],
   "source": [
    "Xnew = np.dot(-v[:,1],Xcentered)\n",
    "print(Xnew)"
   ]
  },
  {
   "cell_type": "code",
   "execution_count": 12,
   "id": "11826f23",
   "metadata": {
    "scrolled": true
   },
   "outputs": [
    {
     "data": {
      "image/png": "[encoded data removed]",
      "text/plain": [
       "<Figure size 432x288 with 1 Axes>"
      ]
     },
     "metadata": {
      "needs_background": "light"
     },
     "output_type": "display_data"
    }
   ],
   "source": [
    "y=[0]*8\n",
    "fig, axs = plt.subplots()\n",
    "scatter = axs.scatter(Xnew,y,c=C)\n",
    "legend = axs.legend(*scatter.legend_elements(), title=\"PC1\",bbox_to_anchor=(1.2, 0.8))\n",
    "axs.add_artist(legend)\n",
    "plt.show()"
   ]
  },
  {
   "cell_type": "markdown",
   "id": "caa2d6c5",
   "metadata": {},
   "source": [
    "6. Используя PCA из библиотеки sklearn, получите первую главную компоненту для матрицы **D**. Постройте точечный график полученного вектора (пронумеровать точки)"
   ]
  },
  {
   "cell_type": "code",
   "execution_count": 13,
   "id": "568db86e",
   "metadata": {},
   "outputs": [
    {
     "name": "stdout",
     "output_type": "stream",
     "text": [
      "PC1:\n",
      " [[-99.13914295]\n",
      " [ 52.64714452]\n",
      " [ -7.82732432]\n",
      " [-17.82733111]\n",
      " [ 64.90280378]\n",
      " [121.43528139]\n",
      " [-71.05435481]\n",
      " [-43.13707649]]\n"
     ]
    }
   ],
   "source": [
    "from sklearn.decomposition import PCA\n",
    "pca = PCA(n_components = 1)\n",
    "XPCAreduced = pca.fit_transform(np.transpose(X))\n",
    "print('PC1:\\n',XPCAreduced)"
   ]
  },
  {
   "cell_type": "code",
   "execution_count": 14,
   "id": "bafc0fc0",
   "metadata": {
    "scrolled": true
   },
   "outputs": [
    {
     "data": {
      "image/png": "[encoded data removed]",
      "text/plain": [
       "<Figure size 432x288 with 1 Axes>"
      ]
     },
     "metadata": {
      "needs_background": "light"
     },
     "output_type": "display_data"
    }
   ],
   "source": [
    "fig, axs = plt.subplots()\n",
    "scatter = axs.scatter(XPCAreduced,y,c=C)\n",
    "legend = axs.legend(*scatter.legend_elements(), title=\"PC1\",bbox_to_anchor=(1.2, 0.8))\n",
    "axs.add_artist(legend)\n",
    "plt.show()"
   ]
  },
  {
   "cell_type": "markdown",
   "id": "5528b7d4",
   "metadata": {},
   "source": [
    "7. Визуально сравните графики, полученные в пунктах **5** и **6**. Убедитесь в корректности выполнения преобразований. Сохранен ли порядок точек? "
   ]
  },
  {
   "cell_type": "markdown",
   "id": "b57f6292",
   "metadata": {},
   "source": [
    "    Порядок точен сохранен, значения совпадают, преобразования выполнены корректно"
   ]
  },
  {
   "cell_type": "markdown",
   "id": "4dd32c57",
   "metadata": {},
   "source": [
    "Выведите название оси графика из пункта 1, проекция данных на которую сравнима с результатами PCA преобразований"
   ]
  },
  {
   "cell_type": "code",
   "execution_count": 15,
   "id": "9d244bd4",
   "metadata": {},
   "outputs": [
    {
     "name": "stdout",
     "output_type": "stream",
     "text": [
      "Дисперсия X1 = 414.234375\n",
      "Дисперсия X2 = 4850.984375\n",
      "Дисперсия PC1 = 4855.975305034437\n"
     ]
    }
   ],
   "source": [
    "print('Дисперсия X1 =', np.var(X1))\n",
    "print('Дисперсия X2 =', np.var(X2))\n",
    "print('Дисперсия PC1 =', np.var(XPCAreduced))"
   ]
  },
  {
   "cell_type": "markdown",
   "id": "ba3caa81",
   "metadata": {},
   "source": [
    "Проекция данных на ось <b>X2</b> сравнима с результатами PCA преобразований."
   ]
  },
  {
   "cell_type": "markdown",
   "id": "30155dd7",
   "metadata": {},
   "source": [
    "8. **μ** и **Σ** сверху задают нормальное распределение, из которого были сгенерированы точки. Постройте диаграмму рассеяния, которая позволит определить ориентацию / размеры облака точек, полученного с помощью 2-мерной функции плотности вероятности. \n"
   ]
  },
  {
   "cell_type": "code",
   "execution_count": 16,
   "id": "0e0fe78b",
   "metadata": {
    "scrolled": true
   },
   "outputs": [
    {
     "data": {
      "image/png": "[encoded data removed]",
      "text/plain": [
       "<Figure size 432x288 with 2 Axes>"
      ]
     },
     "metadata": {
      "needs_background": "light"
     },
     "output_type": "display_data"
    }
   ],
   "source": [
    "s1 = math.sqrt(Σ[0,0])\n",
    "s2 =  math.sqrt(Σ[1,1])\n",
    "x, y = np.mgrid[-100:100, -100:300]\n",
    "pos = np.dstack((x, y))\n",
    "rv = sts.multivariate_normal(m, Σ)\n",
    "fig = plt.figure()\n",
    "ax = fig.add_subplot()\n",
    "cset= ax.contourf(x, y, rv.pdf(pos))\n",
    "cbar = plt.colorbar(cset)\n",
    "cbar.ax.set_ylabel('density: $p(x_1, x_2)$', fontsize=13)\n",
    "plt.show()"
   ]
  },
  {
   "cell_type": "markdown",
   "id": "1833b616",
   "metadata": {},
   "source": [
    " На отдельном линейном графике постройте графики функций плотностей вероятности отдельных компонентов 2-мерного нормального распределения"
   ]
  },
  {
   "cell_type": "code",
   "execution_count": 17,
   "id": "79b2d8a0",
   "metadata": {},
   "outputs": [
    {
     "data": {
      "text/plain": [
       "<matplotlib.legend.Legend at 0x1b8dc9e5490>"
      ]
     },
     "execution_count": 17,
     "metadata": {},
     "output_type": "execute_result"
    },
    {
     "data": {
      "image/png": "[encoded data removed]",
      "text/plain": [
       "<Figure size 432x288 with 1 Axes>"
      ]
     },
     "metadata": {
      "needs_background": "light"
     },
     "output_type": "display_data"
    }
   ],
   "source": [
    "x1 = np.linspace(m[0] - 3*s1, m[0] + 3*s1, 100)\n",
    "x2 = np.linspace(m[1] - 3*s2, m[1] + 3*s2, 100)\n",
    "fx1 = sts.norm.pdf(x1,m[0],s1)\n",
    "fx2 = sts.norm.pdf(x2,m[1],s2)\n",
    "plt.plot(x1, fx1,label= 'Для X1')\n",
    "plt.plot(x2, fx2,label= 'Для X2')\n",
    "plt.legend()"
   ]
  },
  {
   "cell_type": "markdown",
   "id": "066c2e77",
   "metadata": {},
   "source": [
    "### Задание 3"
   ]
  },
  {
   "cell_type": "markdown",
   "id": "3e8fac07",
   "metadata": {},
   "source": [
    "1. Для данных и ядра из первого задания найдите первую главную компоненту при нелинейном преобразовании для заданного ядра. Постройте точечный график полученного вектора (добавить к каждой точке ее номер)"
   ]
  },
  {
   "cell_type": "code",
   "execution_count": 18,
   "id": "7a37d677",
   "metadata": {
    "scrolled": false
   },
   "outputs": [
    {
     "name": "stdout",
     "output_type": "stream",
     "text": [
      "PC1:\n",
      " [[-4.21884749e-15 -7.99360578e-15  4.32986980e-15  1.13242749e-14\n",
      "  -9.54791801e-15  1.64313008e-14  5.99520433e-15 -1.24344979e-14]]\n"
     ]
    }
   ],
   "source": [
    "N = K.shape[0]\n",
    "one_n = np.ones((N,N)) / N\n",
    "KCentered = K - one_n.dot(K) - K.dot(one_n) + one_n.dot(K).dot(one_n)    \n",
    "eig_vals, eig_vecs = LA.eig(KCentered)\n",
    "eig_vals, eig_vecs = eig_vals[::-1], eig_vecs[:, ::-1] \n",
    "eig_vecs = np.vstack([eig_vecs[:, i] for i in range(1)])   \n",
    "my_kpca = np.dot(eig_vecs,KCentered).real\n",
    "print('PC1:\\n',my_kpca)"
   ]
  },
  {
   "cell_type": "code",
   "execution_count": 19,
   "id": "37cc9d00",
   "metadata": {},
   "outputs": [
    {
     "data": {
      "image/png": "[encoded data removed]",
      "text/plain": [
       "<Figure size 432x288 with 1 Axes>"
      ]
     },
     "metadata": {
      "needs_background": "light"
     },
     "output_type": "display_data"
    }
   ],
   "source": [
    "y=[0]*8\n",
    "fig, axs = plt.subplots()\n",
    "scatter = axs.scatter(my_kpca,y,c=C)\n",
    "legend = axs.legend(*scatter.legend_elements(),bbox_to_anchor=(1.2, 0.8), title=\"PC1\",)\n",
    "axs.add_artist(legend)\n",
    "plt.show()"
   ]
  },
  {
   "cell_type": "markdown",
   "id": "b9a3bdfa",
   "metadata": {},
   "source": [
    "2. Используя KernelPCA из библиотеки sklearn с ядром Гаусса и гаммой = 1, получите первую главную компоненту для данных из первого задания. Постройте точечный график полученного вектора (добавить к каждой точке ее номер)"
   ]
  },
  {
   "cell_type": "code",
   "execution_count": 20,
   "id": "5423d7b3",
   "metadata": {},
   "outputs": [
    {
     "name": "stdout",
     "output_type": "stream",
     "text": [
      "PC1:\n",
      " [[-0.28743084]\n",
      " [-0.30960593]\n",
      " [ 0.26910272]\n",
      " [ 0.61903235]\n",
      " [-0.5723228 ]\n",
      " [ 0.61808082]\n",
      " [ 0.27201261]\n",
      " [-0.60886894]]\n"
     ]
    }
   ],
   "source": [
    "from sklearn.decomposition import KernelPCA\n",
    "kpca = KernelPCA(kernel='rbf', n_components=1, gamma =1)\n",
    "kpca_transform = kpca.fit_transform(matrix)\n",
    "print('PC1:\\n',kpca_transform)"
   ]
  },
  {
   "cell_type": "code",
   "execution_count": 21,
   "id": "c3bd631e",
   "metadata": {},
   "outputs": [
    {
     "data": {
      "image/png": "[encoded data removed]",
      "text/plain": [
       "<Figure size 432x288 with 1 Axes>"
      ]
     },
     "metadata": {
      "needs_background": "light"
     },
     "output_type": "display_data"
    }
   ],
   "source": [
    "fig, axs = plt.subplots()\n",
    "scatter = axs.scatter(kpca_transform,y,c=C)\n",
    "legend = axs.legend(*scatter.legend_elements(),bbox_to_anchor=(1.2, 0.8), title=\"PC1\")\n",
    "axs.add_artist(legend)\n",
    "plt.show()"
   ]
  },
  {
   "cell_type": "markdown",
   "id": "107aebc9",
   "metadata": {},
   "source": [
    "3. Визуально сравните графики, полученные в пунктах **1** и **2**. Определите, использование какого ядра (из первого задания или ядра Гаусса) позволяет, на ваш взгляд, лучше визуально выделить принадлежность точки к одному из двух кластеров"
   ]
  },
  {
   "cell_type": "markdown",
   "id": "14147d57",
   "metadata": {},
   "source": [
    "    Использование Гауссово ядра позволяет визуально лучше оценить принадлежность точки к определенному кластеру, чем ядро заданное в 1 задании"
   ]
  }
 ],
 "metadata": {
  "kernelspec": {
   "display_name": "Python 3",
   "language": "python",
   "name": "python3"
  },
  "language_info": {
   "codemirror_mode": {
    "name": "ipython",
    "version": 3
   },
   "file_extension": ".py",
   "mimetype": "text/x-python",
   "name": "python",
   "nbconvert_exporter": "python",
   "pygments_lexer": "ipython3",
   "version": "3.8.8"
  }
 },
 "nbformat": 4,
 "nbformat_minor": 5
}
