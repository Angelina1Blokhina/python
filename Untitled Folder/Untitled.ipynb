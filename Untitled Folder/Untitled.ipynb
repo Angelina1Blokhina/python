{
 "cells": [
  {
   "cell_type": "code",
   "execution_count": 1,
   "id": "3b2fc73a",
   "metadata": {},
   "outputs": [],
   "source": [
    "from scipy.optimize import linprog"
   ]
  },
  {
   "cell_type": "code",
   "execution_count": 14,
   "id": "189b1e0f",
   "metadata": {},
   "outputs": [
    {
     "name": "stdout",
     "output_type": "stream",
     "text": [
      "Collecting cvxoptNote: you may need to restart the kernel to use updated packages.\n",
      "\n",
      "  Downloading cvxopt-1.3.0-cp39-cp39-win_amd64.whl (12.7 MB)\n",
      "Installing collected packages: cvxopt\n",
      "Successfully installed cvxopt-1.3.0\n"
     ]
    }
   ],
   "source": [
    "pip install cvxopt"
   ]
  },
  {
   "cell_type": "code",
   "execution_count": 9,
   "id": "f1ee0668",
   "metadata": {},
   "outputs": [],
   "source": [
    "c=[5.2, 1.3, 5.2, 1.3, 5.2, 1.3, 1.2, 1.3, 1.2, 1.3, 1.2, 1.3]\n",
    "A_ub = [[-1, 0, 0, 0, 0, 0, -1, 0, 0, 0, 0, 0],\n",
    "[0, -1, 0, 0, 0, 0, 0, -1, 0, 0, 0, 0],\n",
    "[0, 0, -0.7, 0, -1, 0, 0, 0,-0.7, 0, -1, 0],\n",
    "[0, 0, 0, -0.7, 0, -1, 0, 0, 0, -0.7, 0, -1],\n",
    "[1, 1, 1, 1, 0, 0, 0, 0, 0, 0, 0, 0],\n",
    "[0, 0, 0, 0, 0, 0, 1, 1, 1, 1, 0, 0],\n",
    "[0, 0, 0, 0, 1, 1, 0, 0, 0, 0, 0, 0],\n",
    "[0, 0, 0, 0, 0, 0, 0, 0, 0, 0, 1, 1]]\n",
    "b_ub=[-2900, -1400, -1800, -3900, 4200, 3000, 3200, 3300]\n",
    "        \n",
    "A_eq=[[1, 0, 0.7, 0, 1, 0, 1, 0, 0.7, 0, 1, 0],\n",
    "[0, 1, 0, 0.7, 0, 1, 0, 1, 0, 0.7, 0, 1]]\n",
    "b_eq=[5000, 5800]\n"
   ]
  },
  {
   "cell_type": "code",
   "execution_count": 10,
   "id": "10ec03b4",
   "metadata": {
    "scrolled": false
   },
   "outputs": [
    {
     "name": "stdout",
     "output_type": "stream",
     "text": [
      "     con: array([9.14196789e-08, 1.06062544e-07])\n",
      "     fun: 13539.999999820062\n",
      " message: 'Optimization terminated successfully.'\n",
      "     nit: 9\n",
      "   slack: array([  83.22834411,  271.77062992,  216.7716558 ,  228.22936997,\n",
      "       2537.08199632,    7.91902956,  202.21880575,  152.78016854])\n",
      "  status: 0\n",
      " success: True\n",
      "       x: array([3.03857717e-09, 1.66291800e+03, 2.73088925e-09, 3.27284174e-08,\n",
      "       2.89085167e-09, 2.99778119e+03, 2.98322834e+03, 8.85262628e+00,\n",
      "       2.71590315e-08, 2.43147877e-08, 2.01677166e+03, 1.13044818e+03])\n"
     ]
    }
   ],
   "source": [
    "print(linprog(c, A_ub, b_ub, A_eq, b_eq))"
   ]
  },
  {
   "cell_type": "markdown",
   "id": "76332988",
   "metadata": {},
   "source": [
    "c = [3.6,3.6,3.6,5.6,5.6,5.6,4.3,4.3,4.3,5.6,5.6,5.6]\n",
    "A_ub = [[-1, 0, 0, 0, 0, 0, -1, 0, 0, 0, 0, 0],\n",
    "[0, 0, 0, -1, 0, 0, 0, 0, 0, -1, 0, 0],\n",
    "[0, -1, -0.7, 0, 0, 0, 0, -1, -0.7, 0, 0, 0],\n",
    "[0, 0, 0, 0, -1, -0.7, 0, 0, 0, 0, -1, -0.7],\n",
    "[1, 0, 1, 1, 0, 1, 0, 0, 0, 0, 0, 0],\n",
    "[0, 0, 0, 0, 0, 0, 1, 0, 1, 1, 0, 1],\n",
    "[0, 1, 0, 0, 1, 0, 0, 0, 0, 0, 0, 0],\n",
    "[0, 0, 0, 0, 0, 0, 0, 1, 0, 0, 1, 0]]\n",
    "b_ub=[-1100, -1400, -1600, -4900, 2300,  2500, 3000, 4400]\n",
    "A_eq=[[1, 1, 0.7, 0, 0, 0, 1, 1, 0.7, 0, 0, 0],\n",
    "[0, 0, 0, 1, 1, 0.7, 0, 0, 0, 1, 1, 0.7]]\n",
    "b_eq=[3000,6900]"
   ]
  },
  {
   "cell_type": "markdown",
   "id": "b0ad73ef",
   "metadata": {
    "scrolled": true
   },
   "source": [
    "print(linprog(c, A_ub, b_ub, A_eq, b_eq))"
   ]
  },
  {
   "cell_type": "code",
   "execution_count": 2,
   "id": "58a93e15",
   "metadata": {},
   "outputs": [],
   "source": [
    "\n",
    "from cvxopt.modeling import variable, op\n",
    "\n",
    "def count(mass1, mass2, mass3, mass4,mass5,mass6,mass7,mass8,mass9,mass10,z):         \n",
    "    x_non_negative = (x >= 0) #общее условие для всех х           \n",
    "    problem =op(z,[mass1,mass2,mass3,mass4 ,mass5,mass6,mass7,mass8,mass9,mass10, x_non_negative])\n",
    "    problem.solve(solver='glpk')  \n",
    "    problem.status     \n",
    "    print(\"Минимальная стоимость закупки -\",problem.objective.value()[0])\n",
    "    print(\"Матрица закупок:\")     \n",
    "    for i in [1,5,9]:\n",
    "        print(\"| x\",i, \"= \" ,x.value[i-1],\"| x\",i+1, \"= \" , x.value[i],\"| x\",i+2, \"= \" , x.value[i+1],\"| x\",i+3, \"= \" , x.value[i+2],\"|\")\n",
    "        \n",
    "\n"
   ]
  },
  {
   "cell_type": "code",
   "execution_count": 2,
   "id": "ce59acbd",
   "metadata": {
    "scrolled": true
   },
   "outputs": [
    {
     "name": "stdout",
     "output_type": "stream",
     "text": [
      "Минимальная стоимость закупки - 13540.0\n",
      "Матрица закупок:\n",
      "| x 1 =  0.0 | x 2 =  1900.0 | x 3 =  0.0 | x 4 =  0.0 |\n",
      "| x 5 =  0.0 | x 6 =  3200.0 | x 7 =  3000.0 | x 8 =  0.0 |\n",
      "| x 9 =  0.0 | x 10 =  0.0 | x 11 =  2000.0 | x 12 =  700.0 |\n"
     ]
    }
   ],
   "source": [
    "x = variable(12, 'x')\n",
    "z=(5.2*x[0] + 1.3*x[1] +5.2* x[2] +1.3*x[3] + 5.2*x[4] +1.3* x[5]+1.2*x[6] + 1.3*x[7] +1.2* x[8]+1.3*x[9]+1.2*x[10]+1.3*x[11])\n",
    "mass1 = (-x[0] -x[6] <= -2900)\n",
    "mass2 = (-x[1] - x[7] <=  -1400)\n",
    "mass3 = (-x[4] - x[10] - 0.7*x[8]-0.7*x[2] <= -1800)\n",
    "mass4 = (-x[5] - x[11] -0.7* x[3]-0.7*x[9] <= -3900)\n",
    "mass5 = (x[0] +x[4] + x[6]+x[10]+0.7*x[2]+0.7*x[8] == 5000)\n",
    "mass6 = (x[1] + x[7]+x[5] + x[11] +0.7* x[3]+0.7*x[9] == 5800)\n",
    "mass7=(x[0]+x[1]+x[2]+x[3]<=4200)\n",
    "mass8=(x[6]+x[7]+x[8]+x[9]<=3000)\n",
    "mass9=(x[4]+x[5]<=3200)\n",
    "mass10=(x[10]+x[11]<=3300)\n",
    "count(mass1, mass2, mass3, mass4,mass5,mass6,mass7,mass8,mass9,mass10,z)\n"
   ]
  },
  {
   "cell_type": "markdown",
   "id": "fd589904",
   "metadata": {},
   "source": [
    "Задание 1.2"
   ]
  },
  {
   "cell_type": "code",
   "execution_count": 10,
   "id": "b8990729",
   "metadata": {
    "scrolled": true
   },
   "outputs": [
    {
     "name": "stdout",
     "output_type": "stream",
     "text": [
      "Минимальная стоимость закупки - 13642.857142857143\n",
      "Матрица закупок:\n",
      "| x 1 =  0.0 | x 2 =  1900.0 | x 3 =  0.0 | x 4 =  0.0 |\n",
      "| x 5 =  0.0 | x 6 =  2800.0 | x 7 =  3200.0 | x 8 =  0.0 |\n",
      "| x 9 =  285.7142857142858 | x 10 =  0.0 | x 11 =  1600.0 | x 12 =  1100.0 |\n"
     ]
    }
   ],
   "source": [
    "x = variable(12, 'x')\n",
    "z=(5.2*x[0] + 1.3*x[1] +5.2* x[2] +1.3*x[3] + 5.2*x[4] +1.3* x[5]+1.2*x[6] + 1.3*x[7] +1.2* x[8]+1.3*x[9]+1.2*x[10]+1.3*x[11])\n",
    "mass1 = (-x[0] -x[6] <= -2900)\n",
    "mass2 = (-x[1] - x[7] <=  -1400)\n",
    "mass3 = (-x[4] - x[10] - 0.7*x[8]-0.7*x[2] <= -1800)\n",
    "mass4 = (-x[5] - x[11] -0.7* x[3]-0.7*x[9] <= -3900)\n",
    "mass5 = (x[0] +x[4] + x[6]+x[10]+0.7*x[2]+0.7*x[8] == 5000)\n",
    "mass6 = (x[1] + x[7]+x[5] + x[11] +0.7* x[3]+0.7*x[9] == 5800)\n",
    "mass7=(x[0]+x[1]+x[2]+x[3]<=4600)\n",
    "mass8=(x[6]+x[7]+x[8]+x[9]<=3600)\n",
    "mass9=(x[4]+x[5]<=2800)\n",
    "mass10=(x[10]+x[11]<=2700)\n",
    "count(mass1, mass2, mass3, mass4,mass5,mass6,mass7,mass8,mass9,mass10,z)"
   ]
  },
  {
   "cell_type": "markdown",
   "id": "ee2d5308",
   "metadata": {},
   "source": [
    "Задание 1.3"
   ]
  },
  {
   "cell_type": "code",
   "execution_count": 13,
   "id": "e8a4fa4f",
   "metadata": {},
   "outputs": [
    {
     "name": "stdout",
     "output_type": "stream",
     "text": [
      "Минимальная стоимость закупки - 16638.571428571428\n",
      "Матрица закупок:\n",
      "| x 1 =  0.0 | x 2 =  1900.0 | x 3 =  0.0 | x 4 =  5571.428571428572 |\n",
      "| x 5 =  0.0 | x 6 =  0.0 | x 7 =  3200.0 | x 8 =  0.0 |\n",
      "| x 9 =  2571.4285714285716 | x 10 =  0.0 | x 11 =  0.0 | x 12 =  0.0 |\n"
     ]
    }
   ],
   "source": [
    "x = variable(12, 'x')\n",
    "z=(5.2*x[0] + 1.3*x[1] +5.2* x[2] +1.3*x[3] + 5.8*x[4] +1.9* x[5]+1.2*x[6] + 1.3*x[7] +1.2* x[8]+1.3*x[9]+1.8*x[10]+1.9*x[11])\n",
    "mass1 = (-x[0] -x[6] <= -2900)\n",
    "mass2 = (-x[1] - x[7] <=  -1400)\n",
    "mass3 = (-x[4] - x[10] - 0.7*x[8]-0.7*x[2] <= -1800)\n",
    "mass4 = (-x[5] - x[11] -0.7* x[3]-0.7*x[9] <= -3900)\n",
    "mass5 = (x[0] +x[4] + x[6]+x[10]+0.7*x[2]+0.7*x[8] == 5000)\n",
    "mass6 = (x[1] + x[7]+x[5] + x[11] +0.7* x[3]+0.7*x[9] == 5800)\n",
    "mass7=(x[0]+x[1]+x[2]+x[3]<=10000)\n",
    "mass8=(x[6]+x[7]+x[8]+x[9]<=15000)\n",
    "mass9=(x[4]+x[5]<=13000)\n",
    "mass10=(x[10]+x[11]<=12500)\n",
    "count(mass1, mass2, mass3, mass4,mass5,mass6,mass7,mass8,mass9,mass10,z)"
   ]
  },
  {
   "cell_type": "code",
   "execution_count": null,
   "id": "e8a9dd68",
   "metadata": {},
   "outputs": [],
   "source": []
  },
  {
   "cell_type": "markdown",
   "id": "6de7333a",
   "metadata": {},
   "source": [
    "ВАРИАНТ 390"
   ]
  },
  {
   "cell_type": "code",
   "execution_count": 9,
   "id": "ba4d0b3f",
   "metadata": {
    "scrolled": true
   },
   "outputs": [
    {
     "name": "stdout",
     "output_type": "stream",
     "text": [
      "Минимальная стоимость закупки - 66800.0\n",
      "Матрица закупок:\n",
      "| x 1 =  699.9999999999995 | x 2 =  2799.9999999999995 | x 3 =  0.0 | x 4 =  0.0 |\n",
      "| x 5 =  0.0 | x 6 =  4300.0 | x 7 =  3000.0000000000005 | x 8 =  4.547473508864641e-13 |\n",
      "| x 9 =  0.0 | x 10 =  0.0 | x 11 =  5200.0 | x 12 =  0.0 |\n"
     ]
    }
   ],
   "source": [
    "x = variable(12, 'x')\n",
    "z=(4.8*x[0]+4.8*x[2]+4.8*x[4] +4.2*x[1]+4.2*x[3]+4.2*x[5]+4.1*x[6]+4.1*x[8]+4.1*x[10])+4.2*( x[7]+x[9]+x[11]))\n",
    "mass1 = (-x[0] -x[6] <= -3600)\n",
    "mass2 = (-x[1] - x[7] <=  -2400)\n",
    "mass3 = (-x[4] - x[10] - 0.7*(x[8]- x[2]) <= -4800)\n",
    "mass4 = (-x[5] - x[11] -0.7* (x[3]- x[9]) <= -4300)\n",
    "mass5=(x[0]+x[1]+x[2]+x[3]<=5400)\n",
    "mass6=(x[6]+x[7]+x[8]+x[9]<=3000)\n",
    "mass7=(x[4]+x[5]<=4800)\n",
    "mass8=(x[10]+x[11]<=5200) \n",
    "mass9 = (x[0] +x[4] + x[6]+x[10]+0.7*(x[2]+x[8]) == 8900)\n",
    "mass10 = (x[1] + x[7]+x[5] + x[11] +0.7* (x[3]+x[9]) == 7100)\n",
    "\n",
    "count(mass1,mass2, mass3, mass4,mass5,mass6,mass7,mass8,mass9,mass10,z)\n",
    "\n"
   ]
  },
  {
   "cell_type": "code",
   "execution_count": 52,
   "id": "523ddd7c",
   "metadata": {},
   "outputs": [
    {
     "name": "stdout",
     "output_type": "stream",
     "text": [
      "Минимальная стоимость закупки - 63310.0\n",
      "Матрица закупок:\n",
      "| x 1 =  0.0 | x 2 =  2400.0 | x 3 =  0.0 | x 4 =  0.0 |\n",
      "| x 5 =  0.0 | x 6 =  4700.0 | x 7 =  3600.0 | x 8 =  0.0 |\n",
      "| x 9 =  0.0 | x 10 =  -4.06024420434343e-14 | x 11 =  5300.0 | x 12 =  0.0 |\n"
     ]
    }
   ],
   "source": [
    "x = variable(12, 'x')\n",
    "z=(4.8*x[0]+4.8*x[2]+4.5*x[4] +4.2*x[1]+4.2*x[3]+3.9*x[5]+4.1*x[6]+4.1*x[8]+4.0*x[10]+4.2* x[7]+4.2* x[9]+3.9* x[11])\n",
    "mass1 = (-x[0] -x[6] <= -3600)\n",
    "mass2 = (-x[1] - x[7] <=  -2400)\n",
    "mass3 = (-x[4] - x[10] - 0.7*(x[8]- x[2]) <= -4800)\n",
    "mass4 = (-x[5] - x[11] -0.7* (x[3]- x[9]) <= -4300)\n",
    "mass5=(x[0]+x[1]+x[2]+x[3]<=10000)\n",
    "mass6=(x[6]+x[7]+x[8]+x[9]<=8000)\n",
    "mass7=(x[4]+x[5]<=9600)\n",
    "mass8=(x[10]+x[11]<=12500) \n",
    "mass9 = (x[0] +x[4] + x[6]+x[10]+0.7*(x[2]+x[8]) == 8900)\n",
    "mass10 = (x[1] + x[7]+x[5] + x[11] +0.7* (x[3]+x[9]) == 7100)\n",
    "\n",
    "count(mass1,mass2, mass3, mass4,mass5,mass6,mass7,mass8,mass9,mass10,z)"
   ]
  }
 ],
 "metadata": {
  "kernelspec": {
   "display_name": "Python 3 (ipykernel)",
   "language": "python",
   "name": "python3"
  },
  "language_info": {
   "codemirror_mode": {
    "name": "ipython",
    "version": 3
   },
   "file_extension": ".py",
   "mimetype": "text/x-python",
   "name": "python",
   "nbconvert_exporter": "python",
   "pygments_lexer": "ipython3",
   "version": "3.9.7"
  }
 },
 "nbformat": 4,
 "nbformat_minor": 5
}
