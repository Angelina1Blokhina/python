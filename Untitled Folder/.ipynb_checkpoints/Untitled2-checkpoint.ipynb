{
 "cells": [
  {
   "cell_type": "code",
   "execution_count": 2,
   "id": "f2f5b8ed",
   "metadata": {},
   "outputs": [],
   "source": [
    "import pandas as pd\n",
    "import numpy as np\n"
   ]
  },
  {
   "cell_type": "code",
   "execution_count": 9,
   "id": "fa1aabeb",
   "metadata": {},
   "outputs": [
    {
     "name": "stdout",
     "output_type": "stream",
     "text": [
      " 0     .   110   162   196   418   642   708 \n",
      " 1     0   128   188   228   444   676   726 \n",
      " 2     .   146   212   246   470   710   744 \n",
      " 3     .   164   230   264   496   760   762 \n",
      " 4     .     .   248   282   522   808   780 \n",
      " 5     .     .   266   300   564   850   798 \n",
      " 6     .     .   292   318   604   892   840 \n",
      " 7     .     .   318   352   638   934   882 \n",
      " 8     .     .   344   384   672   984   940 \n",
      " 9     .     .     .   410   706  1034   996 \n",
      "10     .     .     .   436   748  1084  1046 \n",
      "11     .     .     .   462   790     .  1096 \n",
      "12     .     .     .   496   832     .  1146 \n",
      "13     .     .     .   530     .     .  1204 \n",
      "14     .     .     .   564     .     .  1262 \n",
      "15     .     .     .     .     .     .  1320 \n"
     ]
    }
   ],
   "source": [
    "\n",
    "pd.options.display.max_rows = 100\n",
    "capacity = 15 #вместимость склада\n",
    "demand = [5, 2, 1, 9, 9, 2] #спрос по месяцам\n",
    "constCost = 30 #постоянные затраты\n",
    "deliveryCost = 10 #стоимость доставки каждого станка\n",
    "storageCost = 8 #затрата на хранение 1 станка\n",
    "maxCountPerMonth = 7 #max количество станков, доставленных за раз\n",
    "startCount = 1 #начальное кол-во станков\n",
    "\n",
    "costs = [[maxCost]*(len(demand) + 1) for i in range(capacity + 1)]\n",
    "costs[startCount][0] = 0\n",
    "monthRes = []\n",
    "wasRes = []\n",
    "deliveredRes = []\n",
    "takenRes = []\n",
    "machinesRes = []\n",
    "incCostsRes = []\n",
    "storCostsRes = []\n",
    "for i in range(0, len(demand)):\n",
    "     for j in range(capacity + 1):\n",
    "        price = costs[j][i]\n",
    "        for k in range(maxCountPerMonth + 1):\n",
    "            machines = j - demand[i] + k\n",
    "            if 0 <= machines <=capacity:\n",
    "                incomingCosts = (k * deliveryCost + constCost if k > 0 else 0)\n",
    "                storageCosts = (j + k) * storageCost\n",
    "                resultPrice = price + incomingCosts + storageCosts\n",
    "                if resultPrice < costs[machines][i + 1]:\n",
    "                    costs[machines][i + 1] = resultPrice\n",
    "                    monthRes.append(i + 1)\n",
    "                    wasRes.append(j)\n",
    "                    deliveredRes.append(k)\n",
    "                    takenRes.append(demand[i])\n",
    "                    machinesRes.append(machines)\n",
    "                    incCostsRes.append(incomingCosts)\n",
    "                    storCostsRes.append(storageCosts)\n",
    "\n",
    "df = pd.DataFrame({'№ месяца': monthRes,\n",
    " 'было станков (шт)': wasRes,\n",
    " 'доставлено (шт)': deliveredRes,\n",
    " 'забрано (шт)': takenRes,\n",
    " 'осталось (шт)': machinesRes,\n",
    " 'доставка (ДЕ)': incCostsRes,\n",
    " 'хранение (ДЕ)': storCostsRes})\n",
    "machines = 0\n",
    "for i in costs:\n",
    "    print(\"%2d\" % machines, end = ' ')\n",
    "    machines += 1\n",
    "    for x in i:\n",
    "        print(F\"%5s\" % (\".\" if x == maxCost else x), end = ' ')\n",
    "    print()\n",
    "unique = np.sort(df['№ месяца'].unique())"
   ]
  },
  {
   "cell_type": "code",
   "execution_count": 12,
   "id": "ca805c0f",
   "metadata": {},
   "outputs": [
    {
     "name": "stdout",
     "output_type": "stream",
     "text": [
      "[[1000000, 1000000, 1000000, 1000000, 1000000, 1000000, 1000000], [1000000, 1000000, 1000000, 1000000, 1000000, 1000000, 1000000], [1000000, 1000000, 1000000, 1000000, 1000000, 1000000, 1000000], [1000000, 1000000, 1000000, 1000000, 1000000, 1000000, 1000000], [1000000, 1000000, 1000000, 1000000, 1000000, 1000000, 1000000], [1000000, 1000000, 1000000, 1000000, 1000000, 1000000, 1000000], [1000000, 1000000, 1000000, 1000000, 1000000, 1000000, 1000000], [1000000, 1000000, 1000000, 1000000, 1000000, 1000000, 1000000], [1000000, 1000000, 1000000, 1000000, 1000000, 1000000, 1000000], [1000000, 1000000, 1000000, 1000000, 1000000, 1000000, 1000000], [1000000, 1000000, 1000000, 1000000, 1000000, 1000000, 1000000], [1000000, 1000000, 1000000, 1000000, 1000000, 1000000, 1000000], [1000000, 1000000, 1000000, 1000000, 1000000, 1000000, 1000000], [1000000, 1000000, 1000000, 1000000, 1000000, 1000000, 1000000], [1000000, 1000000, 1000000, 1000000, 1000000, 1000000, 1000000], [1000000, 1000000, 1000000, 1000000, 1000000, 1000000, 1000000]]\n"
     ]
    }
   ],
   "source": [
    "\n",
    "costs = [[maxCost]*(len(demand) + 1) for i in range(capacity + 1)]\n",
    "print(costs)"
   ]
  }
 ],
 "metadata": {
  "kernelspec": {
   "display_name": "Python 3 (ipykernel)",
   "language": "python",
   "name": "python3"
  },
  "language_info": {
   "codemirror_mode": {
    "name": "ipython",
    "version": 3
   },
   "file_extension": ".py",
   "mimetype": "text/x-python",
   "name": "python",
   "nbconvert_exporter": "python",
   "pygments_lexer": "ipython3",
   "version": "3.9.7"
  }
 },
 "nbformat": 4,
 "nbformat_minor": 5
}
