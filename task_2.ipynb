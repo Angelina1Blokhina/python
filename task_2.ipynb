{
 "cells": [
  {
   "cell_type": "markdown",
   "id": "d8a49008",
   "metadata": {},
   "source": [
    "# Практическое задание 2\n",
    "## Вариант 7\n",
    "## Задание 1 \n",
    "\n",
    "Рассмотрим данные:\n",
    "\n",
    "|       | x<sub>1</sub> | x<sub>2</sub> | x<sub>3</sub> | x<sub>4</sub> | x<sub>5</sub> | x<sub>6</sub> | x<sub>7</sub> | x<sub>8</sub> |\n",
    "| :---: | :-----------: | :-----------: | :-----------: | :-----------: | :-----------: | :-----------: | :-----------: | :-----------: |\n",
    "| **A** |      1.9       |      2.9       |      1.4       |      -1.4       |      2      |      -1.4      |      -2.9      |      2      |\n",
    "| **B** |      -5       |      -6.4       |      -1.5       |      -1.3       |      -6.3      |      -0.4      |      -3.1      |      -5.8      |\n",
    "\n",
    "Есть ядро (функция сходства):\n",
    "$$\n",
    "K({\\bf x}_i,{\\bf x}_j)=||{\\bf x}_i-{\\bf x}_j||^2\\\\\n",
    "$$\n",
    "\n",
    "1. Построить диаграмму рассеяния точек **x<sub>i</sub>** (оси подписать, пронумеровать точки)"
   ]
  },
  {
   "cell_type": "code",
   "execution_count": 1,
   "id": "bfaa5e4f",
   "metadata": {},
   "outputs": [],
   "source": [
    "import pandas as pd\n",
    "import numpy as np\n",
    "import statistics as st\n",
    "import matplotlib.pyplot as plt\n",
    "import scipy.stats as sts\n",
    "import math"
   ]
  },
  {
   "cell_type": "code",
   "execution_count": 2,
   "id": "19aa98a4",
   "metadata": {},
   "outputs": [],
   "source": [
    "\n",
    "A=np.array([4.4,3.6,2.7,10.3,8,9,3.1,8.3])\n",
    "B=np.array([4.8,3.6,6.3,4.9,3.2,4.2,4.9,4.4])\n",
    "matrix = np.transpose([A,B])\n",
    "C=[1,2,3,4,5,6,7,8]"
   ]
  },
  {
   "cell_type": "code",
   "execution_count": 3,
   "id": "a4037992",
   "metadata": {},
   "outputs": [
    {
     "data": {
      "image/png": "[encoded data removed]",
      "text/plain": [
       "<Figure size 432x288 with 1 Axes>"
      ]
     },
     "metadata": {
      "needs_background": "light"
     },
     "output_type": "display_data"
    }
   ],
   "source": [
    "fig, axs = plt.subplots()\n",
    "scatter = axs.scatter(A,B,c=C,cmap='Set1')\n",
    "legend = axs.legend(*scatter.legend_elements(),loc=\"upper right\", title=\"X\")\n",
    "axs.set_xlabel('A')\n",
    "axs.set_ylabel('B')\n",
    "axs.add_artist(legend)\n",
    "plt.show()"
   ]
  },
  {
   "cell_type": "markdown",
   "id": "cbc2706a",
   "metadata": {},
   "source": [
    "2. Рассчитать ядерную матрицу"
   ]
  },
  {
   "cell_type": "code",
   "execution_count": 4,
   "id": "0d79a55f",
   "metadata": {
    "scrolled": true
   },
   "outputs": [
    {
     "data": {
      "text/plain": [
       "array([[ 0.  ,  2.08,  5.14, 34.82, 15.52, 21.52,  1.7 , 15.37],\n",
       "       [ 2.08,  0.  ,  8.1 , 46.58, 19.52, 29.52,  1.94, 22.73],\n",
       "       [ 5.14,  8.1 ,  0.  , 59.72, 37.7 , 44.1 ,  2.12, 34.97],\n",
       "       [34.82, 46.58, 59.72,  0.  ,  8.18,  2.18, 51.84,  4.25],\n",
       "       [15.52, 19.52, 37.7 ,  8.18,  0.  ,  2.  , 26.9 ,  1.53],\n",
       "       [21.52, 29.52, 44.1 ,  2.18,  2.  ,  0.  , 35.3 ,  0.53],\n",
       "       [ 1.7 ,  1.94,  2.12, 51.84, 26.9 , 35.3 ,  0.  , 27.29],\n",
       "       [15.37, 22.73, 34.97,  4.25,  1.53,  0.53, 27.29,  0.  ]])"
      ]
     },
     "execution_count": 4,
     "metadata": {},
     "output_type": "execute_result"
    }
   ],
   "source": [
    "from scipy.spatial.distance import squareform, pdist\n",
    "K=squareform(pdist(matrix))**2\n",
    "K"
   ]
  },
  {
   "cell_type": "markdown",
   "id": "b31799f8",
   "metadata": {},
   "source": [
    "## Задание 2\n",
    "Рассмотрим данные в виде матрицы **D**:\n",
    "\n",
    "| ***X<sub>1</sub>*** | ***X<sub>2</sub>*** |\n",
    "| :-----------------: | :-----------------: |\n",
    "|         -46         |         -19         |\n",
    "|         -72         |         132         |\n",
    "|         -27         |         73         |\n",
    "|         3         |         64         |\n",
    "|         -50         |         145         |\n",
    "|         -37         |         202         |\n",
    "|         -49         |         9         |\n",
    "|         -47         |         37         |\n",
    "\n",
    "1. Построить диаграмму рассеяния (оси подписать, пронумеровать точки)"
   ]
  },
  {
   "cell_type": "code",
   "execution_count": 5,
   "id": "35597b8a",
   "metadata": {},
   "outputs": [],
   "source": [
    "\n",
    "X1=np.array([0,6,-6,-13,-13,23,1,-12])\n",
    "X2=np.array([33,82,85,35,-62,49,22,0])"
   ]
  },
  {
   "cell_type": "code",
   "execution_count": 6,
   "id": "da36000a",
   "metadata": {},
   "outputs": [
    {
     "data": {
      "image/png": "[encoded data removed]",
      "text/plain": [
       "<Figure size 432x288 with 1 Axes>"
      ]
     },
     "metadata": {
      "needs_background": "light"
     },
     "output_type": "display_data"
    }
   ],
   "source": [
    "fig, axs = plt.subplots()\n",
    "scatter = axs.scatter(X1,X2,c=C,cmap='Set1')\n",
    "legend = axs.legend(*scatter.legend_elements(), title=\"X\",bbox_to_anchor=(1.2, 0.8))\n",
    "axs.set_xlabel('X1')\n",
    "axs.set_ylabel('X2')\n",
    "axs.add_artist(legend)\n",
    "plt.show()\n"
   ]
  },
  {
   "cell_type": "markdown",
   "id": "9ac067e4",
   "metadata": {},
   "source": [
    "2. Рассчитайте среднее **μ** для матрицы **D**, ковариационную матрицу **Σ** для матрицы **D** и ковариационную матрицу **Σ<sub>c</sub>**  для центрированной матрицы **D**"
   ]
  },
  {
   "cell_type": "code",
   "execution_count": 7,
   "id": "8bd2cdab",
   "metadata": {
    "scrolled": false
   },
   "outputs": [
    {
     "name": "stdout",
     "output_type": "stream",
     "text": [
      "(array([  1.75,   7.75,  -4.25, -11.25, -11.25,  24.75,   2.75, -10.25]), array([  2.5,  51.5,  54.5,   4.5, -92.5,  18.5,  -8.5, -30.5]))\n",
      "Mean vector:  (-1.75, 30.5)\n"
     ]
    }
   ],
   "source": [
    "X = np.vstack((X1,X2))\n",
    "Xcentered = (X[0] - X1.mean(), X[1] - X2.mean())\n",
    "m = (X1.mean(), X2.mean())\n",
    "print(Xcentered)\n",
    "print('Mean vector: ', m)"
   ]
  },
  {
   "cell_type": "code",
   "execution_count": 8,
   "id": "7fd0c4b4",
   "metadata": {},
   "outputs": [
    {
     "name": "stdout",
     "output_type": "stream",
     "text": [
      "Σ  [[ 151.35714286  272.71428571]\n",
      " [ 272.71428571 2221.42857143]]\n",
      "\n",
      "Σc  [[ 151.35714286  272.71428571]\n",
      " [ 272.71428571 2221.42857143]]\n"
     ]
    }
   ],
   "source": [
    "Σ = np.cov(X)\n",
    "print('Σ ',Σ)\n",
    "Σc=np.cov(Xcentered)\n",
    "print('\\nΣc ',Σc)"
   ]
  },
  {
   "cell_type": "markdown",
   "id": "cf3cd2f7",
   "metadata": {},
   "source": [
    "\n",
    "3. Рассчитайте собственные числа и собственные вектора для матрицы **Σ<sub>c</sub>**"
   ]
  },
  {
   "cell_type": "code",
   "execution_count": 9,
   "id": "9fe8135c",
   "metadata": {
    "scrolled": true
   },
   "outputs": [
    {
     "name": "stdout",
     "output_type": "stream",
     "text": [
      "Собственные числа  [ 116.03216491 2256.75354938]\n",
      "Собственные векторы  [[-0.99171496 -0.12845792]\n",
      " [ 0.12845792 -0.99171496]]\n"
     ]
    }
   ],
   "source": [
    "from numpy import linalg as LA\n",
    "w,v = LA.eig(Σc)\n",
    "print('Собственные числа ',w)\n",
    "print('Собственные векторы ',v)"
   ]
  },
  {
   "cell_type": "markdown",
   "id": "1782476c",
   "metadata": {},
   "source": [
    "4. Выведите индекс (порядковый номер), соответствующий первой главной компоненте"
   ]
  },
  {
   "cell_type": "code",
   "execution_count": 10,
   "id": "ffa59410",
   "metadata": {},
   "outputs": [
    {
     "name": "stdout",
     "output_type": "stream",
     "text": [
      "Индекс первого главного компонента:  1\n"
     ]
    }
   ],
   "source": [
    "print('Индекс первого главного компонента: ', np.argmax(w))"
   ]
  },
  {
   "cell_type": "markdown",
   "id": "ea12c8d7",
   "metadata": {},
   "source": [
    "    Т.е. 2 порядковый номер, так как большее собственное число представляет величину дисперсии, соответствующую первой главной оси."
   ]
  },
  {
   "cell_type": "markdown",
   "id": "e959172c",
   "metadata": {},
   "source": [
    "5. Рассчитайте первый главный компонент. Постройте точечный график полученного вектора (добавить к каждой точке ее номер)"
   ]
  },
  {
   "cell_type": "code",
   "execution_count": 11,
   "id": "16b68088",
   "metadata": {
    "scrolled": false
   },
   "outputs": [
    {
     "name": "stdout",
     "output_type": "stream",
     "text": [
      "[  2.70408876  52.06886934  53.50251922   3.01756576 -93.17878544\n",
      "  21.52606022  -8.07631789 -31.56399996]\n"
     ]
    }
   ],
   "source": [
    "Xnew = np.dot(-v[:,1],Xcentered)\n",
    "print(Xnew)"
   ]
  },
  {
   "cell_type": "code",
   "execution_count": 12,
   "id": "11826f23",
   "metadata": {
    "scrolled": true
   },
   "outputs": [
    {
     "data": {
      "image/png": "[encoded data removed]",
      "text/plain": [
       "<Figure size 432x288 with 1 Axes>"
      ]
     },
     "metadata": {
      "needs_background": "light"
     },
     "output_type": "display_data"
    }
   ],
   "source": [
    "y=[0]*8\n",
    "fig, axs = plt.subplots()\n",
    "scatter = axs.scatter(Xnew,y,c=C)\n",
    "legend = axs.legend(*scatter.legend_elements(), title=\"PC1\",bbox_to_anchor=(1.2, 0.8))\n",
    "axs.add_artist(legend)\n",
    "plt.show()"
   ]
  },
  {
   "cell_type": "markdown",
   "id": "caa2d6c5",
   "metadata": {},
   "source": [
    "6. Используя PCA из библиотеки sklearn, получите первую главную компоненту для матрицы **D**. Постройте точечный график полученного вектора (пронумеровать точки)"
   ]
  },
  {
   "cell_type": "code",
   "execution_count": 13,
   "id": "568db86e",
   "metadata": {},
   "outputs": [
    {
     "name": "stdout",
     "output_type": "stream",
     "text": [
      "PC1:\n",
      " [[ -2.70408876]\n",
      " [-52.06886934]\n",
      " [-53.50251922]\n",
      " [ -3.01756576]\n",
      " [ 93.17878544]\n",
      " [-21.52606022]\n",
      " [  8.07631789]\n",
      " [ 31.56399996]]\n"
     ]
    }
   ],
   "source": [
    "from sklearn.decomposition import PCA\n",
    "pca = PCA(n_components = 1)\n",
    "XPCAreduced = pca.fit_transform(np.transpose(X))\n",
    "print('PC1:\\n',XPCAreduced)"
   ]
  },
  {
   "cell_type": "code",
   "execution_count": 14,
   "id": "bafc0fc0",
   "metadata": {
    "scrolled": true
   },
   "outputs": [
    {
     "data": {
      "image/png": "[encoded data removed]",
      "text/plain": [
       "<Figure size 432x288 with 1 Axes>"
      ]
     },
     "metadata": {
      "needs_background": "light"
     },
     "output_type": "display_data"
    }
   ],
   "source": [
    "fig, axs = plt.subplots()\n",
    "scatter = axs.scatter(XPCAreduced,y,c=C)\n",
    "legend = axs.legend(*scatter.legend_elements(), title=\"PC1\",bbox_to_anchor=(1.2, 0.8))\n",
    "axs.add_artist(legend)\n",
    "plt.show()"
   ]
  },
  {
   "cell_type": "markdown",
   "id": "5528b7d4",
   "metadata": {},
   "source": [
    "7. Визуально сравните графики, полученные в пунктах **5** и **6**. Убедитесь в корректности выполнения преобразований. Сохранен ли порядок точек? "
   ]
  },
  {
   "cell_type": "markdown",
   "id": "b57f6292",
   "metadata": {},
   "source": [
    "    Порядок точен сохранен, значения совпадают, преобразования выполнены корректно"
   ]
  },
  {
   "cell_type": "markdown",
   "id": "4dd32c57",
   "metadata": {},
   "source": [
    "Выведите название оси графика из пункта 1, проекция данных на которую сравнима с результатами PCA преобразований"
   ]
  },
  {
   "cell_type": "code",
   "execution_count": 15,
   "id": "9d244bd4",
   "metadata": {},
   "outputs": [
    {
     "name": "stdout",
     "output_type": "stream",
     "text": [
      "Дисперсия X1 = 132.4375\n",
      "Дисперсия X2 = 1943.75\n",
      "Дисперсия PC1 = 1974.6593557047267\n"
     ]
    }
   ],
   "source": [
    "print('Дисперсия X1 =', np.var(X1))\n",
    "print('Дисперсия X2 =', np.var(X2))\n",
    "print('Дисперсия PC1 =', np.var(XPCAreduced))"
   ]
  },
  {
   "cell_type": "markdown",
   "id": "ba3caa81",
   "metadata": {},
   "source": [
    "Проекция данных на ось <b>X2</b> сравнима с результатами PCA преобразований."
   ]
  },
  {
   "cell_type": "markdown",
   "id": "30155dd7",
   "metadata": {},
   "source": [
    "8. **μ** и **Σ** сверху задают нормальное распределение, из которого были сгенерированы точки. Постройте диаграмму рассеяния, которая позволит определить ориентацию / размеры облака точек, полученного с помощью 2-мерной функции плотности вероятности. \n"
   ]
  },
  {
   "cell_type": "code",
   "execution_count": 25,
   "id": "0e0fe78b",
   "metadata": {
    "scrolled": true
   },
   "outputs": [
    {
     "name": "stdout",
     "output_type": "stream",
     "text": [
      "12.302729081677075\n",
      "47.13203338949606\n"
     ]
    },
    {
     "data": {
      "image/png": "[encoded data removed]",
      "text/plain": [
       "<Figure size 432x288 with 2 Axes>"
      ]
     },
     "metadata": {
      "needs_background": "light"
     },
     "output_type": "display_data"
    }
   ],
   "source": [
    "s1 = math.sqrt(Σ[0,0])\n",
    "print(s1)\n",
    "s2 =  math.sqrt(Σ[1,1])\n",
    "print(s2)\n",
    "x, y = np.mgrid[-100:100, -100:300]\n",
    "pos = np.dstack((x, y))\n",
    "rv = sts.multivariate_normal(m, Σ)\n",
    "fig = plt.figure()\n",
    "ax = fig.add_subplot()\n",
    "cset= ax.contourf(x, y, rv.pdf(pos))\n",
    "cbar = plt.colorbar(cset)\n",
    "cbar.ax.set_ylabel('density: $p(x_1, x_2)$', fontsize=13)\n",
    "plt.show()"
   ]
  },
  {
   "cell_type": "markdown",
   "id": "1833b616",
   "metadata": {},
   "source": [
    " На отдельном линейном графике постройте графики функций плотностей вероятности отдельных компонентов 2-мерного нормального распределения"
   ]
  },
  {
   "cell_type": "code",
   "execution_count": 27,
   "id": "79b2d8a0",
   "metadata": {
    "scrolled": true
   },
   "outputs": [
    {
     "name": "stdout",
     "output_type": "stream",
     "text": [
      "-1.75\n",
      "30.5\n",
      "[0.00036023 0.00043127 0.00051442 0.00061135 0.00072389 0.000854\n",
      " 0.0010038  0.00117555 0.00137163 0.00159456 0.00184693 0.00213139\n",
      " 0.00245064 0.00280739 0.00320428 0.00364387 0.00412857 0.00466059\n",
      " 0.00524189 0.00587407 0.00655836 0.00729552 0.00808578 0.00892878\n",
      " 0.00982353 0.01076832 0.01176069 0.01279742 0.01387449 0.01498705\n",
      " 0.01612948 0.01729534 0.01847749 0.01966805 0.02085858 0.02204006\n",
      " 0.02320308 0.02433791 0.02543465 0.02648335 0.0274742  0.02839761\n",
      " 0.02924445 0.03000612 0.03067476 0.03124332 0.03170575 0.03205705\n",
      " 0.03229342 0.03241225 0.03241225 0.03229342 0.03205705 0.03170575\n",
      " 0.03124332 0.03067476 0.03000612 0.02924445 0.02839761 0.0274742\n",
      " 0.02648335 0.02543465 0.02433791 0.02320308 0.02204006 0.02085858\n",
      " 0.01966805 0.01847749 0.01729534 0.01612948 0.01498705 0.01387449\n",
      " 0.01279742 0.01176069 0.01076832 0.00982353 0.00892878 0.00808578\n",
      " 0.00729552 0.00655836 0.00587407 0.00524189 0.00466059 0.00412857\n",
      " 0.00364387 0.00320428 0.00280739 0.00245064 0.00213139 0.00184693\n",
      " 0.00159456 0.00137163 0.00117555 0.0010038  0.000854   0.00072389\n",
      " 0.00061135 0.00051442 0.00043127 0.00036023]\n",
      "[9.40304946e-05 1.12572873e-04 1.34277602e-04 1.59579904e-04\n",
      " 1.88954664e-04 2.22916301e-04 2.62017823e-04 3.06848947e-04\n",
      " 3.58033146e-04 4.16223529e-04 4.82097430e-04 5.56349625e-04\n",
      " 6.39684133e-04 7.32804542e-04 8.36402885e-04 9.51147098e-04\n",
      " 1.07766716e-03 1.21654003e-03 1.36827362e-03 1.53328999e-03\n",
      " 1.71190807e-03 1.90432635e-03 2.11060571e-03 2.33065309e-03\n",
      " 2.56420627e-03 2.81082027e-03 3.06985589e-03 3.34047093e-03\n",
      " 3.62161434e-03 3.91202390e-03 4.21022779e-03 4.51455017e-03\n",
      " 4.82312112e-03 5.13389105e-03 5.44464945e-03 5.75304796e-03\n",
      " 6.05662744e-03 6.35284883e-03 6.63912702e-03 6.91286745e-03\n",
      " 7.17150452e-03 7.41254118e-03 7.63358871e-03 7.83240597e-03\n",
      " 8.00693712e-03 8.15534694e-03 8.27605294e-03 8.36775343e-03\n",
      " 8.42945087e-03 8.46046998e-03 8.46046998e-03 8.42945087e-03\n",
      " 8.36775343e-03 8.27605294e-03 8.15534694e-03 8.00693712e-03\n",
      " 7.83240597e-03 7.63358871e-03 7.41254118e-03 7.17150452e-03\n",
      " 6.91286745e-03 6.63912702e-03 6.35284883e-03 6.05662744e-03\n",
      " 5.75304796e-03 5.44464945e-03 5.13389105e-03 4.82312112e-03\n",
      " 4.51455017e-03 4.21022779e-03 3.91202390e-03 3.62161434e-03\n",
      " 3.34047093e-03 3.06985589e-03 2.81082027e-03 2.56420627e-03\n",
      " 2.33065309e-03 2.11060571e-03 1.90432635e-03 1.71190807e-03\n",
      " 1.53328999e-03 1.36827362e-03 1.21654003e-03 1.07766716e-03\n",
      " 9.51147098e-04 8.36402885e-04 7.32804542e-04 6.39684133e-04\n",
      " 5.56349625e-04 4.82097430e-04 4.16223529e-04 3.58033146e-04\n",
      " 3.06848947e-04 2.62017823e-04 2.22916301e-04 1.88954664e-04\n",
      " 1.59579904e-04 1.34277602e-04 1.12572873e-04 9.40304946e-05]\n"
     ]
    },
    {
     "data": {
      "image/png": "[encoded data removed]",
      "text/plain": [
       "<Figure size 432x288 with 1 Axes>"
      ]
     },
     "metadata": {
      "needs_background": "light"
     },
     "output_type": "display_data"
    }
   ],
   "source": [
    "x1 = np.linspace(m[0] - 3*s1, m[0] + 3*s1, 100)\n",
    "print(m[0])\n",
    "x2 = np.linspace(m[1] - 3*s2, m[1] + 3*s2, 100)\n",
    "print(m[1])\n",
    "fx1 = sts.norm.pdf(x1,m[0],s1)\n",
    "fx2 = sts.norm.pdf(x2,m[1],s2)\n",
    "plt.plot(x1, fx1,label= 'Для X1')\n",
    "plt.plot(x2, fx2,label= 'Для X2')\n",
    "plt.legend()\n",
    "print(fx1)\n",
    "print(fx2)"
   ]
  },
  {
   "cell_type": "markdown",
   "id": "066c2e77",
   "metadata": {},
   "source": [
    "### Задание 3"
   ]
  },
  {
   "cell_type": "markdown",
   "id": "3e8fac07",
   "metadata": {},
   "source": [
    "1. Для данных и ядра из первого задания найдите первую главную компоненту при нелинейном преобразовании для заданного ядра. Постройте точечный график полученного вектора (добавить к каждой точке ее номер)"
   ]
  },
  {
   "cell_type": "code",
   "execution_count": 54,
   "id": "7a37d677",
   "metadata": {
    "scrolled": false
   },
   "outputs": [
    {
     "name": "stdout",
     "output_type": "stream",
     "text": [
      "[[ -6.4390625  -8.6490625 -13.2615625  14.4534375   7.1809375  10.2059375\n",
      "  -11.1065625   7.6159375]\n",
      " [ -8.6490625 -15.0190625 -14.5915625  21.9234375   6.8909375  13.9159375\n",
      "  -15.1565625  10.6859375]\n",
      " [-13.2615625 -14.5915625 -30.3640625  27.3909375  17.3984375  20.8234375\n",
      "  -22.6490625  15.2534375]\n",
      " [ 14.4534375  21.9234375  27.3909375 -34.2940625 -14.0865625 -23.0615625\n",
      "   25.1059375 -17.4315625]\n",
      " [  7.1809375   6.8909375  17.3984375 -14.0865625 -10.2390625 -11.2140625\n",
      "   12.1934375  -8.1240625]\n",
      " [ 10.2059375  13.9159375  20.8234375 -23.0615625 -11.2140625 -16.1890625\n",
      "   17.6184375 -12.0990625]\n",
      " [-11.1065625 -15.1565625 -22.6490625  25.1059375  12.1934375  17.6184375\n",
      "  -19.1740625  13.1684375]\n",
      " [  7.6159375  10.6859375  15.2534375 -17.4315625  -8.1240625 -12.0990625\n",
      "   13.1684375  -9.0690625]]\n",
      "----------------------------------------------\n",
      "[-1.30212169e+02+0.00000000e+00j -1.05753311e+01+0.00000000e+00j\n",
      " -7.70062376e-15+0.00000000e+00j -2.45830063e-15+2.37723166e-15j\n",
      " -2.45830063e-15-2.37723166e-15j  1.03038108e-14+0.00000000e+00j\n",
      "  6.20321811e-15+0.00000000e+00j  5.67758976e-15+0.00000000e+00j]\n",
      "----------------------------------------------\n",
      "PC1:\n",
      " [[-1.19348975e-15 -2.83106871e-15 -3.27515792e-15  1.48769885e-14\n",
      "   5.77315973e-15  1.03805853e-14 -4.44089210e-15  6.02295991e-15]]\n"
     ]
    }
   ],
   "source": [
    "N = K.shape[0]\n",
    "one_n = np.ones((N,N)) / N\n",
    "KCentered = K - one_n.dot(K) - K.dot(one_n) + one_n.dot(K).dot(one_n) \n",
    "print(KCentered)\n",
    "print(\"----------------------------------------------\")\n",
    "eig_vals, eig_vecs = LA.eig(KCentered)\n",
    "print(eig_vals)\n",
    "print(\"----------------------------------------------\")\n",
    "eig_vals, eig_vecs = eig_vals[::-1], eig_vecs[:, ::-1] \n",
    "eig_vecs = np.vstack([eig_vecs[:, i] for i in range(1)])   \n",
    "my_kpca = np.dot(eig_vecs,KCentered).real\n",
    "print('PC1:\\n',my_kpca)"
   ]
  },
  {
   "cell_type": "code",
   "execution_count": 33,
   "id": "37cc9d00",
   "metadata": {},
   "outputs": [
    {
     "data": {
      "image/png": "[encoded data removed]",
      "text/plain": [
       "<Figure size 432x288 with 1 Axes>"
      ]
     },
     "metadata": {
      "needs_background": "light"
     },
     "output_type": "display_data"
    }
   ],
   "source": [
    "y=[0]*8\n",
    "fig, axs = plt.subplots()\n",
    "scatter = axs.scatter(my_kpca,y,c=C)\n",
    "legend = axs.legend(*scatter.legend_elements(),bbox_to_anchor=(1.2, 0.8), title=\"PC1\",)\n",
    "axs.add_artist(legend)\n",
    "plt.show()"
   ]
  },
  {
   "cell_type": "markdown",
   "id": "b9a3bdfa",
   "metadata": {},
   "source": [
    "2. Используя KernelPCA из библиотеки sklearn с ядром Гаусса и гаммой = 1, получите первую главную компоненту для данных из первого задания. Постройте точечный график полученного вектора (добавить к каждой точке ее номер)"
   ]
  },
  {
   "cell_type": "code",
   "execution_count": 20,
   "id": "5423d7b3",
   "metadata": {},
   "outputs": [
    {
     "name": "stdout",
     "output_type": "stream",
     "text": [
      "PC1:\n",
      " [[-0.41866114]\n",
      " [-0.38818492]\n",
      " [-0.27293928]\n",
      " [-0.00748316]\n",
      " [ 0.26952468]\n",
      " [ 0.63508423]\n",
      " [-0.47266214]\n",
      " [ 0.65532173]]\n"
     ]
    }
   ],
   "source": [
    "from sklearn.decomposition import KernelPCA\n",
    "kpca = KernelPCA(kernel='rbf', n_components=1, gamma =1)\n",
    "kpca_transform = kpca.fit_transform(matrix)\n",
    "print('PC1:\\n',kpca_transform)"
   ]
  },
  {
   "cell_type": "code",
   "execution_count": 21,
   "id": "c3bd631e",
   "metadata": {},
   "outputs": [
    {
     "data": {
      "image/png": "[encoded data removed]",
      "text/plain": [
       "<Figure size 432x288 with 1 Axes>"
      ]
     },
     "metadata": {
      "needs_background": "light"
     },
     "output_type": "display_data"
    }
   ],
   "source": [
    "fig, axs = plt.subplots()\n",
    "scatter = axs.scatter(kpca_transform,y,c=C)\n",
    "legend = axs.legend(*scatter.legend_elements(),bbox_to_anchor=(1.2, 0.8), title=\"PC1\")\n",
    "axs.add_artist(legend)\n",
    "plt.show()"
   ]
  },
  {
   "cell_type": "markdown",
   "id": "107aebc9",
   "metadata": {},
   "source": [
    "3. Визуально сравните графики, полученные в пунктах **1** и **2**. Определите, использование какого ядра (из первого задания или ядра Гаусса) позволяет, на ваш взгляд, лучше визуально выделить принадлежность точки к одному из двух кластеров"
   ]
  },
  {
   "cell_type": "markdown",
   "id": "14147d57",
   "metadata": {},
   "source": [
    "    Использование Гауссово ядра позволяет визуально лучше оценить принадлежность точки к определенному кластеру, чем ядро заданное в 1 задании"
   ]
  }
 ],
 "metadata": {
  "kernelspec": {
   "display_name": "Python 3 (ipykernel)",
   "language": "python",
   "name": "python3"
  },
  "language_info": {
   "codemirror_mode": {
    "name": "ipython",
    "version": 3
   },
   "file_extension": ".py",
   "mimetype": "text/x-python",
   "name": "python",
   "nbconvert_exporter": "python",
   "pygments_lexer": "ipython3",
   "version": "3.9.13"
  }
 },
 "nbformat": 4,
 "nbformat_minor": 5
}
