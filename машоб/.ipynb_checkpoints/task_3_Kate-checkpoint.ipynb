{
 "cells": [
  {
   "cell_type": "code",
   "execution_count": 1,
   "id": "8046b222",
   "metadata": {},
   "outputs": [],
   "source": [
    "import pandas as pd\n",
    "import numpy as np\n",
    "import statistics as st\n",
    "import matplotlib.pyplot as plt\n",
    "from scipy.stats import norm\n",
    "df=pd.DataFrame()\n",
    "df['tid']=['t1','t2','t3','t4','t5','t6','t7','t8','t9','t10']\n",
    "df['itemset'] = ['CE','CEF','BE','ABCDF','AC','ACEF','ABC','AEF','ABCDE','DEF']\n",
    "data=df['itemset']"
   ]
  },
  {
   "cell_type": "markdown",
   "id": "245b1a92",
   "metadata": {},
   "source": [
    " 1.1 "
   ]
  },
  {
   "cell_type": "code",
   "execution_count": 2,
   "id": "3a65a608",
   "metadata": {},
   "outputs": [],
   "source": [
    "def printSet(itemSets,minSupport):\n",
    "    if itemSets != {}:\n",
    "        df=pd.DataFrame()\n",
    "        df['itemset']=[list(item) for item in itemSets.keys()]\n",
    "        df['support']=itemSets.values()\n",
    "        df['length'] = df['itemset'].apply(lambda x: len(x))\n",
    "        df[''] = [False if val/10<minSupport else True for val in itemSets.values()]\n",
    "        print(df)\n"
   ]
  },
  {
   "cell_type": "code",
   "execution_count": 3,
   "id": "b21f3aa1",
   "metadata": {},
   "outputs": [],
   "source": [
    "from collections import defaultdict\n",
    "\n",
    "\n",
    "def returnItemsWithMinSupport(itemSet, transactionList, minSupport, freqSet):\n",
    "    combItem = {}\n",
    "    for item in itemSet:\n",
    "        for transaction in transactionList:\n",
    "            if item.issubset(transaction):\n",
    "                freqSet[item] += 1\n",
    "                combItem.setdefault(item, 0)\n",
    "                combItem[item] += 1\n",
    "    printSet(combItem,minSupport)\n",
    "    num_items=10\n",
    "    combItem = {item:val for item,val in combItem.items() if val/num_items >= minSupport}\n",
    "    return combItem\n",
    "\n",
    "\n",
    "def joinSet(itemSet, length):\n",
    "    return set([i.union(j) for i in itemSet for j in itemSet if len(i.union(j)) == length])\n",
    "\n",
    "\n",
    "def getItemSetTransactionList(dataset):\n",
    "    transactionList = list( frozenset(transaction) for transaction in dataset)\n",
    "    itemSet = set(frozenset([item]) for transaction in dataset for item in transaction)\n",
    "    return itemSet, transactionList\n",
    "\n",
    "\n",
    "def runApriori(data_iter, minSupport):\n",
    "    itemSet, transactionList = getItemSetTransactionList(data_iter)\n",
    "    print('Unique elements:',[list(item) for item in itemSet])\n",
    "    freqSet = defaultdict(int)\n",
    "    resultSet = {}\n",
    "    print('\\nStep 1')\n",
    "    currentLSet = returnItemsWithMinSupport(itemSet, transactionList, minSupport, freqSet)\n",
    "    resultSet.update(currentLSet)\n",
    "    currentLSet = set(currentLSet.keys())\n",
    "    k = 2\n",
    "    while currentLSet != set([]): \n",
    "        currentLSet = joinSet(currentLSet, k)\n",
    "        print('\\nStep %d'% k)\n",
    "        currentCSet = returnItemsWithMinSupport(currentLSet, transactionList, minSupport, freqSet)\n",
    "        resultSet.update(currentCSet)\n",
    "        currentLSet = set(currentCSet)\n",
    "        k = k + 1\n",
    "    return resultSet"
   ]
  },
  {
   "cell_type": "code",
   "execution_count": 4,
   "id": "13128620",
   "metadata": {},
   "outputs": [
    {
     "name": "stdout",
     "output_type": "stream",
     "text": [
      "Data: ['CE', 'CEF', 'BE', 'ABCDF', 'AC', 'ACEF', 'ABC', 'AEF', 'ABCDE', 'DEF']\n",
      "Minsup ratio: 0.5\n",
      "Minsup value: 5\n",
      "Unique elements: [['E'], ['B'], ['D'], ['A'], ['C'], ['F']]\n",
      "\n",
      "Step 1\n",
      "  itemset  support  length       \n",
      "0     [E]        7       1   True\n",
      "1     [B]        4       1  False\n",
      "2     [D]        3       1  False\n",
      "3     [A]        6       1   True\n",
      "4     [C]        7       1   True\n",
      "5     [F]        5       1   True\n",
      "\n",
      "Step 2\n",
      "  itemset  support  length       \n",
      "0  [F, A]        3       2  False\n",
      "1  [F, C]        3       2  False\n",
      "2  [E, C]        4       2  False\n",
      "3  [F, E]        4       2  False\n",
      "4  [A, C]        5       2   True\n",
      "5  [E, A]        3       2  False\n",
      "\n",
      "Step 3\n",
      "\n",
      "Result:\n",
      "  itemset  support  length      \n",
      "0     [E]        7       1  True\n",
      "1     [A]        6       1  True\n",
      "2     [C]        7       1  True\n",
      "3     [F]        5       1  True\n",
      "4  [A, C]        5       2  True\n"
     ]
    }
   ],
   "source": [
    "print('Data:', list(df['itemset']))\n",
    "print('Minsup ratio:',5/10)\n",
    "print('Minsup value:',5)\n",
    "result = runApriori(df['itemset'],0.5)\n",
    "print('\\nResult:')\n",
    "printSet(result,0.5)"
   ]
  },
  {
   "cell_type": "markdown",
   "id": "565ecdc0",
   "metadata": {},
   "source": [
    "1.2."
   ]
  },
  {
   "cell_type": "code",
   "execution_count": 5,
   "id": "f9f20836",
   "metadata": {},
   "outputs": [],
   "source": [
    "from mlxtend.preprocessing import TransactionEncoder\n",
    "te = TransactionEncoder()\n",
    "te_ary = te.fit(df['itemset']).transform(df['itemset'])\n",
    "df = pd.DataFrame(te_ary, columns=te.columns_)"
   ]
  },
  {
   "cell_type": "code",
   "execution_count": 6,
   "id": "bc7fbfd0",
   "metadata": {
    "scrolled": true
   },
   "outputs": [
    {
     "name": "stdout",
     "output_type": "stream",
     "text": [
      "   support itemsets  length\n",
      "0      0.6      (A)       1\n",
      "1      0.7      (C)       1\n",
      "2      0.7      (E)       1\n",
      "3      0.5      (F)       1\n",
      "4      0.5   (A, C)       2\n"
     ]
    }
   ],
   "source": [
    "from mlxtend.frequent_patterns import apriori\n",
    "results = apriori(df, min_support=0.5, use_colnames=True)\n",
    "results['length'] = results['itemsets'].apply(lambda x: len(x))\n",
    "print(results)"
   ]
  },
  {
   "cell_type": "markdown",
   "id": "6796bf12",
   "metadata": {},
   "source": [
    "1.3"
   ]
  },
  {
   "cell_type": "code",
   "execution_count": 7,
   "id": "edad7c36",
   "metadata": {},
   "outputs": [],
   "source": [
    "def getSortingUnique(dataset):\n",
    "    itemSet = set(item for transaction in dataset for item in transaction)\n",
    "    combItem = {}\n",
    "    for item in itemSet:\n",
    "        for transaction in dataset:\n",
    "            if transaction.find(item)>-1:\n",
    "                combItem.setdefault(item, 0)\n",
    "                combItem[item] += 1\n",
    "    sorted_dict={}\n",
    "    sorted_keys=sorted(combItem, key = combItem.get,reverse=True)\n",
    "    for key in sorted_keys:\n",
    "        sorted_dict[key]=combItem[key]\n",
    "    return sorted_dict"
   ]
  },
  {
   "cell_type": "code",
   "execution_count": 8,
   "id": "225789b3",
   "metadata": {},
   "outputs": [],
   "source": [
    "def getSortingData(dataset,sorted_dict):\n",
    "    sort_data=[]\n",
    "    for transaction in dataset: \n",
    "        sort_trans=[]\n",
    "        for item in sorted_dict.keys():\n",
    "             if transaction.find(item)>-1:\n",
    "                    sort_trans.append(item)\n",
    "        sort_data.append(sort_trans)\n",
    "    return sort_data\n",
    "           "
   ]
  },
  {
   "cell_type": "code",
   "execution_count": 9,
   "id": "2c33eca1",
   "metadata": {},
   "outputs": [],
   "source": [
    "min_sup=0.3\n",
    "from collections import namedtuple\n",
    "#path=namedtuple('path','start end')\n",
    "class FPNode(object):\n",
    "    def __init__(self,names,frequency=1):\n",
    "        self.name=names\n",
    "        self.frequency=frequency\n",
    "        self.ancestors=None\n",
    "        self.children={}\n",
    "        self.new=True\n",
    "    def changeFreq(self):\n",
    "        self.frequency+=1\n",
    "    def addNode(self, node):\n",
    "        if not node.name in node.children:\n",
    "            self.children[node.name] = node\n",
    "            node.ancestors = self\n",
    "    def findNode(self, item):\n",
    "        try:\n",
    "            return self.children[item]\n",
    "        except KeyError:\n",
    "            return None\n",
    "    def disp(self, ind=1):\n",
    "        if self.name != None:\n",
    "            if self.ancestors and self.ancestors.new==True:\n",
    "                print(\" (\", end=\"\")\n",
    "                self.ancestors.new=False\n",
    "            print(self.name, end=\"\")\n",
    "            print(\":\", end=\"\")\n",
    "            print(self.frequency, end=\"\")\n",
    "            print(\":\", end=\"\")\n",
    "            parent = self.ancestors\n",
    "            p = ''\n",
    "            while parent != None and parent.name != None:\n",
    "                p = p + parent.name\n",
    "                parent = parent.ancestors\n",
    "            print(p[::-1], end=\"\")\n",
    "            if self.children == {}:\n",
    "                print(\"(\", end=\"\")\n",
    "        for child in self.children.values():\n",
    "            child.disp(ind+1)\n",
    "            print(\"),\", end=\"\")\n",
    "class FPTree:\n",
    "    def __init__(self):\n",
    "        self.head = FPNode(None)\n",
    "        self.uniq={}\n",
    "    def addNode(self, transaction):\n",
    "        t_node = self.head\n",
    "       # head=self.head\n",
    "        for item in transaction:\n",
    "            n_node = t_node.findNode(item)\n",
    "            if n_node:\n",
    "                n_node.changeFreq()\n",
    "            else:\n",
    "                n_node = FPNode(item)\n",
    "                t_node.addNode(n_node)\n",
    "                #p=path(head,n_node)\n",
    "                self.uniq.setdefault(item,[])\n",
    "                self.uniq[item].append(n_node)\n",
    "            t_node = n_node   \n",
    "    def findNode(s_node):\n",
    "        for node in self:\n",
    "            if node.name == s_node:\n",
    "                node.frequency+=1\n",
    "    def getAncestors(self):\n",
    "        for current_node in self:\n",
    "            pass\n",
    "        if current_node!=self.head:\n",
    "            return current_node.ancestors+current_node.name\n",
    "        return ''\n",
    "    def disp(self):\n",
    "        self.head.disp()\n",
    "    def findAncetsetors(self,item):\n",
    "        if self.name==item:\n",
    "            return \n",
    "    def findSuffixPrefix(self):\n",
    "        for item,arr_path in self.uniq.items():\n",
    "            prefix={}\n",
    "            for path in arr_path:\n",
    "                node = path\n",
    "                item=node.name\n",
    "                frequency=node.frequency\n",
    "                name_path=''\n",
    "                node=node.ancestors\n",
    "                prefix.setdefault(item,[])\n",
    "                while node is not None and node.name is not None:\n",
    "                    name_path+=node.name\n",
    "                    node=node.ancestors\n",
    "                if name_path!='':\n",
    "                    prefix[item].append((name_path[::-1],frequency))\n",
    "            print('sufix: %s, prefix: %s, empty prefix list: %s'%(item,prefix[item],True if prefix[item]== [] else False))\n",
    "            makeCPTree(prefix[item],item)\n",
    "    def findPrefixWithMinsup(self,frequency):\n",
    "        for item,node in self.uniq.items():\n",
    "            support=node[0].frequency\n",
    "            if support/10>=min_sup:\n",
    "                return(item,support)\n",
    "             \n",
    "def makeCPTree(prefix_list,suffix):\n",
    "    tree=FPTree()\n",
    "    node_sup={}\n",
    "    for prefix in prefix_list: \n",
    "        path=prefix[0]\n",
    "        frequency=prefix[1]\n",
    "        for i in range(frequency):    \n",
    "            tree.addNode(path)\n",
    "    node_sup.setdefault(suffix,[])\n",
    "    node_sup[suffix].append(tree.findPrefixWithMinsup(frequency))\n",
    "    print(node_sup)\n",
    "    tree.disp()\n",
    "    print('\\n')\n",
    "        "
   ]
  },
  {
   "cell_type": "code",
   "execution_count": 10,
   "id": "57a38ee4",
   "metadata": {
    "scrolled": false
   },
   "outputs": [
    {
     "ename": "NameError",
     "evalue": "name 'llist' is not defined",
     "output_type": "error",
     "traceback": [
      "\u001b[1;31m---------------------------------------------------------------------------\u001b[0m",
      "\u001b[1;31mNameError\u001b[0m                                 Traceback (most recent call last)",
      "\u001b[1;32m<ipython-input-10-8275bd9da1ab>\u001b[0m in \u001b[0;36m<module>\u001b[1;34m\u001b[0m\n\u001b[1;32m----> 1\u001b[1;33m \u001b[0mllist\u001b[0m\u001b[1;33m.\u001b[0m\u001b[0mfindSuffixPrefix\u001b[0m\u001b[1;33m(\u001b[0m\u001b[1;33m)\u001b[0m\u001b[1;33m\u001b[0m\u001b[1;33m\u001b[0m\u001b[0m\n\u001b[0m",
      "\u001b[1;31mNameError\u001b[0m: name 'llist' is not defined"
     ]
    }
   ],
   "source": [
    "llist.findSuffixPrefix()"
   ]
  },
  {
   "cell_type": "code",
   "execution_count": null,
   "id": "2319eb2e",
   "metadata": {
    "scrolled": true
   },
   "outputs": [],
   "source": [
    "llist=FPTree()\n",
    "for tr in b:\n",
    "    llist.addNode(tr)\n",
    "llist.disp()"
   ]
  },
  {
   "cell_type": "code",
   "execution_count": null,
   "id": "973dead9",
   "metadata": {
    "scrolled": true
   },
   "outputs": [],
   "source": [
    "a = getSortingUnique(data)\n",
    "a"
   ]
  },
  {
   "cell_type": "code",
   "execution_count": null,
   "id": "e9af3235",
   "metadata": {},
   "outputs": [],
   "source": [
    "b=getSortingData(data,a)\n",
    "b"
   ]
  },
  {
   "cell_type": "markdown",
   "id": "3c7b6fc6",
   "metadata": {},
   "source": [
    "1.4"
   ]
  },
  {
   "cell_type": "code",
   "execution_count": null,
   "id": "a8bbefab",
   "metadata": {
    "scrolled": false
   },
   "outputs": [],
   "source": [
    "from mlxtend.frequent_patterns import fpgrowth\n",
    "results = fpgrowth(df, min_support=0.3, use_colnames=True)\n",
    "results['length'] = results['itemsets'].apply(lambda x: len(x))\n",
    "print(results)"
   ]
  },
  {
   "cell_type": "markdown",
   "id": "a559cf32",
   "metadata": {},
   "source": [
    "### Задание 2"
   ]
  },
  {
   "cell_type": "code",
   "execution_count": null,
   "id": "1b01745d",
   "metadata": {},
   "outputs": [],
   "source": [
    "dataset=['CDHJ','ABDEFHJ','AEGJ','ACEFG','CFGI','CDEHIJ','BEFGJ','ADHI','ABF','DHI']"
   ]
  },
  {
   "cell_type": "code",
   "execution_count": null,
   "id": "985b3428",
   "metadata": {
    "scrolled": false
   },
   "outputs": [],
   "source": [
    "print('Data:', dataset)\n",
    "print('Minsup ratio:',3/10)\n",
    "print('Minsup value:',3)"
   ]
  },
  {
   "cell_type": "markdown",
   "id": "667c7794",
   "metadata": {},
   "source": [
    "2.1"
   ]
  },
  {
   "cell_type": "code",
   "execution_count": null,
   "id": "0103f2d4",
   "metadata": {},
   "outputs": [],
   "source": [
    "itemSet,_ = getItemSetTransactionList(dataset)\n",
    "print('Simple set count:',len(itemSet))"
   ]
  },
  {
   "cell_type": "markdown",
   "id": "25df14d4",
   "metadata": {},
   "source": [
    "2.2"
   ]
  },
  {
   "cell_type": "code",
   "execution_count": null,
   "id": "7a876e2a",
   "metadata": {},
   "outputs": [],
   "source": [
    "symbol_map={'A':'A','B':'B','C':'L','K':'L','G':'L','D':'K','E':'K','F':'K','H':'N','M':'N','I':'M','J':'M'}\n",
    "levels=3\n",
    "while(levels>1):\n",
    "    new_data=[]\n",
    "    for transaction in dataset:\n",
    "        str=''\n",
    "        for item, val in symbol_map.items():\n",
    "            if transaction.find(item)>-1:\n",
    "                str=str+val\n",
    "        new_data.append(str)\n",
    "    levels-=1\n",
    "    dataset=new_data  \n",
    "result = runApriori(new_data,0.3)"
   ]
  },
  {
   "cell_type": "code",
   "execution_count": null,
   "id": "3ba32f3f",
   "metadata": {},
   "outputs": [],
   "source": [
    "print('Symbol map:',symbol_map)\n",
    "print('R data:',new_data)\n",
    "print('\\nResult:')\n",
    "printSet(result,0.3)"
   ]
  }
 ],
 "metadata": {
  "kernelspec": {
   "display_name": "Python 3",
   "language": "python",
   "name": "python3"
  },
  "language_info": {
   "codemirror_mode": {
    "name": "ipython",
    "version": 3
   },
   "file_extension": ".py",
   "mimetype": "text/x-python",
   "name": "python",
   "nbconvert_exporter": "python",
   "pygments_lexer": "ipython3",
   "version": "3.8.8"
  }
 },
 "nbformat": 4,
 "nbformat_minor": 5
}
