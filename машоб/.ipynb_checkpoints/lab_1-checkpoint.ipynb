{
 "cells": [
  {
   "cell_type": "code",
   "execution_count": 1,
   "id": "2fb308f2",
   "metadata": {},
   "outputs": [
    {
     "name": "stdout",
     "output_type": "stream",
     "text": [
      "      age  creatinine_phosphokinase  ejection_fraction  platelets  \\\n",
      "0    75.0                       582                 20  265000.00   \n",
      "1    55.0                      7861                 38  263358.03   \n",
      "2    65.0                       146                 20  162000.00   \n",
      "3    50.0                       111                 20  210000.00   \n",
      "4    65.0                       160                 20  327000.00   \n",
      "..    ...                       ...                ...        ...   \n",
      "294  62.0                        61                 38  155000.00   \n",
      "295  55.0                      1820                 38  270000.00   \n",
      "296  45.0                      2060                 60  742000.00   \n",
      "297  45.0                      2413                 38  140000.00   \n",
      "298  50.0                       196                 45  395000.00   \n",
      "\n",
      "     serum_creatinine  serum_sodium  \n",
      "0                 1.9           130  \n",
      "1                 1.1           136  \n",
      "2                 1.3           129  \n",
      "3                 1.9           137  \n",
      "4                 2.7           116  \n",
      "..                ...           ...  \n",
      "294               1.1           143  \n",
      "295               1.2           139  \n",
      "296               0.8           138  \n",
      "297               1.4           140  \n",
      "298               1.6           136  \n",
      "\n",
      "[299 rows x 6 columns]\n"
     ]
    }
   ],
   "source": [
    "import pandas as pd\n",
    "import numpy as np\n",
    "df = pd.read_csv('heart_failure_clinical_records_dataset.csv')\n",
    "df = df.drop(columns =['anaemia','diabetes','high_blood_pressure','sex','smoking','time','DEATH_EVENT'])\n",
    "print(df) #Вывод датафрейма с данными для лаб. работы. Должно быть 299 наблюдений и 6 признаков"
   ]
  },
  {
   "cell_type": "code",
   "execution_count": 2,
   "id": "49e13976",
   "metadata": {},
   "outputs": [
    {
     "data": {
      "image/png": "[encoded data removed]",
      "text/plain": [
       "<Figure size 432x288 with 6 Axes>"
      ]
     },
     "metadata": {
      "needs_background": "light"
     },
     "output_type": "display_data"
    }
   ],
   "source": [
    "import matplotlib.pyplot as plt\n",
    "n_bins = 20\n",
    "fig, axs = plt.subplots(2,3)\n",
    "plt.subplots_adjust(wspace=1, hspace=1)\n",
    "axs[0, 0].hist(df['age'].values, bins = n_bins)\n",
    "axs[0, 0].set_title('age')\n",
    "axs[0, 1].hist(df['creatinine_phosphokinase'].values, bins = n_bins)\n",
    "axs[0, 1].set_title('creatinine_phosphokinase')\n",
    "axs[0, 2].hist(df['ejection_fraction'].values, bins = n_bins)\n",
    "axs[0, 2].set_title('ejection_fraction')\n",
    "axs[1, 0].hist(df['platelets'].values, bins = n_bins)\n",
    "axs[1, 0].set_title('platelets')\n",
    "axs[1, 1].hist(df['serum_creatinine'].values, bins = n_bins)\n",
    "axs[1, 1].set_title('serum_creatinine')\n",
    "axs[1, 2].hist(df['serum_sodium'].values, bins = n_bins)\n",
    "axs[1, 2].set_title('serum_sodium')\n",
    "plt.show()\n"
   ]
  },
  {
   "cell_type": "markdown",
   "id": "e56accc3",
   "metadata": {},
   "source": []
  },
  {
   "cell_type": "code",
   "execution_count": 3,
   "id": "f5860f95",
   "metadata": {},
   "outputs": [
    {
     "name": "stdout",
     "output_type": "stream",
     "text": [
      "[[7.5000000e+01 5.8200000e+02 2.0000000e+01 2.6500000e+05 1.9000000e+00\n",
      "  1.3000000e+02]\n",
      " [5.5000000e+01 7.8610000e+03 3.8000000e+01 2.6335803e+05 1.1000000e+00\n",
      "  1.3600000e+02]\n",
      " [6.5000000e+01 1.4600000e+02 2.0000000e+01 1.6200000e+05 1.3000000e+00\n",
      "  1.2900000e+02]\n",
      " ...\n",
      " [4.5000000e+01 2.0600000e+03 6.0000000e+01 7.4200000e+05 8.0000000e-01\n",
      "  1.3800000e+02]\n",
      " [4.5000000e+01 2.4130000e+03 3.8000000e+01 1.4000000e+05 1.4000000e+00\n",
      "  1.4000000e+02]\n",
      " [5.0000000e+01 1.9600000e+02 4.5000000e+01 3.9500000e+05 1.6000000e+00\n",
      "  1.3600000e+02]]\n"
     ]
    }
   ],
   "source": [
    "data = df.to_numpy(dtype='float')\n",
    "print(data)"
   ]
  },
  {
   "cell_type": "code",
   "execution_count": 4,
   "id": "827f21e3",
   "metadata": {},
   "outputs": [],
   "source": [
    "from sklearn import preprocessing\n",
    "scaler = preprocessing.StandardScaler().fit(data[:150,:])"
   ]
  },
  {
   "cell_type": "code",
   "execution_count": 5,
   "id": "6f5ec39d",
   "metadata": {
    "scrolled": false
   },
   "outputs": [
    {
     "name": "stdout",
     "output_type": "stream",
     "text": [
      "[[ 9.68155915e-01 -2.11418177e-02 -1.37635007e+00 -1.81590286e-02\n",
      "   3.25269804e-01 -1.42156934e+00]\n",
      " [-6.38297484e-01  6.09698531e+00  4.09019337e-03 -3.52287805e-02\n",
      "  -3.60591670e-01 -9.98623091e-02]\n",
      " [ 1.64929216e-01 -3.87607463e-01 -1.37635007e+00 -1.08893648e+00\n",
      "  -1.89126302e-01 -1.64185385e+00]\n",
      " ...\n",
      " [-1.44152418e+00  1.22114310e+00  1.69129496e+00  4.94068412e+00\n",
      "  -6.17789723e-01  3.40706702e-01]\n",
      " [-1.44152418e+00  1.51784579e+00  4.09019337e-03 -1.31764623e+00\n",
      "  -1.03393617e-01  7.81275713e-01]\n",
      " [-1.03991083e+00 -3.45581586e-01  5.40928073e-01  1.33330766e+00\n",
      "   6.80717513e-02 -9.98623091e-02]]\n"
     ]
    }
   ],
   "source": [
    "data_scaled = scaler.transform(data)\n",
    "print(data_scaled)"
   ]
  },
  {
   "cell_type": "code",
   "execution_count": 6,
   "id": "92fc2833",
   "metadata": {},
   "outputs": [
    {
     "data": {
      "image/png": "[encoded data removed]",
      "text/plain": [
       "<Figure size 432x288 with 6 Axes>"
      ]
     },
     "metadata": {
      "needs_background": "light"
     },
     "output_type": "display_data"
    }
   ],
   "source": [
    "fig, axs = plt.subplots(2,3)\n",
    "plt.subplots_adjust(wspace=1, hspace=1)\n",
    "axs[0, 0].hist(data_scaled[:,0], bins = n_bins)\n",
    "axs[0, 0].set_title('age')\n",
    "axs[0, 1].hist(data_scaled[:,1], bins = n_bins)\n",
    "axs[0, 1].set_title('creatinine_phosphokinase')\n",
    "axs[0, 2].hist(data_scaled[:,2], bins = n_bins)\n",
    "axs[0, 2].set_title('ejection_fraction')\n",
    "axs[1, 0].hist(data_scaled[:,3], bins = n_bins)\n",
    "axs[1, 0].set_title('platelets')\n",
    "axs[1, 1].hist(data_scaled[:,4], bins = n_bins)\n",
    "axs[1, 1].set_title('serum_creatinine')\n",
    "axs[1, 2].hist(data_scaled[:,5], bins = n_bins)\n",
    "axs[1, 2].set_title('serum_sodium')\n",
    "plt.show()"
   ]
  },
  {
   "cell_type": "markdown",
   "id": "8aac4db5",
   "metadata": {},
   "source": [
    "Диапазон значений по x уменьшился, так как мы масштабировали data"
   ]
  },
  {
   "cell_type": "code",
   "execution_count": 67,
   "id": "7ccc67ba",
   "metadata": {},
   "outputs": [
    {
     "name": "stdout",
     "output_type": "stream",
     "text": [
      "[6.08338930e+01 5.81839465e+02 3.80836120e+01 2.63358029e+05\n",
      " 1.39387960e+00 1.36625418e+02]\n",
      "[ 1.30266168e-16  2.36847579e-17  1.18423789e-16  8.88178420e-17\n",
      " -1.30266168e-16 -3.06717614e-15]\n",
      "105877.9682740705\n",
      "[0.95382379 0.81417905 0.90610822 1.01506113 0.88542887 0.9703736 ]\n",
      "-------------------------------------------------------------\n",
      "Формула для age : xi = (xi -  62.946666666666665 ) /  12.449785361826747\n",
      "Формула для creatinine_phosphokinase : xi = (xi -  607.1533333333333 ) /  1189.7431752926996\n",
      "Формула для ejection_fraction : xi = (xi -  37.946666666666665 ) /  13.039318318923817\n",
      "Формула для platelets : xi = (xi -  266746.74946666666 ) /  96191.79018543586\n",
      "Формула для serum_creatinine : xi = (xi -  1.5206000000000004 ) /  1.1664162950393542\n",
      "Формула для serum_sodium : xi = (xi -  136.45333333333335 ) /  4.539583926112858\n"
     ]
    }
   ],
   "source": [
    "#мат. ожидание и СКО\n",
    "mat_data=np.mean(data, axis=0)\n",
    "mat_data_scaled=np.mean(data_scaled[:150,:],axis=0)\n",
    "sko_data=np.std(data)\n",
    "sko_data_scaled=np.std(data_scaled,axis=0)\n",
    "print(mat_data)\n",
    "print(mat_data_scaled)\n",
    "print(sko_data)\n",
    "print(sko_data_scaled)\n",
    "print(\"-------------------------------------------------------------\")\n",
    "def standardization(name, number):\n",
    "    r = data_scaled[:,number].max() / data_scaled[:,number].min()\n",
    "    y = (df[name].max() - r * df[name].min()) / (1 - r)\n",
    "    x = (df[name].max() - y) / data_scaled[:,number].max()\n",
    "    print('Формула для', name, ': xi = (xi - ', y, ') / ', x)\n",
    "\n",
    "standardization('age', 0)\n",
    "standardization('creatinine_phosphokinase', 1)\n",
    "standardization('ejection_fraction', 2)\n",
    "standardization('platelets', 3)\n",
    "standardization('serum_creatinine', 4)\n",
    "standardization('serum_sodium', 5)"
   ]
  },
  {
   "cell_type": "code",
   "execution_count": 12,
   "id": "493f5ef9",
   "metadata": {},
   "outputs": [
    {
     "name": "stdout",
     "output_type": "stream",
     "text": [
      "[1. 1. 1. 1. 1. 1.]\n",
      "[0.95382379 0.81417905 0.90610822 1.01506113 0.88542887 0.9703736 ]\n",
      "[ 5.70335306e-16  0.00000000e+00 -3.26754603e-17  7.72329061e-17\n",
      "  1.42583827e-16 -8.67384945e-16]\n",
      "[ 1.30266168e-16  2.36847579e-17  1.18423789e-16  8.88178420e-17\n",
      " -1.30266168e-16 -3.06717614e-15]\n"
     ]
    }
   ],
   "source": [
    "allscaler = preprocessing.StandardScaler().fit(data)\n",
    "alldata_scaled = allscaler.transform(data)\n",
    "sko_alldata_scaled=np.std(alldata_scaled,axis=0)\n",
    "mat_alldata_scaled=np.mean(alldata_scaled,axis=0)\n",
    "print(sko_alldata_scaled)\n",
    "print(sko_data_scaled)\n",
    "print(mat_alldata_scaled)\n",
    "print(mat_data_scaled)"
   ]
  },
  {
   "cell_type": "code",
   "execution_count": 66,
   "id": "22d078b3",
   "metadata": {},
   "outputs": [
    {
     "data": {
      "image/png": "[encoded data removed]",
      "text/plain": [
       "<Figure size 432x288 with 6 Axes>"
      ]
     },
     "metadata": {
      "needs_background": "light"
     },
     "output_type": "display_data"
    }
   ],
   "source": [
    "min_max_scaler = preprocessing.MinMaxScaler().fit(data)\n",
    "data_min_max_scaled = min_max_scaler.transform(data)\n",
    "fig, axs = plt.subplots(2,3)\n",
    "plt.subplots_adjust(wspace=1, hspace=1)\n",
    "axs[0, 0].hist(data_min_max_scaled[:,0], bins = n_bins)\n",
    "axs[0, 0].set_title('age')\n",
    "axs[0, 1].hist(data_min_max_scaled[:,1], bins = n_bins)\n",
    "axs[0, 1].set_title('creatinine_phosphokinase')\n",
    "axs[0, 2].hist(data_min_max_scaled[:,2], bins = n_bins)\n",
    "axs[0, 2].set_title('ejection_fraction')\n",
    "axs[1, 0].hist(data_min_max_scaled[:,3], bins = n_bins)\n",
    "axs[1, 0].set_title('platelets')\n",
    "axs[1, 1].hist(data_min_max_scaled[:,4], bins = n_bins)\n",
    "axs[1, 1].set_title('serum_creatinine')\n",
    "axs[1, 2].hist(data_min_max_scaled[:,5], bins = n_bins)\n",
    "axs[1, 2].set_title('serum_sodium')\n",
    "plt.show()"
   ]
  },
  {
   "cell_type": "markdown",
   "id": "f456d267",
   "metadata": {},
   "source": [
    "Диапазон значений по х [0;1] стал после стандартизции"
   ]
  },
  {
   "cell_type": "code",
   "execution_count": 28,
   "id": "00aff334",
   "metadata": {},
   "outputs": [
    {
     "name": "stdout",
     "output_type": "stream",
     "text": [
      "    min    \n",
      "age  0.0 \n",
      "creatinine_phosphokinase 0.0 \n",
      "ejection_fraction 0.0 \n",
      "min_platelets 0.0 \n",
      "serum_creatinine 0.0 \n",
      "serum_sodium 0.0\n",
      "\n",
      "   max  \n",
      "age  1.0 \n",
      "creatinine_phosphokinase 1.0 \n",
      "ejection_fraction 1.0 \n",
      "min_platelets 0.9999999999999999 \n",
      "serum_creatinine 0.9999999999999999 \n",
      "serum_sodium 1.0\n"
     ]
    }
   ],
   "source": [
    "min_age=min(data_min_max_scaled[:,0])\n",
    "min_creatinine_phosphokinase=min(data_min_max_scaled[:,1])\n",
    "min_ejection_fraction=min(data_min_max_scaled[:,2])\n",
    "min_platelets=min(data_min_max_scaled[:,3])\n",
    "min_serum_creatinine=min(data_min_max_scaled[:,4])\n",
    "min_serum_sodium=min(data_min_max_scaled[:,5])\n",
    "print(\"    min    \\n\"\"age \",min_age,\"\\ncreatinine_phosphokinase\",min_creatinine_phosphokinase,\"\\nejection_fraction\",min_ejection_fraction,\"\\nmin_platelets\",min_platelets,\"\\nserum_creatinine\",min_serum_creatinine,\"\\nserum_sodium\",min_serum_sodium)\n",
    "max_age=max(data_min_max_scaled[:,0])\n",
    "max_creatinine_phosphokinase=max(data_min_max_scaled[:,1])\n",
    "max_ejection_fraction=max(data_min_max_scaled[:,2])\n",
    "max_platelets=max(data_min_max_scaled[:,3])\n",
    "max_serum_creatinine=max(data_min_max_scaled[:,4])\n",
    "max_serum_sodium=max(data_min_max_scaled[:,5])\n",
    "print(\"\\n   max  \"\"\\nage \",max_age,\"\\ncreatinine_phosphokinase\",max_creatinine_phosphokinase,\"\\nejection_fraction\",max_ejection_fraction,\"\\nmin_platelets\",max_platelets,\"\\nserum_creatinine\",max_serum_creatinine,\"\\nserum_sodium\",max_serum_sodium)\n"
   ]
  },
  {
   "cell_type": "code",
   "execution_count": 31,
   "id": "12354274",
   "metadata": {},
   "outputs": [],
   "source": [
    "max_abs_scaler = preprocessing.MaxAbsScaler().fit(data)\n",
    "data_maxabs = max_abs_scaler.transform(data)\n",
    "\n",
    "transformer = preprocessing.RobustScaler().fit(data)\n",
    "data_transformer=transformer.transform(data)"
   ]
  },
  {
   "cell_type": "code",
   "execution_count": 32,
   "id": "b582db05",
   "metadata": {},
   "outputs": [
    {
     "data": {
      "image/png": "[encoded data removed]",
      "text/plain": [
       "<Figure size 432x288 with 6 Axes>"
      ]
     },
     "metadata": {
      "needs_background": "light"
     },
     "output_type": "display_data"
    }
   ],
   "source": [
    "fig, axs = plt.subplots(2,3)\n",
    "plt.subplots_adjust(wspace=1, hspace=1)\n",
    "axs[0, 0].hist(data_maxabs[:,0], bins = n_bins)\n",
    "axs[0, 0].set_title('age')\n",
    "axs[0, 1].hist(data_maxabs[:,1], bins = n_bins)\n",
    "axs[0, 1].set_title('creatinine_phosphokinase')\n",
    "axs[0, 2].hist(data_maxabs[:,2], bins = n_bins)\n",
    "axs[0, 2].set_title('ejection_fraction')\n",
    "axs[1, 0].hist(data_maxabs[:,3], bins = n_bins)\n",
    "axs[1, 0].set_title('platelets')\n",
    "axs[1, 1].hist(data_maxabs[:,4], bins = n_bins)\n",
    "axs[1, 1].set_title('serum_creatinine')\n",
    "axs[1, 2].hist(data_maxabs[:,5], bins = n_bins)\n",
    "axs[1, 2].set_title('serum_sodium')\n",
    "plt.show()"
   ]
  },
  {
   "cell_type": "code",
   "execution_count": 33,
   "id": "281b0a0c",
   "metadata": {},
   "outputs": [
    {
     "data": {
      "image/png": "[encoded data removed]",
      "text/plain": [
       "<Figure size 432x288 with 6 Axes>"
      ]
     },
     "metadata": {
      "needs_background": "light"
     },
     "output_type": "display_data"
    }
   ],
   "source": [
    "fig, axs = plt.subplots(2,3)\n",
    "plt.subplots_adjust(wspace=1, hspace=1)\n",
    "axs[0, 0].hist(data_transformer[:,0], bins = n_bins)\n",
    "axs[0, 0].set_title('age')\n",
    "axs[0, 1].hist(data_transformer[:,1], bins = n_bins)\n",
    "axs[0, 1].set_title('creatinine_phosphokinase')\n",
    "axs[0, 2].hist(data_transformer[:,2], bins = n_bins)\n",
    "axs[0, 2].set_title('ejection_fraction')\n",
    "axs[1, 0].hist(data_transformer[:,3], bins = n_bins)\n",
    "axs[1, 0].set_title('platelets')\n",
    "axs[1, 1].hist(data_transformer[:,4], bins = n_bins)\n",
    "axs[1, 1].set_title('serum_creatinine')\n",
    "axs[1, 2].hist(data_transformer[:,5], bins = n_bins)\n",
    "axs[1, 2].set_title('serum_sodium')\n",
    "plt.show()"
   ]
  },
  {
   "cell_type": "code",
   "execution_count": 35,
   "id": "33b58428",
   "metadata": {},
   "outputs": [
    {
     "name": "stdout",
     "output_type": "stream",
     "text": [
      "[[ 4.54545455 -3.93021179 -3.63636364 -0.63765305 -2.64044944  2.28571429]\n",
      " [-0.90909091 10.          0.45454545 -0.66751067 -3.98876404  4.85714286]\n",
      " [ 1.81818182 -4.76460832 -3.63636364 -2.51060735 -3.65168539  1.85714286]\n",
      " ...\n",
      " [-3.63636364 -1.1016841   5.45454545  8.03612559 -4.49438202  5.71428571]\n",
      " [-3.63636364 -0.42612911  0.45454545 -2.91065584 -3.48314607  6.57142857]\n",
      " [-2.27272727 -4.66892064  2.04545455  1.72626985 -3.14606742  4.85714286]]\n"
     ]
    }
   ],
   "source": [
    "scaler = preprocessing.MinMaxScaler(feature_range=(-5, 10))\n",
    "data_scaler=scaler.fit_transform(data)\n"
   ]
  },
  {
   "cell_type": "code",
   "execution_count": 41,
   "id": "200980e4",
   "metadata": {},
   "outputs": [
    {
     "data": {
      "image/png": "[encoded data removed]",
      "text/plain": [
       "<Figure size 432x288 with 6 Axes>"
      ]
     },
     "metadata": {
      "needs_background": "light"
     },
     "output_type": "display_data"
    }
   ],
   "source": [
    "quantile_transformer = preprocessing.QuantileTransformer(n_quantiles = 100,random_state=0).fit(data)\n",
    "data_quantile_scaled = quantile_transformer.transform(data)\n",
    "fig, axs = plt.subplots(2,3)\n",
    "plt.subplots_adjust(wspace=1, hspace=1)\n",
    "axs[0, 0].hist(data_quantile_scaled[:,0], bins = n_bins)\n",
    "axs[0, 0].set_title('age')\n",
    "axs[0, 1].hist(data_quantile_scaled[:,1], bins = n_bins)\n",
    "axs[0, 1].set_title('creatinine_phosphokinase')\n",
    "axs[0, 2].hist(data_quantile_scaled[:,2], bins = n_bins)\n",
    "axs[0, 2].set_title('ejection_fraction')\n",
    "axs[1, 0].hist(data_quantile_scaled[:,3], bins = n_bins)\n",
    "axs[1, 0].set_title('platelets')\n",
    "axs[1, 1].hist(data_quantile_scaled[:,4], bins = n_bins)\n",
    "axs[1, 1].set_title('serum_creatinine')\n",
    "axs[1, 2].hist(data_quantile_scaled[:,5], bins = n_bins)\n",
    "axs[1, 2].set_title('serum_sodium')\n",
    "plt.show()\n"
   ]
  },
  {
   "cell_type": "markdown",
   "id": "8b42539e",
   "metadata": {},
   "source": [
    "Изменились значения не только по х, но и по у\n",
    "n_quantiles - это количество квантилей, подлежащих вычислению. Это соответствует количеству ориентиров, используемых для дискретизации функции кумулятивного распределения"
   ]
  },
  {
   "cell_type": "code",
   "execution_count": 46,
   "id": "13e882f0",
   "metadata": {},
   "outputs": [
    {
     "data": {
      "image/png": "[encoded data removed]",
      "text/plain": [
       "<Figure size 432x288 with 6 Axes>"
      ]
     },
     "metadata": {
      "needs_background": "light"
     },
     "output_type": "display_data"
    }
   ],
   "source": [
    "quantile_transformer = preprocessing.QuantileTransformer(n_quantiles = 100, output_distribution='normal',random_state=0).fit(data)\n",
    "data_quantile_scaled_n = quantile_transformer.transform(data)\n",
    "fig, axs = plt.subplots(2,3)\n",
    "plt.subplots_adjust(wspace=1, hspace=1)\n",
    "axs[0, 0].hist(data_quantile_scaled_n[:,0], bins = n_bins)\n",
    "axs[0, 0].set_title('age')\n",
    "axs[0, 1].hist(data_quantile_scaled_n[:,1], bins = n_bins)\n",
    "axs[0, 1].set_title('creatinine_phosphokinase')\n",
    "axs[0, 2].hist(data_quantile_scaled_n[:,2], bins = n_bins)\n",
    "axs[0, 2].set_title('ejection_fraction')\n",
    "axs[1, 0].hist(data_quantile_scaled_n[:,3], bins = n_bins)\n",
    "axs[1, 0].set_title('platelets')\n",
    "axs[1, 1].hist(data_quantile_scaled_n[:,4], bins = n_bins)\n",
    "axs[1, 1].set_title('serum_creatinine')\n",
    "axs[1, 2].hist(data_quantile_scaled_n[:,5], bins = n_bins)\n",
    "axs[1, 2].set_title('serum_sodium')\n",
    "plt.show()"
   ]
  },
  {
   "cell_type": "markdown",
   "id": "1bf96600",
   "metadata": {},
   "source": [
    "На графиках видно, что все данные сгенерированы в одном диапазоне \n"
   ]
  },
  {
   "cell_type": "code",
   "execution_count": 48,
   "id": "3988c31c",
   "metadata": {},
   "outputs": [],
   "source": [
    "power = preprocessing.PowerTransformer(method='yeo-johnson', standardize=True)\n",
    "data_trans = power.fit_transform(data)"
   ]
  },
  {
   "cell_type": "code",
   "execution_count": 62,
   "id": "9cf3cba1",
   "metadata": {},
   "outputs": [
    {
     "data": {
      "image/png": "[encoded data removed]",
      "text/plain": [
       "<Figure size 432x288 with 6 Axes>"
      ]
     },
     "metadata": {
      "needs_background": "light"
     },
     "output_type": "display_data"
    }
   ],
   "source": [
    "est = preprocessing.KBinsDiscretizer(n_bins=20, encode='ordinal', strategy='uniform').fit(data)\n",
    "data_kbd = est.transform(data)\n",
    "fig, axs = plt.subplots(2,3)\n",
    "plt.subplots_adjust(wspace=1, hspace=1)\n",
    "axs[0, 0].hist(data_kbd[:,0], bins = 3)\n",
    "axs[0, 0].set_title('age')\n",
    "axs[0, 1].hist(data_kbd[:,1], bins = 4)\n",
    "axs[0, 1].set_title('creatinine_phosphokinase')\n",
    "axs[0, 2].hist(data_kbd[:,2], bins = 3)\n",
    "axs[0, 2].set_title('ejection_fraction')\n",
    "axs[1, 0].hist(data_kbd[:,3], bins = 10)\n",
    "axs[1, 0].set_title('platelets')\n",
    "axs[1, 1].hist(data_kbd[:,4], bins = 2)\n",
    "axs[1, 1].set_title('serum_creatinine')\n",
    "axs[1, 2].hist(data_kbd[:,5], bins = 4)\n",
    "axs[1, 2].set_title('serum_sodium')\n",
    "plt.show()"
   ]
  }
 ],
 "metadata": {
  "kernelspec": {
   "display_name": "Python 3",
   "language": "python",
   "name": "python3"
  },
  "language_info": {
   "codemirror_mode": {
    "name": "ipython",
    "version": 3
   },
   "file_extension": ".py",
   "mimetype": "text/x-python",
   "name": "python",
   "nbconvert_exporter": "python",
   "pygments_lexer": "ipython3",
   "version": "3.8.8"
  }
 },
 "nbformat": 4,
 "nbformat_minor": 5
}
