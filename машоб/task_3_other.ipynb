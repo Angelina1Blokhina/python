{
 "cells": [
  {
   "cell_type": "code",
   "execution_count": 1,
   "id": "8046b222",
   "metadata": {},
   "outputs": [],
   "source": [
    "import pandas as pd\n",
    "import numpy as np\n",
    "import statistics as st\n",
    "import matplotlib.pyplot as plt\n",
    "from scipy.stats import norm\n",
    "df=pd.DataFrame()\n",
    "df['tid']=['t1','t2','t3','t4','t5','t6','t7','t8','t9','t10']\n",
    "df['itemset'] = ['CE','CEF','BE','ABCDF','AC','ACEF','ABC','AEF','ABCDE','DEF']\n",
    "data=df['itemset']"
   ]
  },
  {
   "cell_type": "markdown",
   "id": "245b1a92",
   "metadata": {},
   "source": [
    " 1.1 "
   ]
  },
  {
   "cell_type": "code",
   "execution_count": 2,
   "id": "3a65a608",
   "metadata": {},
   "outputs": [],
   "source": [
    "def printSet(itemSets,minSupport):\n",
    "    if itemSets != {}:\n",
    "        df=pd.DataFrame()\n",
    "        df['itemset']=[list(item) for item in itemSets.keys()]\n",
    "        df['support']=itemSets.values()\n",
    "        df['length'] = df['itemset'].apply(lambda x: len(x))\n",
    "        df[''] = [False if val/10<minSupport else True for val in itemSets.values()]\n",
    "        print(df)\n"
   ]
  },
  {
   "cell_type": "code",
   "execution_count": 3,
   "id": "b21f3aa1",
   "metadata": {},
   "outputs": [],
   "source": [
    "from collections import defaultdict\n",
    "\n",
    "def returnItemsWithMinSupport(itemSet, transactionList, minSupport, freqSet):\n",
    "    combItem = {}\n",
    "    for item in itemSet:\n",
    "        for transaction in transactionList:\n",
    "            if item.issubset(transaction):\n",
    "                freqSet[item] += 1\n",
    "                combItem.setdefault(item, 0)\n",
    "                combItem[item] += 1\n",
    "    printSet(combItem,minSupport)\n",
    "    num_items=10\n",
    "    combItem = {item:val for item,val in combItem.items() if val/num_items >= minSupport}\n",
    "    return combItem\n",
    "\n",
    "\n",
    "def joinSet(itemSet, length):\n",
    "    return set([i.union(j) for i in itemSet for j in itemSet if len(i.union(j)) == length])\n",
    "\n",
    "\n",
    "def getItemSetTransactionList(dataset):\n",
    "    transactionList = list( frozenset(transaction) for transaction in dataset)\n",
    "    itemSet = set(frozenset([item]) for transaction in dataset for item in transaction)\n",
    "    return itemSet, transactionList\n",
    "\n",
    "\n",
    "def runApriori(data_iter, minSupport):\n",
    "    itemSet, transactionList = getItemSetTransactionList(data_iter)\n",
    "    print('Unique elements:',[list(item) for item in itemSet])\n",
    "    freqSet = defaultdict(int)\n",
    "    resultSet = {}\n",
    "    print('\\nStep 1')\n",
    "    currentLSet = returnItemsWithMinSupport(itemSet, transactionList, minSupport, freqSet)\n",
    "    resultSet.update(currentLSet)\n",
    "    currentLSet = set(currentLSet.keys())\n",
    "    k = 2\n",
    "    while currentLSet != set([]): \n",
    "        currentLSet = joinSet(currentLSet, k)\n",
    "        print('\\nStep %d'% k)\n",
    "        currentCSet = returnItemsWithMinSupport(currentLSet, transactionList, minSupport, freqSet)\n",
    "        resultSet.update(currentCSet)\n",
    "        currentLSet = set(currentCSet)\n",
    "        k = k + 1\n",
    "    return resultSet"
   ]
  },
  {
   "cell_type": "code",
   "execution_count": 4,
   "id": "13128620",
   "metadata": {},
   "outputs": [
    {
     "name": "stdout",
     "output_type": "stream",
     "text": [
      "Data: ['CE', 'CEF', 'BE', 'ABCDF', 'AC', 'ACEF', 'ABC', 'AEF', 'ABCDE', 'DEF']\n",
      "Minsup ratio: 0.5\n",
      "Minsup value: 5\n",
      "Unique elements: [['C'], ['D'], ['F'], ['E'], ['A'], ['B']]\n",
      "\n",
      "Step 1\n",
      "  itemset  support  length       \n",
      "0     [C]        7       1   True\n",
      "1     [D]        3       1  False\n",
      "2     [F]        5       1   True\n",
      "3     [E]        7       1   True\n",
      "4     [A]        6       1   True\n",
      "5     [B]        4       1  False\n",
      "\n",
      "Step 2\n",
      "  itemset  support  length       \n",
      "0  [F, A]        3       2  False\n",
      "1  [F, E]        4       2  False\n",
      "2  [C, E]        4       2  False\n",
      "3  [A, C]        5       2   True\n",
      "4  [A, E]        3       2  False\n",
      "5  [F, C]        3       2  False\n",
      "\n",
      "Step 3\n",
      "\n",
      "Result:\n",
      "  itemset  support  length      \n",
      "0     [C]        7       1  True\n",
      "1     [F]        5       1  True\n",
      "2     [E]        7       1  True\n",
      "3     [A]        6       1  True\n",
      "4  [A, C]        5       2  True\n"
     ]
    }
   ],
   "source": [
    "print('Data:', list(df['itemset']))\n",
    "print('Minsup ratio:',5/10)\n",
    "print('Minsup value:',5)\n",
    "result = runApriori(df['itemset'],0.5)\n",
    "print('\\nResult:')\n",
    "printSet(result,0.5)"
   ]
  },
  {
   "cell_type": "markdown",
   "id": "565ecdc0",
   "metadata": {},
   "source": [
    "1.2."
   ]
  },
  {
   "cell_type": "code",
   "execution_count": 5,
   "id": "f9f20836",
   "metadata": {},
   "outputs": [],
   "source": [
    "from mlxtend.preprocessing import TransactionEncoder\n",
    "te = TransactionEncoder()\n",
    "te_ary = te.fit(df['itemset']).transform(df['itemset'])\n",
    "df = pd.DataFrame(te_ary, columns=te.columns_)"
   ]
  },
  {
   "cell_type": "code",
   "execution_count": 6,
   "id": "bc7fbfd0",
   "metadata": {
    "scrolled": true
   },
   "outputs": [
    {
     "name": "stdout",
     "output_type": "stream",
     "text": [
      "   support itemsets  length\n",
      "0      0.6      (A)       1\n",
      "1      0.7      (C)       1\n",
      "2      0.7      (E)       1\n",
      "3      0.5      (F)       1\n",
      "4      0.5   (A, C)       2\n"
     ]
    }
   ],
   "source": [
    "from mlxtend.frequent_patterns import apriori\n",
    "results = apriori(df, min_support=0.5, use_colnames=True)\n",
    "results['length'] = results['itemsets'].apply(lambda x: len(x))\n",
    "print(results)"
   ]
  },
  {
   "cell_type": "markdown",
   "id": "6796bf12",
   "metadata": {},
   "source": [
    "1.3"
   ]
  },
  {
   "cell_type": "code",
   "execution_count": 7,
   "id": "6b5f3c6d",
   "metadata": {},
   "outputs": [],
   "source": [
    "min_sup=0.5\n",
    "F={}\n",
    "class FPNode(object):\n",
    "    def __init__(self,names,frequency=1):\n",
    "        self.name=names\n",
    "        self.frequency=frequency\n",
    "        self.ancestors=None\n",
    "        self.children={}\n",
    "        self.new=True\n",
    "    def changeFreq(self):\n",
    "        self.frequency+=1\n",
    "    def addNode(self, node):\n",
    "        if not node.name in node.children:\n",
    "            self.children[node.name] = node\n",
    "            node.ancestors = self\n",
    "    def findNode(self, item):\n",
    "        try:\n",
    "            return self.children[item]\n",
    "        except KeyError:\n",
    "            return None\n",
    "            \n",
    "    def showTree(self, index=1):\n",
    "        if self.name is not None:\n",
    "            if self.ancestors and self.ancestors.new==True:\n",
    "                print('(',end='')\n",
    "                self.ancestors.new=False\n",
    "            print('%s:%d:'%(self.name,self.frequency),end='')\n",
    "            parent = self.ancestors\n",
    "            p = ''\n",
    "            while parent is not None and parent.name is not None:\n",
    "                p = p + parent.name\n",
    "                parent = parent.ancestors\n",
    "            print(p[::-1],end='')\n",
    "            if self.children == {}:\n",
    "                print('(',end='')\n",
    "        for child in self.children.values():\n",
    "            child.showTree(index+1)\n",
    "            print('),',end='')\n",
    "class FPTree:\n",
    "    def __init__(self):\n",
    "        self.head = FPNode(None)\n",
    "        self.uniq={}\n",
    "        self.support_set = defaultdict(int)\n",
    "    def addNode(self, transaction):\n",
    "        t_node = self.head\n",
    "        for item in transaction:\n",
    "            self.support_set[item] +=1\n",
    "            n_node = t_node.findNode(item)\n",
    "            if n_node:\n",
    "                n_node.changeFreq()\n",
    "            else:\n",
    "                n_node = FPNode(item)\n",
    "                t_node.addNode(n_node)\n",
    "                self.uniq.setdefault(item,[])\n",
    "                self.uniq[item].append(n_node)\n",
    "            t_node = n_node   \n",
    "    def findNode(s_node):\n",
    "        for node in self:\n",
    "            if node.name == s_node:\n",
    "                node.frequency+=1\n",
    "    def getAncestors(self):\n",
    "        for current_node in self:\n",
    "            pass\n",
    "        if current_node!=self.head:\n",
    "            return current_node.ancestors+current_node.name\n",
    "        return ''\n",
    "    def showTree(self):\n",
    "        self.head.showTree()\n",
    "    def findAncetsetors(self,item):\n",
    "        if self.name==item:\n",
    "            return \n",
    "    def findSuffixPrefix(self):\n",
    "        for item,arr_path in self.uniq.items():\n",
    "            prefix={}\n",
    "            for path in arr_path:\n",
    "                node = path\n",
    "                item=node.name\n",
    "                frequency=node.frequency\n",
    "                name_path=''\n",
    "                node=node.ancestors\n",
    "                prefix.setdefault(item,[])\n",
    "                while node is not None and node.name is not None:\n",
    "                    name_path+=node.name\n",
    "                    node=node.ancestors\n",
    "                if name_path!='':\n",
    "                    prefix[item].append((name_path[::-1],frequency))\n",
    "            print('sufix: %s, prefix: %s, empty prefix list: %s'%(item,prefix[item],True if prefix[item]== [] else False))\n",
    "            makeCPTree(prefix[item],item)\n",
    "            \n",
    "    def findPrefixWithMinsup(self,suffix):\n",
    "        for item,node in self.uniq.items():\n",
    "            support=self.support_set[item]\n",
    "            if support/10>=min_sup:\n",
    "                return(item+suffix,support)\n",
    "             "
   ]
  },
  {
   "cell_type": "code",
   "execution_count": 8,
   "id": "e25b615c",
   "metadata": {},
   "outputs": [],
   "source": [
    "def getSortingUnique(dataset):\n",
    "    itemSet = set(item for transaction in dataset for item in transaction)\n",
    "    combItem = {}\n",
    "    for item in itemSet:\n",
    "        for transaction in dataset:\n",
    "            if transaction.find(item)>-1:\n",
    "                combItem.setdefault(item, 0)\n",
    "                combItem[item] += 1\n",
    "    sorted_dict={}\n",
    "    sorted_keys=sorted(combItem, key = combItem.get,reverse=True)\n",
    "    for key in sorted_keys:\n",
    "        sorted_dict[key]=combItem[key]\n",
    "    return sorted_dict\n",
    "def getSortingData(dataset,sorted_dict):\n",
    "    sort_data=[]\n",
    "    for transaction in dataset: \n",
    "        sort_trans=[]\n",
    "        for item in sorted_dict.keys():\n",
    "             if transaction.find(item)>-1:\n",
    "                    sort_trans.append(item)\n",
    "        sort_data.append(sort_trans)\n",
    "    return sort_data\n",
    "def makeCPTree(prefix_list,suffix):\n",
    "    tree=FPTree()\n",
    "    node_sup={}\n",
    "    for prefix in prefix_list: \n",
    "        path=prefix[0]\n",
    "        frequency=prefix[1]\n",
    "        for i in range(frequency):\n",
    "            tree.addNode(path)\n",
    "    node_sup.setdefault(suffix,[])\n",
    "    node_sup[suffix].append(tree.findPrefixWithMinsup(suffix))\n",
    "    print('CP-Tree:')\n",
    "    tree.showTree()\n",
    "    print('\\n')\n",
    "    if node_sup[suffix][0] is not None:\n",
    "        name=node_sup[suffix][0][0]\n",
    "        F.setdefault(name,0)\n",
    "        F[name]=node_sup[suffix][0][1]\n",
    "        print('Add to F: ',(name,F[name]))\n",
    "    print('\\n')\n",
    "        \n",
    "def runFPGrowth(dataset,min_support):\n",
    "    data = getSortingUnique(dataset)\n",
    "    print('Result sorting unique:',data)\n",
    "    for item,val in data.items():\n",
    "        if val/10>=min_support:\n",
    "            F.setdefault(item,0)\n",
    "            F[item]=val\n",
    "            print('Add to F:',(item,val))\n",
    "    data=getSortingData(dataset,data)\n",
    "    print('Result sorting data', data)\n",
    "    tree=FPTree()\n",
    "    for transaction in data:\n",
    "        tree.addNode(transaction)\n",
    "    print('FP-Tree:')\n",
    "    tree.showTree()\n",
    "    print(')\\n')\n",
    "    tree.findSuffixPrefix()\n",
    "    print('Result:')\n",
    "    printSet(F,min_sup)"
   ]
  },
  {
   "cell_type": "code",
   "execution_count": 9,
   "id": "95a1286a",
   "metadata": {
    "scrolled": true
   },
   "outputs": [
    {
     "name": "stdout",
     "output_type": "stream",
     "text": [
      "Result sorting unique: {'C': 7, 'E': 7, 'A': 6, 'F': 5, 'B': 4, 'D': 3}\n",
      "Add to F: ('C', 7)\n",
      "Add to F: ('E', 7)\n",
      "Add to F: ('A', 6)\n",
      "Add to F: ('F', 5)\n",
      "Result sorting data [['C', 'E'], ['C', 'E', 'F'], ['E', 'B'], ['C', 'A', 'F', 'B', 'D'], ['C', 'A'], ['C', 'E', 'A', 'F'], ['C', 'A', 'B'], ['E', 'A', 'F'], ['C', 'E', 'A', 'B', 'D'], ['E', 'F', 'D']]\n",
      "FP-Tree:\n",
      "(C:7:(E:4:C(F:1:CE(),A:2:CE(F:1:CEA(),B:1:CEA(D:1:CEAB(),),),),A:3:C(F:1:CA(B:1:CAF(D:1:CAFB(),),),B:1:CA(),),),E:3:(B:1:E(),A:1:E(F:1:EA(),),F:1:E(D:1:EF(),),),)\n",
      "\n",
      "sufix: C, prefix: [], empty prefix list: True\n",
      "CP-Tree:\n",
      "\n",
      "\n",
      "\n",
      "\n",
      "sufix: E, prefix: [('C', 4)], empty prefix list: False\n",
      "CP-Tree:\n",
      "(C:4:(),\n",
      "\n",
      "\n",
      "\n",
      "sufix: F, prefix: [('CE', 1), ('CA', 1), ('CEA', 1), ('EA', 1), ('E', 1)], empty prefix list: False\n",
      "CP-Tree:\n",
      "(C:3:(E:2:C(A:1:CE(),),A:1:C(),),E:2:(A:1:E(),),\n",
      "\n",
      "\n",
      "\n",
      "sufix: B, prefix: [('E', 1), ('CAF', 1), ('CA', 1), ('CEA', 1)], empty prefix list: False\n",
      "CP-Tree:\n",
      "(E:1:(),C:3:(A:2:C(F:1:CA(),),E:1:C(A:1:CE(),),),\n",
      "\n",
      "\n",
      "\n",
      "sufix: A, prefix: [('C', 3), ('CE', 2), ('E', 1)], empty prefix list: False\n",
      "CP-Tree:\n",
      "(C:5:(E:2:C(),),E:1:(),\n",
      "\n",
      "Add to F:  ('CA', 5)\n",
      "\n",
      "\n",
      "sufix: D, prefix: [('CAFB', 1), ('CEAB', 1), ('EF', 1)], empty prefix list: False\n",
      "CP-Tree:\n",
      "(C:2:(A:1:C(F:1:CA(B:1:CAF(),),),E:1:C(A:1:CE(B:1:CEA(),),),),E:1:(F:1:E(),),\n",
      "\n",
      "\n",
      "\n",
      "Result:\n",
      "  itemset  support  length      \n",
      "0     [C]        7       1  True\n",
      "1     [E]        7       1  True\n",
      "2     [A]        6       1  True\n",
      "3     [F]        5       1  True\n",
      "4  [C, A]        5       2  True\n"
     ]
    }
   ],
   "source": [
    "runFPGrowth(data,min_sup)"
   ]
  },
  {
   "cell_type": "markdown",
   "id": "3c7b6fc6",
   "metadata": {},
   "source": [
    "1.4"
   ]
  },
  {
   "cell_type": "code",
   "execution_count": 10,
   "id": "a8bbefab",
   "metadata": {
    "scrolled": false
   },
   "outputs": [
    {
     "name": "stdout",
     "output_type": "stream",
     "text": [
      "   support itemsets  length\n",
      "0      0.7      (E)       1\n",
      "1      0.7      (C)       1\n",
      "2      0.5      (F)       1\n",
      "3      0.6      (A)       1\n",
      "4      0.5   (A, C)       2\n"
     ]
    }
   ],
   "source": [
    "from mlxtend.frequent_patterns import fpgrowth\n",
    "results = fpgrowth(df, min_support=0.5, use_colnames=True)\n",
    "results['length'] = results['itemsets'].apply(lambda x: len(x))\n",
    "print(results)"
   ]
  },
  {
   "cell_type": "markdown",
   "id": "a559cf32",
   "metadata": {},
   "source": [
    "### Задание 2"
   ]
  },
  {
   "cell_type": "code",
   "execution_count": 11,
   "id": "1b01745d",
   "metadata": {},
   "outputs": [],
   "source": [
    "dataset=['CDHJ','ABDEFHJ','AEGJ','ACEFG','CFGI','CDEHIJ','BEFGJ','ADHI','ABF','DHI']"
   ]
  },
  {
   "cell_type": "code",
   "execution_count": 12,
   "id": "985b3428",
   "metadata": {
    "scrolled": false
   },
   "outputs": [
    {
     "name": "stdout",
     "output_type": "stream",
     "text": [
      "Data: ['CDHJ', 'ABDEFHJ', 'AEGJ', 'ACEFG', 'CFGI', 'CDEHIJ', 'BEFGJ', 'ADHI', 'ABF', 'DHI']\n",
      "Minsup ratio: 0.3\n",
      "Minsup value: 3\n"
     ]
    }
   ],
   "source": [
    "print('Data:', dataset)\n",
    "print('Minsup ratio:',3/10)\n",
    "print('Minsup value:',3)"
   ]
  },
  {
   "cell_type": "markdown",
   "id": "667c7794",
   "metadata": {},
   "source": [
    "2.1"
   ]
  },
  {
   "cell_type": "code",
   "execution_count": 13,
   "id": "0103f2d4",
   "metadata": {},
   "outputs": [
    {
     "name": "stdout",
     "output_type": "stream",
     "text": [
      "Simple set count: 10\n"
     ]
    }
   ],
   "source": [
    "itemSet,_ = getItemSetTransactionList(dataset)\n",
    "print('Simple set count:',len(itemSet))"
   ]
  },
  {
   "cell_type": "markdown",
   "id": "25df14d4",
   "metadata": {},
   "source": [
    "2.2"
   ]
  },
  {
   "cell_type": "code",
   "execution_count": 14,
   "id": "7a876e2a",
   "metadata": {},
   "outputs": [
    {
     "name": "stdout",
     "output_type": "stream",
     "text": [
      "Symbol map: {'A': 'A', 'M': 'O', 'N': 'O', 'I': 'I', 'P': 'Q', 'G': 'G', 'H': 'H', 'B': 'B', 'C': 'C', 'E': 'E', 'D': 'D', 'F': 'F', 'J': 'J', 'K': 'K', 'L': 'L'}\n",
      "R data: ['HCDJ', 'AHBEDFJ', 'AGEJ', 'AGCEF', 'IGCF', 'IHCEDJ', 'GBEFJ', 'AIHD', 'ABF', 'IHD']\n",
      "Unique elements: [['C'], ['G'], ['D'], ['F'], ['H'], ['E'], ['A'], ['J'], ['B'], ['I']]\n",
      "\n",
      "Step 1\n",
      "  itemset  support  length       \n",
      "0     [C]        4       1  False\n",
      "1     [G]        4       1  False\n",
      "2     [D]        5       1   True\n",
      "3     [F]        5       1   True\n",
      "4     [H]        5       1   True\n",
      "5     [E]        5       1   True\n",
      "6     [A]        5       1   True\n",
      "7     [J]        5       1   True\n",
      "8     [B]        3       1  False\n",
      "9     [I]        4       1  False\n",
      "\n",
      "Step 2\n",
      "   itemset  support  length       \n",
      "0   [H, D]        5       2   True\n",
      "1   [F, A]        3       2  False\n",
      "2   [J, F]        2       2  False\n",
      "3   [F, E]        3       2  False\n",
      "4   [J, D]        3       2  False\n",
      "5   [J, A]        2       2  False\n",
      "6   [D, A]        2       2  False\n",
      "7   [H, F]        1       2  False\n",
      "8   [J, E]        4       2  False\n",
      "9   [D, E]        2       2  False\n",
      "10  [A, E]        3       2  False\n",
      "11  [D, F]        1       2  False\n",
      "12  [H, A]        2       2  False\n",
      "13  [H, J]        3       2  False\n",
      "14  [H, E]        2       2  False\n",
      "\n",
      "Step 3\n",
      "\n",
      "Result:\n",
      "  itemset  support  length      \n",
      "0     [D]        5       1  True\n",
      "1     [F]        5       1  True\n",
      "2     [H]        5       1  True\n",
      "3     [E]        5       1  True\n",
      "4     [A]        5       1  True\n",
      "5     [J]        5       1  True\n",
      "6  [H, D]        5       2  True\n"
     ]
    }
   ],
   "source": [
    "symbol_map={'A':'O','M':'O','N':'O','I':'Q','P':'Q','G':'G','H':'H','A':'A','B':'M','C':'M','E':'N','D':'N', 'F':'N','I':'I',\n",
    "            'J':'P','K':'P','L':'P',\n",
    "            'B':'B','C':'C','D':'D','E':'E','F':'F','J':'J','K':'K','L':'L'}\n",
    "levels=5\n",
    "while(levels>1):\n",
    "    new_data=[]\n",
    "    for transaction in dataset:\n",
    "        str=''\n",
    "        for item, val in symbol_map.items():\n",
    "            if transaction.find(item)>-1:\n",
    "                str=str+val\n",
    "        new_data.append(str)\n",
    "    levels-=1\n",
    "    dataset=new_data\n",
    "print('Symbol map:',symbol_map)\n",
    "print('R data:',new_data)\n",
    "\n",
    "result = runApriori(new_data,0.5)\n",
    "print('\\nResult:')\n",
    "printSet(result,0.5)\n",
    "\n"
   ]
  }
 ],
 "metadata": {
  "kernelspec": {
   "display_name": "Python 3",
   "language": "python",
   "name": "python3"
  },
  "language_info": {
   "codemirror_mode": {
    "name": "ipython",
    "version": 3
   },
   "file_extension": ".py",
   "mimetype": "text/x-python",
   "name": "python",
   "nbconvert_exporter": "python",
   "pygments_lexer": "ipython3",
   "version": "3.8.8"
  }
 },
 "nbformat": 4,
 "nbformat_minor": 5
}
