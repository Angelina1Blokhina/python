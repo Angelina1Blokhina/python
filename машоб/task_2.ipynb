{
 "cells": [
  {
   "cell_type": "markdown",
   "id": "52216ecd",
   "metadata": {},
   "source": [
    "Рассмотрим данные:\n",
    "\n",
    "|       | x<sub>1</sub> | x<sub>2</sub> | x<sub>3</sub> | x<sub>4</sub> | x<sub>5</sub> | x<sub>6</sub> | x<sub>7</sub> | x<sub>8</sub> |\n",
    "| :---: | :-----------: | :-----------: | :-----------: | :-----------: | :-----------: | :-----------: | :-----------: | :-----------: |\n",
    "| **A** |      4.4       |      3.6       |      2.7       |      10.3       |      8      |      9      |      3.1      |      8.3      |\n",
    "| **B** |      4.8       |      3.6       |      6.3       |      4.9       |      3.2      |      4.2      |      4.9      |      4.4      |\n",
    "\n",
    "Есть ядро (функция сходства):\n",
    "$$\n",
    "K({\\bf x}_i,{\\bf x}_j)=||{\\bf x}_i-{\\bf x}_j||^2\\\\\n",
    "$$\n",
    "\n",
    "1. Построить диаграмму рассеяния точек **x<sub>i</sub>** (оси подписать, пронумеровать точки)\n",
    "2. Рассчитать ядерную матрицу\n",
    "\n",
    "\n",
    "## Задание 2\n",
    "Рассмотрим данные в виде матрицы **D**:\n",
    "\n",
    "| ***X<sub>1</sub>*** | ***X<sub>2</sub>*** |\n",
    "| :-----------------: | :-----------------: |\n",
    "|         0         |         33         |\n",
    "|         6         |         82         |\n",
    "|         -6         |         85         |\n",
    "|         -13         |         35         |\n",
    "|         -13         |         -62         |\n",
    "|         23         |         49         |\n",
    "|         1         |         22         |\n",
    "|         -12         |         0         |\n",
    "\n",
    "1. Построить диаграмму рассеяния (оси подписать, пронумеровать точки)\n",
    "\n",
    "2. Рассчитайте среднее **μ** для матрицы **D**, ковариационную матрицу **Σ** для матрицы **D** и ковариационную матрицу **Σ<sub>c</sub>**  для центрированной матрицы **D**\n",
    "\n",
    "3. Рассчитайте собственные числа и собственные вектора для матрицы **Σ<sub>c</sub>**\n",
    "\n",
    "4. Выведите индекс (порядковый номер), соответствующий первой главной компоненте\n",
    "\n",
    "5. Рассчитайте первый главный компонент. Постройте точечный график полученного вектора (добавить к каждой точке ее номер)\n",
    "\n",
    "6. Используя PCA из библиотеки sklearn, получите первую главную компоненту для матрицы **D**. Постройте точечный график полученного вектора (пронумеровать точки)\n",
    "\n",
    "7. Визуально сравните графики, полученные в пунктах **5** и **6**. Убедитесь в корректности выполнения преобразований. Сохранен ли порядок точек? \n",
    "\n",
    "   Выведите название оси графика из пункта 1, проекция данных на которую сравнима с результатами PCA преобразований\n",
    "\n",
    "8. **μ** и **Σ** сверху задают нормальное распределение, из которого были сгенерированы точки. Постройте диаграмму рассеяния, которая позволит определить ориентацию / размеры облака точек, полученного с помощью 2-мерной функции плотности вероятности. \n",
    "\n",
    "   На отдельном линейном графике постройте графики функций плотностей вероятности отдельных компонентов 2-мерного нормального распределения\n",
    "\n",
    "## Задание 3\n",
    "\n",
    "1. Для данных и ядра из первого задания найдите первую главную компоненту при нелинейном преобразовании для заданного ядра. Постройте точечный график полученного вектора (добавить к каждой точке ее номер)\n",
    "2. Используя KernelPCA из библиотеки sklearn с ядром Гаусса и гаммой = 1, получите первую главную компоненту для данных из первого задания. Постройте точечный график полученного вектора (добавить к каждой точке ее номер)\n",
    "3. Визуально сравните графики, полученные в пунктах **1** и **2**. Определите, использование какого ядра (из первого задания или ядра Гаусса) позволяет, на ваш взгляд, лучше визуально выделить принадлежность точки к одному из двух кластеров\n"
   ]
  },
  {
   "cell_type": "code",
   "execution_count": 1,
   "id": "c8130206",
   "metadata": {},
   "outputs": [],
   "source": [
    "import numpy as np\n",
    "import pandas as pd\n",
    "import math\n",
    "import matplotlib.pyplot as plt\n",
    "import statistics as st\n",
    "import scipy.stats as stats\n",
    "import pylab as pl"
   ]
  },
  {
   "cell_type": "code",
   "execution_count": 40,
   "id": "d9eb395f",
   "metadata": {
    "scrolled": true
   },
   "outputs": [
    {
     "data": {
      "text/html": [
       "<div>\n",
       "<style scoped>\n",
       "    .dataframe tbody tr th:only-of-type {\n",
       "        vertical-align: middle;\n",
       "    }\n",
       "\n",
       "    .dataframe tbody tr th {\n",
       "        vertical-align: top;\n",
       "    }\n",
       "\n",
       "    .dataframe thead th {\n",
       "        text-align: right;\n",
       "    }\n",
       "</style>\n",
       "<table border=\"1\" class=\"dataframe\">\n",
       "  <thead>\n",
       "    <tr style=\"text-align: right;\">\n",
       "      <th></th>\n",
       "      <th>0</th>\n",
       "      <th>1</th>\n",
       "      <th>2</th>\n",
       "      <th>3</th>\n",
       "      <th>4</th>\n",
       "      <th>5</th>\n",
       "      <th>6</th>\n",
       "      <th>7</th>\n",
       "    </tr>\n",
       "  </thead>\n",
       "  <tbody>\n",
       "    <tr>\n",
       "      <th>0</th>\n",
       "      <td>0.00</td>\n",
       "      <td>2.08</td>\n",
       "      <td>5.14</td>\n",
       "      <td>34.82</td>\n",
       "      <td>15.52</td>\n",
       "      <td>21.52</td>\n",
       "      <td>1.70</td>\n",
       "      <td>15.37</td>\n",
       "    </tr>\n",
       "    <tr>\n",
       "      <th>1</th>\n",
       "      <td>2.08</td>\n",
       "      <td>0.00</td>\n",
       "      <td>8.10</td>\n",
       "      <td>46.58</td>\n",
       "      <td>19.52</td>\n",
       "      <td>29.52</td>\n",
       "      <td>1.94</td>\n",
       "      <td>22.73</td>\n",
       "    </tr>\n",
       "    <tr>\n",
       "      <th>2</th>\n",
       "      <td>5.14</td>\n",
       "      <td>8.10</td>\n",
       "      <td>0.00</td>\n",
       "      <td>59.72</td>\n",
       "      <td>37.70</td>\n",
       "      <td>44.10</td>\n",
       "      <td>2.12</td>\n",
       "      <td>34.97</td>\n",
       "    </tr>\n",
       "    <tr>\n",
       "      <th>3</th>\n",
       "      <td>34.82</td>\n",
       "      <td>46.58</td>\n",
       "      <td>59.72</td>\n",
       "      <td>0.00</td>\n",
       "      <td>8.18</td>\n",
       "      <td>2.18</td>\n",
       "      <td>51.84</td>\n",
       "      <td>4.25</td>\n",
       "    </tr>\n",
       "    <tr>\n",
       "      <th>4</th>\n",
       "      <td>15.52</td>\n",
       "      <td>19.52</td>\n",
       "      <td>37.70</td>\n",
       "      <td>8.18</td>\n",
       "      <td>0.00</td>\n",
       "      <td>2.00</td>\n",
       "      <td>26.90</td>\n",
       "      <td>1.53</td>\n",
       "    </tr>\n",
       "    <tr>\n",
       "      <th>5</th>\n",
       "      <td>21.52</td>\n",
       "      <td>29.52</td>\n",
       "      <td>44.10</td>\n",
       "      <td>2.18</td>\n",
       "      <td>2.00</td>\n",
       "      <td>0.00</td>\n",
       "      <td>35.30</td>\n",
       "      <td>0.53</td>\n",
       "    </tr>\n",
       "    <tr>\n",
       "      <th>6</th>\n",
       "      <td>1.70</td>\n",
       "      <td>1.94</td>\n",
       "      <td>2.12</td>\n",
       "      <td>51.84</td>\n",
       "      <td>26.90</td>\n",
       "      <td>35.30</td>\n",
       "      <td>0.00</td>\n",
       "      <td>27.29</td>\n",
       "    </tr>\n",
       "    <tr>\n",
       "      <th>7</th>\n",
       "      <td>15.37</td>\n",
       "      <td>22.73</td>\n",
       "      <td>34.97</td>\n",
       "      <td>4.25</td>\n",
       "      <td>1.53</td>\n",
       "      <td>0.53</td>\n",
       "      <td>27.29</td>\n",
       "      <td>0.00</td>\n",
       "    </tr>\n",
       "  </tbody>\n",
       "</table>\n",
       "</div>"
      ],
      "text/plain": [
       "       0      1      2      3      4      5      6      7\n",
       "0   0.00   2.08   5.14  34.82  15.52  21.52   1.70  15.37\n",
       "1   2.08   0.00   8.10  46.58  19.52  29.52   1.94  22.73\n",
       "2   5.14   8.10   0.00  59.72  37.70  44.10   2.12  34.97\n",
       "3  34.82  46.58  59.72   0.00   8.18   2.18  51.84   4.25\n",
       "4  15.52  19.52  37.70   8.18   0.00   2.00  26.90   1.53\n",
       "5  21.52  29.52  44.10   2.18   2.00   0.00  35.30   0.53\n",
       "6   1.70   1.94   2.12  51.84  26.90  35.30   0.00  27.29\n",
       "7  15.37  22.73  34.97   4.25   1.53   0.53  27.29   0.00"
      ]
     },
     "execution_count": 40,
     "metadata": {},
     "output_type": "execute_result"
    }
   ],
   "source": [
    "#Задание 1\n",
    "from scipy.spatial.distance import pdist,squareform\n",
    "xAB=[[4.4,4.8],[3.6,3.6],[2.7,6.3],[10.3,4.9],[8,3.2],[9,4.2],[3.1,4.9],[8.3,4.4]]\n",
    "x=squareform(pdist(xAB))**2\n",
    "K=pd.DataFrame(x)\n",
    "K\n"
   ]
  },
  {
   "cell_type": "code",
   "execution_count": 3,
   "id": "7a1561f7",
   "metadata": {},
   "outputs": [
    {
     "data": {
      "image/png": "[encoded data removed]",
      "text/plain": [
       "<Figure size 432x288 with 1 Axes>"
      ]
     },
     "metadata": {
      "needs_background": "light"
     },
     "output_type": "display_data"
    }
   ],
   "source": [
    "fig, axs = plt.subplots()\n",
    "plt.subplots_adjust(wspace=1, hspace=1)\n",
    "A=[4.4,3.6,2.7,10.3,8,9,3.1,8.3]\n",
    "B=[4.8,3.6,6.3,4.9,3.2,4.2,4.9,4.4]\n",
    "axs.scatter(A,B)\n",
    "plt.xlabel(\"A\")\n",
    "plt.ylabel(\"B\")\n",
    "for i in range(0,len(A)):\n",
    "    plt.annotate(i+1, xy=(A[i] + 0.5,B[i]))\n",
    "\n",
    "plt.show()"
   ]
  },
  {
   "cell_type": "code",
   "execution_count": 50,
   "id": "5cd42729",
   "metadata": {},
   "outputs": [
    {
     "name": "stdout",
     "output_type": "stream",
     "text": [
      "[[-0.41866114]\n",
      " [-0.38818492]\n",
      " [-0.27293928]\n",
      " [-0.00748316]\n",
      " [ 0.26952468]\n",
      " [ 0.63508423]\n",
      " [-0.47266214]\n",
      " [ 0.65532173]]\n"
     ]
    },
    {
     "data": {
      "image/png": "[encoded data removed]",
      "text/plain": [
       "<Figure size 432x288 with 1 Axes>"
      ]
     },
     "metadata": {
      "needs_background": "light"
     },
     "output_type": "display_data"
    }
   ],
   "source": [
    "#Задание 3.2\n",
    "from sklearn.decomposition import KernelPCA\n",
    "transformer = KernelPCA(n_components=1, kernel='rbf',gamma=1)\n",
    "\n",
    "K_kernel = transformer.fit_transform(xAB)\n",
    "print(K_kernel)\n",
    "fig, axs = plt.subplots()\n",
    "cValue = list(range(1,9))\n",
    "sca=axs.scatter(K_kernel, np.zeros(8), c=cValue)\n",
    "legend1=axs.legend(*sca.legend_elements(),loc=\"lower right\", bbox_to_anchor=(1.5, 0.2)) \n",
    "axs.add_artist(legend1) \n",
    "plt.show()"
   ]
  },
  {
   "cell_type": "code",
   "execution_count": 87,
   "id": "f37c8f30",
   "metadata": {},
   "outputs": [
    {
     "name": "stdout",
     "output_type": "stream",
     "text": [
      "[ 28.94988162+0.j  39.31514994+0.j  59.21722801+0.j -65.29892854+0.j\n",
      " -31.93779086+0.j -45.91180234+0.j  49.96488955+0.j -34.29862737+0.j]\n"
     ]
    },
    {
     "data": {
      "text/plain": [
       "<matplotlib.legend.Legend at 0x22bcea00b80>"
      ]
     },
     "execution_count": 87,
     "metadata": {},
     "output_type": "execute_result"
    },
    {
     "data": {
      "image/png": "[encoded data removed]",
      "text/plain": [
       "<Figure size 432x288 with 1 Axes>"
      ]
     },
     "metadata": {
      "needs_background": "light"
     },
     "output_type": "display_data"
    }
   ],
   "source": [
    "#3.1\n",
    "#Нормализация матрицы К\n",
    "size = 8\n",
    "E= np.ones((size, size))\n",
    "M0 = np.eye(size)\n",
    "centeredM = np.dot((M0 - 1/size*E), x)\n",
    "centeredM = np.dot(centeredM, (M0 - 1/size*E))\n",
    "value, vector = np.linalg.eig(centeredM)\n",
    "\n",
    "maxM = 0\n",
    "for i in range(size):\n",
    "    if(abs(value[i]) > abs(maxM)):\n",
    "        index=i\n",
    "        maxM = value[i]\n",
    "maxV = vector[:,index]\n",
    "if(maxM < 0):\n",
    "    maxV = -maxV\n",
    "\n",
    "m = np.dot(maxV, centeredM)\n",
    "print(m)\n",
    "\n",
    "fig, axs = plt.subplots()\n",
    "sca=axs.scatter(m, np.zeros(8), c=cValue)\n",
    "legend1=axs.legend(*sca.legend_elements(),loc=\"lower right\", bbox_to_anchor=(1.5, 0.2)) \n",
    "axs.add_artist(legend1) \n"
   ]
  },
  {
   "cell_type": "markdown",
   "id": "689806ec",
   "metadata": {},
   "source": [
    "На первом графике легче определить к какому кластеру относится точка"
   ]
  },
  {
   "cell_type": "code",
   "execution_count": 6,
   "id": "e1ee40bb",
   "metadata": {},
   "outputs": [
    {
     "data": {
      "image/png": "[encoded data removed]",
      "text/plain": [
       "<Figure size 432x288 with 1 Axes>"
      ]
     },
     "metadata": {
      "needs_background": "light"
     },
     "output_type": "display_data"
    }
   ],
   "source": [
    "#Задание 2\n",
    "x1=[0,6,-6,-13,-13,23,1,-12]\n",
    "x2=[33,82,85,35,-62,49,22,0]\n",
    "fig, axs = plt.subplots()\n",
    "plt.subplots_adjust(wspace=1, hspace=1)\n",
    "axs.scatter(x = x1, y = x2)\n",
    "plt.xlabel(\"x1\")\n",
    "plt.ylabel(\"x2\")\n",
    "for i in range(0,len(x1)):\n",
    "    plt.annotate(i+1, xy=(x1[i] + 0.5,x2[i]))\n",
    "\n",
    "plt.show()"
   ]
  },
  {
   "cell_type": "code",
   "execution_count": 7,
   "id": "20a3cd14",
   "metadata": {},
   "outputs": [
    {
     "name": "stdout",
     "output_type": "stream",
     "text": [
      "Матрица D:\n",
      " [[  0   6  -6 -13 -13  23   1 -12]\n",
      " [ 33  82  85  35 -62  49  22   0]]\n",
      "Среднее: [-1.75, 30.5]\n",
      "Ковариционная матрица D\n",
      " [[ 151.35714286  272.71428571]\n",
      " [ 272.71428571 2221.42857143]]\n",
      "Центрированнная матрица D: \n",
      " (array([  1.75,   7.75,  -4.25, -11.25, -11.25,  24.75,   2.75, -10.25]), array([  2.5,  51.5,  54.5,   4.5, -92.5,  18.5,  -8.5, -30.5]))\n",
      "Ковариционная матрица Dcentered:\n",
      " [[ 151.35714286  272.71428571]\n",
      " [ 272.71428571 2221.42857143]]\n"
     ]
    }
   ],
   "source": [
    "from sklearn.decomposition import PCA\n",
    "\n",
    "D=np.vstack((x1,x2))\n",
    "print(\"Матрица D:\\n\",D)\n",
    "\n",
    "sredneeD = [np.mean(x1), np.mean(x2)]\n",
    "print(\"Среднее:\", sredneeD)\n",
    "\n",
    "covD=np.cov(D)\n",
    "print(\"Ковариционная матрица D\\n\",covD)\n",
    "\n",
    "Dcentered = (D[0] - np.mean(x1), D[1] - np.mean(x2))\n",
    "print (\"Центрированнная матрица D: \\n\",Dcentered)\n",
    "\n",
    "covDcentered=np.cov(Dcentered)\n",
    "print(\"Ковариционная матрица Dcentered:\\n\",covDcentered)"
   ]
  },
  {
   "cell_type": "code",
   "execution_count": 8,
   "id": "a514f020",
   "metadata": {},
   "outputs": [
    {
     "name": "stdout",
     "output_type": "stream",
     "text": [
      "[ 116.03216491 2256.75354938]\n",
      "[[-0.99171496 -0.12845792]\n",
      " [ 0.12845792 -0.99171496]]\n"
     ]
    }
   ],
   "source": [
    "w,v= np.linalg.eig(covDcentered)\n",
    "print(w)\n",
    "print(v)"
   ]
  },
  {
   "cell_type": "code",
   "execution_count": 9,
   "id": "38557a8e",
   "metadata": {},
   "outputs": [
    {
     "name": "stdout",
     "output_type": "stream",
     "text": [
      "Индекс,соответствующий первой главной компоненте: 1\n"
     ]
    }
   ],
   "source": [
    "index_com=np.argmax(w)\n",
    "print(\"Индекс,соответствующий первой главной компоненте:\",index_com)\n",
    "\n"
   ]
  },
  {
   "cell_type": "code",
   "execution_count": 10,
   "id": "3d44dbba",
   "metadata": {},
   "outputs": [
    {
     "name": "stdout",
     "output_type": "stream",
     "text": [
      "[ -2.70408876 -52.06886934 -53.50251922  -3.01756576  93.17878544\n",
      " -21.52606022   8.07631789  31.56399996]\n"
     ]
    },
    {
     "data": {
      "text/plain": [
       "<matplotlib.legend.Legend at 0x22bc69e1190>"
      ]
     },
     "execution_count": 10,
     "metadata": {},
     "output_type": "execute_result"
    },
    {
     "data": {
      "image/png": "[encoded data removed]",
      "text/plain": [
       "<Figure size 432x288 with 1 Axes>"
      ]
     },
     "metadata": {
      "needs_background": "light"
     },
     "output_type": "display_data"
    }
   ],
   "source": [
    "_, vecs = np.linalg.eig(covDcentered)\n",
    "v = vecs[:,1]\n",
    "Dnew = np.dot(v,Dcentered)\n",
    "print (Dnew)\n",
    "fig, axs = plt.subplots()\n",
    "sca=axs.scatter(Dnew, np.zeros(8), c=cValue)\n",
    "legend1=axs.legend(*sca.legend_elements(),loc=\"lower right\", bbox_to_anchor=(1.5, 0.2)) \n",
    "axs.add_artist(legend1) \n"
   ]
  },
  {
   "cell_type": "code",
   "execution_count": 11,
   "id": "30adc365",
   "metadata": {
    "scrolled": true
   },
   "outputs": [
    {
     "name": "stdout",
     "output_type": "stream",
     "text": [
      "[[ -2.70408876]\n",
      " [-52.06886934]\n",
      " [-53.50251922]\n",
      " [ -3.01756576]\n",
      " [ 93.17878544]\n",
      " [-21.52606022]\n",
      " [  8.07631789]\n",
      " [ 31.56399996]]\n"
     ]
    },
    {
     "data": {
      "text/plain": [
       "<matplotlib.legend.Legend at 0x22bc9051ca0>"
      ]
     },
     "execution_count": 11,
     "metadata": {},
     "output_type": "execute_result"
    },
    {
     "data": {
      "image/png": "[encoded data removed]",
      "text/plain": [
       "<Figure size 432x288 with 1 Axes>"
      ]
     },
     "metadata": {
      "needs_background": "light"
     },
     "output_type": "display_data"
    }
   ],
   "source": [
    "from sklearn.decomposition import PCA\n",
    "pca = PCA(n_components = 1)\n",
    "pca_D = pca.fit_transform(np.transpose(D))\n",
    "print(pca_D)\n",
    "fig, axs = plt.subplots()\n",
    "sca=axs.scatter(pca_D, np.zeros(8), c=cValue)\n",
    "legend1=axs.legend(*sca.legend_elements(),loc=\"lower right\", bbox_to_anchor=(1.5, 0.2)) \n",
    "axs.add_artist(legend1) "
   ]
  },
  {
   "cell_type": "code",
   "execution_count": 12,
   "id": "35b0626b",
   "metadata": {
    "scrolled": true
   },
   "outputs": [
    {
     "name": "stdout",
     "output_type": "stream",
     "text": [
      "Ось x2 сравнима с результатами PCA преобразований\n"
     ]
    }
   ],
   "source": [
    "if(np.var(x1)>np.var(x2)):\n",
    "    print(\"Ось x1 сравнима с результатами PCA преобразований\")\n",
    "else: print(\"Ось x2 сравнима с результатами PCA преобразований\")"
   ]
  },
  {
   "cell_type": "markdown",
   "id": "f99792dc",
   "metadata": {},
   "source": [
    "Преобразования выполнены корректны. Порядок точек сохранен."
   ]
  },
  {
   "cell_type": "code",
   "execution_count": 28,
   "id": "3277a164",
   "metadata": {},
   "outputs": [
    {
     "data": {
      "image/png": "[encoded data removed]",
      "text/plain": [
       "<Figure size 432x288 with 1 Axes>"
      ]
     },
     "metadata": {
      "needs_background": "light"
     },
     "output_type": "display_data"
    },
    {
     "name": "stdout",
     "output_type": "stream",
     "text": [
      "-1.75\n",
      "12.302729081677075\n",
      "30.5\n",
      "47.13203338949606\n"
     ]
    },
    {
     "data": {
      "image/png": "[encoded data removed]",
      "text/plain": [
       "<Figure size 432x288 with 1 Axes>"
      ]
     },
     "metadata": {
      "needs_background": "light"
     },
     "output_type": "display_data"
    }
   ],
   "source": [
    "from scipy.stats import multivariate_normal\n",
    "from scipy.stats import norm\n",
    "x, y = np.mgrid[-100:100, -100:300]\n",
    "pos = np.dstack((x, y))\n",
    "rv=multivariate_normal(sredneeD, covD)\n",
    "fig = plt.figure()\n",
    "ax=fig.add_subplot()\n",
    "ax.contourf(x, y, rv.pdf(pos))\n",
    "plt.show()\n",
    "\n",
    "Mx1 = np.mean(x1)\n",
    "print(Mx1)\n",
    "sigma1 = math.sqrt(covD[0,0])\n",
    "print(sigma1)\n",
    "x_1 = np.linspace(Mx1 - 3*sigma1, Mx1 + 3*sigma1, 100)\n",
    "x1_norm=stats.norm.pdf(x_1, Mx1, sigma1)\n",
    "Mx2 = np.mean(x2)\n",
    "print(Mx2)\n",
    "sigma2 = math.sqrt(covD[1,1])\n",
    "print(sigma2)\n",
    "x_2 = np.linspace(Mx2 - 3*sigma2, Mx2 + 3*sigma2, 100)\n",
    "x2_norm=stats.norm.pdf(x_2, Mx2, sigma2 )\n",
    "plt.plot(x_1, x1_norm)\n",
    "plt.plot(x_2, x2_norm)\n",
    "\n",
    "plt.show()\n"
   ]
  },
  {
   "cell_type": "code",
   "execution_count": null,
   "id": "398129b0",
   "metadata": {},
   "outputs": [],
   "source": []
  }
 ],
 "metadata": {
  "kernelspec": {
   "display_name": "Python 3",
   "language": "python",
   "name": "python3"
  },
  "language_info": {
   "codemirror_mode": {
    "name": "ipython",
    "version": 3
   },
   "file_extension": ".py",
   "mimetype": "text/x-python",
   "name": "python",
   "nbconvert_exporter": "python",
   "pygments_lexer": "ipython3",
   "version": "3.8.8"
  }
 },
 "nbformat": 4,
 "nbformat_minor": 5
}
