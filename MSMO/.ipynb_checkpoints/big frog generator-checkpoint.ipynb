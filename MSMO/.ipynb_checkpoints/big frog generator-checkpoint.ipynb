{
 "cells": [
  {
   "cell_type": "code",
   "execution_count": 2,
   "id": "00e68552",
   "metadata": {},
   "outputs": [],
   "source": [
    "import math\n",
    "import numpy as np"
   ]
  },
  {
   "cell_type": "code",
   "execution_count": 184,
   "id": "ea902a2f",
   "metadata": {},
   "outputs": [
    {
     "data": {
      "text/plain": [
       "512"
      ]
     },
     "execution_count": 184,
     "metadata": {},
     "output_type": "execute_result"
    }
   ],
   "source": [
    "r=11\n",
    "T=2**(r-2)\n",
    "M=229\n",
    "T"
   ]
  },
  {
   "cell_type": "code",
   "execution_count": null,
   "id": "33624433",
   "metadata": {},
   "outputs": [],
   "source": [
    "n=1000\n",
    "A = [0]*n\n",
    "z=[0]*n\n",
    "count_T=math.ceil(n/T)\n",
    "\n",
    "for j in range(0,count_T):\n",
    "    start=T*j\n",
    "    A[start]=1\n",
    "    z[start]=A[start]*(2**(-r))\n",
    "    if n-T*j>T:\n",
    "        end=T*(j+1)\n",
    "    else:\n",
    "        end=n\n",
    "    print(start, end)\n",
    "    for i in range(start+1,end):\n",
    "        A[i]=A[i-1]*M%(2**(r))\n",
    "        z[i]=A[i]*(2**(-r))\n",
    "z\n",
    "        \n",
    "\n",
    "    \n"
   ]
  },
  {
   "cell_type": "code",
   "execution_count": null,
   "id": "613d5dda",
   "metadata": {
    "scrolled": true
   },
   "outputs": [],
   "source": [
    "N=512\n",
    "Au = [0]*n\n",
    "zu=[0]*n\n",
    "for j in range(0,count_T):\n",
    "    start=T*j\n",
    "    Au[start]=1\n",
    "    zu[start]=Au[start]*(2**(-r))\n",
    "    if n-T*j>T:\n",
    "        end=T*(j+1)\n",
    "    else:\n",
    "        end=n\n",
    "    k=1\n",
    "    for i in range(start+1,end):\n",
    "        u=k*N\n",
    "        Au[i]=Au[i-1]*(M**u)%(2**(r))    \n",
    "        zu[i]=Au[i]*(2**(-r))\n",
    "        k+=1\n",
    "print(Au)"
   ]
  },
  {
   "cell_type": "code",
   "execution_count": null,
   "id": "3decb617",
   "metadata": {},
   "outputs": [],
   "source": []
  }
 ],
 "metadata": {
  "kernelspec": {
   "display_name": "Python 3 (ipykernel)",
   "language": "python",
   "name": "python3"
  },
  "language_info": {
   "codemirror_mode": {
    "name": "ipython",
    "version": 3
   },
   "file_extension": ".py",
   "mimetype": "text/x-python",
   "name": "python",
   "nbconvert_exporter": "python",
   "pygments_lexer": "ipython3",
   "version": "3.9.13"
  }
 },
 "nbformat": 4,
 "nbformat_minor": 5
}
